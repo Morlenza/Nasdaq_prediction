{
 "cells": [
  {
   "cell_type": "markdown",
   "id": "bfc69852",
   "metadata": {},
   "source": [
    "# Predizione Prezzo Bitcoin\n",
    "## Autori: Luca Morlino e Valerio Di Zio\n"
   ]
  },
  {
   "cell_type": "code",
   "execution_count": 138,
   "id": "3a715f1a",
   "metadata": {},
   "outputs": [],
   "source": [
    "import numpy as np\n",
    "import pandas as pd\n",
    "import matplotlib.pyplot as plt\n",
    "import sklearn\n",
    "%matplotlib inline"
   ]
  },
  {
   "cell_type": "markdown",
   "id": "a5f950ac",
   "metadata": {},
   "source": [
    "## Descrizione del problema\n",
    "### Cos'è Bitcoin?\n",
    "Il Bitcoin è una moneta virtuale creata nel 2009 da uno o più utenti con lo pseudonimo Satoshi Nakamoto. Diversamente dalle altre valute il Bitcoin non ha dietro una Banca centrale che distribuisce nuova moneta ma si basa fondamentalmente su due principi: un network di nodi, cioè di pc, che la gestiscono in modalità distribuita, peer-to-peer; e l'uso di una forte crittografia per validare e rendere sicure le transazioni.\n",
    "### Obiettivo\n",
    "L'obiettivo generale è quello di creare un algoritmo che preveda il valore di chiusura di bitcoin a inizio giornata.\n",
    "Il bitcoin essendo una valuta a tutti gli effetti non ha un orario di apertura né uno di chiusura, per comodità il nostro dataset considera il valore di apertura a mezzanotte e il valore di chiusura a mezzanotte del giorno dopo."
   ]
  },
  {
   "cell_type": "markdown",
   "id": "6a402860",
   "metadata": {},
   "source": [
    "## Estrazione dati\n",
    "I dati relativi a BTC vengono scaricati dal servizio [Yahoo! Finance](https://it.finance.yahoo.com/).\n",
    "Per fare ciò viene utilizzata la libreria yfinance che permette l'estrazione di dati in forma di oggetti Python facilmente interrogabili.\n",
    "In particolare, la usiamo per ottenere i dati storici in forma di Dataframe Pandas"
   ]
  },
  {
   "cell_type": "code",
   "execution_count": 139,
   "id": "14b4750d",
   "metadata": {},
   "outputs": [],
   "source": [
    "import yfinance"
   ]
  },
  {
   "cell_type": "markdown",
   "id": "5826139a",
   "metadata": {},
   "source": [
    "- Creiamo un oggetto Ticker che rappresenta uno specifico titolo o indice\n",
    "- Nel nostro caso il simbolo del Bitcoin con il suo valore in Euro è BTC-EUR"
   ]
  },
  {
   "cell_type": "code",
   "execution_count": 140,
   "id": "e3b880a1",
   "metadata": {},
   "outputs": [],
   "source": [
    "btc = yfinance.Ticker(\"BTC-EUR\")"
   ]
  },
  {
   "cell_type": "markdown",
   "id": "079b31f4",
   "metadata": {},
   "source": [
    "- Utilizziamo il metodo history per ottenere i dati storici, partendo dal 1 gennaio 2015 fino a ieri."
   ]
  },
  {
   "cell_type": "code",
   "execution_count": 141,
   "id": "b8eb6fa3",
   "metadata": {},
   "outputs": [],
   "source": [
    "from datetime import date"
   ]
  },
  {
   "cell_type": "code",
   "execution_count": 189,
   "id": "43a993b1",
   "metadata": {},
   "outputs": [],
   "source": [
    "today = date.today().strftime(\"%Y-%m-%d\")\n",
    "data = btc.history(start=\"2021-01-02\", end=today, actions=False)"
   ]
  },
  {
   "cell_type": "markdown",
   "id": "bcad84dd",
   "metadata": {},
   "source": [
    "Ad esempio, guardiamo i dati relativi agli ultimi 5 giorni. \n",
    "\n",
    "Ovviamente i dati odierni non sono presenti, saranno quelli che andremo a prevedere."
   ]
  },
  {
   "cell_type": "code",
   "execution_count": 190,
   "id": "79c44726",
   "metadata": {
    "scrolled": true
   },
   "outputs": [
    {
     "data": {
      "text/html": [
       "<div>\n",
       "<style scoped>\n",
       "    .dataframe tbody tr th:only-of-type {\n",
       "        vertical-align: middle;\n",
       "    }\n",
       "\n",
       "    .dataframe tbody tr th {\n",
       "        vertical-align: top;\n",
       "    }\n",
       "\n",
       "    .dataframe thead th {\n",
       "        text-align: right;\n",
       "    }\n",
       "</style>\n",
       "<table border=\"1\" class=\"dataframe\">\n",
       "  <thead>\n",
       "    <tr style=\"text-align: right;\">\n",
       "      <th></th>\n",
       "      <th>Open</th>\n",
       "      <th>High</th>\n",
       "      <th>Low</th>\n",
       "      <th>Close</th>\n",
       "      <th>Volume</th>\n",
       "    </tr>\n",
       "    <tr>\n",
       "      <th>Date</th>\n",
       "      <th></th>\n",
       "      <th></th>\n",
       "      <th></th>\n",
       "      <th></th>\n",
       "      <th></th>\n",
       "    </tr>\n",
       "  </thead>\n",
       "  <tbody>\n",
       "    <tr>\n",
       "      <th>2022-06-09</th>\n",
       "      <td>28193.755859</td>\n",
       "      <td>28560.138672</td>\n",
       "      <td>28284.824219</td>\n",
       "      <td>28356.046875</td>\n",
       "      <td>20427057156</td>\n",
       "    </tr>\n",
       "    <tr>\n",
       "      <th>2022-06-10</th>\n",
       "      <td>28354.476562</td>\n",
       "      <td>28450.841797</td>\n",
       "      <td>27545.003906</td>\n",
       "      <td>27648.169922</td>\n",
       "      <td>28393158151</td>\n",
       "    </tr>\n",
       "    <tr>\n",
       "      <th>2022-06-11</th>\n",
       "      <td>27648.988281</td>\n",
       "      <td>27950.578125</td>\n",
       "      <td>26840.496094</td>\n",
       "      <td>26958.935547</td>\n",
       "      <td>25899776264</td>\n",
       "    </tr>\n",
       "    <tr>\n",
       "      <th>2022-06-12</th>\n",
       "      <td>26971.011719</td>\n",
       "      <td>27093.796875</td>\n",
       "      <td>25513.984375</td>\n",
       "      <td>25513.984375</td>\n",
       "      <td>32569266905</td>\n",
       "    </tr>\n",
       "    <tr>\n",
       "      <th>2022-06-13</th>\n",
       "      <td>25490.082031</td>\n",
       "      <td>25545.843750</td>\n",
       "      <td>21262.470703</td>\n",
       "      <td>21592.951172</td>\n",
       "      <td>65491720208</td>\n",
       "    </tr>\n",
       "  </tbody>\n",
       "</table>\n",
       "</div>"
      ],
      "text/plain": [
       "                    Open          High           Low         Close  \\\n",
       "Date                                                                 \n",
       "2022-06-09  28193.755859  28560.138672  28284.824219  28356.046875   \n",
       "2022-06-10  28354.476562  28450.841797  27545.003906  27648.169922   \n",
       "2022-06-11  27648.988281  27950.578125  26840.496094  26958.935547   \n",
       "2022-06-12  26971.011719  27093.796875  25513.984375  25513.984375   \n",
       "2022-06-13  25490.082031  25545.843750  21262.470703  21592.951172   \n",
       "\n",
       "                 Volume  \n",
       "Date                     \n",
       "2022-06-09  20427057156  \n",
       "2022-06-10  28393158151  \n",
       "2022-06-11  25899776264  \n",
       "2022-06-12  32569266905  \n",
       "2022-06-13  65491720208  "
      ]
     },
     "execution_count": 190,
     "metadata": {},
     "output_type": "execute_result"
    }
   ],
   "source": [
    "data.tail(5)"
   ]
  },
  {
   "cell_type": "markdown",
   "id": "72924f7a",
   "metadata": {},
   "source": [
    "\n",
    "Andiamo a contare il numero di istanze ricavate"
   ]
  },
  {
   "cell_type": "code",
   "execution_count": 191,
   "id": "7585e533",
   "metadata": {},
   "outputs": [
    {
     "data": {
      "text/plain": [
       "529"
      ]
     },
     "execution_count": 191,
     "metadata": {},
     "output_type": "execute_result"
    }
   ],
   "source": [
    "data.shape[0]"
   ]
  },
  {
   "cell_type": "markdown",
   "id": "979f3e3b",
   "metadata": {},
   "source": [
    "## Features\n",
    "Il nostro dataset ha 5 features:\n",
    "- Open: è il valore in euro di un singolo bitcoin all'orario di apertura\n",
    "- High: è il valore massimo in euro raggiunto durante la giornata\n",
    "- Low: è il valore minimo in euro raggiunto durante la giornata\n",
    "- Close: è il valore in euro di un singolo bitcoin all'orario di chiusura\n",
    "- Volume: il volume di trading indica (nel nostro caso) il valore in euro di bitcoin scambiati durante la giornata\n",
    "\n",
    "Per comodità estraiamo una serie per ciascuna colonna, per potersi riferire ad esse con un unico nome."
   ]
  },
  {
   "cell_type": "code",
   "execution_count": 192,
   "id": "78cd6ace",
   "metadata": {},
   "outputs": [],
   "source": [
    "open = data[\"Open\"]\n",
    "high = data[\"High\"]\n",
    "low = data[\"Low\"]\n",
    "close = data[\"Close\"]\n",
    "volume = data[\"Volume\"]"
   ]
  },
  {
   "cell_type": "markdown",
   "id": "c24877b4",
   "metadata": {},
   "source": [
    "## Rappresentazione dei dati"
   ]
  },
  {
   "cell_type": "markdown",
   "id": "3b7ebaf3",
   "metadata": {},
   "source": [
    "Possiamo tracciare il grafico dell'andamento del prezzo, basandoci sulla feature \"Open\"."
   ]
  },
  {
   "cell_type": "code",
   "execution_count": 193,
   "id": "f3f6a648",
   "metadata": {
    "scrolled": true
   },
   "outputs": [
    {
     "data": {
      "image/png": "[encoded data removed]",
      "text/plain": [
       "<Figure size 1152x288 with 1 Axes>"
      ]
     },
     "metadata": {
      "needs_background": "light"
     },
     "output_type": "display_data"
    }
   ],
   "source": [
    "open.plot(figsize=(16,4))\n",
    "plt.title(\"Andamento prezzo del Bitcoin (EUR)\")\n",
    "plt.xlabel(\"Data\")\n",
    "plt.ylabel(\"Prezzo (Euro)\");"
   ]
  },
  {
   "cell_type": "markdown",
   "id": "2804352f",
   "metadata": {},
   "source": [
    "Utilizzando la libreria plotly è possibile visualizzare in un unico grafico 4 features (Open, High, Low, Close)"
   ]
  },
  {
   "cell_type": "code",
   "execution_count": 194,
   "id": "c7152044",
   "metadata": {},
   "outputs": [],
   "source": [
    "import plotly.graph_objects as go"
   ]
  },
  {
   "cell_type": "code",
   "execution_count": 195,
   "id": "2747b44e",
   "metadata": {
    "scrolled": false
   },
   "outputs": [],
   "source": [
    "candlestick = go.Candlestick(\n",
    "                            x=data.index,\n",
    "                            open=data['Open'],\n",
    "                            high=data['High'],\n",
    "                            low=data['Low'],\n",
    "                            close=data['Close']\n",
    "                            )\n"
   ]
  },
  {
   "cell_type": "markdown",
   "id": "9a81317f",
   "metadata": {},
   "source": [
    "Il grafico è rappresentato mediante l'utilizzo di Candele, queste ultime rappresentano l'andamento del prezzo di una giornata.\n",
    "\n",
    "<img src=\"candlestick.jpeg\" alt=\"Candlestick\" style=\"width:700px;\"/>\n"
   ]
  },
  {
   "cell_type": "code",
   "execution_count": 196,
   "id": "d2b642f3",
   "metadata": {},
   "outputs": [],
   "source": [
    "from ipywidgets.widgets import interact\n",
    "from datetime import timedelta"
   ]
  },
  {
   "cell_type": "markdown",
   "id": "482bab85",
   "metadata": {},
   "source": [
    "Ricaviamo la data relativa a 50 giorni fa"
   ]
  },
  {
   "cell_type": "code",
   "execution_count": 197,
   "id": "5bef79db",
   "metadata": {},
   "outputs": [],
   "source": [
    "DD = timedelta(days=50)\n",
    "earlier = date.today() - DD\n",
    "earlier_str = earlier.strftime(\"%Y-%m-%d\")"
   ]
  },
  {
   "cell_type": "code",
   "execution_count": 198,
   "id": "a901c2db",
   "metadata": {
    "scrolled": false
   },
   "outputs": [
    {
     "data": {
      "application/vnd.jupyter.widget-view+json": {
       "model_id": "ec9a049a40af4934a5df1aef8c803d48",
       "version_major": 2,
       "version_minor": 0
      },
      "text/plain": [
       "interactive(children=(IntSlider(value=20000, description='ymin', max=60000, step=1000), IntSlider(value=40000,…"
      ]
     },
     "metadata": {},
     "output_type": "display_data"
    }
   ],
   "source": [
    "\n",
    "\n",
    "@interact(ymin=(0,60000,1000), ymax=(0,50000,1000))\n",
    "def plot_candlestick(ymin=20000, ymax=40000):    \n",
    "    fig = go.Figure(data=[candlestick])\n",
    "    fig.update_layout(\n",
    "        width=1000, height=700,\n",
    "        title=\"Andamento prezzo Bitcoin Candlestick\",\n",
    "        yaxis_title='Prezzo (EURO)'\n",
    "    )\n",
    "    fig.update_xaxes(type=\"date\", range=[earlier_str, today])\n",
    "    fig.update_yaxes(range=[ymin,ymax])\n",
    "    fig.show()"
   ]
  },
  {
   "cell_type": "markdown",
   "id": "7a912c5c",
   "metadata": {},
   "source": [
    "Mostriamo ora alcune statistiche generali raggruppate per anno come:\n",
    "- Media\n",
    "- Deviazione Standard\n",
    "- Min e Max\n",
    "- Quartili\n"
   ]
  },
  {
   "cell_type": "code",
   "execution_count": 199,
   "id": "e15e68f5",
   "metadata": {
    "scrolled": false
   },
   "outputs": [
    {
     "data": {
      "text/html": [
       "<div>\n",
       "<style scoped>\n",
       "    .dataframe tbody tr th:only-of-type {\n",
       "        vertical-align: middle;\n",
       "    }\n",
       "\n",
       "    .dataframe tbody tr th {\n",
       "        vertical-align: top;\n",
       "    }\n",
       "\n",
       "    .dataframe thead th {\n",
       "        text-align: right;\n",
       "    }\n",
       "</style>\n",
       "<table border=\"1\" class=\"dataframe\">\n",
       "  <thead>\n",
       "    <tr style=\"text-align: right;\">\n",
       "      <th></th>\n",
       "      <th>count</th>\n",
       "      <th>mean</th>\n",
       "      <th>std</th>\n",
       "      <th>min</th>\n",
       "      <th>25%</th>\n",
       "      <th>50%</th>\n",
       "      <th>75%</th>\n",
       "      <th>max</th>\n",
       "    </tr>\n",
       "    <tr>\n",
       "      <th>Date</th>\n",
       "      <th></th>\n",
       "      <th></th>\n",
       "      <th></th>\n",
       "      <th></th>\n",
       "      <th></th>\n",
       "      <th></th>\n",
       "      <th></th>\n",
       "      <th></th>\n",
       "    </tr>\n",
       "  </thead>\n",
       "  <tbody>\n",
       "    <tr>\n",
       "      <th>2021</th>\n",
       "      <td>365.0</td>\n",
       "      <td>40095.692624</td>\n",
       "      <td>8737.824810</td>\n",
       "      <td>23983.438477</td>\n",
       "      <td>31245.380859</td>\n",
       "      <td>40675.902344</td>\n",
       "      <td>47296.929688</td>\n",
       "      <td>58211.095703</td>\n",
       "    </tr>\n",
       "    <tr>\n",
       "      <th>2022</th>\n",
       "      <td>164.0</td>\n",
       "      <td>35081.329953</td>\n",
       "      <td>4436.567076</td>\n",
       "      <td>23404.157227</td>\n",
       "      <td>32589.968506</td>\n",
       "      <td>36538.904297</td>\n",
       "      <td>37790.444336</td>\n",
       "      <td>43156.531250</td>\n",
       "    </tr>\n",
       "  </tbody>\n",
       "</table>\n",
       "</div>"
      ],
      "text/plain": [
       "      count          mean          std           min           25%  \\\n",
       "Date                                                                 \n",
       "2021  365.0  40095.692624  8737.824810  23983.438477  31245.380859   \n",
       "2022  164.0  35081.329953  4436.567076  23404.157227  32589.968506   \n",
       "\n",
       "               50%           75%           max  \n",
       "Date                                            \n",
       "2021  40675.902344  47296.929688  58211.095703  \n",
       "2022  36538.904297  37790.444336  43156.531250  "
      ]
     },
     "execution_count": 199,
     "metadata": {},
     "output_type": "execute_result"
    }
   ],
   "source": [
    "hlm = (high + low) / 2\n",
    "hlm.groupby(hlm.index.year).describe()"
   ]
  },
  {
   "cell_type": "markdown",
   "id": "3de02e34",
   "metadata": {},
   "source": [
    "## Prevedere il valore di chiusura a inizio giornata"
   ]
  },
  {
   "cell_type": "markdown",
   "id": "9ea695c8",
   "metadata": {},
   "source": [
    "La variabile da predire è la features \"Close\" relativa alla data odierna."
   ]
  },
  {
   "cell_type": "code",
   "execution_count": 200,
   "id": "fcf184b2",
   "metadata": {},
   "outputs": [],
   "source": [
    "y = close"
   ]
  },
  {
   "cell_type": "markdown",
   "id": "dc02803a",
   "metadata": {},
   "source": [
    "`high`, `low`, `volume` non possono essere utilizzate in quanto il loro valore non è noto a inizio giornata.\n",
    "Attualmente l'unica feature utilizzabile è il valore `open`."
   ]
  },
  {
   "cell_type": "code",
   "execution_count": 201,
   "id": "33989cdb",
   "metadata": {
    "scrolled": true
   },
   "outputs": [
    {
     "data": {
      "text/html": [
       "<div>\n",
       "<style scoped>\n",
       "    .dataframe tbody tr th:only-of-type {\n",
       "        vertical-align: middle;\n",
       "    }\n",
       "\n",
       "    .dataframe tbody tr th {\n",
       "        vertical-align: top;\n",
       "    }\n",
       "\n",
       "    .dataframe thead th {\n",
       "        text-align: right;\n",
       "    }\n",
       "</style>\n",
       "<table border=\"1\" class=\"dataframe\">\n",
       "  <thead>\n",
       "    <tr style=\"text-align: right;\">\n",
       "      <th></th>\n",
       "      <th>Open</th>\n",
       "    </tr>\n",
       "    <tr>\n",
       "      <th>Date</th>\n",
       "      <th></th>\n",
       "    </tr>\n",
       "  </thead>\n",
       "  <tbody>\n",
       "    <tr>\n",
       "      <th>2021-01-01</th>\n",
       "      <td>23735.423828</td>\n",
       "    </tr>\n",
       "    <tr>\n",
       "      <th>2021-01-02</th>\n",
       "      <td>24167.451172</td>\n",
       "    </tr>\n",
       "    <tr>\n",
       "      <th>2021-01-03</th>\n",
       "      <td>26476.656250</td>\n",
       "    </tr>\n",
       "    <tr>\n",
       "      <th>2021-01-04</th>\n",
       "      <td>26784.332031</td>\n",
       "    </tr>\n",
       "    <tr>\n",
       "      <th>2021-01-05</th>\n",
       "      <td>26098.189453</td>\n",
       "    </tr>\n",
       "    <tr>\n",
       "      <th>...</th>\n",
       "      <td>...</td>\n",
       "    </tr>\n",
       "    <tr>\n",
       "      <th>2022-06-09</th>\n",
       "      <td>28193.755859</td>\n",
       "    </tr>\n",
       "    <tr>\n",
       "      <th>2022-06-10</th>\n",
       "      <td>28354.476562</td>\n",
       "    </tr>\n",
       "    <tr>\n",
       "      <th>2022-06-11</th>\n",
       "      <td>27648.988281</td>\n",
       "    </tr>\n",
       "    <tr>\n",
       "      <th>2022-06-12</th>\n",
       "      <td>26971.011719</td>\n",
       "    </tr>\n",
       "    <tr>\n",
       "      <th>2022-06-13</th>\n",
       "      <td>25490.082031</td>\n",
       "    </tr>\n",
       "  </tbody>\n",
       "</table>\n",
       "<p>529 rows × 1 columns</p>\n",
       "</div>"
      ],
      "text/plain": [
       "                    Open\n",
       "Date                    \n",
       "2021-01-01  23735.423828\n",
       "2021-01-02  24167.451172\n",
       "2021-01-03  26476.656250\n",
       "2021-01-04  26784.332031\n",
       "2021-01-05  26098.189453\n",
       "...                  ...\n",
       "2022-06-09  28193.755859\n",
       "2022-06-10  28354.476562\n",
       "2022-06-11  27648.988281\n",
       "2022-06-12  26971.011719\n",
       "2022-06-13  25490.082031\n",
       "\n",
       "[529 rows x 1 columns]"
      ]
     },
     "execution_count": 201,
     "metadata": {},
     "output_type": "execute_result"
    }
   ],
   "source": [
    "features = {\"Open\" : open}\n",
    "X = pd.DataFrame(features)\n",
    "X"
   ]
  },
  {
   "cell_type": "markdown",
   "id": "e2021426",
   "metadata": {},
   "source": [
    "Suddividiamo i dati in un training set e in un validation set con la funzione `train_test_split`."
   ]
  },
  {
   "cell_type": "code",
   "execution_count": 202,
   "id": "8ee1f6ec",
   "metadata": {},
   "outputs": [],
   "source": [
    "from sklearn.model_selection import train_test_split\n",
    "\n",
    "X_train, X_val, y_train, y_val = train_test_split(X, y, test_size=0.3, shuffle=False)"
   ]
  },
  {
   "cell_type": "markdown",
   "id": "4799005a",
   "metadata": {},
   "source": [
    "## Test 1: Regressione Lineare"
   ]
  },
  {
   "cell_type": "markdown",
   "id": "cbf95443",
   "metadata": {},
   "source": [
    "Usandro training e validation set creati in precedenza addestriamo un modello di regressione lineare e calcoliamo R<sup>2</sup>."
   ]
  },
  {
   "cell_type": "code",
   "execution_count": 203,
   "id": "1a74c5b3",
   "metadata": {},
   "outputs": [
    {
     "data": {
      "text/plain": [
       "0.9238887325082837"
      ]
     },
     "execution_count": 203,
     "metadata": {},
     "output_type": "execute_result"
    }
   ],
   "source": [
    "from sklearn.linear_model import LinearRegression\n",
    "model = LinearRegression()\n",
    "model.fit(X_train,y_train)\n",
    "model.score(X_val, y_val)"
   ]
  },
  {
   "cell_type": "markdown",
   "id": "5bab44e9",
   "metadata": {},
   "source": [
    "Il punteggio R<sup>2</sup> del modello risulta molto alto. Questo è dovuto al fatto che i valore `Open` e `Close` sono molto correlati."
   ]
  },
  {
   "cell_type": "code",
   "execution_count": 204,
   "id": "ecfbca6a",
   "metadata": {},
   "outputs": [
    {
     "data": {
      "image/png": "[encoded data removed]",
      "text/plain": [
       "<Figure size 432x288 with 1 Axes>"
      ]
     },
     "metadata": {
      "needs_background": "light"
     },
     "output_type": "display_data"
    }
   ],
   "source": [
    "plt.scatter(X_train,y_train);"
   ]
  },
  {
   "cell_type": "markdown",
   "id": "aa0ce371",
   "metadata": {},
   "source": [
    "Per avere un riscontro dell'effetiva efficienza del modello calcoliamo il guadagno effettivo di un possibile investitore."
   ]
  },
  {
   "cell_type": "markdown",
   "id": "6154b92b",
   "metadata": {},
   "source": [
    "Per far ciò implementiamo un protocollo di trading che dati i valori di chiusura reali e predetti restituisce il guadagno effettivo.\n",
    "\n",
    "**La cifra investita in questo caso è pari al valore di apertura che varia giornalmente**."
   ]
  },
  {
   "cell_type": "markdown",
   "id": "ae98b752",
   "metadata": {},
   "source": [
    "Definiamo la variabile differenza $\\Delta_d=C_d-O_d$ tra il valore di chiusura giornaliero $C_d$ e di apertura $O_d$"
   ]
  },
  {
   "cell_type": "code",
   "execution_count": 205,
   "id": "7052286e",
   "metadata": {},
   "outputs": [],
   "source": [
    "delta = close - open"
   ]
  },
  {
   "cell_type": "markdown",
   "id": "f3a28c69",
   "metadata": {},
   "source": [
    "- Poniamo questo come il valore che **deve essere predetto** dal modello\n",
    "- L'investitore agirà in base alla predizione $\\hat{\\Delta}_d$ in modo analogo a prima\n",
    "  - se $\\hat{\\Delta}_d > 0$, acquista un titolo a inizio giornata e lo rivende alla fine\n",
    "  - se $\\hat{\\Delta}_d < 0$, vende un titolo a inizio giornata e lo ricompra alla fine"
   ]
  },
  {
   "cell_type": "markdown",
   "id": "5b1d4d5a",
   "metadata": {},
   "source": [
    "### Definiamo alcune funzioni utili "
   ]
  },
  {
   "cell_type": "markdown",
   "id": "736ad8c4",
   "metadata": {},
   "source": [
    "Possiamo definire una metrica \"guadagno\" per validare il modello, che restituisca il guadagno totale di un investitore che opera nel periodo a cui si riferisce il validation set"
   ]
  },
  {
   "cell_type": "code",
   "execution_count": 206,
   "id": "62524cae",
   "metadata": {},
   "outputs": [],
   "source": [
    "def gain(D, D_pred):\n",
    "    growth = D_pred > 0\n",
    "    decline = D_pred < 0\n",
    "    return D[growth].sum() - D[decline].sum()"
   ]
  },
  {
   "cell_type": "markdown",
   "id": "2f0cfb0d",
   "metadata": {},
   "source": [
    "Il ROI (Return on investiment) esprime il guadagno di una o più operazioni in borsa in rapporto all'investimento iniziale."
   ]
  },
  {
   "cell_type": "code",
   "execution_count": 207,
   "id": "f0324190",
   "metadata": {},
   "outputs": [],
   "source": [
    "def roi(D, D_pred):\n",
    "    mean_open = open.reindex_like(D).mean()\n",
    "    return gain(D, D_pred)/ mean_open"
   ]
  },
  {
   "cell_type": "markdown",
   "id": "1608c56d",
   "metadata": {},
   "source": [
    "Definiamo anche una funzione che stampi le metriche di valutazione del modello."
   ]
  },
  {
   "cell_type": "code",
   "execution_count": 208,
   "id": "44be9ec2",
   "metadata": {},
   "outputs": [],
   "source": [
    "def print_eval(X, y, model):\n",
    "    preds = model.predict(X)\n",
    "    print(\"Gain: {:.2f}$\".format(gain(y, preds)))\n",
    "    print(\" ROI: {:.3%}\".format(roi(y, preds)))"
   ]
  },
  {
   "cell_type": "markdown",
   "id": "3ac014e3",
   "metadata": {},
   "source": [
    "La funzione `prepare_data` restituisce un Dataframe con le colonne indicate e una serie con i valori della variabile da predire corrispondenti alle righe selezionate del Dataframe."
   ]
  },
  {
   "cell_type": "code",
   "execution_count": 209,
   "id": "e5827b12",
   "metadata": {},
   "outputs": [],
   "source": [
    "def prepare_data(features, delta):\n",
    "    X = pd.DataFrame(features)\n",
    "    X.dropna(inplace=True)\n",
    "    y = delta.reindex_like(X)\n",
    "    return X, y"
   ]
  },
  {
   "cell_type": "markdown",
   "id": "03c0dbc2",
   "metadata": {},
   "source": [
    "Addestriamo ora invece un modello di regressione lineare prevedendo il delta e calcoliamo il `gain` e il `ROI`."
   ]
  },
  {
   "cell_type": "code",
   "execution_count": 210,
   "id": "ba126892",
   "metadata": {},
   "outputs": [
    {
     "name": "stdout",
     "output_type": "stream",
     "text": [
      "Gain: -9471.16$\n",
      " ROI: -27.077%\n"
     ]
    }
   ],
   "source": [
    "X, y = prepare_data(features, delta)\n",
    "X_train, X_val, y_train, y_val = train_test_split(X, y, test_size=0.3, shuffle=False)\n",
    "model = LinearRegression()\n",
    "model.fit(X_train, y_train)\n",
    "print_eval(X_val, y_val, model)"
   ]
  },
  {
   "cell_type": "markdown",
   "id": "6230ff3f",
   "metadata": {},
   "source": [
    "Il risultato non è per nulla soddisfacente."
   ]
  },
  {
   "cell_type": "code",
   "execution_count": 213,
   "id": "1264dbb6",
   "metadata": {},
   "outputs": [
    {
     "data": {
      "image/png": "[encoded data removed]",
      "text/plain": [
       "<Figure size 432x288 with 1 Axes>"
      ]
     },
     "metadata": {
      "needs_background": "light"
     },
     "output_type": "display_data"
    }
   ],
   "source": [
    "plt.scatter(X_val,y_val);"
   ]
  },
  {
   "cell_type": "code",
   "execution_count": 215,
   "id": "2189fa32",
   "metadata": {},
   "outputs": [],
   "source": [
    "def plot_model_on_data(X, y, model=None):\n",
    "    plt.figure(figsize=(10, 7))\n",
    "    plt.scatter(X, y)\n",
    "    if model is not None:\n",
    "        xlim, ylim = plt.xlim(), plt.ylim()\n",
    "        line_x = np.linspace(xlim[0], xlim[1], 100)\n",
    "        line_y = model.predict(line_x[:, None])\n",
    "        plt.plot(line_x, line_y, c=\"red\", lw=3)\n",
    "        plt.xlim(xlim); plt.ylim(ylim)\n",
    "    plt.grid()\n",
    "    plt.xlabel(\"Temperatura (°C)\"); plt.ylabel(\"Consumi (GW)\")"
   ]
  },
  {
   "cell_type": "code",
   "execution_count": 216,
   "id": "02b15c17",
   "metadata": {},
   "outputs": [
    {
     "name": "stderr",
     "output_type": "stream",
     "text": [
      "/opt/homebrew/Caskroom/miniforge/tensorflow/lib/python3.9/site-packages/sklearn/base.py:450: UserWarning:\n",
      "\n",
      "X does not have valid feature names, but LinearRegression was fitted with feature names\n",
      "\n"
     ]
    },
    {
     "data": {
      "image/png": "[encoded data removed]",
      "text/plain": [
       "<Figure size 720x504 with 1 Axes>"
      ]
     },
     "metadata": {
      "needs_background": "light"
     },
     "output_type": "display_data"
    }
   ],
   "source": [
    "plot_model_on_data(X_val,y_val,model)"
   ]
  },
  {
   "cell_type": "code",
   "execution_count": null,
   "id": "2d78b0d3",
   "metadata": {},
   "outputs": [],
   "source": []
  }
 ],
 "metadata": {
  "kernelspec": {
   "display_name": "Python 3 (ipykernel)",
   "language": "python",
   "name": "python3"
  },
  "language_info": {
   "codemirror_mode": {
    "name": "ipython",
    "version": 3
   },
   "file_extension": ".py",
   "mimetype": "text/x-python",
   "name": "python",
   "nbconvert_exporter": "python",
   "pygments_lexer": "ipython3",
   "version": "3.9.12"
  }
 },
 "nbformat": 4,
 "nbformat_minor": 5
}

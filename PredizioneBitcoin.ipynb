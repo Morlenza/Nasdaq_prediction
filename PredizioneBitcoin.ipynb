{
 "cells": [
  {
   "cell_type": "markdown",
   "id": "bfc69852",
   "metadata": {},
   "source": [
    "# Predizione Prezzo Bitcoin\n",
    "## Autori: Luca Morlino e Valerio Di Zio\n"
   ]
  },
  {
   "cell_type": "code",
   "execution_count": 1,
   "id": "3a715f1a",
   "metadata": {},
   "outputs": [],
   "source": [
    "import numpy as np\n",
    "import pandas as pd\n",
    "import matplotlib.pyplot as plt\n",
    "import sklearn\n",
    "%matplotlib inline"
   ]
  },
  {
   "cell_type": "markdown",
   "id": "a5f950ac",
   "metadata": {},
   "source": [
    "## Descrizione del problema\n",
    "### Cos'è Bitcoin?\n",
    "Il Bitcoin è una moneta virtuale creata nel 2009 da uno o più utenti con lo pseudonimo Satoshi Nakamoto. Diversamente dalle altre valute il Bitcoin non ha dietro una Banca centrale che distribuisce nuova moneta ma si basa fondamentalmente su due principi: un network di nodi, cioè di pc, che la gestiscono in modalità distribuita, peer-to-peer; e l'uso di una forte crittografia per validare e rendere sicure le transazioni.\n",
    "### Obiettivo\n",
    "L'obiettivo generale è quello di creare un algoritmo che preveda il valore di chiusura di bitcoin a inizio giornata.\n",
    "Il bitcoin essendo una valuta a tutti gli effetti non ha un orario di apertura né uno di chiusura, per comodità il nostro dataset considera il valore di apertura a mezzanotte e il valore di chiusura a mezzanotte del giorno dopo."
   ]
  },
  {
   "cell_type": "markdown",
   "id": "6a402860",
   "metadata": {},
   "source": [
    "## Estrazione dati\n",
    "I dati relativi a BTC vengono scaricati dal servizio [Yahoo! Finance](https://it.finance.yahoo.com/).\n",
    "Per fare ciò viene utilizzata la libreria yfinance che permette l'estrazione di dati in forma di oggetti Python facilmente interrogabili.\n",
    "In particolare, la usiamo per ottenere i dati storici in forma di Dataframe Pandas"
   ]
  },
  {
   "cell_type": "code",
   "execution_count": 2,
   "id": "14b4750d",
   "metadata": {},
   "outputs": [],
   "source": [
    "import yfinance"
   ]
  },
  {
   "cell_type": "markdown",
   "id": "5826139a",
   "metadata": {},
   "source": [
    "- Creiamo un oggetto Ticker che rappresenta uno specifico titolo o indice\n",
    "- Nel nostro caso il simbolo del Bitcoin con il suo valore in Euro è BTC-EUR"
   ]
  },
  {
   "cell_type": "code",
   "execution_count": 3,
   "id": "e3b880a1",
   "metadata": {},
   "outputs": [],
   "source": [
    "btc = yfinance.Ticker(\"BTC-EUR\")"
   ]
  },
  {
   "cell_type": "markdown",
   "id": "079b31f4",
   "metadata": {},
   "source": [
    "- Utilizziamo il metodo history per ottenere i dati storici, partendo dal 1 gennaio 2015 fino a ieri."
   ]
  },
  {
   "cell_type": "code",
   "execution_count": 4,
   "id": "b8eb6fa3",
   "metadata": {},
   "outputs": [],
   "source": [
    "from datetime import date"
   ]
  },
  {
   "cell_type": "code",
   "execution_count": 5,
   "id": "43a993b1",
   "metadata": {},
   "outputs": [],
   "source": [
    "today = date.today().strftime(\"%Y-%m-%d\")\n",
    "data = btc.history(start=\"2015-01-02\", end=today, actions=False)"
   ]
  },
  {
   "cell_type": "markdown",
   "id": "bcad84dd",
   "metadata": {},
   "source": [
    "Ad esempio, guardiamo i dati relativi agli ultimi 5 giorni. \n",
    "\n",
    "Ovviamente i dati odierni non sono presenti, saranno quelli che andremo a prevedere."
   ]
  },
  {
   "cell_type": "code",
   "execution_count": 6,
   "id": "79c44726",
   "metadata": {
    "scrolled": true
   },
   "outputs": [
    {
     "data": {
      "text/html": [
       "<div>\n",
       "<style scoped>\n",
       "    .dataframe tbody tr th:only-of-type {\n",
       "        vertical-align: middle;\n",
       "    }\n",
       "\n",
       "    .dataframe tbody tr th {\n",
       "        vertical-align: top;\n",
       "    }\n",
       "\n",
       "    .dataframe thead th {\n",
       "        text-align: right;\n",
       "    }\n",
       "</style>\n",
       "<table border=\"1\" class=\"dataframe\">\n",
       "  <thead>\n",
       "    <tr style=\"text-align: right;\">\n",
       "      <th></th>\n",
       "      <th>Open</th>\n",
       "      <th>High</th>\n",
       "      <th>Low</th>\n",
       "      <th>Close</th>\n",
       "      <th>Volume</th>\n",
       "    </tr>\n",
       "    <tr>\n",
       "      <th>Date</th>\n",
       "      <th></th>\n",
       "      <th></th>\n",
       "      <th></th>\n",
       "      <th></th>\n",
       "      <th></th>\n",
       "    </tr>\n",
       "  </thead>\n",
       "  <tbody>\n",
       "    <tr>\n",
       "      <th>2022-06-09</th>\n",
       "      <td>28193.755859</td>\n",
       "      <td>28560.138672</td>\n",
       "      <td>28284.824219</td>\n",
       "      <td>28356.046875</td>\n",
       "      <td>20427057156</td>\n",
       "    </tr>\n",
       "    <tr>\n",
       "      <th>2022-06-10</th>\n",
       "      <td>28354.476562</td>\n",
       "      <td>28450.841797</td>\n",
       "      <td>27545.003906</td>\n",
       "      <td>27648.169922</td>\n",
       "      <td>28393158151</td>\n",
       "    </tr>\n",
       "    <tr>\n",
       "      <th>2022-06-11</th>\n",
       "      <td>27648.988281</td>\n",
       "      <td>27950.578125</td>\n",
       "      <td>26840.496094</td>\n",
       "      <td>26958.935547</td>\n",
       "      <td>25899776264</td>\n",
       "    </tr>\n",
       "    <tr>\n",
       "      <th>2022-06-12</th>\n",
       "      <td>26971.011719</td>\n",
       "      <td>27093.796875</td>\n",
       "      <td>25513.984375</td>\n",
       "      <td>25513.984375</td>\n",
       "      <td>32569266905</td>\n",
       "    </tr>\n",
       "    <tr>\n",
       "      <th>2022-06-13</th>\n",
       "      <td>25490.082031</td>\n",
       "      <td>25545.843750</td>\n",
       "      <td>21262.470703</td>\n",
       "      <td>21592.951172</td>\n",
       "      <td>65491720208</td>\n",
       "    </tr>\n",
       "  </tbody>\n",
       "</table>\n",
       "</div>"
      ],
      "text/plain": [
       "                    Open          High           Low         Close  \\\n",
       "Date                                                                 \n",
       "2022-06-09  28193.755859  28560.138672  28284.824219  28356.046875   \n",
       "2022-06-10  28354.476562  28450.841797  27545.003906  27648.169922   \n",
       "2022-06-11  27648.988281  27950.578125  26840.496094  26958.935547   \n",
       "2022-06-12  26971.011719  27093.796875  25513.984375  25513.984375   \n",
       "2022-06-13  25490.082031  25545.843750  21262.470703  21592.951172   \n",
       "\n",
       "                 Volume  \n",
       "Date                     \n",
       "2022-06-09  20427057156  \n",
       "2022-06-10  28393158151  \n",
       "2022-06-11  25899776264  \n",
       "2022-06-12  32569266905  \n",
       "2022-06-13  65491720208  "
      ]
     },
     "execution_count": 6,
     "metadata": {},
     "output_type": "execute_result"
    }
   ],
   "source": [
    "data.tail(5)"
   ]
  },
  {
   "cell_type": "markdown",
   "id": "72924f7a",
   "metadata": {},
   "source": [
    "\n",
    "Andiamo a contare il numero di istanze ricavate"
   ]
  },
  {
   "cell_type": "code",
   "execution_count": 7,
   "id": "7585e533",
   "metadata": {},
   "outputs": [
    {
     "data": {
      "text/plain": [
       "13605"
      ]
     },
     "execution_count": 7,
     "metadata": {},
     "output_type": "execute_result"
    }
   ],
   "source": [
    "data.size"
   ]
  },
  {
   "cell_type": "markdown",
   "id": "979f3e3b",
   "metadata": {},
   "source": [
    "## Features\n",
    "Il nostro dataset ha 5 features:\n",
    "- Open: è il valore in euro di un singolo bitcoin all'orario di apertura\n",
    "- High: è il valore massimo in euro raggiunto durante la giornata\n",
    "- Low: è il valore minimo in euro raggiunto durante la giornata\n",
    "- Close: è il valore in euro di un singolo bitcoin all'orario di chiusura\n",
    "- Volume: il volume di trading indica (nel nostro caso) il valore in euro di bitcoin scambiati durante la giornata\n",
    "\n",
    "Per comodità estraiamo una serie per ciascuna colonna, per potersi riferire ad esse con un unico nome."
   ]
  },
  {
   "cell_type": "code",
   "execution_count": 8,
   "id": "78cd6ace",
   "metadata": {},
   "outputs": [],
   "source": [
    "open = data[\"Open\"]\n",
    "high = data[\"High\"]\n",
    "low = data[\"Low\"]\n",
    "close = data[\"Close\"]\n",
    "volume = data[\"Volume\"]"
   ]
  },
  {
   "cell_type": "markdown",
   "id": "9ea695c8",
   "metadata": {},
   "source": [
    "La variabile da predire è la features \"Close\" relativa alla data odierna."
   ]
  },
  {
   "cell_type": "markdown",
   "id": "3b7ebaf3",
   "metadata": {},
   "source": [
    "Possiamo tracciare il grafico dell'andamento del prezzo, basandoci sulla feature \"Open\"."
   ]
  },
  {
   "cell_type": "code",
   "execution_count": 9,
   "id": "f3f6a648",
   "metadata": {
    "scrolled": false
   },
   "outputs": [
    {
     "data": {
      "image/png": "[encoded data removed]",
      "text/plain": [
       "<Figure size 1152x288 with 1 Axes>"
      ]
     },
     "metadata": {
      "needs_background": "light"
     },
     "output_type": "display_data"
    }
   ],
   "source": [
    "open.plot(figsize=(16,4))\n",
    "plt.title(\"Andamento prezzo del Bitcoin (EUR)\")\n",
    "plt.xlabel(\"Data\")\n",
    "plt.ylabel(\"Prezzo (Euro)\");"
   ]
  },
  {
   "cell_type": "markdown",
   "id": "2804352f",
   "metadata": {},
   "source": [
    "Utilizzando la libreria plotly è possibile visualizzare in un unico grafico 4 features (Open, High, Low, Close)"
   ]
  },
  {
   "cell_type": "code",
   "execution_count": 10,
   "id": "c7152044",
   "metadata": {},
   "outputs": [],
   "source": [
    "import plotly.graph_objects as go"
   ]
  },
  {
   "cell_type": "code",
   "execution_count": 11,
   "id": "2747b44e",
   "metadata": {
    "scrolled": false
   },
   "outputs": [],
   "source": [
    "candlestick = go.Candlestick(\n",
    "                            x=data.index,\n",
    "                            open=data['Open'],\n",
    "                            high=data['High'],\n",
    "                            low=data['Low'],\n",
    "                            close=data['Close']\n",
    "                            )\n"
   ]
  },
  {
   "cell_type": "markdown",
   "id": "9a81317f",
   "metadata": {},
   "source": [
    "Il grafico è rappresentato mediante l'utilizzo di Candele, queste ultime rappresentano l'andamento del prezzo di una giornata.\n",
    "\n",
    "<img src=\"candlestick.jpeg\" alt=\"Candlestick\" style=\"width:700px;\"/>\n"
   ]
  },
  {
   "cell_type": "code",
   "execution_count": 12,
   "id": "d2b642f3",
   "metadata": {},
   "outputs": [],
   "source": [
    "from ipywidgets.widgets import interact"
   ]
  },
  {
   "cell_type": "code",
   "execution_count": 13,
   "id": "a901c2db",
   "metadata": {
    "scrolled": false
   },
   "outputs": [
    {
     "data": {
      "application/vnd.jupyter.widget-view+json": {
       "model_id": "5e9aa8a4866f410b8dbc91a8d4bd2d43",
       "version_major": 2,
       "version_minor": 0
      },
      "text/plain": [
       "interactive(children=(IntSlider(value=0, description='ymin', max=60000, step=1000), IntSlider(value=60000, des…"
      ]
     },
     "metadata": {},
     "output_type": "display_data"
    }
   ],
   "source": [
    "@interact(ymin=(0,60000,1000), ymax=(0,60000,1000))\n",
    "def plot_candlestick(ymin=0, ymax=60000):    \n",
    "    fig = go.Figure(data=[candlestick])\n",
    "    fig.update_layout(\n",
    "        width=1000, height=700,\n",
    "        title=\"Andamento prezzo Bitcoin Candlestick\",\n",
    "        yaxis_title='Prezzo (EURO)'\n",
    "    )\n",
    "    fig.update_xaxes(type=\"date\", range=[\"2022-05-01\", today])\n",
    "    fig.update_yaxes(range=[ymin,ymax])\n",
    "    fig.show()"
   ]
  },
  {
   "cell_type": "code",
   "execution_count": null,
   "id": "e15e68f5",
   "metadata": {},
   "outputs": [],
   "source": []
  }
 ],
 "metadata": {
  "kernelspec": {
   "display_name": "Python 3 (ipykernel)",
   "language": "python",
   "name": "python3"
  },
  "language_info": {
   "codemirror_mode": {
    "name": "ipython",
    "version": 3
   },
   "file_extension": ".py",
   "mimetype": "text/x-python",
   "name": "python",
   "nbconvert_exporter": "python",
   "pygments_lexer": "ipython3",
   "version": "3.10.4"
  }
 },
 "nbformat": 4,
 "nbformat_minor": 5
}

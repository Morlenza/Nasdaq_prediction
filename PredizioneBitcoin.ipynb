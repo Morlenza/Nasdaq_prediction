{
 "cells": [
  {
   "cell_type": "markdown",
   "id": "bfc69852",
   "metadata": {},
   "source": [
    "# Predizione Prezzo Bitcoin\n",
    "## Autori: Luca Morlino e Valerio Di Zio\n"
   ]
  },
  {
   "cell_type": "code",
   "execution_count": 138,
   "id": "3a715f1a",
   "metadata": {},
   "outputs": [],
   "source": [
    "import numpy as np\n",
    "import pandas as pd\n",
    "import matplotlib.pyplot as plt\n",
    "import sklearn\n",
    "%matplotlib inline"
   ]
  },
  {
   "cell_type": "markdown",
   "id": "a5f950ac",
   "metadata": {},
   "source": [
    "## Descrizione del problema\n",
    "### Cos'è Bitcoin?\n",
    "Il Bitcoin è una moneta virtuale creata nel 2009 da uno o più utenti con lo pseudonimo Satoshi Nakamoto. Diversamente dalle altre valute il Bitcoin non ha dietro una Banca centrale che distribuisce nuova moneta ma si basa fondamentalmente su due principi: un network di nodi, cioè di pc, che la gestiscono in modalità distribuita, peer-to-peer; e l'uso di una forte crittografia per validare e rendere sicure le transazioni.\n",
    "### Obiettivo\n",
    "L'obiettivo generale è quello di creare un algoritmo che preveda il valore di chiusura di bitcoin a inizio giornata.\n",
    "Il bitcoin essendo una valuta a tutti gli effetti non ha un orario di apertura né uno di chiusura, per comodità il nostro dataset considera il valore di apertura a mezzanotte e il valore di chiusura a mezzanotte del giorno dopo."
   ]
  },
  {
   "cell_type": "markdown",
   "id": "6a402860",
   "metadata": {},
   "source": [
    "## Estrazione dati\n",
    "I dati relativi a BTC vengono scaricati dal servizio [Yahoo! Finance](https://it.finance.yahoo.com/).\n",
    "Per fare ciò viene utilizzata la libreria yfinance che permette l'estrazione di dati in forma di oggetti Python facilmente interrogabili.\n",
    "In particolare, la usiamo per ottenere i dati storici in forma di Dataframe Pandas"
   ]
  },
  {
   "cell_type": "code",
   "execution_count": 139,
   "id": "14b4750d",
   "metadata": {},
   "outputs": [],
   "source": [
    "import yfinance"
   ]
  },
  {
   "cell_type": "markdown",
   "id": "5826139a",
   "metadata": {},
   "source": [
    "- Creiamo un oggetto Ticker che rappresenta uno specifico titolo o indice\n",
    "- Nel nostro caso il simbolo del Bitcoin con il suo valore in Euro è BTC-EUR"
   ]
  },
  {
   "cell_type": "code",
   "execution_count": 140,
   "id": "e3b880a1",
   "metadata": {},
   "outputs": [],
   "source": [
    "btc = yfinance.Ticker(\"BTC-EUR\")"
   ]
  },
  {
   "cell_type": "markdown",
   "id": "079b31f4",
   "metadata": {},
   "source": [
    "- Utilizziamo il metodo history per ottenere i dati storici, partendo dal 1 gennaio 2015 fino a ieri."
   ]
  },
  {
   "cell_type": "code",
   "execution_count": 141,
   "id": "b8eb6fa3",
   "metadata": {},
   "outputs": [],
   "source": [
    "from datetime import date"
   ]
  },
  {
   "cell_type": "code",
   "execution_count": 142,
   "id": "43a993b1",
   "metadata": {},
   "outputs": [],
   "source": [
    "today = date.today().strftime(\"%Y-%m-%d\")\n",
    "data = btc.history(start=\"2015-01-02\", end=today, actions=False)"
   ]
  },
  {
   "cell_type": "markdown",
   "id": "bcad84dd",
   "metadata": {},
   "source": [
    "Ad esempio, guardiamo i dati relativi agli ultimi 5 giorni. \n",
    "\n",
    "Ovviamente i dati odierni non sono presenti, saranno quelli che andremo a prevedere."
   ]
  },
  {
   "cell_type": "code",
   "execution_count": 143,
   "id": "79c44726",
   "metadata": {
    "scrolled": true
   },
   "outputs": [
    {
     "data": {
      "text/html": [
       "<div>\n",
       "<style scoped>\n",
       "    .dataframe tbody tr th:only-of-type {\n",
       "        vertical-align: middle;\n",
       "    }\n",
       "\n",
       "    .dataframe tbody tr th {\n",
       "        vertical-align: top;\n",
       "    }\n",
       "\n",
       "    .dataframe thead th {\n",
       "        text-align: right;\n",
       "    }\n",
       "</style>\n",
       "<table border=\"1\" class=\"dataframe\">\n",
       "  <thead>\n",
       "    <tr style=\"text-align: right;\">\n",
       "      <th></th>\n",
       "      <th>Open</th>\n",
       "      <th>High</th>\n",
       "      <th>Low</th>\n",
       "      <th>Close</th>\n",
       "      <th>Volume</th>\n",
       "    </tr>\n",
       "    <tr>\n",
       "      <th>Date</th>\n",
       "      <th></th>\n",
       "      <th></th>\n",
       "      <th></th>\n",
       "      <th></th>\n",
       "      <th></th>\n",
       "    </tr>\n",
       "  </thead>\n",
       "  <tbody>\n",
       "    <tr>\n",
       "      <th>2022-06-09</th>\n",
       "      <td>28193.755859</td>\n",
       "      <td>28560.138672</td>\n",
       "      <td>28284.824219</td>\n",
       "      <td>28356.046875</td>\n",
       "      <td>20427057156</td>\n",
       "    </tr>\n",
       "    <tr>\n",
       "      <th>2022-06-10</th>\n",
       "      <td>28354.476562</td>\n",
       "      <td>28450.841797</td>\n",
       "      <td>27545.003906</td>\n",
       "      <td>27648.169922</td>\n",
       "      <td>28393158151</td>\n",
       "    </tr>\n",
       "    <tr>\n",
       "      <th>2022-06-11</th>\n",
       "      <td>27648.988281</td>\n",
       "      <td>27950.578125</td>\n",
       "      <td>26840.496094</td>\n",
       "      <td>26958.935547</td>\n",
       "      <td>25899776264</td>\n",
       "    </tr>\n",
       "    <tr>\n",
       "      <th>2022-06-12</th>\n",
       "      <td>26971.011719</td>\n",
       "      <td>27093.796875</td>\n",
       "      <td>25513.984375</td>\n",
       "      <td>25513.984375</td>\n",
       "      <td>32569266905</td>\n",
       "    </tr>\n",
       "    <tr>\n",
       "      <th>2022-06-13</th>\n",
       "      <td>25490.082031</td>\n",
       "      <td>25545.843750</td>\n",
       "      <td>21262.470703</td>\n",
       "      <td>21592.951172</td>\n",
       "      <td>65491720208</td>\n",
       "    </tr>\n",
       "  </tbody>\n",
       "</table>\n",
       "</div>"
      ],
      "text/plain": [
       "                    Open          High           Low         Close  \\\n",
       "Date                                                                 \n",
       "2022-06-09  28193.755859  28560.138672  28284.824219  28356.046875   \n",
       "2022-06-10  28354.476562  28450.841797  27545.003906  27648.169922   \n",
       "2022-06-11  27648.988281  27950.578125  26840.496094  26958.935547   \n",
       "2022-06-12  26971.011719  27093.796875  25513.984375  25513.984375   \n",
       "2022-06-13  25490.082031  25545.843750  21262.470703  21592.951172   \n",
       "\n",
       "                 Volume  \n",
       "Date                     \n",
       "2022-06-09  20427057156  \n",
       "2022-06-10  28393158151  \n",
       "2022-06-11  25899776264  \n",
       "2022-06-12  32569266905  \n",
       "2022-06-13  65491720208  "
      ]
     },
     "execution_count": 143,
     "metadata": {},
     "output_type": "execute_result"
    }
   ],
   "source": [
    "data.tail(5)"
   ]
  },
  {
   "cell_type": "markdown",
   "id": "72924f7a",
   "metadata": {},
   "source": [
    "\n",
    "Andiamo a contare il numero di istanze ricavate"
   ]
  },
  {
   "cell_type": "code",
   "execution_count": 144,
   "id": "7585e533",
   "metadata": {},
   "outputs": [
    {
     "data": {
      "text/plain": [
       "2721"
      ]
     },
     "execution_count": 144,
     "metadata": {},
     "output_type": "execute_result"
    }
   ],
   "source": [
    "data.shape[0]"
   ]
  },
  {
   "cell_type": "markdown",
   "id": "979f3e3b",
   "metadata": {},
   "source": [
    "## Features\n",
    "Il nostro dataset ha 5 features:\n",
    "- Open: è il valore in euro di un singolo bitcoin all'orario di apertura\n",
    "- High: è il valore massimo in euro raggiunto durante la giornata\n",
    "- Low: è il valore minimo in euro raggiunto durante la giornata\n",
    "- Close: è il valore in euro di un singolo bitcoin all'orario di chiusura\n",
    "- Volume: il volume di trading indica (nel nostro caso) il valore in euro di bitcoin scambiati durante la giornata\n",
    "\n",
    "Per comodità estraiamo una serie per ciascuna colonna, per potersi riferire ad esse con un unico nome."
   ]
  },
  {
   "cell_type": "code",
   "execution_count": 145,
   "id": "78cd6ace",
   "metadata": {},
   "outputs": [],
   "source": [
    "open = data[\"Open\"]\n",
    "high = data[\"High\"]\n",
    "low = data[\"Low\"]\n",
    "close = data[\"Close\"]\n",
    "volume = data[\"Volume\"]"
   ]
  },
  {
   "cell_type": "markdown",
   "id": "eae21f3d",
   "metadata": {},
   "source": [
    "## Rappresentazione dei dati"
   ]
  },
  {
   "cell_type": "markdown",
   "id": "3b7ebaf3",
   "metadata": {},
   "source": [
    "Possiamo tracciare il grafico dell'andamento del prezzo, basandoci sulla feature \"Open\"."
   ]
  },
  {
   "cell_type": "code",
   "execution_count": 146,
   "id": "f3f6a648",
   "metadata": {
    "scrolled": true
   },
   "outputs": [
    {
     "data": {
      "image/png": "[encoded data removed]",
      "text/plain": [
       "<Figure size 1152x288 with 1 Axes>"
      ]
     },
     "metadata": {
      "needs_background": "light"
     },
     "output_type": "display_data"
    }
   ],
   "source": [
    "open.plot(figsize=(16,4))\n",
    "plt.title(\"Andamento prezzo del Bitcoin (EUR)\")\n",
    "plt.xlabel(\"Data\")\n",
    "plt.ylabel(\"Prezzo (Euro)\");"
   ]
  },
  {
   "cell_type": "markdown",
   "id": "2804352f",
   "metadata": {},
   "source": [
    "Utilizzando la libreria plotly è possibile visualizzare in un unico grafico 4 features (Open, High, Low, Close)"
   ]
  },
  {
   "cell_type": "code",
   "execution_count": 147,
   "id": "c7152044",
   "metadata": {},
   "outputs": [],
   "source": [
    "import plotly.graph_objects as go"
   ]
  },
  {
   "cell_type": "code",
   "execution_count": 148,
   "id": "2747b44e",
   "metadata": {
    "scrolled": false
   },
   "outputs": [],
   "source": [
    "candlestick = go.Candlestick(\n",
    "                            x=data.index,\n",
    "                            open=data['Open'],\n",
    "                            high=data['High'],\n",
    "                            low=data['Low'],\n",
    "                            close=data['Close']\n",
    "                            )\n"
   ]
  },
  {
   "cell_type": "markdown",
   "id": "9a81317f",
   "metadata": {},
   "source": [
    "Il grafico è rappresentato mediante l'utilizzo di Candele, queste ultime rappresentano l'andamento del prezzo di una giornata.\n",
    "\n",
    "<img src=\"candlestick.jpeg\" alt=\"Candlestick\" style=\"width:700px;\"/>\n"
   ]
  },
  {
   "cell_type": "code",
   "execution_count": 149,
   "id": "d2b642f3",
   "metadata": {},
   "outputs": [],
   "source": [
    "from ipywidgets.widgets import interact\n",
    "from datetime import timedelta"
   ]
  },
  {
   "cell_type": "markdown",
   "id": "fee7be41",
   "metadata": {},
   "source": [
    "Ricaviamo la data relativa a 50 giorni fa"
   ]
  },
  {
   "cell_type": "code",
   "execution_count": 150,
   "id": "50e8ad08",
   "metadata": {},
   "outputs": [],
   "source": [
    "DD = timedelta(days=50)\n",
    "earlier = date.today() - DD\n",
    "earlier_str = earlier.strftime(\"%Y-%m-%d\")"
   ]
  },
  {
   "cell_type": "code",
   "execution_count": 151,
   "id": "a901c2db",
   "metadata": {
    "scrolled": false
   },
   "outputs": [
    {
     "data": {
      "application/vnd.jupyter.widget-view+json": {
       "model_id": "551ddab5a51c49c98dc93159262588e3",
       "version_major": 2,
       "version_minor": 0
      },
      "text/plain": [
       "interactive(children=(IntSlider(value=20000, description='ymin', max=60000, step=1000), IntSlider(value=40000,…"
      ]
     },
     "metadata": {},
     "output_type": "display_data"
    }
   ],
   "source": [
    "\n",
    "\n",
    "@interact(ymin=(0,60000,1000), ymax=(0,50000,1000))\n",
    "def plot_candlestick(ymin=20000, ymax=40000):    \n",
    "    fig = go.Figure(data=[candlestick])\n",
    "    fig.update_layout(\n",
    "        width=1000, height=700,\n",
    "        title=\"Andamento prezzo Bitcoin Candlestick\",\n",
    "        yaxis_title='Prezzo (EURO)'\n",
    "    )\n",
    "    fig.update_xaxes(type=\"date\", range=[earlier_str, today])\n",
    "    fig.update_yaxes(range=[ymin,ymax])\n",
    "    fig.show()"
   ]
  },
  {
   "cell_type": "markdown",
   "id": "ec9e1ef0",
   "metadata": {},
   "source": [
    "Mostriamo ora alcune statistiche generali raggruppate per anno come:\n",
    "- Media\n",
    "- Deviazione Standard\n",
    "- Min e Max\n",
    "- Quartili\n"
   ]
  },
  {
   "cell_type": "code",
   "execution_count": 152,
   "id": "e15e68f5",
   "metadata": {
    "scrolled": false
   },
   "outputs": [
    {
     "data": {
      "text/html": [
       "<div>\n",
       "<style scoped>\n",
       "    .dataframe tbody tr th:only-of-type {\n",
       "        vertical-align: middle;\n",
       "    }\n",
       "\n",
       "    .dataframe tbody tr th {\n",
       "        vertical-align: top;\n",
       "    }\n",
       "\n",
       "    .dataframe thead th {\n",
       "        text-align: right;\n",
       "    }\n",
       "</style>\n",
       "<table border=\"1\" class=\"dataframe\">\n",
       "  <thead>\n",
       "    <tr style=\"text-align: right;\">\n",
       "      <th></th>\n",
       "      <th>count</th>\n",
       "      <th>mean</th>\n",
       "      <th>std</th>\n",
       "      <th>min</th>\n",
       "      <th>25%</th>\n",
       "      <th>50%</th>\n",
       "      <th>75%</th>\n",
       "      <th>max</th>\n",
       "    </tr>\n",
       "    <tr>\n",
       "      <th>Date</th>\n",
       "      <th></th>\n",
       "      <th></th>\n",
       "      <th></th>\n",
       "      <th></th>\n",
       "      <th></th>\n",
       "      <th></th>\n",
       "      <th></th>\n",
       "      <th></th>\n",
       "    </tr>\n",
       "  </thead>\n",
       "  <tbody>\n",
       "    <tr>\n",
       "      <th>2015</th>\n",
       "      <td>365.0</td>\n",
       "      <td>246.160603</td>\n",
       "      <td>56.460048</td>\n",
       "      <td>167.797157</td>\n",
       "      <td>208.746437</td>\n",
       "      <td>224.089561</td>\n",
       "      <td>259.491707</td>\n",
       "      <td>424.535583</td>\n",
       "    </tr>\n",
       "    <tr>\n",
       "      <th>2016</th>\n",
       "      <td>366.0</td>\n",
       "      <td>514.521664</td>\n",
       "      <td>133.696362</td>\n",
       "      <td>334.301727</td>\n",
       "      <td>389.311001</td>\n",
       "      <td>516.306091</td>\n",
       "      <td>599.553146</td>\n",
       "      <td>925.023682</td>\n",
       "    </tr>\n",
       "    <tr>\n",
       "      <th>2017</th>\n",
       "      <td>365.0</td>\n",
       "      <td>3423.368238</td>\n",
       "      <td>3361.474391</td>\n",
       "      <td>744.576721</td>\n",
       "      <td>1119.535339</td>\n",
       "      <td>2281.081543</td>\n",
       "      <td>3771.968018</td>\n",
       "      <td>16625.953613</td>\n",
       "    </tr>\n",
       "    <tr>\n",
       "      <th>2018</th>\n",
       "      <td>365.0</td>\n",
       "      <td>6370.879611</td>\n",
       "      <td>1915.447679</td>\n",
       "      <td>2859.214111</td>\n",
       "      <td>5570.006348</td>\n",
       "      <td>5812.128174</td>\n",
       "      <td>7095.658203</td>\n",
       "      <td>14331.975098</td>\n",
       "    </tr>\n",
       "    <tr>\n",
       "      <th>2019</th>\n",
       "      <td>365.0</td>\n",
       "      <td>6611.505284</td>\n",
       "      <td>2378.373599</td>\n",
       "      <td>3008.023071</td>\n",
       "      <td>4043.200562</td>\n",
       "      <td>6979.854004</td>\n",
       "      <td>8610.137695</td>\n",
       "      <td>11237.593750</td>\n",
       "    </tr>\n",
       "    <tr>\n",
       "      <th>2020</th>\n",
       "      <td>366.0</td>\n",
       "      <td>9604.105389</td>\n",
       "      <td>3304.767447</td>\n",
       "      <td>4463.527954</td>\n",
       "      <td>8029.480408</td>\n",
       "      <td>8710.522217</td>\n",
       "      <td>9805.435303</td>\n",
       "      <td>23380.625977</td>\n",
       "    </tr>\n",
       "    <tr>\n",
       "      <th>2021</th>\n",
       "      <td>365.0</td>\n",
       "      <td>40095.692624</td>\n",
       "      <td>8737.824810</td>\n",
       "      <td>23983.438477</td>\n",
       "      <td>31245.380859</td>\n",
       "      <td>40675.902344</td>\n",
       "      <td>47296.929688</td>\n",
       "      <td>58211.095703</td>\n",
       "    </tr>\n",
       "    <tr>\n",
       "      <th>2022</th>\n",
       "      <td>164.0</td>\n",
       "      <td>35081.329953</td>\n",
       "      <td>4436.567076</td>\n",
       "      <td>23404.157227</td>\n",
       "      <td>32589.968506</td>\n",
       "      <td>36538.904297</td>\n",
       "      <td>37790.444336</td>\n",
       "      <td>43156.531250</td>\n",
       "    </tr>\n",
       "  </tbody>\n",
       "</table>\n",
       "</div>"
      ],
      "text/plain": [
       "      count          mean          std           min           25%  \\\n",
       "Date                                                                 \n",
       "2015  365.0    246.160603    56.460048    167.797157    208.746437   \n",
       "2016  366.0    514.521664   133.696362    334.301727    389.311001   \n",
       "2017  365.0   3423.368238  3361.474391    744.576721   1119.535339   \n",
       "2018  365.0   6370.879611  1915.447679   2859.214111   5570.006348   \n",
       "2019  365.0   6611.505284  2378.373599   3008.023071   4043.200562   \n",
       "2020  366.0   9604.105389  3304.767447   4463.527954   8029.480408   \n",
       "2021  365.0  40095.692624  8737.824810  23983.438477  31245.380859   \n",
       "2022  164.0  35081.329953  4436.567076  23404.157227  32589.968506   \n",
       "\n",
       "               50%           75%           max  \n",
       "Date                                            \n",
       "2015    224.089561    259.491707    424.535583  \n",
       "2016    516.306091    599.553146    925.023682  \n",
       "2017   2281.081543   3771.968018  16625.953613  \n",
       "2018   5812.128174   7095.658203  14331.975098  \n",
       "2019   6979.854004   8610.137695  11237.593750  \n",
       "2020   8710.522217   9805.435303  23380.625977  \n",
       "2021  40675.902344  47296.929688  58211.095703  \n",
       "2022  36538.904297  37790.444336  43156.531250  "
      ]
     },
     "execution_count": 152,
     "metadata": {},
     "output_type": "execute_result"
    }
   ],
   "source": [
    "hlm = (high + low) / 2\n",
    "hlm.groupby(hlm.index.year).describe()"
   ]
  },
  {
   "cell_type": "markdown",
   "id": "2c61c041",
   "metadata": {},
   "source": [
    "## Prevedere il valore di chiusura a inizio giornata"
   ]
  },
  {
   "cell_type": "markdown",
   "id": "9ea695c8",
   "metadata": {},
   "source": [
    "La variabile da predire è la features \"Close\" relativa alla data odierna."
   ]
  },
  {
   "cell_type": "code",
   "execution_count": 153,
   "id": "20cc0686",
   "metadata": {},
   "outputs": [],
   "source": [
    "y = close"
   ]
  },
  {
   "cell_type": "markdown",
   "id": "47275bb4",
   "metadata": {},
   "source": [
    "`high`, `low`, `volume` non possono essere utilizzate in quanto il loro valore non è noto a inizio giornata.\n",
    "Attualmente l'unica feature utilizzabile è il valore `open`."
   ]
  },
  {
   "cell_type": "code",
   "execution_count": 154,
   "id": "4f0fb541",
   "metadata": {
    "scrolled": true
   },
   "outputs": [
    {
     "data": {
      "text/html": [
       "<div>\n",
       "<style scoped>\n",
       "    .dataframe tbody tr th:only-of-type {\n",
       "        vertical-align: middle;\n",
       "    }\n",
       "\n",
       "    .dataframe tbody tr th {\n",
       "        vertical-align: top;\n",
       "    }\n",
       "\n",
       "    .dataframe thead th {\n",
       "        text-align: right;\n",
       "    }\n",
       "</style>\n",
       "<table border=\"1\" class=\"dataframe\">\n",
       "  <thead>\n",
       "    <tr style=\"text-align: right;\">\n",
       "      <th></th>\n",
       "      <th>Open</th>\n",
       "    </tr>\n",
       "    <tr>\n",
       "      <th>Date</th>\n",
       "      <th></th>\n",
       "    </tr>\n",
       "  </thead>\n",
       "  <tbody>\n",
       "    <tr>\n",
       "      <th>2015-01-01</th>\n",
       "      <td>264.909882</td>\n",
       "    </tr>\n",
       "    <tr>\n",
       "      <th>2015-01-02</th>\n",
       "      <td>259.870117</td>\n",
       "    </tr>\n",
       "    <tr>\n",
       "      <th>2015-01-03</th>\n",
       "      <td>262.393555</td>\n",
       "    </tr>\n",
       "    <tr>\n",
       "      <th>2015-01-04</th>\n",
       "      <td>234.307861</td>\n",
       "    </tr>\n",
       "    <tr>\n",
       "      <th>2015-01-05</th>\n",
       "      <td>221.901901</td>\n",
       "    </tr>\n",
       "    <tr>\n",
       "      <th>...</th>\n",
       "      <td>...</td>\n",
       "    </tr>\n",
       "    <tr>\n",
       "      <th>2022-06-09</th>\n",
       "      <td>28193.755859</td>\n",
       "    </tr>\n",
       "    <tr>\n",
       "      <th>2022-06-10</th>\n",
       "      <td>28354.476562</td>\n",
       "    </tr>\n",
       "    <tr>\n",
       "      <th>2022-06-11</th>\n",
       "      <td>27648.988281</td>\n",
       "    </tr>\n",
       "    <tr>\n",
       "      <th>2022-06-12</th>\n",
       "      <td>26971.011719</td>\n",
       "    </tr>\n",
       "    <tr>\n",
       "      <th>2022-06-13</th>\n",
       "      <td>25490.082031</td>\n",
       "    </tr>\n",
       "  </tbody>\n",
       "</table>\n",
       "<p>2721 rows × 1 columns</p>\n",
       "</div>"
      ],
      "text/plain": [
       "                    Open\n",
       "Date                    \n",
       "2015-01-01    264.909882\n",
       "2015-01-02    259.870117\n",
       "2015-01-03    262.393555\n",
       "2015-01-04    234.307861\n",
       "2015-01-05    221.901901\n",
       "...                  ...\n",
       "2022-06-09  28193.755859\n",
       "2022-06-10  28354.476562\n",
       "2022-06-11  27648.988281\n",
       "2022-06-12  26971.011719\n",
       "2022-06-13  25490.082031\n",
       "\n",
       "[2721 rows x 1 columns]"
      ]
     },
     "execution_count": 154,
     "metadata": {},
     "output_type": "execute_result"
    }
   ],
   "source": [
    "features = {\"Open\" : open}\n",
    "X = pd.DataFrame(features)\n",
    "X"
   ]
  },
  {
   "cell_type": "markdown",
   "id": "235db2c3",
   "metadata": {},
   "source": [
    "Suddividiamo i dati in un training set e in un validation set con la funzione `train_test_split`."
   ]
  },
  {
   "cell_type": "code",
   "execution_count": 155,
   "id": "8a147b28",
   "metadata": {},
   "outputs": [],
   "source": [
    "from sklearn.model_selection import train_test_split\n",
    "\n",
    "X_train, X_val, y_train, y_val = train_test_split(X, y, test_size=0.3, shuffle=False)"
   ]
  },
  {
   "cell_type": "markdown",
   "id": "c89a2c92",
   "metadata": {},
   "source": [
    "## Test 1: Regressione Lineare"
   ]
  },
  {
   "cell_type": "markdown",
   "id": "52464dcd",
   "metadata": {},
   "source": [
    "Usandro training e validation set creati in precedenza addestriamo un modello di regressione lineare e calcoliamo R<sup>2</sup>."
   ]
  },
  {
   "cell_type": "code",
   "execution_count": 156,
   "id": "205bba9a",
   "metadata": {},
   "outputs": [
    {
     "data": {
      "text/plain": [
       "0.9935837627388451"
      ]
     },
     "execution_count": 156,
     "metadata": {},
     "output_type": "execute_result"
    }
   ],
   "source": [
    "from sklearn.linear_model import LinearRegression\n",
    "model = LinearRegression()\n",
    "model.fit(X_train,y_train)\n",
    "model.score(X_val, y_val)"
   ]
  },
  {
   "cell_type": "markdown",
   "id": "ff7d05b3",
   "metadata": {},
   "source": [
    "Il punteggio R<sup>2</sup> del modello risulta molto alto. Questo è dovuto al fatto che i valore `Open` e `Close` sono molto correlati."
   ]
  },
  {
   "cell_type": "code",
   "execution_count": 157,
   "id": "354cb054",
   "metadata": {},
   "outputs": [
    {
     "data": {
      "image/png": "[encoded data removed]",
      "text/plain": [
       "<Figure size 432x288 with 1 Axes>"
      ]
     },
     "metadata": {
      "needs_background": "light"
     },
     "output_type": "display_data"
    }
   ],
   "source": [
    "plt.scatter(X_train,y_train);"
   ]
  },
  {
   "cell_type": "markdown",
   "id": "f5f83476",
   "metadata": {},
   "source": [
    "Per avere un riscontro dell'effetiva efficienza del modello calcoliamo il guadagno effettivo di un possibile investitore."
   ]
  },
  {
   "cell_type": "markdown",
   "id": "0c6e700c",
   "metadata": {},
   "source": [
    "Per far ciò implementiamo un protocollo di trading che dati i valori di chiusura reali e predetti restituisce il guadagno effettivo.\n",
    "\n",
    "**La cifra investita in questo caso è pari al valore di apertura che varia giornalmente**."
   ]
  },
  {
   "cell_type": "markdown",
   "id": "cce7224c",
   "metadata": {},
   "source": [
    "Definiamo la variabile differenza $\\Delta_d=C_d-O_d$ tra il valore di chiusura giornaliero $C_d$ e di apertura $O_d$"
   ]
  },
  {
   "cell_type": "code",
   "execution_count": 158,
   "id": "6b8718c8",
   "metadata": {},
   "outputs": [],
   "source": [
    "delta = close - open"
   ]
  },
  {
   "cell_type": "markdown",
   "id": "b8dee37d",
   "metadata": {},
   "source": [
    "- Poniamo questo come il valore che **deve essere predetto** dal modello\n",
    "- L'investitore agirà in base alla predizione $\\hat{\\Delta}_d$ in modo analogo a prima\n",
    "  - se $\\hat{\\Delta}_d > 0$, acquista un titolo a inizio giornata e lo rivende alla fine\n",
    "  - se $\\hat{\\Delta}_d < 0$, vende un titolo a inizio giornata e lo ricompra alla fine"
   ]
  },
  {
   "cell_type": "markdown",
   "id": "3d3d2d32",
   "metadata": {},
   "source": [
    "### Definiamo alcune funzioni utili "
   ]
  },
  {
   "cell_type": "markdown",
   "id": "986ff7ff",
   "metadata": {},
   "source": [
    "Possiamo definire una metrica \"guadagno\" per validare il modello, che restituisca il guadagno totale di un investitore che opera nel periodo a cui si riferisce il validation set"
   ]
  },
  {
   "cell_type": "code",
   "execution_count": 159,
   "id": "1beea96e",
   "metadata": {},
   "outputs": [],
   "source": [
    "def gain(D, D_pred):\n",
    "    growth = D_pred > 0\n",
    "    decline = D_pred < 0\n",
    "    return D[growth].sum() - D[decline].sum()"
   ]
  },
  {
   "cell_type": "markdown",
   "id": "317a5c06",
   "metadata": {},
   "source": [
    "Il ROI (Return on investiment) esprime il guadagno di una o più operazioni in borsa in rapporto all'investimento iniziale."
   ]
  },
  {
   "cell_type": "code",
   "execution_count": 160,
   "id": "3be8f932",
   "metadata": {},
   "outputs": [],
   "source": [
    "def roi(D, D_pred):\n",
    "    mean_open = open.reindex_like(D).mean()\n",
    "    return gain(D, D_pred)/ mean_open"
   ]
  },
  {
   "cell_type": "markdown",
   "id": "16a25ac6",
   "metadata": {},
   "source": [
    "Definiamo anche una funzione che stampi le metriche di valutazione del modello"
   ]
  },
  {
   "cell_type": "code",
   "execution_count": 161,
   "id": "110530f0",
   "metadata": {},
   "outputs": [],
   "source": [
    "def print_eval(X, y, model):\n",
    "    preds = model.predict(X)\n",
    "    print(\"Gain: {:.2f}$\".format(gain(y, preds)))\n",
    "    print(\" ROI: {:.3%}\".format(roi(y, preds)))"
   ]
  },
  {
   "cell_type": "markdown",
   "id": "7c4f4e83",
   "metadata": {},
   "source": [
    "La funzione `prepare_data` restituisce un Dataframe con le colonne indicate e una serie con i valori della variabile da predire corrispondenti alle righe selezionate del datafa"
   ]
  },
  {
   "cell_type": "code",
   "execution_count": 162,
   "id": "9d7cc9fd",
   "metadata": {},
   "outputs": [],
   "source": [
    "def prepare_data(features, delta):\n",
    "    X = pd.DataFrame(features)\n",
    "    X.dropna(inplace=True)\n",
    "    y = delta.reindex_like(X)\n",
    "    return X, y"
   ]
  },
  {
   "cell_type": "code",
   "execution_count": 164,
   "id": "5512c6e8",
   "metadata": {},
   "outputs": [
    {
     "name": "stdout",
     "output_type": "stream",
     "text": [
      "Gain: -12790.97$\n",
      " ROI: -44.790%\n"
     ]
    }
   ],
   "source": [
    "X, y = prepare_data(features, delta)\n",
    "X_train, X_val, y_train, y_val = train_test_split(X, y, test_size=0.3, shuffle=False)\n",
    "model = LinearRegression()\n",
    "model.fit(X_train, y_train)\n",
    "print_eval(X_val, y_val, model)"
   ]
  },
  {
   "cell_type": "code",
   "execution_count": null,
   "id": "ab18a5ae",
   "metadata": {},
   "outputs": [],
   "source": []
  },
  {
   "cell_type": "code",
   "execution_count": null,
   "id": "7cb43e5f",
   "metadata": {},
   "outputs": [],
   "source": []
  },
  {
   "cell_type": "code",
   "execution_count": null,
   "id": "a40260f4",
   "metadata": {},
   "outputs": [],
   "source": []
  },
  {
   "cell_type": "code",
   "execution_count": null,
   "id": "d5613660",
   "metadata": {},
   "outputs": [],
   "source": []
  }
 ],
 "metadata": {
  "kernelspec": {
   "display_name": "Python 3 (ipykernel)",
   "language": "python",
   "name": "python3"
  },
  "language_info": {
   "codemirror_mode": {
    "name": "ipython",
    "version": 3
   },
   "file_extension": ".py",
   "mimetype": "text/x-python",
   "name": "python",
   "nbconvert_exporter": "python",
   "pygments_lexer": "ipython3",
   "version": "3.9.12"
  }
 },
 "nbformat": 4,
 "nbformat_minor": 5
}

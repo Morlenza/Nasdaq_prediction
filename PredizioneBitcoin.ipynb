{
 "cells": [
  {
   "cell_type": "markdown",
   "id": "bfc69852",
   "metadata": {},
   "source": [
    "# Predizione Prezzo Bitcoin\n",
    "## Autori: Luca Morlino e Valerio Di Zio\n"
   ]
  },
  {
   "cell_type": "code",
   "execution_count": 812,
   "id": "3a715f1a",
   "metadata": {},
   "outputs": [],
   "source": [
    "import numpy as np\n",
    "import pandas as pd\n",
    "import matplotlib.pyplot as plt\n",
    "import sklearn\n",
    "%matplotlib inline"
   ]
  },
  {
   "cell_type": "markdown",
   "id": "a5f950ac",
   "metadata": {},
   "source": [
    "## Descrizione del problema\n",
    "### Cos'è Bitcoin?\n",
    "Il Bitcoin è una moneta virtuale creata nel 2009 da uno o più utenti con lo pseudonimo Satoshi Nakamoto. Diversamente dalle altre valute il Bitcoin non ha dietro una Banca centrale che distribuisce nuova moneta ma si basa fondamentalmente su due principi: un network di nodi, cioè di pc, che la gestiscono in modalità distribuita, peer-to-peer; e l'uso di una forte crittografia per validare e rendere sicure le transazioni.\n",
    "### Obiettivo\n",
    "L'obiettivo generale è quello di creare un algoritmo che preveda il valore di chiusura di bitcoin a inizio giornata.\n",
    "Il bitcoin essendo una valuta a tutti gli effetti non ha un orario di apertura né uno di chiusura, per comodità il nostro dataset considera il valore di apertura a mezzanotte e il valore di chiusura a mezzanotte del giorno dopo."
   ]
  },
  {
   "cell_type": "markdown",
   "id": "6a402860",
   "metadata": {},
   "source": [
    "## Estrazione dati\n",
    "I dati relativi a BTC vengono scaricati dal servizio [Yahoo! Finance](https://it.finance.yahoo.com/).\n",
    "Per fare ciò viene utilizzata la libreria yfinance che permette l'estrazione di dati in forma di oggetti Python facilmente interrogabili.\n",
    "In particolare, la usiamo per ottenere i dati storici in forma di Dataframe Pandas"
   ]
  },
  {
   "cell_type": "code",
   "execution_count": 813,
   "id": "14b4750d",
   "metadata": {},
   "outputs": [],
   "source": [
    "import yfinance"
   ]
  },
  {
   "cell_type": "markdown",
   "id": "5826139a",
   "metadata": {},
   "source": [
    "- Creiamo un oggetto Ticker che rappresenta uno specifico titolo o indice\n",
    "- Nel nostro caso il simbolo del Bitcoin con il suo valore in Euro è BTC-EUR"
   ]
  },
  {
   "cell_type": "code",
   "execution_count": 814,
   "id": "e3b880a1",
   "metadata": {},
   "outputs": [],
   "source": [
    "btc = yfinance.Ticker(\"BTC-EUR\")"
   ]
  },
  {
   "cell_type": "markdown",
   "id": "079b31f4",
   "metadata": {},
   "source": [
    "- Utilizziamo il metodo history per ottenere i dati storici, partendo dal 1 gennaio 2015 fino a ieri."
   ]
  },
  {
   "cell_type": "code",
   "execution_count": 815,
   "id": "b8eb6fa3",
   "metadata": {},
   "outputs": [],
   "source": [
    "from datetime import date"
   ]
  },
  {
   "cell_type": "code",
   "execution_count": 816,
   "id": "43a993b1",
   "metadata": {},
   "outputs": [],
   "source": [
    "today = date.today().strftime(\"%Y-%m-%d\")\n",
    "data = btc.history(start=\"2019-01-01\", end=today, actions=False)"
   ]
  },
  {
   "cell_type": "markdown",
   "id": "bcad84dd",
   "metadata": {},
   "source": [
    "Ad esempio, guardiamo i dati relativi agli ultimi 5 giorni. \n",
    "\n",
    "Ovviamente i dati odierni non sono presenti, saranno quelli che andremo a prevedere."
   ]
  },
  {
   "cell_type": "code",
   "execution_count": 817,
   "id": "79c44726",
   "metadata": {
    "scrolled": true
   },
   "outputs": [
    {
     "data": {
      "text/html": [
       "<div>\n",
       "<style scoped>\n",
       "    .dataframe tbody tr th:only-of-type {\n",
       "        vertical-align: middle;\n",
       "    }\n",
       "\n",
       "    .dataframe tbody tr th {\n",
       "        vertical-align: top;\n",
       "    }\n",
       "\n",
       "    .dataframe thead th {\n",
       "        text-align: right;\n",
       "    }\n",
       "</style>\n",
       "<table border=\"1\" class=\"dataframe\">\n",
       "  <thead>\n",
       "    <tr style=\"text-align: right;\">\n",
       "      <th></th>\n",
       "      <th>Open</th>\n",
       "      <th>High</th>\n",
       "      <th>Low</th>\n",
       "      <th>Close</th>\n",
       "      <th>Volume</th>\n",
       "    </tr>\n",
       "    <tr>\n",
       "      <th>Date</th>\n",
       "      <th></th>\n",
       "      <th></th>\n",
       "      <th></th>\n",
       "      <th></th>\n",
       "      <th></th>\n",
       "    </tr>\n",
       "  </thead>\n",
       "  <tbody>\n",
       "    <tr>\n",
       "      <th>2008-12-23</th>\n",
       "      <td>874.309998</td>\n",
       "      <td>880.440002</td>\n",
       "      <td>860.099976</td>\n",
       "      <td>863.159973</td>\n",
       "      <td>4051970000</td>\n",
       "    </tr>\n",
       "    <tr>\n",
       "      <th>2008-12-24</th>\n",
       "      <td>863.869995</td>\n",
       "      <td>869.789978</td>\n",
       "      <td>861.440002</td>\n",
       "      <td>868.150024</td>\n",
       "      <td>1546550000</td>\n",
       "    </tr>\n",
       "    <tr>\n",
       "      <th>2008-12-26</th>\n",
       "      <td>869.510010</td>\n",
       "      <td>873.739990</td>\n",
       "      <td>866.520020</td>\n",
       "      <td>872.799988</td>\n",
       "      <td>1880050000</td>\n",
       "    </tr>\n",
       "    <tr>\n",
       "      <th>2008-12-29</th>\n",
       "      <td>872.369995</td>\n",
       "      <td>873.700012</td>\n",
       "      <td>857.070007</td>\n",
       "      <td>869.419983</td>\n",
       "      <td>3323430000</td>\n",
       "    </tr>\n",
       "    <tr>\n",
       "      <th>2008-12-30</th>\n",
       "      <td>870.580017</td>\n",
       "      <td>891.119995</td>\n",
       "      <td>870.580017</td>\n",
       "      <td>890.640015</td>\n",
       "      <td>3627800000</td>\n",
       "    </tr>\n",
       "  </tbody>\n",
       "</table>\n",
       "</div>"
      ],
      "text/plain": [
       "                  Open        High         Low       Close      Volume\n",
       "Date                                                                  \n",
       "2008-12-23  874.309998  880.440002  860.099976  863.159973  4051970000\n",
       "2008-12-24  863.869995  869.789978  861.440002  868.150024  1546550000\n",
       "2008-12-26  869.510010  873.739990  866.520020  872.799988  1880050000\n",
       "2008-12-29  872.369995  873.700012  857.070007  869.419983  3323430000\n",
       "2008-12-30  870.580017  891.119995  870.580017  890.640015  3627800000"
      ]
     },
     "execution_count": 817,
     "metadata": {},
     "output_type": "execute_result"
    }
   ],
   "source": [
    "data.tail(5)"
   ]
  },
  {
   "cell_type": "markdown",
   "id": "72924f7a",
   "metadata": {},
   "source": [
    "\n",
    "Andiamo a contare il numero di istanze ricavate"
   ]
  },
  {
   "cell_type": "code",
   "execution_count": 818,
   "id": "7585e533",
   "metadata": {},
   "outputs": [
    {
     "data": {
      "text/plain": [
       "2010"
      ]
     },
     "execution_count": 818,
     "metadata": {},
     "output_type": "execute_result"
    }
   ],
   "source": [
    "data.shape[0]"
   ]
  },
  {
   "cell_type": "markdown",
   "id": "979f3e3b",
   "metadata": {},
   "source": [
    "## Features\n",
    "Il nostro dataset ha 5 features:\n",
    "- Open: è il valore in euro di un singolo bitcoin all'orario di apertura\n",
    "- High: è il valore massimo in euro raggiunto durante la giornata\n",
    "- Low: è il valore minimo in euro raggiunto durante la giornata\n",
    "- Close: è il valore in euro di un singolo bitcoin all'orario di chiusura\n",
    "- Volume: il volume di trading indica (nel nostro caso) il valore in euro di bitcoin scambiati durante la giornata\n",
    "\n",
    "Per comodità estraiamo una serie per ciascuna colonna, per potersi riferire ad esse con un unico nome."
   ]
  },
  {
   "cell_type": "code",
   "execution_count": 819,
   "id": "78cd6ace",
   "metadata": {},
   "outputs": [],
   "source": [
    "open = data[\"Open\"]\n",
    "high = data[\"High\"]\n",
    "low = data[\"Low\"]\n",
    "close = data[\"Close\"]\n",
    "volume = data[\"Volume\"]"
   ]
  },
  {
   "cell_type": "markdown",
   "id": "c24877b4",
   "metadata": {},
   "source": [
    "## Rappresentazione dei dati"
   ]
  },
  {
   "cell_type": "markdown",
   "id": "3b7ebaf3",
   "metadata": {},
   "source": [
    "Possiamo tracciare il grafico dell'andamento del prezzo, basandoci sulla feature \"Open\"."
   ]
  },
  {
   "cell_type": "code",
   "execution_count": 820,
   "id": "f3f6a648",
   "metadata": {
    "scrolled": true
   },
   "outputs": [
    {
     "data": {
      "image/png": "[encoded data removed]",
      "text/plain": [
       "<Figure size 1152x288 with 1 Axes>"
      ]
     },
     "metadata": {
      "needs_background": "light"
     },
     "output_type": "display_data"
    }
   ],
   "source": [
    "open.plot(figsize=(16,4))\n",
    "plt.title(\"Andamento prezzo del Bitcoin (EUR)\")\n",
    "plt.xlabel(\"Data\")\n",
    "plt.ylabel(\"Prezzo (Euro)\");"
   ]
  },
  {
   "cell_type": "markdown",
   "id": "2804352f",
   "metadata": {},
   "source": [
    "Utilizzando la libreria plotly è possibile visualizzare in un unico grafico 4 features (Open, High, Low, Close)"
   ]
  },
  {
   "cell_type": "code",
   "execution_count": 821,
   "id": "c7152044",
   "metadata": {},
   "outputs": [],
   "source": [
    "import plotly.graph_objects as go"
   ]
  },
  {
   "cell_type": "code",
   "execution_count": 822,
   "id": "2747b44e",
   "metadata": {
    "scrolled": false
   },
   "outputs": [],
   "source": [
    "candlestick = go.Candlestick(\n",
    "                            x=data.index,\n",
    "                            open=data['Open'],\n",
    "                            high=data['High'],\n",
    "                            low=data['Low'],\n",
    "                            close=data['Close']\n",
    "                            )\n"
   ]
  },
  {
   "cell_type": "markdown",
   "id": "9a81317f",
   "metadata": {},
   "source": [
    "Il grafico è rappresentato mediante l'utilizzo di Candele, queste ultime rappresentano l'andamento del prezzo di una giornata.\n",
    "\n",
    "<img src=\"candlestick.jpeg\" alt=\"Candlestick\" style=\"width:700px;\"/>\n"
   ]
  },
  {
   "cell_type": "code",
   "execution_count": 823,
   "id": "d2b642f3",
   "metadata": {},
   "outputs": [],
   "source": [
    "from ipywidgets.widgets import interact\n",
    "from datetime import timedelta"
   ]
  },
  {
   "cell_type": "markdown",
   "id": "482bab85",
   "metadata": {},
   "source": [
    "Ricaviamo la data relativa a 50 giorni fa"
   ]
  },
  {
   "cell_type": "code",
   "execution_count": 824,
   "id": "5bef79db",
   "metadata": {},
   "outputs": [],
   "source": [
    "DD = timedelta(days=50)\n",
    "earlier = date.today() - DD\n",
    "earlier_str = earlier.strftime(\"%Y-%m-%d\")"
   ]
  },
  {
   "cell_type": "code",
   "execution_count": 825,
   "id": "a901c2db",
   "metadata": {
    "scrolled": false
   },
   "outputs": [
    {
     "data": {
      "application/vnd.jupyter.widget-view+json": {
       "model_id": "b13a15b2e5dc40d5b8b011c548b00a38",
       "version_major": 2,
       "version_minor": 0
      },
      "text/plain": [
       "interactive(children=(IntSlider(value=20000, description='ymin', max=60000, step=1000), IntSlider(value=40000,…"
      ]
     },
     "metadata": {},
     "output_type": "display_data"
    }
   ],
   "source": [
    "\n",
    "\n",
    "@interact(ymin=(0,60000,1000), ymax=(0,50000,1000))\n",
    "def plot_candlestick(ymin=20000, ymax=40000):    \n",
    "    fig = go.Figure(data=[candlestick])\n",
    "    fig.update_layout(\n",
    "        width=1000, height=700,\n",
    "        title=\"Andamento prezzo Bitcoin Candlestick\",\n",
    "        yaxis_title='Prezzo (EURO)'\n",
    "    )\n",
    "    fig.update_xaxes(type=\"date\", range=[earlier_str, today])\n",
    "    fig.update_yaxes(range=[ymin,ymax])\n",
    "    fig.show()"
   ]
  },
  {
   "cell_type": "markdown",
   "id": "7a912c5c",
   "metadata": {},
   "source": [
    "Mostriamo ora alcune statistiche generali raggruppate per anno come:\n",
    "- Media\n",
    "- Deviazione Standard\n",
    "- Min e Max\n",
    "- Quartili\n"
   ]
  },
  {
   "cell_type": "code",
   "execution_count": 826,
   "id": "e15e68f5",
   "metadata": {
    "scrolled": false
   },
   "outputs": [
    {
     "data": {
      "text/html": [
       "<div>\n",
       "<style scoped>\n",
       "    .dataframe tbody tr th:only-of-type {\n",
       "        vertical-align: middle;\n",
       "    }\n",
       "\n",
       "    .dataframe tbody tr th {\n",
       "        vertical-align: top;\n",
       "    }\n",
       "\n",
       "    .dataframe thead th {\n",
       "        text-align: right;\n",
       "    }\n",
       "</style>\n",
       "<table border=\"1\" class=\"dataframe\">\n",
       "  <thead>\n",
       "    <tr style=\"text-align: right;\">\n",
       "      <th></th>\n",
       "      <th>count</th>\n",
       "      <th>mean</th>\n",
       "      <th>std</th>\n",
       "      <th>min</th>\n",
       "      <th>25%</th>\n",
       "      <th>50%</th>\n",
       "      <th>75%</th>\n",
       "      <th>max</th>\n",
       "    </tr>\n",
       "    <tr>\n",
       "      <th>Date</th>\n",
       "      <th></th>\n",
       "      <th></th>\n",
       "      <th></th>\n",
       "      <th></th>\n",
       "      <th></th>\n",
       "      <th></th>\n",
       "      <th></th>\n",
       "      <th></th>\n",
       "    </tr>\n",
       "  </thead>\n",
       "  <tbody>\n",
       "    <tr>\n",
       "      <th>2001</th>\n",
       "      <td>248.0</td>\n",
       "      <td>1193.689196</td>\n",
       "      <td>86.865939</td>\n",
       "      <td>964.644989</td>\n",
       "      <td>1136.603775</td>\n",
       "      <td>1191.602539</td>\n",
       "      <td>1254.802490</td>\n",
       "      <td>1374.015015</td>\n",
       "    </tr>\n",
       "    <tr>\n",
       "      <th>2002</th>\n",
       "      <td>252.0</td>\n",
       "      <td>993.878335</td>\n",
       "      <td>114.077936</td>\n",
       "      <td>787.174988</td>\n",
       "      <td>895.336250</td>\n",
       "      <td>968.600006</td>\n",
       "      <td>1107.357483</td>\n",
       "      <td>1170.260010</td>\n",
       "    </tr>\n",
       "    <tr>\n",
       "      <th>2003</th>\n",
       "      <td>252.0</td>\n",
       "      <td>964.632222</td>\n",
       "      <td>78.602540</td>\n",
       "      <td>796.545013</td>\n",
       "      <td>896.213753</td>\n",
       "      <td>985.644989</td>\n",
       "      <td>1028.395004</td>\n",
       "      <td>1109.385010</td>\n",
       "    </tr>\n",
       "    <tr>\n",
       "      <th>2004</th>\n",
       "      <td>252.0</td>\n",
       "      <td>1130.409743</td>\n",
       "      <td>31.444939</td>\n",
       "      <td>1064.149963</td>\n",
       "      <td>1110.626266</td>\n",
       "      <td>1126.692505</td>\n",
       "      <td>1142.978729</td>\n",
       "      <td>1214.940002</td>\n",
       "    </tr>\n",
       "    <tr>\n",
       "      <th>2005</th>\n",
       "      <td>252.0</td>\n",
       "      <td>1207.289366</td>\n",
       "      <td>29.553492</td>\n",
       "      <td>1144.360046</td>\n",
       "      <td>1187.330002</td>\n",
       "      <td>1204.835022</td>\n",
       "      <td>1228.238770</td>\n",
       "      <td>1271.455017</td>\n",
       "    </tr>\n",
       "    <tr>\n",
       "      <th>2006</th>\n",
       "      <td>251.0</td>\n",
       "      <td>1310.053308</td>\n",
       "      <td>50.920535</td>\n",
       "      <td>1225.375000</td>\n",
       "      <td>1273.427521</td>\n",
       "      <td>1296.955017</td>\n",
       "      <td>1336.912506</td>\n",
       "      <td>1428.554993</td>\n",
       "    </tr>\n",
       "    <tr>\n",
       "      <th>2007</th>\n",
       "      <td>251.0</td>\n",
       "      <td>1476.593744</td>\n",
       "      <td>44.426483</td>\n",
       "      <td>1376.034973</td>\n",
       "      <td>1442.607483</td>\n",
       "      <td>1475.619995</td>\n",
       "      <td>1512.577515</td>\n",
       "      <td>1561.404968</td>\n",
       "    </tr>\n",
       "    <tr>\n",
       "      <th>2008</th>\n",
       "      <td>252.0</td>\n",
       "      <td>1221.611490</td>\n",
       "      <td>190.555138</td>\n",
       "      <td>771.110016</td>\n",
       "      <td>1150.651276</td>\n",
       "      <td>1289.319977</td>\n",
       "      <td>1359.184998</td>\n",
       "      <td>1456.919983</td>\n",
       "    </tr>\n",
       "  </tbody>\n",
       "</table>\n",
       "</div>"
      ],
      "text/plain": [
       "      count         mean         std          min          25%          50%  \\\n",
       "Date                                                                          \n",
       "2001  248.0  1193.689196   86.865939   964.644989  1136.603775  1191.602539   \n",
       "2002  252.0   993.878335  114.077936   787.174988   895.336250   968.600006   \n",
       "2003  252.0   964.632222   78.602540   796.545013   896.213753   985.644989   \n",
       "2004  252.0  1130.409743   31.444939  1064.149963  1110.626266  1126.692505   \n",
       "2005  252.0  1207.289366   29.553492  1144.360046  1187.330002  1204.835022   \n",
       "2006  251.0  1310.053308   50.920535  1225.375000  1273.427521  1296.955017   \n",
       "2007  251.0  1476.593744   44.426483  1376.034973  1442.607483  1475.619995   \n",
       "2008  252.0  1221.611490  190.555138   771.110016  1150.651276  1289.319977   \n",
       "\n",
       "              75%          max  \n",
       "Date                            \n",
       "2001  1254.802490  1374.015015  \n",
       "2002  1107.357483  1170.260010  \n",
       "2003  1028.395004  1109.385010  \n",
       "2004  1142.978729  1214.940002  \n",
       "2005  1228.238770  1271.455017  \n",
       "2006  1336.912506  1428.554993  \n",
       "2007  1512.577515  1561.404968  \n",
       "2008  1359.184998  1456.919983  "
      ]
     },
     "execution_count": 826,
     "metadata": {},
     "output_type": "execute_result"
    }
   ],
   "source": [
    "hlm = (high + low) / 2\n",
    "hlm.groupby(hlm.index.year).describe()"
   ]
  },
  {
   "cell_type": "markdown",
   "id": "3de02e34",
   "metadata": {},
   "source": [
    "## Prevedere il valore di chiusura a inizio giornata"
   ]
  },
  {
   "cell_type": "markdown",
   "id": "9ea695c8",
   "metadata": {},
   "source": [
    "La variabile da predire è la features \"Close\" relativa alla data odierna."
   ]
  },
  {
   "cell_type": "code",
   "execution_count": 827,
   "id": "fcf184b2",
   "metadata": {},
   "outputs": [],
   "source": [
    "y = close"
   ]
  },
  {
   "cell_type": "markdown",
   "id": "dc02803a",
   "metadata": {},
   "source": [
    "`high`, `low`, `volume` non possono essere utilizzate in quanto il loro valore non è noto a inizio giornata.\n",
    "Attualmente l'unica feature utilizzabile è il valore `open`."
   ]
  },
  {
   "cell_type": "code",
   "execution_count": 828,
   "id": "33989cdb",
   "metadata": {
    "scrolled": true
   },
   "outputs": [],
   "source": [
    "features = {\"Open\" : open}\n",
    "X = pd.DataFrame(features)"
   ]
  },
  {
   "cell_type": "code",
   "execution_count": 829,
   "id": "04e0d0f6",
   "metadata": {
    "scrolled": true
   },
   "outputs": [
    {
     "name": "stdout",
     "output_type": "stream",
     "text": [
      "                   Open\n",
      "Date                   \n",
      "2001-01-02  1320.280029\n",
      "2001-01-03  1283.270020\n",
      "2001-01-04  1347.560059\n",
      "2001-01-05  1333.339966\n",
      "2001-01-08  1298.349976\n",
      "...                 ...\n",
      "2008-12-23   874.309998\n",
      "2008-12-24   863.869995\n",
      "2008-12-26   869.510010\n",
      "2008-12-29   872.369995\n",
      "2008-12-30   870.580017\n",
      "\n",
      "[2010 rows x 1 columns]\n",
      "Date\n",
      "2001-01-02    1283.270020\n",
      "2001-01-03    1347.560059\n",
      "2001-01-04    1333.339966\n",
      "2001-01-05    1298.349976\n",
      "2001-01-08    1295.859985\n",
      "                 ...     \n",
      "2008-12-23     863.159973\n",
      "2008-12-24     868.150024\n",
      "2008-12-26     872.799988\n",
      "2008-12-29     869.419983\n",
      "2008-12-30     890.640015\n",
      "Name: Close, Length: 2010, dtype: float64\n"
     ]
    }
   ],
   "source": [
    "print(X)\n",
    "print(y)"
   ]
  },
  {
   "cell_type": "code",
   "execution_count": 830,
   "id": "358f99cc",
   "metadata": {},
   "outputs": [],
   "source": [
    "def split_before_2005(X, y):\n",
    "    is_train = X.index.year < 2005\n",
    "    X_train = X.loc[is_train]\n",
    "    y_train = y.loc[is_train]\n",
    "    X_val = X.loc[~is_train]\n",
    "    y_val = y.loc[~is_train]\n",
    "    return X_train, X_val, y_train, y_val"
   ]
  },
  {
   "cell_type": "code",
   "execution_count": 831,
   "id": "ad2b548b",
   "metadata": {},
   "outputs": [
    {
     "data": {
      "text/plain": [
       "-126.96087404858282"
      ]
     },
     "execution_count": 831,
     "metadata": {},
     "output_type": "execute_result"
    }
   ],
   "source": [
    "#X, y = prepare_data(features, close)\n",
    "X_train, X_val, y_train, y_val = split_before_2005(X, y)\n",
    "\n",
    "model = Pipeline([\n",
    "    (\"poly\", PolynomialFeatures(degree=10, include_bias=False)),\n",
    "    (\"scale\", StandardScaler()),\n",
    "    (\"regr\", LinearRegression())\n",
    "])\n",
    "\n",
    "model.fit(X_train, y_train)\n",
    "#print_eval(X_val, y_val, model, open)\n",
    "model.score(X_val, y_val)"
   ]
  },
  {
   "cell_type": "markdown",
   "id": "e2021426",
   "metadata": {},
   "source": [
    "Suddividiamo i dati in un training set e in un validation set con la funzione `train_test_split`."
   ]
  },
  {
   "cell_type": "code",
   "execution_count": 832,
   "id": "973c8181",
   "metadata": {},
   "outputs": [],
   "source": [
    "TEST_SIZE = 0.4"
   ]
  },
  {
   "cell_type": "code",
   "execution_count": 833,
   "id": "8ee1f6ec",
   "metadata": {},
   "outputs": [],
   "source": [
    "from sklearn.model_selection import train_test_split\n",
    "\n",
    "X_train, X_val, y_train, y_val = train_test_split(X, y, test_size=TEST_SIZE, shuffle=False)"
   ]
  },
  {
   "cell_type": "markdown",
   "id": "4799005a",
   "metadata": {},
   "source": [
    "## Test 1: Regressione Lineare"
   ]
  },
  {
   "cell_type": "markdown",
   "id": "cbf95443",
   "metadata": {},
   "source": [
    "Usandro training e validation set creati in precedenza addestriamo un modello di regressione lineare e calcoliamo R<sup>2</sup>."
   ]
  },
  {
   "cell_type": "code",
   "execution_count": 834,
   "id": "1a74c5b3",
   "metadata": {},
   "outputs": [
    {
     "data": {
      "text/plain": [
       "0.9875724300335654"
      ]
     },
     "execution_count": 834,
     "metadata": {},
     "output_type": "execute_result"
    }
   ],
   "source": [
    "from sklearn.linear_model import LinearRegression\n",
    "model = LinearRegression()\n",
    "model.fit(X_train,y_train)\n",
    "model.score(X_val, y_val)"
   ]
  },
  {
   "cell_type": "markdown",
   "id": "5bab44e9",
   "metadata": {},
   "source": [
    "Il punteggio R<sup>2</sup> del modello risulta molto alto. Questo è dovuto al fatto che i valore `Open` e `Close` sono molto correlati."
   ]
  },
  {
   "cell_type": "code",
   "execution_count": 835,
   "id": "ecfbca6a",
   "metadata": {},
   "outputs": [
    {
     "data": {
      "image/png": "[encoded data removed]",
      "text/plain": [
       "<Figure size 432x288 with 1 Axes>"
      ]
     },
     "metadata": {
      "needs_background": "light"
     },
     "output_type": "display_data"
    }
   ],
   "source": [
    "plt.scatter(X_train,y_train);"
   ]
  },
  {
   "cell_type": "markdown",
   "id": "aa0ce371",
   "metadata": {},
   "source": [
    "Per avere un riscontro dell'effetiva efficienza del modello calcoliamo il guadagno effettivo di un possibile investitore."
   ]
  },
  {
   "cell_type": "markdown",
   "id": "6154b92b",
   "metadata": {},
   "source": [
    "Per far ciò implementiamo un protocollo di trading che dati i valori di chiusura reali e predetti restituisce il guadagno effettivo.\n",
    "\n",
    "**La cifra investita in questo caso è pari al valore di apertura che varia giornalmente**."
   ]
  },
  {
   "cell_type": "markdown",
   "id": "ae98b752",
   "metadata": {},
   "source": [
    "Definiamo la variabile differenza $\\Delta_d=C_d-O_d$ tra il valore di chiusura giornaliero $C_d$ e di apertura $O_d$"
   ]
  },
  {
   "cell_type": "code",
   "execution_count": 836,
   "id": "7052286e",
   "metadata": {},
   "outputs": [],
   "source": [
    "delta = close - open"
   ]
  },
  {
   "cell_type": "markdown",
   "id": "f3a28c69",
   "metadata": {},
   "source": [
    "- Poniamo questo come il valore che **deve essere predetto** dal modello\n",
    "- L'investitore agirà in base alla predizione $\\hat{\\Delta}_d$ in modo analogo a prima\n",
    "  - se $\\hat{\\Delta}_d > 0$, acquista un titolo a inizio giornata e lo rivende alla fine\n",
    "  - se $\\hat{\\Delta}_d < 0$, vende un titolo a inizio giornata e lo ricompra alla fine"
   ]
  },
  {
   "cell_type": "markdown",
   "id": "5b1d4d5a",
   "metadata": {},
   "source": [
    "### Importiamo alcune funzioni utili "
   ]
  },
  {
   "cell_type": "markdown",
   "id": "736ad8c4",
   "metadata": {},
   "source": [
    "Possiamo definire una metrica \"guadagno\" per validare il modello, che restituisca il guadagno totale di un investitore che opera nel periodo a cui si riferisce il validation set"
   ]
  },
  {
   "cell_type": "code",
   "execution_count": 837,
   "id": "62524cae",
   "metadata": {},
   "outputs": [],
   "source": [
    "from utility import gain"
   ]
  },
  {
   "cell_type": "markdown",
   "id": "2f0cfb0d",
   "metadata": {},
   "source": [
    "Il ROI (Return on investiment) esprime il guadagno di una o più operazioni in borsa in rapporto all'investimento iniziale."
   ]
  },
  {
   "cell_type": "code",
   "execution_count": 838,
   "id": "f0324190",
   "metadata": {},
   "outputs": [],
   "source": [
    "from utility import roi"
   ]
  },
  {
   "cell_type": "markdown",
   "id": "1608c56d",
   "metadata": {},
   "source": [
    "Definiamo anche una funzione che stampi le metriche di valutazione del modello."
   ]
  },
  {
   "cell_type": "code",
   "execution_count": 839,
   "id": "44be9ec2",
   "metadata": {},
   "outputs": [],
   "source": [
    "from utility import print_eval"
   ]
  },
  {
   "cell_type": "markdown",
   "id": "3ac014e3",
   "metadata": {},
   "source": [
    "La funzione `prepare_data` restituisce un Dataframe con le colonne indicate e una serie con i valori della variabile da predire corrispondenti alle righe selezionate del Dataframe."
   ]
  },
  {
   "cell_type": "code",
   "execution_count": 840,
   "id": "e5827b12",
   "metadata": {},
   "outputs": [],
   "source": [
    "from utility import prepare_data"
   ]
  },
  {
   "cell_type": "markdown",
   "id": "03c0dbc2",
   "metadata": {},
   "source": [
    "Addestriamo ora invece un modello di regressione lineare prevedendo il delta e calcoliamo il `gain` e il `ROI`."
   ]
  },
  {
   "cell_type": "code",
   "execution_count": 841,
   "id": "ba126892",
   "metadata": {},
   "outputs": [
    {
     "name": "stdout",
     "output_type": "stream",
     "text": [
      "Gain: -78.03€\n",
      " ROI: -5.865%\n"
     ]
    }
   ],
   "source": [
    "X, y = prepare_data(features, delta)\n",
    "X_train, X_val, y_train, y_val = train_test_split(X, y, test_size=TEST_SIZE, shuffle=False)\n",
    "model = LinearRegression()\n",
    "model.fit(X_train, y_train)\n",
    "print_eval(X_val, y_val, model, open)"
   ]
  },
  {
   "cell_type": "markdown",
   "id": "6230ff3f",
   "metadata": {},
   "source": [
    "Il risultato non è per nulla soddisfacente."
   ]
  },
  {
   "cell_type": "code",
   "execution_count": 842,
   "id": "2189fa32",
   "metadata": {},
   "outputs": [],
   "source": [
    "from utility import plot_model_on_data"
   ]
  },
  {
   "cell_type": "code",
   "execution_count": 843,
   "id": "02b15c17",
   "metadata": {
    "scrolled": true
   },
   "outputs": [
    {
     "name": "stderr",
     "output_type": "stream",
     "text": [
      "/Users/valerio/miniforge3/envs/di/lib/python3.10/site-packages/sklearn/base.py:450: UserWarning:\n",
      "\n",
      "X does not have valid feature names, but LinearRegression was fitted with feature names\n",
      "\n"
     ]
    },
    {
     "data": {
      "image/png": "[encoded data removed]",
      "text/plain": [
       "<Figure size 720x504 with 1 Axes>"
      ]
     },
     "metadata": {
      "needs_background": "light"
     },
     "output_type": "display_data"
    }
   ],
   "source": [
    "plot_model_on_data(X_val,y_val,model)"
   ]
  },
  {
   "cell_type": "markdown",
   "id": "e4667cb9",
   "metadata": {},
   "source": [
    "## Nuove Features\n",
    "Andiamo ora ad introdurre nuove features: possiamo integrare informazioni note dai giorni precedenti ad ogni singola giornata.\n",
    "\n",
    "Possiamo usare `shift` per generare le variabili che si riferiscono ai dati dei giorni precenti."
   ]
  },
  {
   "cell_type": "code",
   "execution_count": 844,
   "id": "1ddc36ea",
   "metadata": {},
   "outputs": [],
   "source": [
    "features = {\n",
    "    \"Open\": open,\n",
    "    \"OpenShift1\": open.shift(1),\n",
    "    \"OpenShift2\": open.shift(2),\n",
    "    \"OpenShift3\": open.shift(3),\n",
    "    \"OpenShift4\": open.shift(4),\n",
    "}"
   ]
  },
  {
   "cell_type": "markdown",
   "id": "0d7a0cc0",
   "metadata": {},
   "source": [
    "Andiamo ora a testare il modello con le nuove features."
   ]
  },
  {
   "cell_type": "code",
   "execution_count": 845,
   "id": "1d500906",
   "metadata": {},
   "outputs": [
    {
     "name": "stdout",
     "output_type": "stream",
     "text": [
      "Gain: 396.69€\n",
      " ROI: 29.811%\n"
     ]
    }
   ],
   "source": [
    "X, y = prepare_data(features, delta)\n",
    "X_train, X_val, y_train, y_val = train_test_split(X, y, test_size=0.4, shuffle=False)\n",
    "model = LinearRegression()\n",
    "model.fit(X_train, y_train)\n",
    "print_eval(X_val, y_val, model, open)"
   ]
  },
  {
   "cell_type": "markdown",
   "id": "ecb7790a",
   "metadata": {},
   "source": [
    "Si noti come nonostante l'aggiunta di features il modello non crea profitto, ma una perdita.\n",
    "\n",
    "Andiamo quindi ad aggiungere features diverse."
   ]
  },
  {
   "cell_type": "markdown",
   "id": "67b77887",
   "metadata": {},
   "source": [
    "- Exponential Moving Average, si tratta di una media mobile che si muove in seguito a variazioni di prezzo: raccoglie i dati generati nell'ultima sessione scartando i dati più vecchi della serie temporale. Quindi l'EMA risponde più rapidamente alle recenti variazioni di prezzo."
   ]
  },
  {
   "cell_type": "code",
   "execution_count": 846,
   "id": "b04607cd",
   "metadata": {},
   "outputs": [],
   "source": [
    "def calculate_ema(prices, days, smoothing=2):\n",
    "    ema = [sum(prices[:days]) / days]\n",
    "    for price in prices[days:]:\n",
    "        ema.append((price * (smoothing / (1 + days))) + ema[-1] * (1 - (smoothing / (1 + days))))\n",
    "    return ema\n",
    "\n",
    "\n",
    "ema = calculate_ema(data['Open'], 10) # Add this line to save EMA values in a list"
   ]
  },
  {
   "cell_type": "code",
   "execution_count": 847,
   "id": "9bc82d97",
   "metadata": {},
   "outputs": [],
   "source": [
    "ema = pd.Series(data=ema, index=data[9:].index)\n",
    "data[\"EMA\"] = ema"
   ]
  },
  {
   "cell_type": "code",
   "execution_count": 848,
   "id": "61c389f8",
   "metadata": {
    "scrolled": true
   },
   "outputs": [
    {
     "data": {
      "image/png": "[encoded data removed]",
      "text/plain": [
       "<Figure size 1152x504 with 1 Axes>"
      ]
     },
     "metadata": {
      "needs_background": "light"
     },
     "output_type": "display_data"
    }
   ],
   "source": [
    "price_X = np.arange(data.shape[0])\n",
    "ema_X = np.arange(10, data.shape[0]+1)\n",
    "plt.figure(figsize=(16, 7))\n",
    "plt.xlabel('Giorni')\n",
    "plt.ylabel('Prezzo')\n",
    "plt.plot(price_X, data['Open'], label='Prezzo Chiusura')\n",
    "plt.plot(ema_X, ema, label='EMA')\n",
    "plt.legend()\n",
    "plt.show()"
   ]
  },
  {
   "cell_type": "code",
   "execution_count": 849,
   "id": "5507e66f",
   "metadata": {},
   "outputs": [],
   "source": [
    "features={\n",
    "    \"Open\": open,\n",
    "    \"OpenShift1\": open.shift(1),\n",
    "    \"OpenShift2\": open.shift(2),\n",
    "    \"OpenShift3\": open.shift(3),\n",
    "    \"OpenShift4\": open.shift(4),\n",
    "    \"EMA\": data[\"EMA\"]\n",
    "}"
   ]
  },
  {
   "cell_type": "code",
   "execution_count": 850,
   "id": "d0919ca2",
   "metadata": {
    "scrolled": false
   },
   "outputs": [
    {
     "name": "stdout",
     "output_type": "stream",
     "text": [
      "Gain: 166.11€\n",
      " ROI: 12.480%\n"
     ]
    }
   ],
   "source": [
    "X, y = prepare_data(features, delta)\n",
    "X_train, X_val, y_train, y_val = train_test_split(X, y, test_size=TEST_SIZE, shuffle=False)\n",
    "model = LinearRegression()\n",
    "model.fit(X_train, y_train)\n",
    "print_eval(X_val, y_val, model, open)"
   ]
  },
  {
   "cell_type": "markdown",
   "id": "4f8371c7",
   "metadata": {},
   "source": [
    "Anche con l'aggiunta della feature EMA non si ottiene un buon risultato, questo è dovuto alla scarsa adattabilità della Regressione Lineare."
   ]
  },
  {
   "cell_type": "code",
   "execution_count": 851,
   "id": "ce8797e9",
   "metadata": {},
   "outputs": [
    {
     "data": {
      "text/plain": [
       "array([-143.40533925])"
      ]
     },
     "execution_count": 851,
     "metadata": {},
     "output_type": "execute_result"
    }
   ],
   "source": [
    "# TO DELETE, usato per testare giornaliero\n",
    "d = {\"Open\":[21586.84], \"OpenShift1\":[21265.11], \"OpenShift2\":[21593.53], \"OpenShift3\":[25490.08], \"OpenShift4\":[26971.01], \"EMA\":[24809.78]}\n",
    "model.predict(pd.DataFrame(d))"
   ]
  },
  {
   "cell_type": "markdown",
   "id": "3897d54c",
   "metadata": {},
   "source": [
    "Proviamo ad addestrare modelli differenti.\n",
    "Nell ordine:\n",
    "- Regressione polinomiale di grado 10 con regolarizzazione L2 ($\\alpha$ = 1)\n",
    "- Regressione polinomiale di grado 3 con standardizazione delle features"
   ]
  },
  {
   "cell_type": "code",
   "execution_count": 852,
   "id": "3ef1f820",
   "metadata": {},
   "outputs": [],
   "source": [
    "from sklearn.pipeline import Pipeline\n",
    "from sklearn.linear_model import Ridge\n",
    "from sklearn.preprocessing import PolynomialFeatures, StandardScaler\n",
    "\n",
    "from sklearn.metrics import r2_score"
   ]
  },
  {
   "cell_type": "code",
   "execution_count": 853,
   "id": "591330a3",
   "metadata": {},
   "outputs": [
    {
     "name": "stderr",
     "output_type": "stream",
     "text": [
      "/Users/valerio/miniforge3/envs/di/lib/python3.10/site-packages/sklearn/linear_model/_ridge.py:196: UserWarning:\n",
      "\n",
      "Singular matrix in solving dual problem. Using least-squares solution instead.\n",
      "\n"
     ]
    },
    {
     "name": "stdout",
     "output_type": "stream",
     "text": [
      "Gain: -220.69€\n",
      " ROI: -16.580%\n",
      "-47.069557633927914\n"
     ]
    },
    {
     "data": {
      "text/plain": [
       "-47.069557633927914"
      ]
     },
     "execution_count": 853,
     "metadata": {},
     "output_type": "execute_result"
    }
   ],
   "source": [
    "X, y = prepare_data(features, delta)\n",
    "X_train, X_val, y_train, y_val = train_test_split(X, y, test_size=TEST_SIZE, shuffle=False)\n",
    "\n",
    "model = Pipeline([\n",
    "    (\"poly\", PolynomialFeatures(degree=10, include_bias=False)),\n",
    "    (\"regr\", Ridge(alpha=1))\n",
    "])\n",
    "\n",
    "model.fit(X_train, y_train)\n",
    "print_eval(X_val, y_val, model, open)\n",
    "\n",
    "print(model.score(X_val, y_val))\n",
    "r2_score(y_val, model.predict(X_val))"
   ]
  },
  {
   "cell_type": "code",
   "execution_count": 854,
   "id": "990385c3",
   "metadata": {},
   "outputs": [
    {
     "name": "stdout",
     "output_type": "stream",
     "text": [
      "Gain: 132.35€\n",
      " ROI: 9.943%\n"
     ]
    },
    {
     "data": {
      "text/plain": [
       "-5921199859.915802"
      ]
     },
     "execution_count": 854,
     "metadata": {},
     "output_type": "execute_result"
    }
   ],
   "source": [
    "X, y = prepare_data(features, delta)\n",
    "X_train, X_val, y_train, y_val = train_test_split(X, y, test_size=TEST_SIZE, shuffle=False)\n",
    "\n",
    "model = Pipeline([\n",
    "    (\"poly\", PolynomialFeatures(degree=10, include_bias=False)),\n",
    "    (\"scale\", StandardScaler()),\n",
    "    (\"regr\", LinearRegression())\n",
    "])\n",
    "\n",
    "model.fit(X_train, y_train)\n",
    "print_eval(X_val, y_val, model, open)\n",
    "model.score(X_val, y_val)"
   ]
  },
  {
   "cell_type": "code",
   "execution_count": 855,
   "id": "9da9af7d",
   "metadata": {},
   "outputs": [
    {
     "data": {
      "text/html": [
       "<div>\n",
       "<style scoped>\n",
       "    .dataframe tbody tr th:only-of-type {\n",
       "        vertical-align: middle;\n",
       "    }\n",
       "\n",
       "    .dataframe tbody tr th {\n",
       "        vertical-align: top;\n",
       "    }\n",
       "\n",
       "    .dataframe thead th {\n",
       "        text-align: right;\n",
       "    }\n",
       "</style>\n",
       "<table border=\"1\" class=\"dataframe\">\n",
       "  <thead>\n",
       "    <tr style=\"text-align: right;\">\n",
       "      <th></th>\n",
       "      <th>Open</th>\n",
       "      <th>OpenShift1</th>\n",
       "      <th>OpenShift2</th>\n",
       "      <th>OpenShift3</th>\n",
       "      <th>OpenShift4</th>\n",
       "      <th>EMA</th>\n",
       "    </tr>\n",
       "    <tr>\n",
       "      <th>Date</th>\n",
       "      <th></th>\n",
       "      <th></th>\n",
       "      <th></th>\n",
       "      <th></th>\n",
       "      <th></th>\n",
       "      <th></th>\n",
       "    </tr>\n",
       "  </thead>\n",
       "  <tbody>\n",
       "    <tr>\n",
       "      <th>2001-01-16</th>\n",
       "      <td>1318.319946</td>\n",
       "      <td>1326.819946</td>\n",
       "      <td>1313.270020</td>\n",
       "      <td>1300.800049</td>\n",
       "      <td>1295.859985</td>\n",
       "      <td>1313.787000</td>\n",
       "    </tr>\n",
       "    <tr>\n",
       "      <th>2001-01-17</th>\n",
       "      <td>1326.650024</td>\n",
       "      <td>1318.319946</td>\n",
       "      <td>1326.819946</td>\n",
       "      <td>1313.270020</td>\n",
       "      <td>1300.800049</td>\n",
       "      <td>1316.125731</td>\n",
       "    </tr>\n",
       "    <tr>\n",
       "      <th>2001-01-18</th>\n",
       "      <td>1329.890015</td>\n",
       "      <td>1326.650024</td>\n",
       "      <td>1318.319946</td>\n",
       "      <td>1326.819946</td>\n",
       "      <td>1313.270020</td>\n",
       "      <td>1318.628328</td>\n",
       "    </tr>\n",
       "    <tr>\n",
       "      <th>2001-01-19</th>\n",
       "      <td>1347.969971</td>\n",
       "      <td>1329.890015</td>\n",
       "      <td>1326.650024</td>\n",
       "      <td>1318.319946</td>\n",
       "      <td>1326.819946</td>\n",
       "      <td>1323.963172</td>\n",
       "    </tr>\n",
       "    <tr>\n",
       "      <th>2001-01-22</th>\n",
       "      <td>1342.540039</td>\n",
       "      <td>1347.969971</td>\n",
       "      <td>1329.890015</td>\n",
       "      <td>1326.650024</td>\n",
       "      <td>1318.319946</td>\n",
       "      <td>1327.340784</td>\n",
       "    </tr>\n",
       "    <tr>\n",
       "      <th>...</th>\n",
       "      <td>...</td>\n",
       "      <td>...</td>\n",
       "      <td>...</td>\n",
       "      <td>...</td>\n",
       "      <td>...</td>\n",
       "      <td>...</td>\n",
       "    </tr>\n",
       "    <tr>\n",
       "      <th>2008-12-23</th>\n",
       "      <td>874.309998</td>\n",
       "      <td>887.200012</td>\n",
       "      <td>886.960022</td>\n",
       "      <td>905.979980</td>\n",
       "      <td>908.159973</td>\n",
       "      <td>884.162693</td>\n",
       "    </tr>\n",
       "    <tr>\n",
       "      <th>2008-12-24</th>\n",
       "      <td>863.869995</td>\n",
       "      <td>874.309998</td>\n",
       "      <td>887.200012</td>\n",
       "      <td>886.960022</td>\n",
       "      <td>905.979980</td>\n",
       "      <td>880.473112</td>\n",
       "    </tr>\n",
       "    <tr>\n",
       "      <th>2008-12-26</th>\n",
       "      <td>869.510010</td>\n",
       "      <td>863.869995</td>\n",
       "      <td>874.309998</td>\n",
       "      <td>887.200012</td>\n",
       "      <td>886.960022</td>\n",
       "      <td>878.479821</td>\n",
       "    </tr>\n",
       "    <tr>\n",
       "      <th>2008-12-29</th>\n",
       "      <td>872.369995</td>\n",
       "      <td>869.510010</td>\n",
       "      <td>863.869995</td>\n",
       "      <td>874.309998</td>\n",
       "      <td>887.200012</td>\n",
       "      <td>877.368943</td>\n",
       "    </tr>\n",
       "    <tr>\n",
       "      <th>2008-12-30</th>\n",
       "      <td>870.580017</td>\n",
       "      <td>872.369995</td>\n",
       "      <td>869.510010</td>\n",
       "      <td>863.869995</td>\n",
       "      <td>874.309998</td>\n",
       "      <td>876.134593</td>\n",
       "    </tr>\n",
       "  </tbody>\n",
       "</table>\n",
       "<p>2001 rows × 6 columns</p>\n",
       "</div>"
      ],
      "text/plain": [
       "                   Open   OpenShift1   OpenShift2   OpenShift3   OpenShift4  \\\n",
       "Date                                                                          \n",
       "2001-01-16  1318.319946  1326.819946  1313.270020  1300.800049  1295.859985   \n",
       "2001-01-17  1326.650024  1318.319946  1326.819946  1313.270020  1300.800049   \n",
       "2001-01-18  1329.890015  1326.650024  1318.319946  1326.819946  1313.270020   \n",
       "2001-01-19  1347.969971  1329.890015  1326.650024  1318.319946  1326.819946   \n",
       "2001-01-22  1342.540039  1347.969971  1329.890015  1326.650024  1318.319946   \n",
       "...                 ...          ...          ...          ...          ...   \n",
       "2008-12-23   874.309998   887.200012   886.960022   905.979980   908.159973   \n",
       "2008-12-24   863.869995   874.309998   887.200012   886.960022   905.979980   \n",
       "2008-12-26   869.510010   863.869995   874.309998   887.200012   886.960022   \n",
       "2008-12-29   872.369995   869.510010   863.869995   874.309998   887.200012   \n",
       "2008-12-30   870.580017   872.369995   869.510010   863.869995   874.309998   \n",
       "\n",
       "                    EMA  \n",
       "Date                     \n",
       "2001-01-16  1313.787000  \n",
       "2001-01-17  1316.125731  \n",
       "2001-01-18  1318.628328  \n",
       "2001-01-19  1323.963172  \n",
       "2001-01-22  1327.340784  \n",
       "...                 ...  \n",
       "2008-12-23   884.162693  \n",
       "2008-12-24   880.473112  \n",
       "2008-12-26   878.479821  \n",
       "2008-12-29   877.368943  \n",
       "2008-12-30   876.134593  \n",
       "\n",
       "[2001 rows x 6 columns]"
      ]
     },
     "execution_count": 855,
     "metadata": {},
     "output_type": "execute_result"
    }
   ],
   "source": [
    "X"
   ]
  },
  {
   "cell_type": "code",
   "execution_count": null,
   "id": "64504a9b",
   "metadata": {},
   "outputs": [],
   "source": []
  }
 ],
 "metadata": {
  "kernelspec": {
   "display_name": "Python 3 (ipykernel)",
   "language": "python",
   "name": "python3"
  },
  "language_info": {
   "codemirror_mode": {
    "name": "ipython",
    "version": 3
   },
   "file_extension": ".py",
   "mimetype": "text/x-python",
   "name": "python",
   "nbconvert_exporter": "python",
   "pygments_lexer": "ipython3",
   "version": "3.10.4"
  }
 },
 "nbformat": 4,
 "nbformat_minor": 5
}

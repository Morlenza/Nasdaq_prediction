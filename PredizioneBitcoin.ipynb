{
 "cells": [
  {
   "cell_type": "markdown",
   "id": "bfc69852",
   "metadata": {},
   "source": [
    "# Predizione Prezzo Bitcoin\n",
    "## Autori: Luca Morlino e Valerio Di Zio\n"
   ]
  },
  {
   "cell_type": "code",
   "execution_count": 1,
   "id": "3a715f1a",
   "metadata": {},
   "outputs": [],
   "source": [
    "import numpy as np\n",
    "import pandas as pd\n",
    "import matplotlib.pyplot as plt\n",
    "import sklearn\n",
    "%matplotlib inline"
   ]
  },
  {
   "cell_type": "markdown",
   "id": "a5f950ac",
   "metadata": {},
   "source": [
    "## Descrizione del problema\n",
    "### Cos'è Bitcoin?\n",
    "Il Bitcoin è una moneta virtuale creata nel 2009 da uno o più utenti con lo pseudonimo Satoshi Nakamoto. Diversamente dalle altre valute il Bitcoin non ha dietro una Banca centrale che distribuisce nuova moneta ma si basa fondamentalmente su due principi: un network di nodi, cioè di pc, che la gestiscono in modalità distribuita, peer-to-peer; e l'uso di una forte crittografia per validare e rendere sicure le transazioni.\n",
    "### Obiettivo\n",
    "L'obiettivo generale è quello di creare un algoritmo che preveda il valore di chiusura di bitcoin a inizio giornata.\n",
    "Il bitcoin essendo una valuta a tutti gli effetti non ha un orario di apertura né uno di chiusura, per comodità il nostro dataset considera il valore di apertura a mezzanotte e il valore di chiusura a mezzanotte del giorno dopo."
   ]
  },
  {
   "cell_type": "markdown",
   "id": "6a402860",
   "metadata": {},
   "source": [
    "## Estrazione dati\n",
    "I dati relativi a BTC vengono scaricati dal servizio [Yahoo! Finance](https://it.finance.yahoo.com/).\n",
    "Per fare ciò viene utilizzata la libreria yfinance che permette l'estrazione di dati in forma di oggetti Python facilmente interrogabili.\n",
    "In particolare, la usiamo per ottenere i dati storici in forma di Dataframe Pandas"
   ]
  },
  {
   "cell_type": "code",
   "execution_count": 2,
   "id": "14b4750d",
   "metadata": {},
   "outputs": [],
   "source": [
    "import yfinance"
   ]
  },
  {
   "cell_type": "markdown",
   "id": "5826139a",
   "metadata": {},
   "source": [
    "- Creiamo un oggetto Ticker che rappresenta uno specifico titolo o indice\n",
    "- Nel nostro caso il simbolo del Bitcoin con il suo valore in Euro è BTC-EUR"
   ]
  },
  {
   "cell_type": "code",
   "execution_count": 3,
   "id": "e3b880a1",
   "metadata": {},
   "outputs": [],
   "source": [
    "btc = yfinance.Ticker(\"BTC-EUR\")"
   ]
  },
  {
   "cell_type": "markdown",
   "id": "079b31f4",
   "metadata": {},
   "source": [
    "- Utilizziamo il metodo history per ottenere i dati storici, partendo dal 1 gennaio 2015 fino a ieri."
   ]
  },
  {
   "cell_type": "code",
   "execution_count": 4,
   "id": "b8eb6fa3",
   "metadata": {},
   "outputs": [],
   "source": [
    "from datetime import date"
   ]
  },
  {
   "cell_type": "code",
   "execution_count": 5,
   "id": "43a993b1",
   "metadata": {},
   "outputs": [],
   "source": [
    "today = date.today().strftime(\"%Y-%m-%d\")\n",
    "data = btc.history(start=\"2019-01-01\", end=today, actions=False)"
   ]
  },
  {
   "cell_type": "markdown",
   "id": "bcad84dd",
   "metadata": {},
   "source": [
    "Ad esempio, guardiamo i dati relativi agli ultimi 5 giorni. \n",
    "\n",
    "Ovviamente i dati odierni non sono presenti, saranno quelli che andremo a prevedere."
   ]
  },
  {
   "cell_type": "code",
   "execution_count": 6,
   "id": "79c44726",
   "metadata": {
    "scrolled": true
   },
   "outputs": [
    {
     "data": {
      "text/html": [
       "<div>\n",
       "<style scoped>\n",
       "    .dataframe tbody tr th:only-of-type {\n",
       "        vertical-align: middle;\n",
       "    }\n",
       "\n",
       "    .dataframe tbody tr th {\n",
       "        vertical-align: top;\n",
       "    }\n",
       "\n",
       "    .dataframe thead th {\n",
       "        text-align: right;\n",
       "    }\n",
       "</style>\n",
       "<table border=\"1\" class=\"dataframe\">\n",
       "  <thead>\n",
       "    <tr style=\"text-align: right;\">\n",
       "      <th></th>\n",
       "      <th>Open</th>\n",
       "      <th>High</th>\n",
       "      <th>Low</th>\n",
       "      <th>Close</th>\n",
       "      <th>Volume</th>\n",
       "    </tr>\n",
       "    <tr>\n",
       "      <th>Date</th>\n",
       "      <th></th>\n",
       "      <th></th>\n",
       "      <th></th>\n",
       "      <th></th>\n",
       "      <th></th>\n",
       "    </tr>\n",
       "  </thead>\n",
       "  <tbody>\n",
       "    <tr>\n",
       "      <th>2022-06-11</th>\n",
       "      <td>27648.988281</td>\n",
       "      <td>27950.578125</td>\n",
       "      <td>26840.496094</td>\n",
       "      <td>26958.935547</td>\n",
       "      <td>25899776264</td>\n",
       "    </tr>\n",
       "    <tr>\n",
       "      <th>2022-06-12</th>\n",
       "      <td>26971.011719</td>\n",
       "      <td>27093.796875</td>\n",
       "      <td>25513.984375</td>\n",
       "      <td>25513.984375</td>\n",
       "      <td>32569266905</td>\n",
       "    </tr>\n",
       "    <tr>\n",
       "      <th>2022-06-13</th>\n",
       "      <td>25490.082031</td>\n",
       "      <td>25545.843750</td>\n",
       "      <td>21262.470703</td>\n",
       "      <td>21592.951172</td>\n",
       "      <td>65491720208</td>\n",
       "    </tr>\n",
       "    <tr>\n",
       "      <th>2022-06-14</th>\n",
       "      <td>21593.527344</td>\n",
       "      <td>22084.058594</td>\n",
       "      <td>20144.820312</td>\n",
       "      <td>21274.751953</td>\n",
       "      <td>48776681576</td>\n",
       "    </tr>\n",
       "    <tr>\n",
       "      <th>2022-06-15</th>\n",
       "      <td>21265.111328</td>\n",
       "      <td>21666.794922</td>\n",
       "      <td>19254.548828</td>\n",
       "      <td>21586.835938</td>\n",
       "      <td>52513395637</td>\n",
       "    </tr>\n",
       "  </tbody>\n",
       "</table>\n",
       "</div>"
      ],
      "text/plain": [
       "                    Open          High           Low         Close  \\\n",
       "Date                                                                 \n",
       "2022-06-11  27648.988281  27950.578125  26840.496094  26958.935547   \n",
       "2022-06-12  26971.011719  27093.796875  25513.984375  25513.984375   \n",
       "2022-06-13  25490.082031  25545.843750  21262.470703  21592.951172   \n",
       "2022-06-14  21593.527344  22084.058594  20144.820312  21274.751953   \n",
       "2022-06-15  21265.111328  21666.794922  19254.548828  21586.835938   \n",
       "\n",
       "                 Volume  \n",
       "Date                     \n",
       "2022-06-11  25899776264  \n",
       "2022-06-12  32569266905  \n",
       "2022-06-13  65491720208  \n",
       "2022-06-14  48776681576  \n",
       "2022-06-15  52513395637  "
      ]
     },
     "execution_count": 6,
     "metadata": {},
     "output_type": "execute_result"
    }
   ],
   "source": [
    "data.tail(5)"
   ]
  },
  {
   "cell_type": "markdown",
   "id": "72924f7a",
   "metadata": {},
   "source": [
    "\n",
    "Andiamo a contare il numero di istanze ricavate"
   ]
  },
  {
   "cell_type": "code",
   "execution_count": 7,
   "id": "7585e533",
   "metadata": {},
   "outputs": [
    {
     "data": {
      "text/plain": [
       "1263"
      ]
     },
     "execution_count": 7,
     "metadata": {},
     "output_type": "execute_result"
    }
   ],
   "source": [
    "data.shape[0]"
   ]
  },
  {
   "cell_type": "markdown",
   "id": "979f3e3b",
   "metadata": {},
   "source": [
    "## Features\n",
    "Il nostro dataset ha 5 features:\n",
    "- Open: è il valore in euro di un singolo bitcoin all'orario di apertura\n",
    "- High: è il valore massimo in euro raggiunto durante la giornata\n",
    "- Low: è il valore minimo in euro raggiunto durante la giornata\n",
    "- Close: è il valore in euro di un singolo bitcoin all'orario di chiusura\n",
    "- Volume: il volume di trading indica (nel nostro caso) il valore in euro di bitcoin scambiati durante la giornata\n",
    "\n",
    "Per comodità estraiamo una serie per ciascuna colonna, per potersi riferire ad esse con un unico nome."
   ]
  },
  {
   "cell_type": "code",
   "execution_count": 8,
   "id": "78cd6ace",
   "metadata": {},
   "outputs": [],
   "source": [
    "open = data[\"Open\"]\n",
    "high = data[\"High\"]\n",
    "low = data[\"Low\"]\n",
    "close = data[\"Close\"]\n",
    "volume = data[\"Volume\"]"
   ]
  },
  {
   "cell_type": "markdown",
   "id": "c24877b4",
   "metadata": {},
   "source": [
    "## Rappresentazione dei dati"
   ]
  },
  {
   "cell_type": "markdown",
   "id": "3b7ebaf3",
   "metadata": {},
   "source": [
    "Possiamo tracciare il grafico dell'andamento del prezzo, basandoci sulla feature \"Open\"."
   ]
  },
  {
   "cell_type": "code",
   "execution_count": 9,
   "id": "f3f6a648",
   "metadata": {
    "scrolled": true
   },
   "outputs": [
    {
     "data": {
      "image/png": "[encoded data removed]",
      "text/plain": [
       "<Figure size 1152x288 with 1 Axes>"
      ]
     },
     "metadata": {
      "needs_background": "light"
     },
     "output_type": "display_data"
    }
   ],
   "source": [
    "open.plot(figsize=(16,4))\n",
    "plt.title(\"Andamento prezzo del Bitcoin (EUR)\")\n",
    "plt.xlabel(\"Data\")\n",
    "plt.ylabel(\"Prezzo (Euro)\");"
   ]
  },
  {
   "cell_type": "markdown",
   "id": "2804352f",
   "metadata": {},
   "source": [
    "Utilizzando la libreria plotly è possibile visualizzare in un unico grafico 4 features (Open, High, Low, Close)"
   ]
  },
  {
   "cell_type": "code",
   "execution_count": 10,
   "id": "c7152044",
   "metadata": {},
   "outputs": [],
   "source": [
    "import plotly.graph_objects as go"
   ]
  },
  {
   "cell_type": "code",
   "execution_count": 11,
   "id": "2747b44e",
   "metadata": {
    "scrolled": false
   },
   "outputs": [],
   "source": [
    "candlestick = go.Candlestick(\n",
    "                            x=data.index,\n",
    "                            open=data['Open'],\n",
    "                            high=data['High'],\n",
    "                            low=data['Low'],\n",
    "                            close=data['Close']\n",
    "                            )\n"
   ]
  },
  {
   "cell_type": "markdown",
   "id": "9a81317f",
   "metadata": {},
   "source": [
    "Il grafico è rappresentato mediante l'utilizzo di Candele, queste ultime rappresentano l'andamento del prezzo di una giornata.\n",
    "\n",
    "<img src=\"candlestick.jpeg\" alt=\"Candlestick\" style=\"width:700px;\"/>\n"
   ]
  },
  {
   "cell_type": "code",
   "execution_count": 12,
   "id": "d2b642f3",
   "metadata": {},
   "outputs": [],
   "source": [
    "from ipywidgets.widgets import interact\n",
    "from datetime import timedelta"
   ]
  },
  {
   "cell_type": "markdown",
   "id": "482bab85",
   "metadata": {},
   "source": [
    "Ricaviamo la data relativa a 50 giorni fa"
   ]
  },
  {
   "cell_type": "code",
   "execution_count": 13,
   "id": "5bef79db",
   "metadata": {},
   "outputs": [],
   "source": [
    "DD = timedelta(days=50)\n",
    "earlier = date.today() - DD\n",
    "earlier_str = earlier.strftime(\"%Y-%m-%d\")"
   ]
  },
  {
   "cell_type": "code",
   "execution_count": 14,
   "id": "a901c2db",
   "metadata": {
    "scrolled": false
   },
   "outputs": [
    {
     "data": {
      "application/vnd.jupyter.widget-view+json": {
       "model_id": "b626e0c7b7f848eba50e2736af533901",
       "version_major": 2,
       "version_minor": 0
      },
      "text/plain": [
       "interactive(children=(IntSlider(value=20000, description='ymin', max=60000, step=1000), IntSlider(value=40000,…"
      ]
     },
     "metadata": {},
     "output_type": "display_data"
    }
   ],
   "source": [
    "\n",
    "\n",
    "@interact(ymin=(0,60000,1000), ymax=(0,50000,1000))\n",
    "def plot_candlestick(ymin=20000, ymax=40000):    \n",
    "    fig = go.Figure(data=[candlestick])\n",
    "    fig.update_layout(\n",
    "        width=1000, height=700,\n",
    "        title=\"Andamento prezzo Bitcoin Candlestick\",\n",
    "        yaxis_title='Prezzo (EURO)'\n",
    "    )\n",
    "    fig.update_xaxes(type=\"date\", range=[earlier_str, today])\n",
    "    fig.update_yaxes(range=[ymin,ymax])\n",
    "    fig.show()"
   ]
  },
  {
   "cell_type": "markdown",
   "id": "7a912c5c",
   "metadata": {},
   "source": [
    "Mostriamo ora alcune statistiche generali raggruppate per anno come:\n",
    "- Media\n",
    "- Deviazione Standard\n",
    "- Min e Max\n",
    "- Quartili\n"
   ]
  },
  {
   "cell_type": "code",
   "execution_count": 15,
   "id": "e15e68f5",
   "metadata": {
    "scrolled": false
   },
   "outputs": [
    {
     "data": {
      "text/html": [
       "<div>\n",
       "<style scoped>\n",
       "    .dataframe tbody tr th:only-of-type {\n",
       "        vertical-align: middle;\n",
       "    }\n",
       "\n",
       "    .dataframe tbody tr th {\n",
       "        vertical-align: top;\n",
       "    }\n",
       "\n",
       "    .dataframe thead th {\n",
       "        text-align: right;\n",
       "    }\n",
       "</style>\n",
       "<table border=\"1\" class=\"dataframe\">\n",
       "  <thead>\n",
       "    <tr style=\"text-align: right;\">\n",
       "      <th></th>\n",
       "      <th>count</th>\n",
       "      <th>mean</th>\n",
       "      <th>std</th>\n",
       "      <th>min</th>\n",
       "      <th>25%</th>\n",
       "      <th>50%</th>\n",
       "      <th>75%</th>\n",
       "      <th>max</th>\n",
       "    </tr>\n",
       "    <tr>\n",
       "      <th>Date</th>\n",
       "      <th></th>\n",
       "      <th></th>\n",
       "      <th></th>\n",
       "      <th></th>\n",
       "      <th></th>\n",
       "      <th></th>\n",
       "      <th></th>\n",
       "      <th></th>\n",
       "    </tr>\n",
       "  </thead>\n",
       "  <tbody>\n",
       "    <tr>\n",
       "      <th>2018</th>\n",
       "      <td>1.0</td>\n",
       "      <td>3304.445435</td>\n",
       "      <td>NaN</td>\n",
       "      <td>3304.445435</td>\n",
       "      <td>3304.445435</td>\n",
       "      <td>3304.445435</td>\n",
       "      <td>3304.445435</td>\n",
       "      <td>3304.445435</td>\n",
       "    </tr>\n",
       "    <tr>\n",
       "      <th>2019</th>\n",
       "      <td>365.0</td>\n",
       "      <td>6611.505284</td>\n",
       "      <td>2378.373599</td>\n",
       "      <td>3008.023071</td>\n",
       "      <td>4043.200562</td>\n",
       "      <td>6979.854004</td>\n",
       "      <td>8610.137695</td>\n",
       "      <td>11237.593750</td>\n",
       "    </tr>\n",
       "    <tr>\n",
       "      <th>2020</th>\n",
       "      <td>366.0</td>\n",
       "      <td>9604.105389</td>\n",
       "      <td>3304.767447</td>\n",
       "      <td>4463.527954</td>\n",
       "      <td>8029.480408</td>\n",
       "      <td>8710.522217</td>\n",
       "      <td>9805.435303</td>\n",
       "      <td>23380.625977</td>\n",
       "    </tr>\n",
       "    <tr>\n",
       "      <th>2021</th>\n",
       "      <td>365.0</td>\n",
       "      <td>40095.692624</td>\n",
       "      <td>8737.824810</td>\n",
       "      <td>23983.438477</td>\n",
       "      <td>31245.380859</td>\n",
       "      <td>40675.902344</td>\n",
       "      <td>47296.929688</td>\n",
       "      <td>58211.095703</td>\n",
       "    </tr>\n",
       "    <tr>\n",
       "      <th>2022</th>\n",
       "      <td>166.0</td>\n",
       "      <td>34909.115805</td>\n",
       "      <td>4678.943329</td>\n",
       "      <td>20460.671875</td>\n",
       "      <td>32376.854248</td>\n",
       "      <td>36507.617188</td>\n",
       "      <td>37768.202148</td>\n",
       "      <td>43156.531250</td>\n",
       "    </tr>\n",
       "  </tbody>\n",
       "</table>\n",
       "</div>"
      ],
      "text/plain": [
       "      count          mean          std           min           25%  \\\n",
       "Date                                                                 \n",
       "2018    1.0   3304.445435          NaN   3304.445435   3304.445435   \n",
       "2019  365.0   6611.505284  2378.373599   3008.023071   4043.200562   \n",
       "2020  366.0   9604.105389  3304.767447   4463.527954   8029.480408   \n",
       "2021  365.0  40095.692624  8737.824810  23983.438477  31245.380859   \n",
       "2022  166.0  34909.115805  4678.943329  20460.671875  32376.854248   \n",
       "\n",
       "               50%           75%           max  \n",
       "Date                                            \n",
       "2018   3304.445435   3304.445435   3304.445435  \n",
       "2019   6979.854004   8610.137695  11237.593750  \n",
       "2020   8710.522217   9805.435303  23380.625977  \n",
       "2021  40675.902344  47296.929688  58211.095703  \n",
       "2022  36507.617188  37768.202148  43156.531250  "
      ]
     },
     "execution_count": 15,
     "metadata": {},
     "output_type": "execute_result"
    }
   ],
   "source": [
    "hlm = (high + low) / 2\n",
    "hlm.groupby(hlm.index.year).describe()"
   ]
  },
  {
   "cell_type": "markdown",
   "id": "3de02e34",
   "metadata": {},
   "source": [
    "## Prevedere il valore di chiusura a inizio giornata"
   ]
  },
  {
   "cell_type": "markdown",
   "id": "9ea695c8",
   "metadata": {},
   "source": [
    "La variabile da predire è la features \"Close\" relativa alla data odierna."
   ]
  },
  {
   "cell_type": "code",
   "execution_count": 16,
   "id": "fcf184b2",
   "metadata": {},
   "outputs": [],
   "source": [
    "y = close"
   ]
  },
  {
   "cell_type": "markdown",
   "id": "dc02803a",
   "metadata": {},
   "source": [
    "`high`, `low`, `volume` non possono essere utilizzate in quanto il loro valore non è noto a inizio giornata.\n",
    "Attualmente l'unica feature utilizzabile è il valore `open`."
   ]
  },
  {
   "cell_type": "code",
   "execution_count": 17,
   "id": "33989cdb",
   "metadata": {
    "scrolled": true
   },
   "outputs": [],
   "source": [
    "features = {\"Open\" : open}\n",
    "X = pd.DataFrame(features)"
   ]
  },
  {
   "cell_type": "markdown",
   "id": "e2021426",
   "metadata": {},
   "source": [
    "Suddividiamo i dati in un training set e in un validation set con la funzione `train_test_split`."
   ]
  },
  {
   "cell_type": "code",
   "execution_count": 18,
   "id": "973c8181",
   "metadata": {},
   "outputs": [],
   "source": [
    "TEST_SIZE = 0.4"
   ]
  },
  {
   "cell_type": "code",
   "execution_count": 19,
   "id": "8ee1f6ec",
   "metadata": {},
   "outputs": [],
   "source": [
    "from sklearn.model_selection import train_test_split\n",
    "\n",
    "X_train, X_val, y_train, y_val = train_test_split(X, y, test_size=TEST_SIZE, shuffle=False)"
   ]
  },
  {
   "cell_type": "markdown",
   "id": "4799005a",
   "metadata": {},
   "source": [
    "## Test 1: Regressione Lineare"
   ]
  },
  {
   "cell_type": "markdown",
   "id": "cbf95443",
   "metadata": {},
   "source": [
    "Usando training e validation set creati in precedenza addestriamo un modello di regressione lineare e calcoliamo R<sup>2</sup>."
   ]
  },
  {
   "cell_type": "code",
   "execution_count": 20,
   "id": "1a74c5b3",
   "metadata": {},
   "outputs": [
    {
     "data": {
      "text/plain": [
       "0.964586835942706"
      ]
     },
     "execution_count": 20,
     "metadata": {},
     "output_type": "execute_result"
    }
   ],
   "source": [
    "from sklearn.linear_model import LinearRegression\n",
    "model = LinearRegression()\n",
    "model.fit(X_train,y_train)\n",
    "model.score(X_val, y_val)"
   ]
  },
  {
   "cell_type": "markdown",
   "id": "5bab44e9",
   "metadata": {},
   "source": [
    "Il punteggio R<sup>2</sup> del modello risulta molto alto. Questo è dovuto al fatto che i valore `Open` e `Close` sono molto correlati."
   ]
  },
  {
   "cell_type": "code",
   "execution_count": 27,
   "id": "ecfbca6a",
   "metadata": {
    "scrolled": true
   },
   "outputs": [
    {
     "data": {
      "image/png": "[encoded data removed]",
      "text/plain": [
       "<Figure size 432x288 with 1 Axes>"
      ]
     },
     "metadata": {
      "needs_background": "light"
     },
     "output_type": "display_data"
    }
   ],
   "source": [
    "plt.scatter(X_train,y_train);"
   ]
  },
  {
   "cell_type": "markdown",
   "id": "82bfcd2f",
   "metadata": {},
   "source": [
    "Addestriamo ora un modello di regressione polinomiale di grado 5 con regolarizzazione L2"
   ]
  },
  {
   "cell_type": "code",
   "execution_count": 24,
   "id": "897d97da",
   "metadata": {},
   "outputs": [
    {
     "name": "stderr",
     "output_type": "stream",
     "text": [
      "/opt/homebrew/Caskroom/miniforge/tensorflow/lib/python3.9/site-packages/sklearn/linear_model/_ridge.py:157: LinAlgWarning:\n",
      "\n",
      "Ill-conditioned matrix (rcond=4.86788e-40): result may not be accurate.\n",
      "\n"
     ]
    },
    {
     "data": {
      "text/plain": [
       "0.6356478671892472"
      ]
     },
     "execution_count": 24,
     "metadata": {},
     "output_type": "execute_result"
    }
   ],
   "source": [
    "from sklearn.pipeline import Pipeline\n",
    "from sklearn.preprocessing import PolynomialFeatures\n",
    "from sklearn.linear_model import Ridge\n",
    "\n",
    "model = Pipeline([\n",
    "    (\"poly\", PolynomialFeatures(degree=5, include_bias=False)),\n",
    "    (\"regr\", Ridge(alpha=1))\n",
    "])\n",
    "model.fit(X_train, y_train)\n",
    "model.score(X_val, y_val)"
   ]
  },
  {
   "cell_type": "code",
   "execution_count": 26,
   "id": "f72e7529",
   "metadata": {},
   "outputs": [
    {
     "data": {
      "text/plain": [
       "0.41688457791277556"
      ]
     },
     "execution_count": 26,
     "metadata": {},
     "output_type": "execute_result"
    }
   ],
   "source": [
    "from sklearn.preprocessing import StandardScaler\n",
    "\n",
    "model = Pipeline([\n",
    "    (\"poly\", PolynomialFeatures(degree=3, include_bias=False)),\n",
    "    (\"scale\", StandardScaler()),\n",
    "    (\"regr\", LinearRegression())\n",
    "])\n",
    "model.fit(X_train, y_train)\n",
    "model.score(X_val, y_val)"
   ]
  },
  {
   "cell_type": "markdown",
   "id": "aa0ce371",
   "metadata": {},
   "source": [
    "Per avere un riscontro dell'effetiva efficienza del modello calcoliamo il guadagno effettivo di un possibile investitore."
   ]
  },
  {
   "cell_type": "markdown",
   "id": "6154b92b",
   "metadata": {},
   "source": [
    "Per far ciò implementiamo un protocollo di trading che dati i valori di chiusura reali e predetti restituisce il guadagno effettivo.\n",
    "\n",
    "**La cifra investita in questo caso è pari al valore di apertura che varia giornalmente**."
   ]
  },
  {
   "cell_type": "markdown",
   "id": "ae98b752",
   "metadata": {},
   "source": [
    "Definiamo la variabile differenza $\\Delta_d=C_d-O_d$ tra il valore di chiusura giornaliero $C_d$ e di apertura $O_d$"
   ]
  },
  {
   "cell_type": "code",
   "execution_count": 28,
   "id": "7052286e",
   "metadata": {},
   "outputs": [],
   "source": [
    "delta = close - open"
   ]
  },
  {
   "cell_type": "markdown",
   "id": "f3a28c69",
   "metadata": {},
   "source": [
    "- Poniamo questo come il valore che **deve essere predetto** dal modello\n",
    "- L'investitore agirà in base alla predizione $\\hat{\\Delta}_d$ in modo analogo a prima\n",
    "  - se $\\hat{\\Delta}_d > 0$, acquista un titolo a inizio giornata e lo rivende alla fine\n",
    "  - se $\\hat{\\Delta}_d < 0$, vende un titolo a inizio giornata e lo ricompra alla fine"
   ]
  },
  {
   "cell_type": "markdown",
   "id": "5b1d4d5a",
   "metadata": {},
   "source": [
    "### Importiamo alcune funzioni utili "
   ]
  },
  {
   "cell_type": "markdown",
   "id": "736ad8c4",
   "metadata": {},
   "source": [
    "Possiamo definire una metrica \"guadagno\" per validare il modello, che restituisca il guadagno totale di un investitore che opera nel periodo a cui si riferisce il validation set"
   ]
  },
  {
   "cell_type": "code",
   "execution_count": 29,
   "id": "62524cae",
   "metadata": {},
   "outputs": [],
   "source": [
    "from utility import gain"
   ]
  },
  {
   "cell_type": "markdown",
   "id": "2f0cfb0d",
   "metadata": {},
   "source": [
    "Il ROI (Return on investiment) esprime il guadagno di una o più operazioni in borsa in rapporto all'investimento iniziale."
   ]
  },
  {
   "cell_type": "code",
   "execution_count": 30,
   "id": "f0324190",
   "metadata": {},
   "outputs": [],
   "source": [
    "from utility import roi"
   ]
  },
  {
   "cell_type": "markdown",
   "id": "1608c56d",
   "metadata": {},
   "source": [
    "Definiamo anche una funzione che stampi le metriche di valutazione del modello."
   ]
  },
  {
   "cell_type": "code",
   "execution_count": 31,
   "id": "44be9ec2",
   "metadata": {},
   "outputs": [],
   "source": [
    "from utility import print_eval"
   ]
  },
  {
   "cell_type": "markdown",
   "id": "3ac014e3",
   "metadata": {},
   "source": [
    "La funzione `prepare_data` restituisce un Dataframe con le colonne indicate e una serie con i valori della variabile da predire corrispondenti alle righe selezionate del Dataframe."
   ]
  },
  {
   "cell_type": "code",
   "execution_count": 32,
   "id": "e5827b12",
   "metadata": {},
   "outputs": [],
   "source": [
    "from utility import prepare_data"
   ]
  },
  {
   "cell_type": "markdown",
   "id": "03c0dbc2",
   "metadata": {},
   "source": [
    "Addestriamo ora invece un modello di regressione lineare prevedendo il delta e calcoliamo il `gain` e il `ROI`."
   ]
  },
  {
   "cell_type": "code",
   "execution_count": 33,
   "id": "ba126892",
   "metadata": {},
   "outputs": [
    {
     "name": "stdout",
     "output_type": "stream",
     "text": [
      "Gain: -9155.65€\n",
      " ROI: -23.453%\n"
     ]
    }
   ],
   "source": [
    "X, y = prepare_data(features, delta)\n",
    "X_train, X_val, y_train, y_val = train_test_split(X, y, test_size=TEST_SIZE, shuffle=False)\n",
    "model = LinearRegression()\n",
    "model.fit(X_train, y_train)\n",
    "print_eval(X_val, y_val, model, open)"
   ]
  },
  {
   "cell_type": "markdown",
   "id": "6230ff3f",
   "metadata": {},
   "source": [
    "Il risultato non è per nulla soddisfacente."
   ]
  },
  {
   "cell_type": "code",
   "execution_count": 34,
   "id": "2189fa32",
   "metadata": {},
   "outputs": [],
   "source": [
    "from utility import plot_model_on_data"
   ]
  },
  {
   "cell_type": "code",
   "execution_count": 35,
   "id": "02b15c17",
   "metadata": {
    "scrolled": true
   },
   "outputs": [
    {
     "name": "stderr",
     "output_type": "stream",
     "text": [
      "/opt/homebrew/Caskroom/miniforge/tensorflow/lib/python3.9/site-packages/sklearn/base.py:450: UserWarning:\n",
      "\n",
      "X does not have valid feature names, but LinearRegression was fitted with feature names\n",
      "\n"
     ]
    },
    {
     "data": {
      "image/png": "[encoded data removed]",
      "text/plain": [
       "<Figure size 720x504 with 1 Axes>"
      ]
     },
     "metadata": {
      "needs_background": "light"
     },
     "output_type": "display_data"
    }
   ],
   "source": [
    "plot_model_on_data(X_val,y_val,model)"
   ]
  },
  {
   "cell_type": "markdown",
   "id": "e4667cb9",
   "metadata": {},
   "source": [
    "## Nuove Features\n",
    "Andiamo ora ad introdurre nuove features: possiamo integrare informazioni note dai giorni precedenti ad ogni singola giornata.\n",
    "\n",
    "Possiamo usare `shift` per generare le variabili che si riferiscono ai dati dei giorni precenti."
   ]
  },
  {
   "cell_type": "code",
   "execution_count": 80,
   "id": "1ddc36ea",
   "metadata": {},
   "outputs": [],
   "source": [
    "features = {\n",
    "    \"Open\": open,\n",
    "    \"OpenShift1\": open.shift(1),\n",
    "    \"OpenShift2\": open.shift(2),\n",
    "    \"OpenShift3\": open.shift(3),\n",
    "    \"OpenShift4\": open.shift(4),\n",
    "}"
   ]
  },
  {
   "cell_type": "markdown",
   "id": "0d7a0cc0",
   "metadata": {},
   "source": [
    "Andiamo ora a testare il modello con le nuove features."
   ]
  },
  {
   "cell_type": "code",
   "execution_count": 81,
   "id": "1d500906",
   "metadata": {},
   "outputs": [
    {
     "name": "stdout",
     "output_type": "stream",
     "text": [
      "Gain: -8975.55€\n",
      " ROI: -22.962%\n"
     ]
    }
   ],
   "source": [
    "X, y = prepare_data(features, delta)\n",
    "X_train, X_val, y_train, y_val = train_test_split(X, y, test_size=0.4, shuffle=False)\n",
    "model = LinearRegression()\n",
    "model.fit(X_train, y_train)\n",
    "print_eval(X_val, y_val, model, open)"
   ]
  },
  {
   "cell_type": "markdown",
   "id": "ecb7790a",
   "metadata": {},
   "source": [
    "Si noti come nonostante l'aggiunta di features il modello non crea profitto, ma una perdita.\n",
    "\n",
    "Andiamo quindi ad aggiungere features diverse."
   ]
  },
  {
   "cell_type": "markdown",
   "id": "67b77887",
   "metadata": {},
   "source": [
    "- Exponential Moving Average, si tratta di una media mobile che si muove in seguito a variazioni di prezzo: raccoglie i dati generati nell'ultima sessione scartando i dati più vecchi della serie temporale. Quindi l'EMA risponde più rapidamente alle recenti variazioni di prezzo."
   ]
  },
  {
   "cell_type": "code",
   "execution_count": 82,
   "id": "b04607cd",
   "metadata": {},
   "outputs": [],
   "source": [
    "def calculate_ema(prices, days, smoothing=2):\n",
    "    ema = [sum(prices[:days]) / days]\n",
    "    for price in prices[days:]:\n",
    "        ema.append((price * (smoothing / (1 + days))) + ema[-1] * (1 - (smoothing / (1 + days))))\n",
    "    return ema\n",
    "\n",
    "\n",
    "ema = calculate_ema(data['Open'], 10) # Add this line to save EMA values in a list"
   ]
  },
  {
   "cell_type": "code",
   "execution_count": 83,
   "id": "9bc82d97",
   "metadata": {},
   "outputs": [],
   "source": [
    "ema = pd.Series(data=ema, index=data[9:].index)\n",
    "data[\"EMA\"] = ema"
   ]
  },
  {
   "cell_type": "code",
   "execution_count": 84,
   "id": "61c389f8",
   "metadata": {
    "scrolled": true
   },
   "outputs": [
    {
     "data": {
      "image/png": "[encoded data removed]",
      "text/plain": [
       "<Figure size 1152x504 with 1 Axes>"
      ]
     },
     "metadata": {
      "needs_background": "light"
     },
     "output_type": "display_data"
    }
   ],
   "source": [
    "price_X = np.arange(data.shape[0])\n",
    "ema_X = np.arange(10, data.shape[0]+1)\n",
    "plt.figure(figsize=(16, 7))\n",
    "plt.xlabel('Giorni')\n",
    "plt.ylabel('Prezzo')\n",
    "plt.plot(price_X, data['Open'], label='Prezzo Chiusura')\n",
    "plt.plot(ema_X, ema, label='EMA')\n",
    "plt.legend()\n",
    "plt.show()"
   ]
  },
  {
   "cell_type": "code",
   "execution_count": 85,
   "id": "5507e66f",
   "metadata": {},
   "outputs": [],
   "source": [
    "features={\n",
    "    \"Open\": open,\n",
    "    \"OpenShift1\": open.shift(1),\n",
    "    \"OpenShift2\": open.shift(2),\n",
    "    \"OpenShift3\": open.shift(3),\n",
    "    \"EMA\": data[\"EMA\"]\n",
    "}"
   ]
  },
  {
   "cell_type": "code",
   "execution_count": 86,
   "id": "d0919ca2",
   "metadata": {
    "scrolled": false
   },
   "outputs": [
    {
     "name": "stdout",
     "output_type": "stream",
     "text": [
      "Gain: -38285.43€\n",
      " ROI: -97.824%\n"
     ]
    }
   ],
   "source": [
    "X, y = prepare_data(features, delta)\n",
    "X_train, X_val, y_train, y_val = train_test_split(X, y, test_size=TEST_SIZE, shuffle=False)\n",
    "model = LinearRegression()\n",
    "model.fit(X_train, y_train)\n",
    "print_eval(X_val, y_val, model, open)"
   ]
  },
  {
   "cell_type": "markdown",
   "id": "4f8371c7",
   "metadata": {},
   "source": [
    "Anche con l'aggiunta della feature EMA non si ottiene un buon risultato, questo è dovuto alla scarsa adattabilità della Regressione Lineare."
   ]
  },
  {
   "cell_type": "code",
   "execution_count": null,
   "id": "ce8797e9",
   "metadata": {},
   "outputs": [],
   "source": [
    "# TO DELETE, usato per testare giornaliero\n",
    "d = {\"Open\":[21586.84], \"OpenShift1\":[21265.11], \"OpenShift2\":[21593.53], \"OpenShift3\":[25490.08], \"OpenShift4\":[26971.01], \"EMA\":[24809.78]}\n",
    "model.predict(pd.DataFrame(d))"
   ]
  },
  {
   "cell_type": "markdown",
   "id": "15914394",
   "metadata": {},
   "source": [
    "Aggiungiamo al nostro dataset MACD: Moving Average Convergence Divergence.\n",
    "- Come suggerisce il nome, l'indicatore valuta due medie mobili e la relazione tra loro."
   ]
  },
  {
   "cell_type": "code",
   "execution_count": 108,
   "id": "3127c0ea",
   "metadata": {},
   "outputs": [],
   "source": [
    "def computeMACD (df, n_fast, n_slow, n_smooth):\n",
    "    data = df['Open']\n",
    "    \n",
    "    fastEMA = data.ewm(span=n_fast, min_periods=n_slow).mean()\n",
    "    slowEMA = data.ewm(span=n_slow, min_periods=n_slow).mean()\n",
    "    MACD = pd.Series(fastEMA-slowEMA, name = 'MACD')\n",
    "    #MACDsig = pd.Series(MACD.ewm(span=n_smooth, min_periods=n_smooth).mean(), name='MACDsig')\n",
    "    #MACDhist = pd.Series(MACD - MACDsig, name = 'MACDhist')\n",
    "    df = df.join(MACD)\n",
    "    #df = df.join(MACDsig)\n",
    "    #df = df.join(MACDhist)\n",
    "    \n",
    "    return df"
   ]
  },
  {
   "cell_type": "code",
   "execution_count": 109,
   "id": "4a5134bf",
   "metadata": {},
   "outputs": [
    {
     "ename": "ValueError",
     "evalue": "columns overlap but no suffix specified: Index(['MACD'], dtype='object')",
     "output_type": "error",
     "traceback": [
      "\u001b[0;31m---------------------------------------------------------------------------\u001b[0m",
      "\u001b[0;31mValueError\u001b[0m                                Traceback (most recent call last)",
      "Input \u001b[0;32mIn [109]\u001b[0m, in \u001b[0;36m<cell line: 1>\u001b[0;34m()\u001b[0m\n\u001b[0;32m----> 1\u001b[0m data \u001b[38;5;241m=\u001b[39m \u001b[43mcomputeMACD\u001b[49m\u001b[43m(\u001b[49m\u001b[43mdata\u001b[49m\u001b[43m,\u001b[49m\u001b[43m \u001b[49m\u001b[38;5;241;43m12\u001b[39;49m\u001b[43m,\u001b[49m\u001b[43m \u001b[49m\u001b[38;5;241;43m26\u001b[39;49m\u001b[43m,\u001b[49m\u001b[43m \u001b[49m\u001b[38;5;241;43m9\u001b[39;49m\u001b[43m)\u001b[49m\n",
      "Input \u001b[0;32mIn [108]\u001b[0m, in \u001b[0;36mcomputeMACD\u001b[0;34m(df, n_fast, n_slow, n_smooth)\u001b[0m\n\u001b[1;32m      6\u001b[0m MACD \u001b[38;5;241m=\u001b[39m pd\u001b[38;5;241m.\u001b[39mSeries(fastEMA\u001b[38;5;241m-\u001b[39mslowEMA, name \u001b[38;5;241m=\u001b[39m \u001b[38;5;124m'\u001b[39m\u001b[38;5;124mMACD\u001b[39m\u001b[38;5;124m'\u001b[39m)\n\u001b[1;32m      7\u001b[0m \u001b[38;5;66;03m#MACDsig = pd.Series(MACD.ewm(span=n_smooth, min_periods=n_smooth).mean(), name='MACDsig')\u001b[39;00m\n\u001b[1;32m      8\u001b[0m \u001b[38;5;66;03m#MACDhist = pd.Series(MACD - MACDsig, name = 'MACDhist')\u001b[39;00m\n\u001b[0;32m----> 9\u001b[0m df \u001b[38;5;241m=\u001b[39m \u001b[43mdf\u001b[49m\u001b[38;5;241;43m.\u001b[39;49m\u001b[43mjoin\u001b[49m\u001b[43m(\u001b[49m\u001b[43mMACD\u001b[49m\u001b[43m)\u001b[49m\n\u001b[1;32m     10\u001b[0m \u001b[38;5;66;03m#df = df.join(MACDsig)\u001b[39;00m\n\u001b[1;32m     11\u001b[0m \u001b[38;5;66;03m#df = df.join(MACDhist)\u001b[39;00m\n\u001b[1;32m     13\u001b[0m \u001b[38;5;28;01mreturn\u001b[39;00m df\n",
      "File \u001b[0;32m/opt/homebrew/Caskroom/miniforge/tensorflow/lib/python3.9/site-packages/pandas/core/frame.py:9254\u001b[0m, in \u001b[0;36mDataFrame.join\u001b[0;34m(self, other, on, how, lsuffix, rsuffix, sort)\u001b[0m\n\u001b[1;32m   9100\u001b[0m \u001b[38;5;28;01mdef\u001b[39;00m \u001b[38;5;21mjoin\u001b[39m(\n\u001b[1;32m   9101\u001b[0m     \u001b[38;5;28mself\u001b[39m,\n\u001b[1;32m   9102\u001b[0m     other: DataFrame \u001b[38;5;241m|\u001b[39m Series,\n\u001b[0;32m   (...)\u001b[0m\n\u001b[1;32m   9107\u001b[0m     sort: \u001b[38;5;28mbool\u001b[39m \u001b[38;5;241m=\u001b[39m \u001b[38;5;28;01mFalse\u001b[39;00m,\n\u001b[1;32m   9108\u001b[0m ) \u001b[38;5;241m-\u001b[39m\u001b[38;5;241m>\u001b[39m DataFrame:\n\u001b[1;32m   9109\u001b[0m     \u001b[38;5;124;03m\"\"\"\u001b[39;00m\n\u001b[1;32m   9110\u001b[0m \u001b[38;5;124;03m    Join columns of another DataFrame.\u001b[39;00m\n\u001b[1;32m   9111\u001b[0m \n\u001b[0;32m   (...)\u001b[0m\n\u001b[1;32m   9252\u001b[0m \u001b[38;5;124;03m    5  K1  A5   B1\u001b[39;00m\n\u001b[1;32m   9253\u001b[0m \u001b[38;5;124;03m    \"\"\"\u001b[39;00m\n\u001b[0;32m-> 9254\u001b[0m     \u001b[38;5;28;01mreturn\u001b[39;00m \u001b[38;5;28;43mself\u001b[39;49m\u001b[38;5;241;43m.\u001b[39;49m\u001b[43m_join_compat\u001b[49m\u001b[43m(\u001b[49m\n\u001b[1;32m   9255\u001b[0m \u001b[43m        \u001b[49m\u001b[43mother\u001b[49m\u001b[43m,\u001b[49m\u001b[43m \u001b[49m\u001b[43mon\u001b[49m\u001b[38;5;241;43m=\u001b[39;49m\u001b[43mon\u001b[49m\u001b[43m,\u001b[49m\u001b[43m \u001b[49m\u001b[43mhow\u001b[49m\u001b[38;5;241;43m=\u001b[39;49m\u001b[43mhow\u001b[49m\u001b[43m,\u001b[49m\u001b[43m \u001b[49m\u001b[43mlsuffix\u001b[49m\u001b[38;5;241;43m=\u001b[39;49m\u001b[43mlsuffix\u001b[49m\u001b[43m,\u001b[49m\u001b[43m \u001b[49m\u001b[43mrsuffix\u001b[49m\u001b[38;5;241;43m=\u001b[39;49m\u001b[43mrsuffix\u001b[49m\u001b[43m,\u001b[49m\u001b[43m \u001b[49m\u001b[43msort\u001b[49m\u001b[38;5;241;43m=\u001b[39;49m\u001b[43msort\u001b[49m\n\u001b[1;32m   9256\u001b[0m \u001b[43m    \u001b[49m\u001b[43m)\u001b[49m\n",
      "File \u001b[0;32m/opt/homebrew/Caskroom/miniforge/tensorflow/lib/python3.9/site-packages/pandas/core/frame.py:9285\u001b[0m, in \u001b[0;36mDataFrame._join_compat\u001b[0;34m(self, other, on, how, lsuffix, rsuffix, sort)\u001b[0m\n\u001b[1;32m   9276\u001b[0m     \u001b[38;5;28;01mif\u001b[39;00m how \u001b[38;5;241m==\u001b[39m \u001b[38;5;124m\"\u001b[39m\u001b[38;5;124mcross\u001b[39m\u001b[38;5;124m\"\u001b[39m:\n\u001b[1;32m   9277\u001b[0m         \u001b[38;5;28;01mreturn\u001b[39;00m merge(\n\u001b[1;32m   9278\u001b[0m             \u001b[38;5;28mself\u001b[39m,\n\u001b[1;32m   9279\u001b[0m             other,\n\u001b[0;32m   (...)\u001b[0m\n\u001b[1;32m   9283\u001b[0m             sort\u001b[38;5;241m=\u001b[39msort,\n\u001b[1;32m   9284\u001b[0m         )\n\u001b[0;32m-> 9285\u001b[0m     \u001b[38;5;28;01mreturn\u001b[39;00m \u001b[43mmerge\u001b[49m\u001b[43m(\u001b[49m\n\u001b[1;32m   9286\u001b[0m \u001b[43m        \u001b[49m\u001b[38;5;28;43mself\u001b[39;49m\u001b[43m,\u001b[49m\n\u001b[1;32m   9287\u001b[0m \u001b[43m        \u001b[49m\u001b[43mother\u001b[49m\u001b[43m,\u001b[49m\n\u001b[1;32m   9288\u001b[0m \u001b[43m        \u001b[49m\u001b[43mleft_on\u001b[49m\u001b[38;5;241;43m=\u001b[39;49m\u001b[43mon\u001b[49m\u001b[43m,\u001b[49m\n\u001b[1;32m   9289\u001b[0m \u001b[43m        \u001b[49m\u001b[43mhow\u001b[49m\u001b[38;5;241;43m=\u001b[39;49m\u001b[43mhow\u001b[49m\u001b[43m,\u001b[49m\n\u001b[1;32m   9290\u001b[0m \u001b[43m        \u001b[49m\u001b[43mleft_index\u001b[49m\u001b[38;5;241;43m=\u001b[39;49m\u001b[43mon\u001b[49m\u001b[43m \u001b[49m\u001b[38;5;129;43;01mis\u001b[39;49;00m\u001b[43m \u001b[49m\u001b[38;5;28;43;01mNone\u001b[39;49;00m\u001b[43m,\u001b[49m\n\u001b[1;32m   9291\u001b[0m \u001b[43m        \u001b[49m\u001b[43mright_index\u001b[49m\u001b[38;5;241;43m=\u001b[39;49m\u001b[38;5;28;43;01mTrue\u001b[39;49;00m\u001b[43m,\u001b[49m\n\u001b[1;32m   9292\u001b[0m \u001b[43m        \u001b[49m\u001b[43msuffixes\u001b[49m\u001b[38;5;241;43m=\u001b[39;49m\u001b[43m(\u001b[49m\u001b[43mlsuffix\u001b[49m\u001b[43m,\u001b[49m\u001b[43m \u001b[49m\u001b[43mrsuffix\u001b[49m\u001b[43m)\u001b[49m\u001b[43m,\u001b[49m\n\u001b[1;32m   9293\u001b[0m \u001b[43m        \u001b[49m\u001b[43msort\u001b[49m\u001b[38;5;241;43m=\u001b[39;49m\u001b[43msort\u001b[49m\u001b[43m,\u001b[49m\n\u001b[1;32m   9294\u001b[0m \u001b[43m    \u001b[49m\u001b[43m)\u001b[49m\n\u001b[1;32m   9295\u001b[0m \u001b[38;5;28;01melse\u001b[39;00m:\n\u001b[1;32m   9296\u001b[0m     \u001b[38;5;28;01mif\u001b[39;00m on \u001b[38;5;129;01mis\u001b[39;00m \u001b[38;5;129;01mnot\u001b[39;00m \u001b[38;5;28;01mNone\u001b[39;00m:\n",
      "File \u001b[0;32m/opt/homebrew/Caskroom/miniforge/tensorflow/lib/python3.9/site-packages/pandas/core/reshape/merge.py:122\u001b[0m, in \u001b[0;36mmerge\u001b[0;34m(left, right, how, on, left_on, right_on, left_index, right_index, sort, suffixes, copy, indicator, validate)\u001b[0m\n\u001b[1;32m     90\u001b[0m \u001b[38;5;129m@Substitution\u001b[39m(\u001b[38;5;124m\"\u001b[39m\u001b[38;5;130;01m\\n\u001b[39;00m\u001b[38;5;124mleft : DataFrame or named Series\u001b[39m\u001b[38;5;124m\"\u001b[39m)\n\u001b[1;32m     91\u001b[0m \u001b[38;5;129m@Appender\u001b[39m(_merge_doc, indents\u001b[38;5;241m=\u001b[39m\u001b[38;5;241m0\u001b[39m)\n\u001b[1;32m     92\u001b[0m \u001b[38;5;28;01mdef\u001b[39;00m \u001b[38;5;21mmerge\u001b[39m(\n\u001b[0;32m   (...)\u001b[0m\n\u001b[1;32m    105\u001b[0m     validate: \u001b[38;5;28mstr\u001b[39m \u001b[38;5;241m|\u001b[39m \u001b[38;5;28;01mNone\u001b[39;00m \u001b[38;5;241m=\u001b[39m \u001b[38;5;28;01mNone\u001b[39;00m,\n\u001b[1;32m    106\u001b[0m ) \u001b[38;5;241m-\u001b[39m\u001b[38;5;241m>\u001b[39m DataFrame:\n\u001b[1;32m    107\u001b[0m     op \u001b[38;5;241m=\u001b[39m _MergeOperation(\n\u001b[1;32m    108\u001b[0m         left,\n\u001b[1;32m    109\u001b[0m         right,\n\u001b[0;32m   (...)\u001b[0m\n\u001b[1;32m    120\u001b[0m         validate\u001b[38;5;241m=\u001b[39mvalidate,\n\u001b[1;32m    121\u001b[0m     )\n\u001b[0;32m--> 122\u001b[0m     \u001b[38;5;28;01mreturn\u001b[39;00m \u001b[43mop\u001b[49m\u001b[38;5;241;43m.\u001b[39;49m\u001b[43mget_result\u001b[49m\u001b[43m(\u001b[49m\u001b[43m)\u001b[49m\n",
      "File \u001b[0;32m/opt/homebrew/Caskroom/miniforge/tensorflow/lib/python3.9/site-packages/pandas/core/reshape/merge.py:718\u001b[0m, in \u001b[0;36m_MergeOperation.get_result\u001b[0;34m(self)\u001b[0m\n\u001b[1;32m    714\u001b[0m     \u001b[38;5;28mself\u001b[39m\u001b[38;5;241m.\u001b[39mleft, \u001b[38;5;28mself\u001b[39m\u001b[38;5;241m.\u001b[39mright \u001b[38;5;241m=\u001b[39m \u001b[38;5;28mself\u001b[39m\u001b[38;5;241m.\u001b[39m_indicator_pre_merge(\u001b[38;5;28mself\u001b[39m\u001b[38;5;241m.\u001b[39mleft, \u001b[38;5;28mself\u001b[39m\u001b[38;5;241m.\u001b[39mright)\n\u001b[1;32m    716\u001b[0m join_index, left_indexer, right_indexer \u001b[38;5;241m=\u001b[39m \u001b[38;5;28mself\u001b[39m\u001b[38;5;241m.\u001b[39m_get_join_info()\n\u001b[0;32m--> 718\u001b[0m llabels, rlabels \u001b[38;5;241m=\u001b[39m \u001b[43m_items_overlap_with_suffix\u001b[49m\u001b[43m(\u001b[49m\n\u001b[1;32m    719\u001b[0m \u001b[43m    \u001b[49m\u001b[38;5;28;43mself\u001b[39;49m\u001b[38;5;241;43m.\u001b[39;49m\u001b[43mleft\u001b[49m\u001b[38;5;241;43m.\u001b[39;49m\u001b[43m_info_axis\u001b[49m\u001b[43m,\u001b[49m\u001b[43m \u001b[49m\u001b[38;5;28;43mself\u001b[39;49m\u001b[38;5;241;43m.\u001b[39;49m\u001b[43mright\u001b[49m\u001b[38;5;241;43m.\u001b[39;49m\u001b[43m_info_axis\u001b[49m\u001b[43m,\u001b[49m\u001b[43m \u001b[49m\u001b[38;5;28;43mself\u001b[39;49m\u001b[38;5;241;43m.\u001b[39;49m\u001b[43msuffixes\u001b[49m\n\u001b[1;32m    720\u001b[0m \u001b[43m\u001b[49m\u001b[43m)\u001b[49m\n\u001b[1;32m    722\u001b[0m lindexers \u001b[38;5;241m=\u001b[39m {\u001b[38;5;241m1\u001b[39m: left_indexer} \u001b[38;5;28;01mif\u001b[39;00m left_indexer \u001b[38;5;129;01mis\u001b[39;00m \u001b[38;5;129;01mnot\u001b[39;00m \u001b[38;5;28;01mNone\u001b[39;00m \u001b[38;5;28;01melse\u001b[39;00m {}\n\u001b[1;32m    723\u001b[0m rindexers \u001b[38;5;241m=\u001b[39m {\u001b[38;5;241m1\u001b[39m: right_indexer} \u001b[38;5;28;01mif\u001b[39;00m right_indexer \u001b[38;5;129;01mis\u001b[39;00m \u001b[38;5;129;01mnot\u001b[39;00m \u001b[38;5;28;01mNone\u001b[39;00m \u001b[38;5;28;01melse\u001b[39;00m {}\n",
      "File \u001b[0;32m/opt/homebrew/Caskroom/miniforge/tensorflow/lib/python3.9/site-packages/pandas/core/reshape/merge.py:2313\u001b[0m, in \u001b[0;36m_items_overlap_with_suffix\u001b[0;34m(left, right, suffixes)\u001b[0m\n\u001b[1;32m   2310\u001b[0m lsuffix, rsuffix \u001b[38;5;241m=\u001b[39m suffixes\n\u001b[1;32m   2312\u001b[0m \u001b[38;5;28;01mif\u001b[39;00m \u001b[38;5;129;01mnot\u001b[39;00m lsuffix \u001b[38;5;129;01mand\u001b[39;00m \u001b[38;5;129;01mnot\u001b[39;00m rsuffix:\n\u001b[0;32m-> 2313\u001b[0m     \u001b[38;5;28;01mraise\u001b[39;00m \u001b[38;5;167;01mValueError\u001b[39;00m(\u001b[38;5;124mf\u001b[39m\u001b[38;5;124m\"\u001b[39m\u001b[38;5;124mcolumns overlap but no suffix specified: \u001b[39m\u001b[38;5;132;01m{\u001b[39;00mto_rename\u001b[38;5;132;01m}\u001b[39;00m\u001b[38;5;124m\"\u001b[39m)\n\u001b[1;32m   2315\u001b[0m \u001b[38;5;28;01mdef\u001b[39;00m \u001b[38;5;21mrenamer\u001b[39m(x, suffix):\n\u001b[1;32m   2316\u001b[0m     \u001b[38;5;124;03m\"\"\"\u001b[39;00m\n\u001b[1;32m   2317\u001b[0m \u001b[38;5;124;03m    Rename the left and right indices.\u001b[39;00m\n\u001b[1;32m   2318\u001b[0m \n\u001b[0;32m   (...)\u001b[0m\n\u001b[1;32m   2329\u001b[0m \u001b[38;5;124;03m    x : renamed column name\u001b[39;00m\n\u001b[1;32m   2330\u001b[0m \u001b[38;5;124;03m    \"\"\"\u001b[39;00m\n",
      "\u001b[0;31mValueError\u001b[0m: columns overlap but no suffix specified: Index(['MACD'], dtype='object')"
     ]
    }
   ],
   "source": [
    "data = computeMACD(data, 12, 26, 9)"
   ]
  },
  {
   "cell_type": "code",
   "execution_count": 90,
   "id": "37c74bb6",
   "metadata": {},
   "outputs": [],
   "source": [
    "features={\n",
    "    \"Open\": open,\n",
    "    \"OpenShift1\": open.shift(1),\n",
    "    \"OpenShift2\": open.shift(2),\n",
    "    \"OpenShift3\": open.shift(3),\n",
    "    \"OpenShift4\": open.shift(4),\n",
    "    \"EMA\": data[\"EMA\"],\n",
    "    \"MACD\": data[\"MACD\"],\n",
    "}"
   ]
  },
  {
   "cell_type": "code",
   "execution_count": 94,
   "id": "64540cef",
   "metadata": {},
   "outputs": [
    {
     "name": "stdout",
     "output_type": "stream",
     "text": [
      "Gain: 16675.75€\n",
      " ROI: 180.842%\n",
      "Gain: -12861.09€\n",
      " ROI: -32.756%\n"
     ]
    }
   ],
   "source": [
    "X, y = prepare_data(features, delta)\n",
    "X_train, X_val, y_train, y_val = train_test_split(X, y, test_size=TEST_SIZE, shuffle=False)\n",
    "model = LinearRegression()\n",
    "model.fit(X_train, y_train)\n",
    "print_eval(X_train, y_train, model, open)\n",
    "print_eval(X_val, y_val, model, open)"
   ]
  },
  {
   "cell_type": "markdown",
   "id": "bbcfd13c",
   "metadata": {},
   "source": [
    "È possibile notare come l'aggiunta di nuove features permette di avere una perdita sempre minore, sfortunatamente la limitazione della Regressione Lineare non permette di ottenere risultati tanto migliori, quindi valutiamo altri metodi."
   ]
  },
  {
   "cell_type": "markdown",
   "id": "0a0d513d",
   "metadata": {},
   "source": [
    "Continuiamo ad aggiungere features utili alla predizione del valore di chiusura."
   ]
  },
  {
   "cell_type": "markdown",
   "id": "7e9d0874",
   "metadata": {},
   "source": [
    "## Test 2: XGBoost"
   ]
  },
  {
   "cell_type": "code",
   "execution_count": 92,
   "id": "958fff1c",
   "metadata": {},
   "outputs": [],
   "source": [
    "import xgboost\n",
    "from xgboost import XGBRegressor"
   ]
  },
  {
   "cell_type": "code",
   "execution_count": 95,
   "id": "94907872",
   "metadata": {},
   "outputs": [
    {
     "name": "stderr",
     "output_type": "stream",
     "text": [
      "/opt/homebrew/Caskroom/miniforge/tensorflow/lib/python3.9/site-packages/xgboost/data.py:262: FutureWarning:\n",
      "\n",
      "pandas.Int64Index is deprecated and will be removed from pandas in a future version. Use pandas.Index with the appropriate dtype instead.\n",
      "\n"
     ]
    },
    {
     "name": "stdout",
     "output_type": "stream",
     "text": [
      "[15:19:10] WARNING: /Users/runner/miniforge3/conda-bld/xgboost-split_1645117899018/work/src/learner.cc:576: \n",
      "Parameters: { \"verbose_eval\" } might not be used.\n",
      "\n",
      "  This could be a false alarm, with some parameters getting used by language bindings but\n",
      "  then being mistakenly passed down to XGBoost core, or some parameter actually being used\n",
      "  but getting flagged wrongly here. Please open an issue if you find any such cases.\n",
      "\n",
      "\n",
      "Gain: 176450.10€\n",
      " ROI: 1913.532%\n",
      "Gain: 8627.67€\n",
      " ROI: 21.974%\n"
     ]
    }
   ],
   "source": [
    "xgbm = XGBRegressor(objective='reg:squarederror', learning_rate = 0.01577, reg_lambda=0.008, reg_alpha=0.0001, n_estimators=1025, verbose_eval=False)\n",
    "xgbm.fit(X_train, y_train)\n",
    "print_eval(X_train, y_train, xgbm, open)\n",
    "print_eval(X_val, y_val, xgbm, open)"
   ]
  },
  {
   "cell_type": "markdown",
   "id": "59306842",
   "metadata": {},
   "source": [
    "Importanza delle features"
   ]
  },
  {
   "cell_type": "code",
   "execution_count": 96,
   "id": "dee645bc",
   "metadata": {
    "scrolled": true
   },
   "outputs": [
    {
     "data": {
      "text/plain": [
       "MACD          0.277138\n",
       "OpenShift1    0.221454\n",
       "EMA           0.123638\n",
       "OpenShift3    0.113381\n",
       "OpenShift4    0.105333\n",
       "OpenShift2    0.098630\n",
       "Open          0.060425\n",
       "dtype: float32"
      ]
     },
     "execution_count": 96,
     "metadata": {},
     "output_type": "execute_result"
    }
   ],
   "source": [
    "pd.Series(xgbm.feature_importances_, index=features.keys()).sort_values(ascending=False)"
   ]
  },
  {
   "cell_type": "code",
   "execution_count": 99,
   "id": "aa99a534",
   "metadata": {},
   "outputs": [
    {
     "name": "stdout",
     "output_type": "stream",
     "text": [
      "1.0.6\n"
     ]
    }
   ],
   "source": [
    "import catboost\n",
    "print(catboost.__version__)\n",
    "from catboost import CatBoostRegressor"
   ]
  },
  {
   "cell_type": "code",
   "execution_count": 100,
   "id": "116d058f",
   "metadata": {},
   "outputs": [
    {
     "name": "stdout",
     "output_type": "stream",
     "text": [
      "CPU times: user 227 ms, sys: 118 ms, total: 344 ms\n",
      "Wall time: 164 ms\n"
     ]
    },
    {
     "data": {
      "text/plain": [
       "<catboost.core.CatBoostRegressor at 0x28d1cc6a0>"
      ]
     },
     "execution_count": 100,
     "metadata": {},
     "output_type": "execute_result"
    }
   ],
   "source": [
    "# istanziazione e addestramento: con 91 estimatori \n",
    "catbm = CatBoostRegressor(n_estimators=91) #90\n",
    "%time catbm.fit(X_train, y_train, verbose=False)"
   ]
  },
  {
   "cell_type": "code",
   "execution_count": 102,
   "id": "c87b378e",
   "metadata": {
    "scrolled": true
   },
   "outputs": [
    {
     "name": "stdout",
     "output_type": "stream",
     "text": [
      "Gain: 16055.61€\n",
      " ROI: 40.892%\n"
     ]
    }
   ],
   "source": [
    "print_eval(X_val, y_val, catbm, open)"
   ]
  },
  {
   "cell_type": "code",
   "execution_count": 105,
   "id": "36385b52",
   "metadata": {},
   "outputs": [],
   "source": [
    "from lightgbm import LGBMRegressor "
   ]
  },
  {
   "cell_type": "code",
   "execution_count": 106,
   "id": "8d14c350",
   "metadata": {},
   "outputs": [
    {
     "name": "stderr",
     "output_type": "stream",
     "text": [
      "/opt/homebrew/Caskroom/miniforge/tensorflow/lib/python3.9/site-packages/lightgbm/engine.py:177: UserWarning:\n",
      "\n",
      "Found `num_trees` in params. Will use it instead of argument\n",
      "\n"
     ]
    },
    {
     "name": "stdout",
     "output_type": "stream",
     "text": [
      "[LightGBM] [Warning] num_iterations is set=1025, num_trees=1025 will be ignored. Current value: num_iterations=1025\n",
      "CPU times: user 20 s, sys: 12.1 s, total: 32.1 s\n",
      "Wall time: 10.8 s\n"
     ]
    },
    {
     "data": {
      "text/plain": [
       "LGBMRegressor(learning_rate=0.177, num_trees=1025, reg_alpha=0.0001,\n",
       "              reg_lambda=0.001)"
      ]
     },
     "execution_count": 106,
     "metadata": {},
     "output_type": "execute_result"
    }
   ],
   "source": [
    "%%time\n",
    "lgbm = LGBMRegressor(num_trees = 1025, learning_rate = 0.177, reg_lambda=0.001, reg_alpha=0.0001)\n",
    "lgbm.fit(X_train, y_train)"
   ]
  },
  {
   "cell_type": "code",
   "execution_count": 107,
   "id": "0d8dfb44",
   "metadata": {},
   "outputs": [
    {
     "name": "stdout",
     "output_type": "stream",
     "text": [
      "Gain: -56631.00€\n",
      " ROI: -144.234%\n"
     ]
    }
   ],
   "source": [
    "print_eval(X_val, y_val, lgbm, open)"
   ]
  },
  {
   "cell_type": "code",
   "execution_count": null,
   "id": "32741695",
   "metadata": {},
   "outputs": [],
   "source": []
  }
 ],
 "metadata": {
  "kernelspec": {
   "display_name": "Python 3 (ipykernel)",
   "language": "python",
   "name": "python3"
  },
  "language_info": {
   "codemirror_mode": {
    "name": "ipython",
    "version": 3
   },
   "file_extension": ".py",
   "mimetype": "text/x-python",
   "name": "python",
   "nbconvert_exporter": "python",
   "pygments_lexer": "ipython3",
   "version": "3.9.12"
  }
 },
 "nbformat": 4,
 "nbformat_minor": 5
}

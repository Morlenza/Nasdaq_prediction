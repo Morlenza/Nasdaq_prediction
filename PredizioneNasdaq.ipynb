{
 "cells": [
  {
   "cell_type": "code",
   "execution_count": 323,
   "id": "cc1a9b60",
   "metadata": {},
   "outputs": [],
   "source": [
    "import numpy as np\n",
    "import pandas as pd\n",
    "import matplotlib.pyplot as plt\n",
    "import sklearn\n",
    "%matplotlib inline\n",
    "import yfinance\n",
    "from utility import gain, plot_model_on_data, roi, prepare_data, print_eval"
   ]
  },
  {
   "cell_type": "code",
   "execution_count": 324,
   "id": "4b182820",
   "metadata": {},
   "outputs": [],
   "source": [
    "nasdaq = yfinance.Ticker(\"^IXIC\")"
   ]
  },
  {
   "cell_type": "code",
   "execution_count": 325,
   "id": "7cb8934c",
   "metadata": {},
   "outputs": [],
   "source": [
    "data = nasdaq.history(start=\"2011-01-01\", end=\"2021-12-31\", actions=False)"
   ]
  },
  {
   "cell_type": "code",
   "execution_count": 326,
   "id": "b026d1fb",
   "metadata": {},
   "outputs": [],
   "source": [
    "open = data[\"Open\"]\n",
    "close = data[\"Close\"]\n",
    "\n",
    "features= {\n",
    "    \"Open\": open\n",
    "}\n",
    "\n",
    "X = pd.DataFrame(features)\n",
    "y = close\n",
    "\n",
    "def split_data(X, y, split):\n",
    "    lowerRange = X.index.year < split\n",
    "    upperRange = (X.index.year > split-1) & (X.index.year < split+1)\n",
    "    X_train = X.loc[lowerRange]\n",
    "    y_train = y.loc[lowerRange]\n",
    "    X_val = X.loc[upperRange]\n",
    "    y_val = y.loc[upperRange]\n",
    "    return X_train, X_val, y_train, y_val\n",
    "\n",
    "X_train, X_val, y_train, y_val = split_data(X, y, 2012)"
   ]
  },
  {
   "cell_type": "code",
   "execution_count": 327,
   "id": "5369d8c5",
   "metadata": {},
   "outputs": [
    {
     "data": {
      "text/plain": [
       "0.9522082278765175"
      ]
     },
     "execution_count": 327,
     "metadata": {},
     "output_type": "execute_result"
    }
   ],
   "source": [
    "from sklearn.linear_model import LinearRegression\n",
    "model = LinearRegression()\n",
    "model.fit(X_train,y_train)\n",
    "model.score(X_val, y_val)"
   ]
  },
  {
   "cell_type": "code",
   "execution_count": 328,
   "id": "a5d60926",
   "metadata": {},
   "outputs": [],
   "source": [
    "delta = close - open"
   ]
  },
  {
   "cell_type": "code",
   "execution_count": 329,
   "id": "cc990385",
   "metadata": {},
   "outputs": [],
   "source": [
    "\n",
    "features = {\n",
    "    \"Open\": open,\n",
    "    \"OpenShift1\": open.shift(1),\n",
    "    \"OpenShift2\": open.shift(2),\n",
    "    \"OpenShift3\": open.shift(3),\n",
    "    \"OpenShift4\": open.shift(4),\n",
    "}"
   ]
  },
  {
   "cell_type": "code",
   "execution_count": 330,
   "id": "88f5352d",
   "metadata": {},
   "outputs": [
    {
     "name": "stdout",
     "output_type": "stream",
     "text": [
      "Gain: 58.50€\n",
      " ROI: 0.407%\n"
     ]
    }
   ],
   "source": [
    "X, y = prepare_data(features, delta)\n",
    "X_train, X_val, y_train, y_val = split_data(X, y, 2021)\n",
    "model = LinearRegression()\n",
    "model.fit(X_train, y_train)\n",
    "print_eval(X_val, y_val, model, open)"
   ]
  },
  {
   "cell_type": "markdown",
   "id": "726bcc01",
   "metadata": {},
   "source": [
    "## Aggiungiamo Features"
   ]
  },
  {
   "cell_type": "code",
   "execution_count": 331,
   "id": "5c5fa533",
   "metadata": {},
   "outputs": [],
   "source": [
    "def calculate_ema(prices, days, smoothing=2):\n",
    "    ema = [sum(prices[:days]) / days]\n",
    "    for price in prices[days:]:\n",
    "        ema.append((price * (smoothing / (1 + days))) + ema[-1] * (1 - (smoothing / (1 + days))))\n",
    "    return ema\n",
    "\n",
    "def computeMACD (df, n_fast, n_slow, n_smooth):\n",
    "    data = df['Open']\n",
    "    \n",
    "    fastEMA = data.ewm(span=n_fast, min_periods=n_slow).mean()\n",
    "    slowEMA = data.ewm(span=n_slow, min_periods=n_slow).mean()\n",
    "    MACD = pd.Series(fastEMA-slowEMA, name = 'MACD')\n",
    "    df = df.join(MACD)\n",
    "    \n",
    "    return df\n"
   ]
  },
  {
   "cell_type": "code",
   "execution_count": 332,
   "id": "9aae7f6a",
   "metadata": {},
   "outputs": [],
   "source": [
    "def addEMA(first, second):\n",
    "    ema1 = calculate_ema(data['Open'], first)\n",
    "    ema2 = calculate_ema(data['Open'], second)\n",
    "\n",
    "    ema = (np.array(ema2) - np.array(ema1[(second-first):])) / np.array(ema2)\n",
    "    ema = pd.Series(data=ema, index=data[(second-1):].index)\n",
    "    data[f\"EMA{first}-{second}\"] = ema\n",
    "    features[f\"EMA{first}-{second}\"] = data[f\"EMA{first}-{second}\"]\n",
    "    \n",
    "\n",
    "addEMA(5,20)\n",
    "addEMA(8,15)\n",
    "addEMA(20,50)\n",
    "\n",
    "data = computeMACD(data, 12, 26, 9)\n",
    "\n",
    "features[\"MACD\"] = data[\"MACD\"]"
   ]
  },
  {
   "cell_type": "code",
   "execution_count": 338,
   "id": "5e13730f",
   "metadata": {},
   "outputs": [
    {
     "name": "stdout",
     "output_type": "stream",
     "text": [
      "Gain: -96.25€\n",
      " ROI: -1.946%\n"
     ]
    }
   ],
   "source": [
    "X, y = prepare_data(features, delta)\n",
    "X_train, X_val, y_train, y_val = split_data(X, y, 2015)\n",
    "model = LinearRegression()\n",
    "model.fit(X_train, y_train)\n",
    "print_eval(X_val, y_val, model, open)"
   ]
  },
  {
   "cell_type": "code",
   "execution_count": 334,
   "id": "7651e25c",
   "metadata": {},
   "outputs": [
    {
     "data": {
      "text/plain": [
       "{'Open': Date\n",
       " 2010-12-31     2660.580078\n",
       " 2011-01-03     2676.649902\n",
       " 2011-01-04     2699.860107\n",
       " 2011-01-05     2673.909912\n",
       " 2011-01-06     2704.379883\n",
       "                   ...     \n",
       " 2021-12-23    15544.790039\n",
       " 2021-12-27    15696.830078\n",
       " 2021-12-28    15895.200195\n",
       " 2021-12-29    15794.919922\n",
       " 2021-12-30    15758.980469\n",
       " Name: Open, Length: 2769, dtype: float64,\n",
       " 'OpenShift1': Date\n",
       " 2010-12-31             NaN\n",
       " 2011-01-03     2660.580078\n",
       " 2011-01-04     2676.649902\n",
       " 2011-01-05     2699.860107\n",
       " 2011-01-06     2673.909912\n",
       "                   ...     \n",
       " 2021-12-23    15319.160156\n",
       " 2021-12-27    15544.790039\n",
       " 2021-12-28    15696.830078\n",
       " 2021-12-29    15895.200195\n",
       " 2021-12-30    15794.919922\n",
       " Name: Open, Length: 2769, dtype: float64,\n",
       " 'OpenShift2': Date\n",
       " 2010-12-31             NaN\n",
       " 2011-01-03             NaN\n",
       " 2011-01-04     2660.580078\n",
       " 2011-01-05     2676.649902\n",
       " 2011-01-06     2699.860107\n",
       "                   ...     \n",
       " 2021-12-23    15140.429688\n",
       " 2021-12-27    15319.160156\n",
       " 2021-12-28    15544.790039\n",
       " 2021-12-29    15696.830078\n",
       " 2021-12-30    15895.200195\n",
       " Name: Open, Length: 2769, dtype: float64,\n",
       " 'OpenShift3': Date\n",
       " 2010-12-31             NaN\n",
       " 2011-01-03             NaN\n",
       " 2011-01-04             NaN\n",
       " 2011-01-05     2660.580078\n",
       " 2011-01-06     2676.649902\n",
       "                   ...     \n",
       " 2021-12-23    14933.000000\n",
       " 2021-12-27    15140.429688\n",
       " 2021-12-28    15319.160156\n",
       " 2021-12-29    15544.790039\n",
       " 2021-12-30    15696.830078\n",
       " Name: Open, Length: 2769, dtype: float64,\n",
       " 'OpenShift4': Date\n",
       " 2010-12-31             NaN\n",
       " 2011-01-03             NaN\n",
       " 2011-01-04             NaN\n",
       " 2011-01-05             NaN\n",
       " 2011-01-06     2660.580078\n",
       "                   ...     \n",
       " 2021-12-23    15036.769531\n",
       " 2021-12-27    14933.000000\n",
       " 2021-12-28    15140.429688\n",
       " 2021-12-29    15319.160156\n",
       " 2021-12-30    15544.790039\n",
       " Name: Open, Length: 2769, dtype: float64,\n",
       " 'EMA5-20': Date\n",
       " 2010-12-31         NaN\n",
       " 2011-01-03         NaN\n",
       " 2011-01-04         NaN\n",
       " 2011-01-05         NaN\n",
       " 2011-01-06         NaN\n",
       "                 ...   \n",
       " 2021-12-23    0.005927\n",
       " 2021-12-27   -0.000279\n",
       " 2021-12-28   -0.007046\n",
       " 2021-12-29   -0.009345\n",
       " 2021-12-30   -0.009877\n",
       " Name: EMA5-20, Length: 2769, dtype: float64,\n",
       " 'EMA8-15': Date\n",
       " 2010-12-31         NaN\n",
       " 2011-01-03         NaN\n",
       " 2011-01-04         NaN\n",
       " 2011-01-05         NaN\n",
       " 2011-01-06         NaN\n",
       "                 ...   \n",
       " 2021-12-23    0.003795\n",
       " 2021-12-27    0.001004\n",
       " 2021-12-28   -0.002160\n",
       " 2021-12-29   -0.003612\n",
       " 2021-12-30   -0.004270\n",
       " Name: EMA8-15, Length: 2769, dtype: float64,\n",
       " 'EMA20-50': Date\n",
       " 2010-12-31         NaN\n",
       " 2011-01-03         NaN\n",
       " 2011-01-04         NaN\n",
       " 2011-01-05         NaN\n",
       " 2011-01-06         NaN\n",
       "                 ...   \n",
       " 2021-12-23   -0.001380\n",
       " 2021-12-27   -0.002321\n",
       " 2021-12-28   -0.003847\n",
       " 2021-12-29   -0.004794\n",
       " 2021-12-30   -0.005468\n",
       " Name: EMA20-50, Length: 2769, dtype: float64,\n",
       " 'MACD': Date\n",
       " 2010-12-31          NaN\n",
       " 2011-01-03          NaN\n",
       " 2011-01-04          NaN\n",
       " 2011-01-05          NaN\n",
       " 2011-01-06          NaN\n",
       "                 ...    \n",
       " 2021-12-23   -80.873574\n",
       " 2021-12-27   -48.212098\n",
       " 2021-12-28    -6.248800\n",
       " 2021-12-29    18.700074\n",
       " 2021-12-30    35.166841\n",
       " Name: MACD, Length: 2769, dtype: float64}"
      ]
     },
     "execution_count": 334,
     "metadata": {},
     "output_type": "execute_result"
    }
   ],
   "source": [
    "features"
   ]
  },
  {
   "cell_type": "code",
   "execution_count": null,
   "id": "5ab343dd",
   "metadata": {},
   "outputs": [],
   "source": []
  }
 ],
 "metadata": {
  "kernelspec": {
   "display_name": "Python 3 (ipykernel)",
   "language": "python",
   "name": "python3"
  },
  "language_info": {
   "codemirror_mode": {
    "name": "ipython",
    "version": 3
   },
   "file_extension": ".py",
   "mimetype": "text/x-python",
   "name": "python",
   "nbconvert_exporter": "python",
   "pygments_lexer": "ipython3",
   "version": "3.10.4"
  }
 },
 "nbformat": 4,
 "nbformat_minor": 5
}

{
 "cells": [
  {
   "cell_type": "markdown",
   "id": "bfc69852",
   "metadata": {},
   "source": [
    "# Predizione Indice Di Borsa: NASDAQ\n",
    "## Autori: Luca Morlino e Valerio Di Zio\n"
   ]
  },
  {
   "cell_type": "markdown",
   "id": "a5f950ac",
   "metadata": {},
   "source": [
    "## Descrizione del problema\n",
    "### Cos'è NASDAQ?\n",
    "Il Nasdaq Composite è l'indice azionario statunitense che comprende titoli nazionali e internazionali in cui sono quotate più di 5.200 società. È stato creato nel 1971 con una base di 100.\n",
    "Le società che compongono l'indice seguono i criteri di capitalizzazione. Il Nasdaq è un indice molto volatile dove sono integrate le più importanti società tecnologiche del mondo.\n",
    "\n",
    "### Obiettivo\n",
    "L'obiettivo generale è quello di creare un algoritmo che preveda il valore di chiusura del titolo a inizio giornata."
   ]
  },
  {
   "cell_type": "code",
   "execution_count": 1,
   "id": "c10d12e8",
   "metadata": {
    "scrolled": false
   },
   "outputs": [],
   "source": [
    "import numpy as np\n",
    "import pandas as pd\n",
    "import matplotlib.pyplot as plt\n",
    "import sklearn\n",
    "%matplotlib inline"
   ]
  },
  {
   "cell_type": "code",
   "execution_count": 2,
   "id": "56db2c10",
   "metadata": {},
   "outputs": [
    {
     "name": "stdout",
     "output_type": "stream",
     "text": [
      "Requirement already satisfied: sklearn in /Users/valerio/miniforge3/envs/di/lib/python3.10/site-packages (0.0)\n",
      "Requirement already satisfied: scikit-learn in /Users/valerio/miniforge3/envs/di/lib/python3.10/site-packages (from sklearn) (1.0.2)\n",
      "Requirement already satisfied: numpy>=1.14.6 in /Users/valerio/miniforge3/envs/di/lib/python3.10/site-packages (from scikit-learn->sklearn) (1.22.3)\n",
      "Requirement already satisfied: joblib>=0.11 in /Users/valerio/miniforge3/envs/di/lib/python3.10/site-packages (from scikit-learn->sklearn) (1.1.0)\n",
      "Requirement already satisfied: threadpoolctl>=2.0.0 in /Users/valerio/miniforge3/envs/di/lib/python3.10/site-packages (from scikit-learn->sklearn) (3.1.0)\n",
      "Requirement already satisfied: scipy>=1.1.0 in /Users/valerio/miniforge3/envs/di/lib/python3.10/site-packages (from scikit-learn->sklearn) (1.8.0)\n",
      "Note: you may need to restart the kernel to use updated packages.\n"
     ]
    }
   ],
   "source": [
    "pip install sklearn"
   ]
  },
  {
   "cell_type": "markdown",
   "id": "fc1093fa",
   "metadata": {},
   "source": [
    "## Estrazione dati\n",
    "I dati relativi a ^IXIC vengono scaricati dal servizio [Yahoo! Finance](https://it.finance.yahoo.com/).\n",
    "Per fare ciò viene utilizzata la libreria yfinance che permette l'estrazione di dati in forma di oggetti Python facilmente interrogabili.\n",
    "In particolare, la usiamo per ottenere i dati storici in forma di Dataframe Pandas."
   ]
  },
  {
   "cell_type": "code",
   "execution_count": 3,
   "id": "08483685",
   "metadata": {},
   "outputs": [],
   "source": [
    "import yfinance"
   ]
  },
  {
   "cell_type": "markdown",
   "id": "34ab1dea",
   "metadata": {},
   "source": [
    "- Creiamo un oggetto Ticker che rappresenta uno specifico titolo o indice\n",
    "- Nel nostro caso il simbolo del Nasdaq con il suo valore in dollari è ^IXIC"
   ]
  },
  {
   "cell_type": "code",
   "execution_count": 4,
   "id": "76466847",
   "metadata": {},
   "outputs": [],
   "source": [
    "nasdaq = yfinance.Ticker(\"^IXIC\")"
   ]
  },
  {
   "cell_type": "markdown",
   "id": "28e295ee",
   "metadata": {},
   "source": [
    "- Utilizziamo il metodo history per ottenere i dati storici, partendo dal 2 Gennaio 2011 fino al 31 Dicembre 2021."
   ]
  },
  {
   "cell_type": "code",
   "execution_count": 5,
   "id": "02bfb8b1",
   "metadata": {},
   "outputs": [],
   "source": [
    "data = nasdaq.history(start=\"2011-01-02\", end=\"2021-12-31\", actions=False)"
   ]
  },
  {
   "cell_type": "markdown",
   "id": "ab8b8ff8",
   "metadata": {},
   "source": [
    "Ad esempio, guardiamo i dati relativi agli ultimi 5 giorni dell'anno 2021. "
   ]
  },
  {
   "cell_type": "code",
   "execution_count": 6,
   "id": "93d76e94",
   "metadata": {
    "scrolled": true
   },
   "outputs": [
    {
     "data": {
      "text/html": [
       "<div>\n",
       "<style scoped>\n",
       "    .dataframe tbody tr th:only-of-type {\n",
       "        vertical-align: middle;\n",
       "    }\n",
       "\n",
       "    .dataframe tbody tr th {\n",
       "        vertical-align: top;\n",
       "    }\n",
       "\n",
       "    .dataframe thead th {\n",
       "        text-align: right;\n",
       "    }\n",
       "</style>\n",
       "<table border=\"1\" class=\"dataframe\">\n",
       "  <thead>\n",
       "    <tr style=\"text-align: right;\">\n",
       "      <th></th>\n",
       "      <th>Open</th>\n",
       "      <th>High</th>\n",
       "      <th>Low</th>\n",
       "      <th>Close</th>\n",
       "      <th>Volume</th>\n",
       "    </tr>\n",
       "    <tr>\n",
       "      <th>Date</th>\n",
       "      <th></th>\n",
       "      <th></th>\n",
       "      <th></th>\n",
       "      <th></th>\n",
       "      <th></th>\n",
       "    </tr>\n",
       "  </thead>\n",
       "  <tbody>\n",
       "    <tr>\n",
       "      <th>2021-12-23</th>\n",
       "      <td>15544.790039</td>\n",
       "      <td>15697.980469</td>\n",
       "      <td>15528.910156</td>\n",
       "      <td>15653.370117</td>\n",
       "      <td>3918200000</td>\n",
       "    </tr>\n",
       "    <tr>\n",
       "      <th>2021-12-27</th>\n",
       "      <td>15696.830078</td>\n",
       "      <td>15871.400391</td>\n",
       "      <td>15696.830078</td>\n",
       "      <td>15871.259766</td>\n",
       "      <td>3730120000</td>\n",
       "    </tr>\n",
       "    <tr>\n",
       "      <th>2021-12-28</th>\n",
       "      <td>15895.200195</td>\n",
       "      <td>15901.469727</td>\n",
       "      <td>15757.070312</td>\n",
       "      <td>15781.719727</td>\n",
       "      <td>3623600000</td>\n",
       "    </tr>\n",
       "    <tr>\n",
       "      <th>2021-12-29</th>\n",
       "      <td>15794.919922</td>\n",
       "      <td>15821.809570</td>\n",
       "      <td>15679.849609</td>\n",
       "      <td>15766.219727</td>\n",
       "      <td>3694500000</td>\n",
       "    </tr>\n",
       "    <tr>\n",
       "      <th>2021-12-30</th>\n",
       "      <td>15758.980469</td>\n",
       "      <td>15868.089844</td>\n",
       "      <td>15729.160156</td>\n",
       "      <td>15741.559570</td>\n",
       "      <td>3732730000</td>\n",
       "    </tr>\n",
       "  </tbody>\n",
       "</table>\n",
       "</div>"
      ],
      "text/plain": [
       "                    Open          High           Low         Close      Volume\n",
       "Date                                                                          \n",
       "2021-12-23  15544.790039  15697.980469  15528.910156  15653.370117  3918200000\n",
       "2021-12-27  15696.830078  15871.400391  15696.830078  15871.259766  3730120000\n",
       "2021-12-28  15895.200195  15901.469727  15757.070312  15781.719727  3623600000\n",
       "2021-12-29  15794.919922  15821.809570  15679.849609  15766.219727  3694500000\n",
       "2021-12-30  15758.980469  15868.089844  15729.160156  15741.559570  3732730000"
      ]
     },
     "execution_count": 6,
     "metadata": {},
     "output_type": "execute_result"
    }
   ],
   "source": [
    "data.tail(5)"
   ]
  },
  {
   "cell_type": "markdown",
   "id": "668fd7c7",
   "metadata": {},
   "source": [
    "Andiamo a contare il numero di istanze ricavate"
   ]
  },
  {
   "cell_type": "code",
   "execution_count": 7,
   "id": "bfdefc00",
   "metadata": {},
   "outputs": [
    {
     "data": {
      "text/plain": [
       "2768"
      ]
     },
     "execution_count": 7,
     "metadata": {},
     "output_type": "execute_result"
    }
   ],
   "source": [
    "data.shape[0]"
   ]
  },
  {
   "cell_type": "markdown",
   "id": "dae6778a",
   "metadata": {},
   "source": [
    "## Features\n",
    "Il nostro dataset, inizialmente, ha 5 features:\n",
    "- Open: è il valore in dollari di una singola azione all'orario di apertura\n",
    "- High: è il valore massimo in dollari raggiunto durante la giornata\n",
    "- Low: è il valore minimo in dollari raggiunto durante la giornata\n",
    "- Close: è il valore in dollari di una singola azione all'orario di chiusura\n",
    "- Volume: il volume di trading indica il numero di titoli scambiati in giornata\n",
    "\n",
    "Per comodità estraiamo una serie per ciascuna colonna, per potersi riferire ad esse con un unico nome."
   ]
  },
  {
   "cell_type": "code",
   "execution_count": 8,
   "id": "6aea60f2",
   "metadata": {},
   "outputs": [],
   "source": [
    "open = data[\"Open\"]\n",
    "high = data[\"High\"]\n",
    "low = data[\"Low\"]\n",
    "close = data[\"Close\"]\n",
    "volume = data[\"Volume\"]"
   ]
  },
  {
   "cell_type": "markdown",
   "id": "fabf5006",
   "metadata": {},
   "source": [
    "## Rappresentazione dei dati\n",
    "Possiamo tracciare il grafico dell'andamento del prezzo, basandoci sulla feature \"Open\"."
   ]
  },
  {
   "cell_type": "code",
   "execution_count": 9,
   "id": "d6dc8eae",
   "metadata": {
    "scrolled": true
   },
   "outputs": [
    {
     "data": {
      "image/png": "[encoded data removed]",
      "text/plain": [
       "<Figure size 1152x288 with 1 Axes>"
      ]
     },
     "metadata": {
      "needs_background": "light"
     },
     "output_type": "display_data"
    }
   ],
   "source": [
    "open.plot(figsize=(16,4))\n",
    "plt.title(\"Andamento prezzo del NASDAQ\")\n",
    "plt.xlabel(\"Anno\")\n",
    "plt.ylabel(\"Prezzo ($)\");"
   ]
  },
  {
   "cell_type": "markdown",
   "id": "999fd05a",
   "metadata": {},
   "source": [
    "Utilizzando la libreria plotly è possibile visualizzare in un unico grafico 4 features (Open, High, Low, Close)"
   ]
  },
  {
   "cell_type": "code",
   "execution_count": 10,
   "id": "c7152044",
   "metadata": {},
   "outputs": [],
   "source": [
    "import plotly.graph_objects as go"
   ]
  },
  {
   "cell_type": "code",
   "execution_count": 11,
   "id": "2747b44e",
   "metadata": {
    "scrolled": false
   },
   "outputs": [],
   "source": [
    "candlestick = go.Candlestick(\n",
    "                            x=data.index,\n",
    "                            open=open,\n",
    "                            high=high,\n",
    "                            low=low,\n",
    "                            close=close\n",
    "                            )\n"
   ]
  },
  {
   "cell_type": "markdown",
   "id": "9a81317f",
   "metadata": {},
   "source": [
    "Il grafico è rappresentato mediante l'utilizzo di Candele, queste ultime rappresentano l'andamento del prezzo di una giornata.\n",
    "\n",
    "<img src=\"candlestick.jpeg\" alt=\"Candlestick\" style=\"width:700px;\"/>\n"
   ]
  },
  {
   "cell_type": "code",
   "execution_count": 12,
   "id": "d2b642f3",
   "metadata": {},
   "outputs": [],
   "source": [
    "from ipywidgets.widgets import interact\n",
    "from datetime import timedelta, datetime"
   ]
  },
  {
   "cell_type": "markdown",
   "id": "482bab85",
   "metadata": {},
   "source": [
    "Mostriamo tramite grafico a candele gli ultimi 100 giorni."
   ]
  },
  {
   "cell_type": "code",
   "execution_count": 13,
   "id": "5bef79db",
   "metadata": {},
   "outputs": [],
   "source": [
    "termDate = datetime(2021, 12, 31)\n",
    "DD = timedelta(days=100)\n",
    "earlier = termDate - DD\n",
    "earlier_str = earlier.strftime(\"%Y-%m-%d\")"
   ]
  },
  {
   "cell_type": "code",
   "execution_count": 14,
   "id": "a901c2db",
   "metadata": {
    "scrolled": false
   },
   "outputs": [
    {
     "data": {
      "application/vnd.jupyter.widget-view+json": {
       "model_id": "1f226b9699d74029b07ec00c88f1438e",
       "version_major": 2,
       "version_minor": 0
      },
      "text/plain": [
       "interactive(children=(IntSlider(value=13000, description='ymin', max=13000, step=500), IntSlider(value=17000, …"
      ]
     },
     "metadata": {},
     "output_type": "display_data"
    }
   ],
   "source": [
    "@interact(ymin=(0,13000,500), ymax=(11000,30000,500))\n",
    "def plot_candlestick(ymin=13000, ymax=17000):    \n",
    "    fig = go.Figure(data=[candlestick])\n",
    "    fig.update_layout(\n",
    "        width=1000, height=700,\n",
    "        title=\"Andamento prezzo NASDAQ Candlestick\",\n",
    "        yaxis_title='Prezzo ($)'\n",
    "    )\n",
    "    fig.update_xaxes(type=\"date\", range=[earlier_str, termDate])\n",
    "    fig.update_yaxes(range=[ymin,ymax])\n",
    "    fig.show()"
   ]
  },
  {
   "cell_type": "markdown",
   "id": "7a912c5c",
   "metadata": {},
   "source": [
    "Mostriamo ora alcune statistiche generali raggruppate per anno, come:\n",
    "- Media\n",
    "- Deviazione Standard\n",
    "- Min e Max\n",
    "- Quartili\n"
   ]
  },
  {
   "cell_type": "code",
   "execution_count": 15,
   "id": "e15e68f5",
   "metadata": {
    "scrolled": false
   },
   "outputs": [
    {
     "data": {
      "text/html": [
       "<div>\n",
       "<style scoped>\n",
       "    .dataframe tbody tr th:only-of-type {\n",
       "        vertical-align: middle;\n",
       "    }\n",
       "\n",
       "    .dataframe tbody tr th {\n",
       "        vertical-align: top;\n",
       "    }\n",
       "\n",
       "    .dataframe thead th {\n",
       "        text-align: right;\n",
       "    }\n",
       "</style>\n",
       "<table border=\"1\" class=\"dataframe\">\n",
       "  <thead>\n",
       "    <tr style=\"text-align: right;\">\n",
       "      <th></th>\n",
       "      <th>count</th>\n",
       "      <th>mean</th>\n",
       "      <th>std</th>\n",
       "      <th>min</th>\n",
       "      <th>25%</th>\n",
       "      <th>50%</th>\n",
       "      <th>75%</th>\n",
       "      <th>max</th>\n",
       "    </tr>\n",
       "    <tr>\n",
       "      <th>Date</th>\n",
       "      <th></th>\n",
       "      <th></th>\n",
       "      <th></th>\n",
       "      <th></th>\n",
       "      <th></th>\n",
       "      <th></th>\n",
       "      <th></th>\n",
       "      <th></th>\n",
       "    </tr>\n",
       "  </thead>\n",
       "  <tbody>\n",
       "    <tr>\n",
       "      <th>2011</th>\n",
       "      <td>252.0</td>\n",
       "      <td>2676.244785</td>\n",
       "      <td>122.032911</td>\n",
       "      <td>2352.779907</td>\n",
       "      <td>2604.299988</td>\n",
       "      <td>2693.872559</td>\n",
       "      <td>2776.783752</td>\n",
       "      <td>2873.795044</td>\n",
       "    </tr>\n",
       "    <tr>\n",
       "      <th>2012</th>\n",
       "      <td>250.0</td>\n",
       "      <td>2963.932197</td>\n",
       "      <td>113.122627</td>\n",
       "      <td>2640.204956</td>\n",
       "      <td>2894.392517</td>\n",
       "      <td>2975.859985</td>\n",
       "      <td>3050.596283</td>\n",
       "      <td>3187.510010</td>\n",
       "    </tr>\n",
       "    <tr>\n",
       "      <th>2013</th>\n",
       "      <td>252.0</td>\n",
       "      <td>3539.060040</td>\n",
       "      <td>306.827311</td>\n",
       "      <td>3089.994995</td>\n",
       "      <td>3243.216248</td>\n",
       "      <td>3492.297485</td>\n",
       "      <td>3777.697510</td>\n",
       "      <td>4169.250000</td>\n",
       "    </tr>\n",
       "    <tr>\n",
       "      <th>2014</th>\n",
       "      <td>252.0</td>\n",
       "      <td>4373.320877</td>\n",
       "      <td>211.983366</td>\n",
       "      <td>3997.234985</td>\n",
       "      <td>4202.081360</td>\n",
       "      <td>4355.214966</td>\n",
       "      <td>4535.299988</td>\n",
       "      <td>4806.310059</td>\n",
       "    </tr>\n",
       "    <tr>\n",
       "      <th>2015</th>\n",
       "      <td>252.0</td>\n",
       "      <td>4943.834490</td>\n",
       "      <td>157.062179</td>\n",
       "      <td>4493.520020</td>\n",
       "      <td>4838.318787</td>\n",
       "      <td>4984.995117</td>\n",
       "      <td>5069.158813</td>\n",
       "      <td>5216.715088</td>\n",
       "    </tr>\n",
       "    <tr>\n",
       "      <th>2016</th>\n",
       "      <td>252.0</td>\n",
       "      <td>4985.242454</td>\n",
       "      <td>297.691485</td>\n",
       "      <td>4251.489990</td>\n",
       "      <td>4759.471130</td>\n",
       "      <td>4951.322510</td>\n",
       "      <td>5239.396118</td>\n",
       "      <td>5490.989990</td>\n",
       "    </tr>\n",
       "    <tr>\n",
       "      <th>2017</th>\n",
       "      <td>251.0</td>\n",
       "      <td>6231.484259</td>\n",
       "      <td>394.575343</td>\n",
       "      <td>5425.280029</td>\n",
       "      <td>5885.290161</td>\n",
       "      <td>6239.820068</td>\n",
       "      <td>6491.050049</td>\n",
       "      <td>6989.715088</td>\n",
       "    </tr>\n",
       "    <tr>\n",
       "      <th>2018</th>\n",
       "      <td>251.0</td>\n",
       "      <td>7426.148126</td>\n",
       "      <td>367.453986</td>\n",
       "      <td>6272.675049</td>\n",
       "      <td>7146.000122</td>\n",
       "      <td>7394.964844</td>\n",
       "      <td>7732.107544</td>\n",
       "      <td>8101.434814</td>\n",
       "    </tr>\n",
       "    <tr>\n",
       "      <th>2019</th>\n",
       "      <td>252.0</td>\n",
       "      <td>7934.295049</td>\n",
       "      <td>471.745590</td>\n",
       "      <td>6528.669922</td>\n",
       "      <td>7678.299988</td>\n",
       "      <td>7964.969971</td>\n",
       "      <td>8194.679871</td>\n",
       "      <td>9019.660156</td>\n",
       "    </tr>\n",
       "    <tr>\n",
       "      <th>2020</th>\n",
       "      <td>253.0</td>\n",
       "      <td>10192.485978</td>\n",
       "      <td>1468.692604</td>\n",
       "      <td>6808.179932</td>\n",
       "      <td>9147.544922</td>\n",
       "      <td>10252.209961</td>\n",
       "      <td>11319.454590</td>\n",
       "      <td>12897.645020</td>\n",
       "    </tr>\n",
       "    <tr>\n",
       "      <th>2021</th>\n",
       "      <td>251.0</td>\n",
       "      <td>14357.744158</td>\n",
       "      <td>876.600491</td>\n",
       "      <td>12669.129883</td>\n",
       "      <td>13647.839844</td>\n",
       "      <td>14413.490234</td>\n",
       "      <td>15081.087402</td>\n",
       "      <td>16069.175293</td>\n",
       "    </tr>\n",
       "  </tbody>\n",
       "</table>\n",
       "</div>"
      ],
      "text/plain": [
       "      count          mean          std           min           25%  \\\n",
       "Date                                                                 \n",
       "2011  252.0   2676.244785   122.032911   2352.779907   2604.299988   \n",
       "2012  250.0   2963.932197   113.122627   2640.204956   2894.392517   \n",
       "2013  252.0   3539.060040   306.827311   3089.994995   3243.216248   \n",
       "2014  252.0   4373.320877   211.983366   3997.234985   4202.081360   \n",
       "2015  252.0   4943.834490   157.062179   4493.520020   4838.318787   \n",
       "2016  252.0   4985.242454   297.691485   4251.489990   4759.471130   \n",
       "2017  251.0   6231.484259   394.575343   5425.280029   5885.290161   \n",
       "2018  251.0   7426.148126   367.453986   6272.675049   7146.000122   \n",
       "2019  252.0   7934.295049   471.745590   6528.669922   7678.299988   \n",
       "2020  253.0  10192.485978  1468.692604   6808.179932   9147.544922   \n",
       "2021  251.0  14357.744158   876.600491  12669.129883  13647.839844   \n",
       "\n",
       "               50%           75%           max  \n",
       "Date                                            \n",
       "2011   2693.872559   2776.783752   2873.795044  \n",
       "2012   2975.859985   3050.596283   3187.510010  \n",
       "2013   3492.297485   3777.697510   4169.250000  \n",
       "2014   4355.214966   4535.299988   4806.310059  \n",
       "2015   4984.995117   5069.158813   5216.715088  \n",
       "2016   4951.322510   5239.396118   5490.989990  \n",
       "2017   6239.820068   6491.050049   6989.715088  \n",
       "2018   7394.964844   7732.107544   8101.434814  \n",
       "2019   7964.969971   8194.679871   9019.660156  \n",
       "2020  10252.209961  11319.454590  12897.645020  \n",
       "2021  14413.490234  15081.087402  16069.175293  "
      ]
     },
     "execution_count": 15,
     "metadata": {},
     "output_type": "execute_result"
    }
   ],
   "source": [
    "hlm = (high + low) / 2\n",
    "hlm.groupby(hlm.index.year).describe()"
   ]
  },
  {
   "cell_type": "markdown",
   "id": "ce6525f1",
   "metadata": {},
   "source": [
    "Guardando i risultati notiamo come i valori della colonna `count` variano a seconda dell'anno, questo accade perché la borsa non è aperta 24/7 ma è chiusa in alcuni giorni, ad esempio i festivi.\n",
    "\n",
    "Notiamo anche come la media (`mean`) del prezzo aumenta ogni anno, il che rende il NASDAQ un indice solido.\n",
    "\n",
    "Notiamo anche come nel 2020, l'anno della pandemia, ci sia stata una deviazione standard (`std`) molto alta rispetto agli altri anni."
   ]
  },
  {
   "cell_type": "markdown",
   "id": "3de02e34",
   "metadata": {},
   "source": [
    "## Prevedere il valore di chiusura a inizio giornata"
   ]
  },
  {
   "cell_type": "markdown",
   "id": "9ea695c8",
   "metadata": {},
   "source": [
    "La variabile da predire è la features \"Close\" relativa alla data odierna."
   ]
  },
  {
   "cell_type": "code",
   "execution_count": 16,
   "id": "fcf184b2",
   "metadata": {},
   "outputs": [],
   "source": [
    "y = close"
   ]
  },
  {
   "cell_type": "markdown",
   "id": "dc02803a",
   "metadata": {},
   "source": [
    "`high`, `low`, `volume` non possono essere utilizzate in quanto il loro valore non è noto a inizio giornata.\n",
    "Attualmente l'unica feature utilizzabile è il valore `open`."
   ]
  },
  {
   "cell_type": "code",
   "execution_count": 17,
   "id": "33989cdb",
   "metadata": {
    "scrolled": true
   },
   "outputs": [],
   "source": [
    "features = {\"Open\" : open}\n",
    "X = pd.DataFrame(features)"
   ]
  },
  {
   "cell_type": "markdown",
   "id": "e2021426",
   "metadata": {},
   "source": [
    "Suddividiamo i dati in un training set e in un validation set con la funzione `split_data`. L'anno inserito verrà utilizzato come test e tutti i precedenti (fino al 2011) verranno utilizzati come training."
   ]
  },
  {
   "cell_type": "code",
   "execution_count": 18,
   "id": "77c6e0ec",
   "metadata": {},
   "outputs": [],
   "source": [
    "def split_data(X, y, split):\n",
    "    lowerRange = X.index.year < split\n",
    "    upperRange = (X.index.year > split-1) & (X.index.year < split+1)\n",
    "    X_train = X.loc[lowerRange]\n",
    "    y_train = y.loc[lowerRange]\n",
    "    X_val = X.loc[upperRange]\n",
    "    y_val = y.loc[upperRange]\n",
    "    return X_train, X_val, y_train, y_val"
   ]
  },
  {
   "cell_type": "markdown",
   "id": "4799005a",
   "metadata": {},
   "source": [
    "## Test 1: Regressione Lineare"
   ]
  },
  {
   "cell_type": "markdown",
   "id": "cbf95443",
   "metadata": {},
   "source": [
    "Creiamo il training e validation set con la funzione `split_data` e addestriamo un modello di regressione lineare  calcolandone R<sup>2</sup>."
   ]
  },
  {
   "cell_type": "code",
   "execution_count": 19,
   "id": "72f6ccd9",
   "metadata": {
    "scrolled": true
   },
   "outputs": [
    {
     "data": {
      "text/plain": [
       "0.9921675537422088"
      ]
     },
     "execution_count": 19,
     "metadata": {},
     "output_type": "execute_result"
    }
   ],
   "source": [
    "from sklearn.linear_model import LinearRegression\n",
    "model = LinearRegression()\n",
    "X_train, X_val, y_train, y_val = split_data(X, y, 2020)\n",
    "model.fit(X_train,y_train)\n",
    "model.score(X_val, y_val)"
   ]
  },
  {
   "cell_type": "code",
   "execution_count": 20,
   "id": "2e58cf92",
   "metadata": {},
   "outputs": [],
   "source": [
    "def plot_model_on_data(X, y, model=None):\n",
    "    plt.figure(figsize=(10, 7))\n",
    "    plt.scatter(X[\"Open\"], y)\n",
    "    if model is not None:\n",
    "        xlim, ylim = plt.xlim(), plt.ylim()\n",
    "        line_x = np.linspace(xlim[0], xlim[1], 100)\n",
    "        line_y = model.predict(line_x[:, None])\n",
    "        plt.plot(line_x, line_y, c=\"red\", lw=3)\n",
    "        plt.xlim(xlim); plt.ylim(ylim)\n",
    "    plt.grid()\n",
    "    plt.xlabel(\"Open\"); plt.ylabel(\"Delta\")"
   ]
  },
  {
   "cell_type": "code",
   "execution_count": 21,
   "id": "c70679f7",
   "metadata": {
    "scrolled": true
   },
   "outputs": [
    {
     "name": "stderr",
     "output_type": "stream",
     "text": [
      "/Users/valerio/miniforge3/envs/di/lib/python3.10/site-packages/sklearn/base.py:450: UserWarning:\n",
      "\n",
      "X does not have valid feature names, but LinearRegression was fitted with feature names\n",
      "\n"
     ]
    },
    {
     "data": {
      "image/png": "[encoded data removed]",
      "text/plain": [
       "<Figure size 720x504 with 1 Axes>"
      ]
     },
     "metadata": {
      "needs_background": "light"
     },
     "output_type": "display_data"
    }
   ],
   "source": [
    "plot_model_on_data(X_val,y_val,model)"
   ]
  },
  {
   "cell_type": "markdown",
   "id": "37c8086d",
   "metadata": {},
   "source": [
    "Il punteggio R<sup>2</sup> del modello risulta molto alto. Questo è dovuto al fatto che i valore `Open` e `Close` sono molto correlati."
   ]
  },
  {
   "cell_type": "markdown",
   "id": "aa0ce371",
   "metadata": {},
   "source": [
    "Per avere un riscontro dell'effetiva efficienza del modello calcoleremo il guadagno effettivo di un possibile investitore."
   ]
  },
  {
   "cell_type": "markdown",
   "id": "6154b92b",
   "metadata": {},
   "source": [
    "Per far ciò implementeremo un protocollo di trading che dati i valori di chiusura reali e predetti restituisce il guadagno effettivo.\n",
    "\n",
    "**La cifra investita in questo caso è pari al valore di apertura che varia giornalmente**."
   ]
  },
  {
   "cell_type": "markdown",
   "id": "ae98b752",
   "metadata": {},
   "source": [
    "Definiamo la variabile differenza $\\Delta_d=C_d-O_d$ tra il valore di chiusura giornaliero $C_d$ e di apertura $O_d$"
   ]
  },
  {
   "cell_type": "code",
   "execution_count": 22,
   "id": "91768bbf",
   "metadata": {},
   "outputs": [],
   "source": [
    "delta = close - open"
   ]
  },
  {
   "cell_type": "markdown",
   "id": "f3a28c69",
   "metadata": {},
   "source": [
    "- Poniamo questo come il valore che **deve essere predetto** dal modello\n",
    "- L'investitore agirà in base alla predizione $\\hat{\\Delta}_d$\n",
    "  - se $\\hat{\\Delta}_d > 0$, acquista un titolo a inizio giornata e lo rivende alla fine (LONG)\n",
    "  - se $\\hat{\\Delta}_d < 0$, vende un titolo a inizio giornata e lo ricompra alla fine (SHORT)"
   ]
  },
  {
   "cell_type": "markdown",
   "id": "5b1d4d5a",
   "metadata": {},
   "source": [
    "### Importiamo alcune funzioni utili "
   ]
  },
  {
   "cell_type": "markdown",
   "id": "736ad8c4",
   "metadata": {},
   "source": [
    "Possiamo definire una metrica \"guadagno\" per validare il modello, che restituisca il guadagno totale di un investitore che opera nel periodo a cui si riferisce il validation set"
   ]
  },
  {
   "cell_type": "code",
   "execution_count": 23,
   "id": "62524cae",
   "metadata": {},
   "outputs": [],
   "source": [
    "def gain(D, D_pred):\n",
    "    growth = D_pred > 0\n",
    "    decline = D_pred < 0\n",
    "    return D[growth].sum() - D[decline].sum()"
   ]
  },
  {
   "cell_type": "markdown",
   "id": "2f0cfb0d",
   "metadata": {},
   "source": [
    "Il ROI (Return on investiment) esprime il guadagno di una o più operazioni in borsa in rapporto all'investimento iniziale."
   ]
  },
  {
   "cell_type": "code",
   "execution_count": 24,
   "id": "f0324190",
   "metadata": {},
   "outputs": [],
   "source": [
    "def roi(D, D_pred):\n",
    "    mean_open = open.reindex_like(D).mean()\n",
    "    return gain(D, D_pred)/ mean_open"
   ]
  },
  {
   "cell_type": "markdown",
   "id": "1608c56d",
   "metadata": {},
   "source": [
    "Definiamo anche una funzione che stampi le metriche di valutazione del modello."
   ]
  },
  {
   "cell_type": "code",
   "execution_count": 25,
   "id": "44be9ec2",
   "metadata": {},
   "outputs": [],
   "source": [
    "def print_eval(X, y, model):\n",
    "    preds = model.predict(X)\n",
    "    print(\"Gain: {:.2f}$\".format(gain(y, preds)))\n",
    "    print(\" ROI: {:.3%}\".format(roi(y, preds)))"
   ]
  },
  {
   "cell_type": "markdown",
   "id": "3ac014e3",
   "metadata": {},
   "source": [
    "La funzione `prepare_data` restituisce un Dataframe con le features indicate e una serie con i valori della variabile da predire."
   ]
  },
  {
   "cell_type": "code",
   "execution_count": 26,
   "id": "e5827b12",
   "metadata": {},
   "outputs": [],
   "source": [
    "def prepare_data(features, delta):\n",
    "    X = pd.DataFrame(features)\n",
    "    X.dropna(inplace=True)\n",
    "    y = delta.reindex_like(X)\n",
    "    return X, y"
   ]
  },
  {
   "cell_type": "markdown",
   "id": "03c0dbc2",
   "metadata": {},
   "source": [
    "Addestriamo ora invece un modello di regressione lineare prevedendo il delta e calcoliamo il `gain` e il `ROI` operando su tutto il 2020."
   ]
  },
  {
   "cell_type": "code",
   "execution_count": 27,
   "id": "ba126892",
   "metadata": {},
   "outputs": [
    {
     "name": "stdout",
     "output_type": "stream",
     "text": [
      "Gain: -1673.49$\n",
      " ROI: -16.414%\n"
     ]
    }
   ],
   "source": [
    "X, y = prepare_data(features, delta)\n",
    "X_train, X_val, y_train, y_val = split_data(X, y, 2020)\n",
    "model = LinearRegression()\n",
    "model.fit(X_train, y_train)\n",
    "print_eval(X_val, y_val, model)"
   ]
  },
  {
   "cell_type": "markdown",
   "id": "6230ff3f",
   "metadata": {},
   "source": [
    "Il risultato non è per nulla soddisfacente."
   ]
  },
  {
   "cell_type": "markdown",
   "id": "d010830e",
   "metadata": {},
   "source": [
    "## Aggiungiamo Features\n",
    "Definiamo alcune funzioni che ci permetteranno di calcolare alcuni indicatori molto comuni nel mondo funanziario.\n",
    "\n",
    "- **MACD**: *Moving Average Convergence/Divergence* è un oscillatore di momentum che segue il trend del prezzo utilizzando due medie mobili esponenziali.\n",
    "- **SMA**: *Simple Moving Average* è un indice calcolato in base alle medie aritmetiche dei valori di prezzo precedenti.\n",
    "- **EMA**: *Exponential Moving Average* è un indice utile per a identificare i trend al rialzo o al ribasso di titoli e valute.\n",
    "- **RSI**: *Relative Strength Index* è un indicatore che segnala la forza intrinseca di un titolo.\n",
    "- **MFI**: *Money Flow Index* è un indicatore di momentum che misura il flusso di denaro dentro e fuori un titolo in un periodo di tempo specifico.\n",
    "- **ATR**: *Average True Range* è un indicatore che misura la volatilità.\n",
    "- **FI**: *Force Index* è un indicatore che utilizza il prezzo e i volume per determinare la forza che sta dietro ad un movimento del mercato\n",
    "\n",
    "In più aggiungiamo 4 features che possono risultare utili: i prezzi all'apertura traslati di 1,2,3,4 giorni."
   ]
  },
  {
   "cell_type": "code",
   "execution_count": 28,
   "id": "707883fc",
   "metadata": {},
   "outputs": [],
   "source": [
    "features = {\n",
    "    \"Open\": open,\n",
    "    \"OpenShift1\": open.shift(1),\n",
    "    \"OpenShift2\": open.shift(2),\n",
    "    \"OpenShift3\": open.shift(3),\n",
    "    \"OpenShift4\": open.shift(4),\n",
    "}"
   ]
  },
  {
   "cell_type": "code",
   "execution_count": 29,
   "id": "abeb3999",
   "metadata": {},
   "outputs": [],
   "source": [
    "# Calcolo del MACD\n",
    "def computeMACD (n_fast, n_slow, n_smooth):\n",
    "    data = open\n",
    "    fastEMA = data.ewm(span=n_fast, min_periods=n_slow).mean()\n",
    "    slowEMA = data.ewm(span=n_slow, min_periods=n_slow).mean()\n",
    "    MACD = pd.Series(fastEMA-slowEMA, name = 'MACD')\n",
    "    return MACD\n",
    "\n",
    "# Funzione utilizzata per il calcolo del singolo SMA\n",
    "def calculateSMA(ndays): \n",
    "    SMA = pd.Series(open.rolling(ndays).mean(), name = 'SMA') \n",
    "    return SMA\n",
    "\n",
    "# Calcolo della variazione percentuale tra 2 SMA\n",
    "def SMA(first, second):\n",
    "    sma1 = calculateSMA(first)\n",
    "    sma2 = calculateSMA(second)\n",
    "    sma = (np.array(sma2) - np.array(sma1)) / np.array(sma2)\n",
    "    sma = pd.Series(data=sma, index=data.index)\n",
    "    return sma\n",
    "\n",
    "# Funzione utilizzata per il calcolo del singolo EMA\n",
    "def calculateEMA(prices, days, smoothing=2):\n",
    "    ema = [sum(prices[:days]) / days]\n",
    "    for price in prices[days:]:\n",
    "        ema.append((price * (smoothing / (1 + days))) + ema[-1] * (1 - (smoothing / (1 + days))))\n",
    "    return ema\n",
    "\n",
    "# Calcolo della variazione percentuale tra 2 EMA\n",
    "def EMA(first, second):\n",
    "    ema1 = calculateEMA(open, first)\n",
    "    ema2 = calculateEMA(open, second)\n",
    "    ema = (np.array(ema2) - np.array(ema1[(second-first):])) / np.array(ema2)\n",
    "    ema = pd.Series(data=ema, index=data[(second-1):].index)\n",
    "    return ema\n",
    "\n",
    "# Calcolo del RSI\n",
    "# Il parametro close intende il valore di chiusura del giorno precedente ovvero quello di apertura del giorno corrente\n",
    "def rsi(close, periods = 14):\n",
    "    close_delta = close.diff()\n",
    "    up = close_delta.clip(lower=0)\n",
    "    down = -1 * close_delta.clip(upper=0)\n",
    "    ma_up = up.ewm(com = periods - 1, adjust=True, min_periods = periods).mean()\n",
    "    ma_down = down.ewm(com = periods - 1, adjust=True, min_periods = periods).mean()\n",
    "    rsi = ma_up / ma_down\n",
    "    rsi = 100 - (100/(1 + rsi))\n",
    "    return rsi\n",
    "\n",
    "# Calcolo del MFI\n",
    "def mfi(high, low, close, volume, n=14): \n",
    "    typical_price = (high + low + close)/3\n",
    "    money_flow = typical_price * volume\n",
    "    mf_sign = np.where(typical_price > typical_price.shift(1), 1, -1)\n",
    "    signed_mf = money_flow * mf_sign\n",
    "    mf_avg_gain = signed_mf.rolling(n).apply(lambda x: ((x > 0) * x).sum(), raw=True)\n",
    "    mf_avg_loss = signed_mf.rolling(n).apply(lambda x: ((x < 0) * x).sum(), raw=True)\n",
    "    # Spostiamo la colonna di 1 in avanti così da avere per ogni riga il valore dell'MFI del giorno precedente.\n",
    "    return (100 - (100 / (1 + (mf_avg_gain / abs(mf_avg_loss))))).shift(1).to_numpy()\n",
    "\n",
    "# Calcolo ATR\n",
    "def atr(high, low, close, n=14):\n",
    "    high_low = high - low\n",
    "    high_cp = np.abs(high - close.shift())\n",
    "    low_cp = np.abs(low - close.shift())\n",
    "    df = pd.concat([high_low, high_cp, low_cp], axis=1)\n",
    "    true_range = np.max(df, axis=1)\n",
    "    average_true_range = true_range.rolling(14).mean()\n",
    "    # Spostiamo la colonna di 1 in avanti così da avere per ogni riga il valore dell'ATR del giorno precedente\n",
    "    return average_true_range.shift(1) \n",
    "\n",
    "# Calcolo FI\n",
    "def forceIndex(data, ndays): \n",
    "    FI = pd.Series(open.diff(ndays) * volume, name = 'ForceIndex') \n",
    "    return FI\n"
   ]
  },
  {
   "cell_type": "code",
   "execution_count": 30,
   "id": "162b5e4f",
   "metadata": {},
   "outputs": [],
   "source": [
    "# Aggiungiamo gli indici al dataset\n",
    "data[\"EMA5-20\"] = EMA(5,20)\n",
    "data[\"EMA8-15\"] = EMA(8,15)\n",
    "data[\"EMA20-50\"] = EMA(20,50)\n",
    "data[\"SMA5-20\"] = SMA(5,20)\n",
    "data[\"SMA8-15\"] = SMA(8,15)\n",
    "data[\"SMA20-50\"] = SMA(20,50)\n",
    "data[\"RSI\"] = rsi(open)\n",
    "data[\"MACD\"] = computeMACD(12, 26, 9)\n",
    "data[\"MFI\"] = mfi(high, low, close, volume, 14)\n",
    "data[\"ATR\"] = atr(high, low, close, 14)\n",
    "data[\"FI-13\"] = forceIndex(data, 13)\n",
    "data[\"FI-50\"] = forceIndex(data, 50)\n",
    "\n",
    "# Creiamo le features a partire dai dati appena calcolati\n",
    "features[\"EMA5-20\"] = data[\"EMA5-20\"] \n",
    "features[\"EMA8-15\"] = data[\"EMA8-15\"]\n",
    "features[\"EMA20-50\"] = data[\"EMA20-50\"] \n",
    "features[\"SMA5-20\"] = data[\"SMA5-20\"] \n",
    "features[\"SMA8-15\"] = data[\"SMA8-15\"]\n",
    "features[\"SMA20-50\"] = data[\"SMA20-50\"] \n",
    "features[\"MACD\"] = data[\"MACD\"]\n",
    "features[\"RSI\"] = data[\"RSI\"] \n",
    "features[\"MFI\"] = data[\"MFI\"] \n",
    "features[\"ATR\"] = data[\"ATR\"] \n",
    "features[\"FI-13\"] = data[\"FI-13\"] \n",
    "features[\"FI-50\"] = data[\"FI-50\"]"
   ]
  },
  {
   "cell_type": "code",
   "execution_count": 31,
   "id": "3a4ec128",
   "metadata": {},
   "outputs": [],
   "source": [
    "# import warnings filter\n",
    "from warnings import simplefilter\n",
    "# ignore all future warnings\n",
    "simplefilter(action='ignore', category=FutureWarning)"
   ]
  },
  {
   "cell_type": "markdown",
   "id": "876ca344",
   "metadata": {},
   "source": [
    "## Test delle features\n",
    "Verifichiamo quali features usare per ottenere il risultato migliore.\n",
    "Per fare ciò creiamo una funzione che testando TUTTE le combinazioni di features ci restituisce la combinazione migliore."
   ]
  },
  {
   "cell_type": "code",
   "execution_count": 32,
   "id": "d3da0758",
   "metadata": {
    "scrolled": true
   },
   "outputs": [],
   "source": [
    "import itertools\n",
    "\n",
    "def getBestFeatures(features, model):\n",
    "    keys = np.array(list(features.keys()))\n",
    "    # Creiamo una lista di tutte le possibili sequenze binarie lunghe len(keys)-1 (il numero di features-1)\n",
    "    mylist = [\"1\" + \"\".join(seq) for seq in itertools.product(\"01\", repeat=len(keys)-1)]\n",
    "    dict2 = {x:features[x] for x in keys}\n",
    "\n",
    "    # Permette di convertire una string binaria in un array di booleani\n",
    "    def str2bool(v):\n",
    "        v_bool = [True] # Il primo valore sarà sempre True visto che vogliamo sempre la feature Open\n",
    "        for i in v[1:]:\n",
    "            v_bool.append(i=='1')\n",
    "        return np.array(v_bool)\n",
    "\n",
    "    best_ROI = 0\n",
    "    best_features = {}\n",
    "\n",
    "    for i in range(0,len(mylist)):\n",
    "        dict2 = {x:features[x] for x in keys[str2bool(mylist[i])]}\n",
    "        X, y = prepare_data(dict2, delta)\n",
    "        # Come anno è stato selezionato il 2017 perché è un valore intermedio tra il 2011 e il 2021\n",
    "        X_train, X_val, y_train, y_val = split_data(X, y, 2017)\n",
    "        \n",
    "        # Per questioni di tempo utilizziamo solo 1 modello: LinearRegression()\n",
    "        model.fit(X_train, y_train)\n",
    "        preds = model.predict(X_val)\n",
    "        if roi(y_val, preds) > best_ROI:\n",
    "            best_ROI = roi(y_val, preds)\n",
    "            best_features = dict2\n",
    "            \n",
    "    # L'algoritmo restuituirà le features migliori e il miglior ROI ottenuto\n",
    "    return best_features, best_ROI"
   ]
  },
  {
   "cell_type": "markdown",
   "id": "8e913656",
   "metadata": {},
   "source": [
    "Verifichiamo come si comporta il nostro modello utilizzando tutte le features disponibili."
   ]
  },
  {
   "cell_type": "code",
   "execution_count": 33,
   "id": "5cc2e1bb",
   "metadata": {
    "scrolled": true
   },
   "outputs": [
    {
     "name": "stdout",
     "output_type": "stream",
     "text": [
      "Gain: -999.12$\n",
      " ROI: -9.799%\n"
     ]
    }
   ],
   "source": [
    "X, y = prepare_data(features, delta)\n",
    "X_train, X_val, y_train, y_val = split_data(X, y, 2020)\n",
    "model = LinearRegression()\n",
    "model.fit(X_train, y_train)\n",
    "print_eval(X_val, y_val, model)"
   ]
  },
  {
   "cell_type": "code",
   "execution_count": 34,
   "id": "58aea3fe",
   "metadata": {
    "scrolled": false
   },
   "outputs": [
    {
     "name": "stdout",
     "output_type": "stream",
     "text": [
      "Tempo di esecuzione per la ricerca delle features migliori: 169.41899800300598 secondi\n"
     ]
    }
   ],
   "source": [
    "import time\n",
    "start_time = time.time()\n",
    "new_features, new_ROI = getBestFeatures(features, LinearRegression())\n",
    "print(\"Tempo di esecuzione per la ricerca delle features migliori: %s secondi\" % (time.time() - start_time))"
   ]
  },
  {
   "cell_type": "code",
   "execution_count": 35,
   "id": "1356efcf",
   "metadata": {
    "scrolled": false
   },
   "outputs": [
    {
     "name": "stdout",
     "output_type": "stream",
     "text": [
      "dict_keys(['Open', 'OpenShift1', 'OpenShift2', 'OpenShift4', 'EMA5-20', 'EMA20-50', 'SMA5-20', 'RSI', 'MFI'])\n"
     ]
    }
   ],
   "source": [
    "print(new_features.keys())"
   ]
  },
  {
   "cell_type": "markdown",
   "id": "b64fe497",
   "metadata": {},
   "source": [
    "Le feature selezionate sono 'Open', 'OpenShift1', 'OpenShift2', 'OpenShift4', 'EMA5-20', 'EMA20-50', 'SMA5-20', 'RSI', 'MFI'"
   ]
  },
  {
   "cell_type": "code",
   "execution_count": 36,
   "id": "8844c85d",
   "metadata": {},
   "outputs": [
    {
     "name": "stdout",
     "output_type": "stream",
     "text": [
      "Gain: 1904.34$\n",
      " ROI: 18.678%\n"
     ]
    }
   ],
   "source": [
    "X, y = prepare_data(new_features, delta)\n",
    "X_train, X_val, y_train, y_val = split_data(X, y, 2020)\n",
    "linearRegressionModel = LinearRegression()\n",
    "linearRegressionModel.fit(X_train, y_train)\n",
    "print_eval(X_val, y_val, linearRegressionModel)"
   ]
  },
  {
   "cell_type": "markdown",
   "id": "8075557c",
   "metadata": {},
   "source": [
    "Osserviamo che con la selezione delle features migliori abbiamo ottenuto un ROI più alto."
   ]
  },
  {
   "cell_type": "code",
   "execution_count": 37,
   "id": "c610e00f",
   "metadata": {},
   "outputs": [
    {
     "name": "stdout",
     "output_type": "stream",
     "text": [
      "Gain: 1904.34$\n",
      " ROI: 18.678%\n"
     ]
    }
   ],
   "source": [
    "from sklearn.pipeline import Pipeline\n",
    "from sklearn.preprocessing import StandardScaler\n",
    "\n",
    "linearRegressionModelStd = Pipeline([\n",
    "    (\"scale\", StandardScaler()),\n",
    "    (\"lr\", LinearRegression())\n",
    "])\n",
    "linearRegressionModelStd.fit(X_train, y_train)\n",
    "print_eval(X_val, y_val, linearRegressionModelStd)"
   ]
  },
  {
   "cell_type": "code",
   "execution_count": 38,
   "id": "a2ccbec3",
   "metadata": {
    "scrolled": true
   },
   "outputs": [
    {
     "data": {
      "text/html": [
       "<div>\n",
       "<style scoped>\n",
       "    .dataframe tbody tr th:only-of-type {\n",
       "        vertical-align: middle;\n",
       "    }\n",
       "\n",
       "    .dataframe tbody tr th {\n",
       "        vertical-align: top;\n",
       "    }\n",
       "\n",
       "    .dataframe thead th {\n",
       "        text-align: right;\n",
       "    }\n",
       "</style>\n",
       "<table border=\"1\" class=\"dataframe\">\n",
       "  <thead>\n",
       "    <tr style=\"text-align: right;\">\n",
       "      <th></th>\n",
       "      <th>linear</th>\n",
       "      <th>scaled</th>\n",
       "    </tr>\n",
       "  </thead>\n",
       "  <tbody>\n",
       "    <tr>\n",
       "      <th>Open</th>\n",
       "      <td>-0.111537</td>\n",
       "      <td>-198.430776</td>\n",
       "    </tr>\n",
       "    <tr>\n",
       "      <th>OpenShift1</th>\n",
       "      <td>0.071120</td>\n",
       "      <td>126.442558</td>\n",
       "    </tr>\n",
       "    <tr>\n",
       "      <th>OpenShift2</th>\n",
       "      <td>0.026867</td>\n",
       "      <td>47.732506</td>\n",
       "    </tr>\n",
       "    <tr>\n",
       "      <th>OpenShift4</th>\n",
       "      <td>0.013415</td>\n",
       "      <td>23.798815</td>\n",
       "    </tr>\n",
       "    <tr>\n",
       "      <th>EMA5-20</th>\n",
       "      <td>-905.543245</td>\n",
       "      <td>-12.074707</td>\n",
       "    </tr>\n",
       "    <tr>\n",
       "      <th>EMA20-50</th>\n",
       "      <td>393.771190</td>\n",
       "      <td>5.361893</td>\n",
       "    </tr>\n",
       "    <tr>\n",
       "      <th>SMA5-20</th>\n",
       "      <td>690.747624</td>\n",
       "      <td>12.288579</td>\n",
       "    </tr>\n",
       "    <tr>\n",
       "      <th>RSI</th>\n",
       "      <td>0.439817</td>\n",
       "      <td>4.847801</td>\n",
       "    </tr>\n",
       "    <tr>\n",
       "      <th>MFI</th>\n",
       "      <td>-0.091282</td>\n",
       "      <td>-1.367235</td>\n",
       "    </tr>\n",
       "  </tbody>\n",
       "</table>\n",
       "</div>"
      ],
      "text/plain": [
       "                linear      scaled\n",
       "Open         -0.111537 -198.430776\n",
       "OpenShift1    0.071120  126.442558\n",
       "OpenShift2    0.026867   47.732506\n",
       "OpenShift4    0.013415   23.798815\n",
       "EMA5-20    -905.543245  -12.074707\n",
       "EMA20-50    393.771190    5.361893\n",
       "SMA5-20     690.747624   12.288579\n",
       "RSI           0.439817    4.847801\n",
       "MFI          -0.091282   -1.367235"
      ]
     },
     "execution_count": 38,
     "metadata": {},
     "output_type": "execute_result"
    }
   ],
   "source": [
    "pd.DataFrame({\n",
    "    \"linear\": linearRegressionModel.coef_,\n",
    "    \"scaled\": linearRegressionModelStd.named_steps[\"lr\"].coef_\n",
    "}, index=X.columns)"
   ]
  },
  {
   "cell_type": "markdown",
   "id": "8b08e31e",
   "metadata": {},
   "source": [
    "- In tutti e due i modelli, dai segni dei coefficienti possiamo vedere quali fenomeni influiscono positivamente e negativamente sul prezzo\n",
    "- Con la standardizzazione delle feature otteniamo valori su scale simili, che possiamo confrontare alla pari\n",
    "  - ad es. nel modello non standardizzato il coefficiente di `EMA5-20` è alto in valore assoluto perché i valori di tale variabile sono bassi\n",
    "  - nel modello con standardizzazione assumono invece più peso ad esempio il prezzo di apertura (`Open`) e il prezzo di apertura del giorno precedente (`OpenShift1`)"
   ]
  },
  {
   "cell_type": "markdown",
   "id": "ba98b6d6",
   "metadata": {},
   "source": [
    "## Test 2: Regressione Ridge"
   ]
  },
  {
   "cell_type": "markdown",
   "id": "8ccaf094",
   "metadata": {},
   "source": [
    "Proviamo ora il modello di regressione Ridge con regolarizzazione per evitare che i coefficienti crescano troppo."
   ]
  },
  {
   "cell_type": "markdown",
   "id": "13213659",
   "metadata": {},
   "source": [
    "Creiamo un nostro scorer che valuti i modelli in base al ROI"
   ]
  },
  {
   "cell_type": "code",
   "execution_count": 39,
   "id": "36cf0cb1",
   "metadata": {},
   "outputs": [],
   "source": [
    "from sklearn.metrics import make_scorer\n",
    "roi_scorer = make_scorer(roi, greater_is_better=True)"
   ]
  },
  {
   "cell_type": "markdown",
   "id": "113bfd86",
   "metadata": {},
   "source": [
    "### Validazione k-fold per serie temporali\n",
    "\n",
    "- Come alternativa allo split `KFold`, scikit-learn offre il `TimeSeriesSplit(k)` per la nostra situazione in cui vogliamo però mantenere l'ordine temporale in training e validation set"
   ]
  },
  {
   "cell_type": "code",
   "execution_count": 40,
   "id": "713d26cd",
   "metadata": {},
   "outputs": [],
   "source": [
    "from sklearn.model_selection import TimeSeriesSplit\n",
    "tss = TimeSeriesSplit(11) #11 anni dal 2011 al 2022"
   ]
  },
  {
   "cell_type": "code",
   "execution_count": 41,
   "id": "546ee2ac",
   "metadata": {
    "scrolled": true
   },
   "outputs": [
    {
     "data": {
      "text/html": [
       "<div>\n",
       "<style scoped>\n",
       "    .dataframe tbody tr th:only-of-type {\n",
       "        vertical-align: middle;\n",
       "    }\n",
       "\n",
       "    .dataframe tbody tr th {\n",
       "        vertical-align: top;\n",
       "    }\n",
       "\n",
       "    .dataframe thead th {\n",
       "        text-align: right;\n",
       "    }\n",
       "</style>\n",
       "<table border=\"1\" class=\"dataframe\">\n",
       "  <thead>\n",
       "    <tr style=\"text-align: right;\">\n",
       "      <th></th>\n",
       "      <th>mean_fit_time</th>\n",
       "      <th>std_fit_time</th>\n",
       "      <th>mean_score_time</th>\n",
       "      <th>std_score_time</th>\n",
       "      <th>param_linreg__alpha</th>\n",
       "      <th>params</th>\n",
       "      <th>split0_test_score</th>\n",
       "      <th>split1_test_score</th>\n",
       "      <th>split2_test_score</th>\n",
       "      <th>split3_test_score</th>\n",
       "      <th>split4_test_score</th>\n",
       "      <th>split5_test_score</th>\n",
       "      <th>split6_test_score</th>\n",
       "      <th>split7_test_score</th>\n",
       "      <th>split8_test_score</th>\n",
       "      <th>split9_test_score</th>\n",
       "      <th>split10_test_score</th>\n",
       "      <th>mean_test_score</th>\n",
       "      <th>std_test_score</th>\n",
       "      <th>rank_test_score</th>\n",
       "    </tr>\n",
       "  </thead>\n",
       "  <tbody>\n",
       "    <tr>\n",
       "      <th>0</th>\n",
       "      <td>0.002273</td>\n",
       "      <td>0.002800</td>\n",
       "      <td>0.000773</td>\n",
       "      <td>0.000324</td>\n",
       "      <td>0.1</td>\n",
       "      <td>{'linreg__alpha': 0.1}</td>\n",
       "      <td>0.058566</td>\n",
       "      <td>-0.147950</td>\n",
       "      <td>-0.053027</td>\n",
       "      <td>0.005561</td>\n",
       "      <td>0.167542</td>\n",
       "      <td>0.067635</td>\n",
       "      <td>0.007224</td>\n",
       "      <td>0.125928</td>\n",
       "      <td>0.140708</td>\n",
       "      <td>0.241799</td>\n",
       "      <td>0.063338</td>\n",
       "      <td>0.061575</td>\n",
       "      <td>0.103259</td>\n",
       "      <td>1</td>\n",
       "    </tr>\n",
       "    <tr>\n",
       "      <th>1</th>\n",
       "      <td>0.001963</td>\n",
       "      <td>0.001699</td>\n",
       "      <td>0.000644</td>\n",
       "      <td>0.000082</td>\n",
       "      <td>1</td>\n",
       "      <td>{'linreg__alpha': 1}</td>\n",
       "      <td>0.022940</td>\n",
       "      <td>-0.160276</td>\n",
       "      <td>-0.027370</td>\n",
       "      <td>0.028247</td>\n",
       "      <td>0.216820</td>\n",
       "      <td>0.137975</td>\n",
       "      <td>-0.041895</td>\n",
       "      <td>0.011380</td>\n",
       "      <td>-0.042139</td>\n",
       "      <td>0.229107</td>\n",
       "      <td>0.161164</td>\n",
       "      <td>0.048723</td>\n",
       "      <td>0.116705</td>\n",
       "      <td>2</td>\n",
       "    </tr>\n",
       "    <tr>\n",
       "      <th>2</th>\n",
       "      <td>0.001837</td>\n",
       "      <td>0.001935</td>\n",
       "      <td>0.000594</td>\n",
       "      <td>0.000080</td>\n",
       "      <td>10</td>\n",
       "      <td>{'linreg__alpha': 10}</td>\n",
       "      <td>-0.004830</td>\n",
       "      <td>-0.139849</td>\n",
       "      <td>-0.036286</td>\n",
       "      <td>-0.004966</td>\n",
       "      <td>0.073174</td>\n",
       "      <td>-0.022045</td>\n",
       "      <td>0.036510</td>\n",
       "      <td>-0.064211</td>\n",
       "      <td>-0.115495</td>\n",
       "      <td>0.125826</td>\n",
       "      <td>0.132548</td>\n",
       "      <td>-0.001784</td>\n",
       "      <td>0.084705</td>\n",
       "      <td>3</td>\n",
       "    </tr>\n",
       "  </tbody>\n",
       "</table>\n",
       "</div>"
      ],
      "text/plain": [
       "   mean_fit_time  std_fit_time  mean_score_time  std_score_time  \\\n",
       "0       0.002273      0.002800         0.000773        0.000324   \n",
       "1       0.001963      0.001699         0.000644        0.000082   \n",
       "2       0.001837      0.001935         0.000594        0.000080   \n",
       "\n",
       "  param_linreg__alpha                  params  split0_test_score  \\\n",
       "0                 0.1  {'linreg__alpha': 0.1}           0.058566   \n",
       "1                   1    {'linreg__alpha': 1}           0.022940   \n",
       "2                  10   {'linreg__alpha': 10}          -0.004830   \n",
       "\n",
       "   split1_test_score  split2_test_score  split3_test_score  split4_test_score  \\\n",
       "0          -0.147950          -0.053027           0.005561           0.167542   \n",
       "1          -0.160276          -0.027370           0.028247           0.216820   \n",
       "2          -0.139849          -0.036286          -0.004966           0.073174   \n",
       "\n",
       "   split5_test_score  split6_test_score  split7_test_score  split8_test_score  \\\n",
       "0           0.067635           0.007224           0.125928           0.140708   \n",
       "1           0.137975          -0.041895           0.011380          -0.042139   \n",
       "2          -0.022045           0.036510          -0.064211          -0.115495   \n",
       "\n",
       "   split9_test_score  split10_test_score  mean_test_score  std_test_score  \\\n",
       "0           0.241799            0.063338         0.061575        0.103259   \n",
       "1           0.229107            0.161164         0.048723        0.116705   \n",
       "2           0.125826            0.132548        -0.001784        0.084705   \n",
       "\n",
       "   rank_test_score  \n",
       "0                1  \n",
       "1                2  \n",
       "2                3  "
      ]
     },
     "execution_count": 41,
     "metadata": {},
     "output_type": "execute_result"
    }
   ],
   "source": [
    "from sklearn.linear_model import Ridge\n",
    "from sklearn.model_selection import GridSearchCV\n",
    "\n",
    "X, y = prepare_data(new_features, delta)\n",
    "model = Pipeline([\n",
    "    (\"scale\",  StandardScaler()),\n",
    "    (\"linreg\", Ridge())\n",
    "])\n",
    "\n",
    "grid = {\"linreg__alpha\": [0.1, 1, 10, 50]}\n",
    "gs = GridSearchCV(model, param_grid=grid, scoring=roi_scorer, cv=tss)\n",
    "gs.fit(X, y)\n",
    "pd.DataFrame(gs.cv_results_).sort_values(\"mean_test_score\", ascending=False).head(3)"
   ]
  },
  {
   "cell_type": "markdown",
   "id": "e2385ae0",
   "metadata": {},
   "source": [
    "- Per la regressione Ridge il parametro migliore è $\\alpha$=0.1 con un profitto medio annuo del 6.1%:\n",
    "- **Ottenendo profitto migliore utilizzando le features selezionate `new_features`**\n",
    "- *Utilizzando invece tutte le features otteniamo un profitto del 4.8%*"
   ]
  },
  {
   "cell_type": "code",
   "execution_count": 42,
   "id": "0d3ae4d5",
   "metadata": {},
   "outputs": [
    {
     "name": "stdout",
     "output_type": "stream",
     "text": [
      "Gain: 3478.34$\n",
      " ROI: 34.116%\n"
     ]
    }
   ],
   "source": [
    "ridgeModel = Pipeline([\n",
    "    (\"scale\",  StandardScaler()),\n",
    "    (\"linreg\", Ridge(alpha=0.1))\n",
    "])\n",
    "ridgeModel.fit(X_train, y_train)\n",
    "print_eval(X_val, y_val, ridgeModel)"
   ]
  },
  {
   "cell_type": "markdown",
   "id": "767c143c",
   "metadata": {},
   "source": [
    "## Test 3: ElasticNet"
   ]
  },
  {
   "cell_type": "code",
   "execution_count": 43,
   "id": "df27761e",
   "metadata": {
    "scrolled": false
   },
   "outputs": [
    {
     "data": {
      "text/html": [
       "<div>\n",
       "<style scoped>\n",
       "    .dataframe tbody tr th:only-of-type {\n",
       "        vertical-align: middle;\n",
       "    }\n",
       "\n",
       "    .dataframe tbody tr th {\n",
       "        vertical-align: top;\n",
       "    }\n",
       "\n",
       "    .dataframe thead th {\n",
       "        text-align: right;\n",
       "    }\n",
       "</style>\n",
       "<table border=\"1\" class=\"dataframe\">\n",
       "  <thead>\n",
       "    <tr style=\"text-align: right;\">\n",
       "      <th></th>\n",
       "      <th>mean_fit_time</th>\n",
       "      <th>std_fit_time</th>\n",
       "      <th>mean_score_time</th>\n",
       "      <th>std_score_time</th>\n",
       "      <th>param_linreg__alpha</th>\n",
       "      <th>param_linreg__l1_ratio</th>\n",
       "      <th>params</th>\n",
       "      <th>split0_test_score</th>\n",
       "      <th>split1_test_score</th>\n",
       "      <th>split2_test_score</th>\n",
       "      <th>...</th>\n",
       "      <th>split4_test_score</th>\n",
       "      <th>split5_test_score</th>\n",
       "      <th>split6_test_score</th>\n",
       "      <th>split7_test_score</th>\n",
       "      <th>split8_test_score</th>\n",
       "      <th>split9_test_score</th>\n",
       "      <th>split10_test_score</th>\n",
       "      <th>mean_test_score</th>\n",
       "      <th>std_test_score</th>\n",
       "      <th>rank_test_score</th>\n",
       "    </tr>\n",
       "  </thead>\n",
       "  <tbody>\n",
       "    <tr>\n",
       "      <th>11</th>\n",
       "      <td>0.002495</td>\n",
       "      <td>0.002048</td>\n",
       "      <td>0.000665</td>\n",
       "      <td>0.000096</td>\n",
       "      <td>3</td>\n",
       "      <td>0.2</td>\n",
       "      <td>{'linreg__alpha': 3, 'linreg__l1_ratio': 0.2}</td>\n",
       "      <td>-0.022005</td>\n",
       "      <td>-0.157559</td>\n",
       "      <td>-0.030941</td>\n",
       "      <td>...</td>\n",
       "      <td>0.104191</td>\n",
       "      <td>0.208429</td>\n",
       "      <td>0.174931</td>\n",
       "      <td>-0.043080</td>\n",
       "      <td>-0.010256</td>\n",
       "      <td>0.359223</td>\n",
       "      <td>0.078736</td>\n",
       "      <td>0.073062</td>\n",
       "      <td>0.138109</td>\n",
       "      <td>1</td>\n",
       "    </tr>\n",
       "    <tr>\n",
       "      <th>8</th>\n",
       "      <td>0.002497</td>\n",
       "      <td>0.001774</td>\n",
       "      <td>0.000715</td>\n",
       "      <td>0.000143</td>\n",
       "      <td>2</td>\n",
       "      <td>0.4</td>\n",
       "      <td>{'linreg__alpha': 2, 'linreg__l1_ratio': 0.4}</td>\n",
       "      <td>-0.022005</td>\n",
       "      <td>-0.157559</td>\n",
       "      <td>-0.030941</td>\n",
       "      <td>...</td>\n",
       "      <td>0.128933</td>\n",
       "      <td>0.124732</td>\n",
       "      <td>0.197573</td>\n",
       "      <td>-0.028569</td>\n",
       "      <td>-0.000009</td>\n",
       "      <td>0.347559</td>\n",
       "      <td>0.075512</td>\n",
       "      <td>0.071180</td>\n",
       "      <td>0.131736</td>\n",
       "      <td>2</td>\n",
       "    </tr>\n",
       "    <tr>\n",
       "      <th>9</th>\n",
       "      <td>0.002231</td>\n",
       "      <td>0.001487</td>\n",
       "      <td>0.000668</td>\n",
       "      <td>0.000070</td>\n",
       "      <td>2</td>\n",
       "      <td>0.5</td>\n",
       "      <td>{'linreg__alpha': 2, 'linreg__l1_ratio': 0.5}</td>\n",
       "      <td>-0.022005</td>\n",
       "      <td>-0.157559</td>\n",
       "      <td>-0.030941</td>\n",
       "      <td>...</td>\n",
       "      <td>0.148839</td>\n",
       "      <td>0.168290</td>\n",
       "      <td>0.210738</td>\n",
       "      <td>-0.022782</td>\n",
       "      <td>0.046942</td>\n",
       "      <td>0.203526</td>\n",
       "      <td>0.081493</td>\n",
       "      <td>0.066509</td>\n",
       "      <td>0.110502</td>\n",
       "      <td>3</td>\n",
       "    </tr>\n",
       "  </tbody>\n",
       "</table>\n",
       "<p>3 rows × 21 columns</p>\n",
       "</div>"
      ],
      "text/plain": [
       "    mean_fit_time  std_fit_time  mean_score_time  std_score_time  \\\n",
       "11       0.002495      0.002048         0.000665        0.000096   \n",
       "8        0.002497      0.001774         0.000715        0.000143   \n",
       "9        0.002231      0.001487         0.000668        0.000070   \n",
       "\n",
       "   param_linreg__alpha param_linreg__l1_ratio  \\\n",
       "11                   3                    0.2   \n",
       "8                    2                    0.4   \n",
       "9                    2                    0.5   \n",
       "\n",
       "                                           params  split0_test_score  \\\n",
       "11  {'linreg__alpha': 3, 'linreg__l1_ratio': 0.2}          -0.022005   \n",
       "8   {'linreg__alpha': 2, 'linreg__l1_ratio': 0.4}          -0.022005   \n",
       "9   {'linreg__alpha': 2, 'linreg__l1_ratio': 0.5}          -0.022005   \n",
       "\n",
       "    split1_test_score  split2_test_score  ...  split4_test_score  \\\n",
       "11          -0.157559          -0.030941  ...           0.104191   \n",
       "8           -0.157559          -0.030941  ...           0.128933   \n",
       "9           -0.157559          -0.030941  ...           0.148839   \n",
       "\n",
       "    split5_test_score  split6_test_score  split7_test_score  \\\n",
       "11           0.208429           0.174931          -0.043080   \n",
       "8            0.124732           0.197573          -0.028569   \n",
       "9            0.168290           0.210738          -0.022782   \n",
       "\n",
       "    split8_test_score  split9_test_score  split10_test_score  mean_test_score  \\\n",
       "11          -0.010256           0.359223            0.078736         0.073062   \n",
       "8           -0.000009           0.347559            0.075512         0.071180   \n",
       "9            0.046942           0.203526            0.081493         0.066509   \n",
       "\n",
       "    std_test_score  rank_test_score  \n",
       "11        0.138109                1  \n",
       "8         0.131736                2  \n",
       "9         0.110502                3  \n",
       "\n",
       "[3 rows x 21 columns]"
      ]
     },
     "execution_count": 43,
     "metadata": {},
     "output_type": "execute_result"
    }
   ],
   "source": [
    "from sklearn.linear_model import ElasticNet\n",
    "X, y = prepare_data(features, delta)\n",
    "model = Pipeline([\n",
    "    (\"scale\",  StandardScaler()),\n",
    "    (\"linreg\", ElasticNet())\n",
    "])\n",
    "\n",
    "grid = {\"linreg__alpha\":  [1, 2, 3, 5], \"linreg__l1_ratio\": [0.1, 0.2, 0.3, 0.4, 0.5]}\n",
    "gs = GridSearchCV(model, param_grid=grid, scoring=roi_scorer, cv=tss)\n",
    "gs.fit(X, y)\n",
    "pd.DataFrame(gs.cv_results_).sort_values(\"mean_test_score\", ascending=False).head(3)"
   ]
  },
  {
   "cell_type": "markdown",
   "id": "9acd6b3f",
   "metadata": {},
   "source": [
    "- Per la regressione ElasticNet i parametri migliori sono $\\alpha$=3 e L1_RATIO=0.2 con un profitto medio annuo del 7.3%:\n",
    "\n",
    "- **Ottenendo profitto migliore utilizzando tutte le features**\n",
    "\n",
    "- *Utilizzando invece le features selezionate otteniamo un profitto del 6.4%*"
   ]
  },
  {
   "cell_type": "code",
   "execution_count": 44,
   "id": "8949fcee",
   "metadata": {},
   "outputs": [
    {
     "name": "stdout",
     "output_type": "stream",
     "text": [
      "Gain: 1082.98$\n",
      " ROI: 10.622%\n"
     ]
    }
   ],
   "source": [
    "X, y = prepare_data(features, delta)\n",
    "X_train, X_val, y_train, y_val = split_data(X, y, 2020)\n",
    "elasticNetModel = Pipeline([\n",
    "    (\"scale\",  StandardScaler()),\n",
    "    (\"linreg\", ElasticNet(alpha=3, l1_ratio=0.2))\n",
    "])\n",
    "elasticNetModel.fit(X_train, y_train)\n",
    "print_eval(X_val, y_val, elasticNetModel)"
   ]
  },
  {
   "cell_type": "markdown",
   "id": "225ed378",
   "metadata": {},
   "source": [
    "I risultati ottenuti sono simili, in quanto la regressione ElasticNet permette di penalizzare le variabili irrilevanti, che è lo stesso scopo della nostra funzione: `getBestFeatures()`"
   ]
  },
  {
   "cell_type": "markdown",
   "id": "32286e96",
   "metadata": {},
   "source": [
    "## Test 4: Regressione con alberi decisionali"
   ]
  },
  {
   "cell_type": "code",
   "execution_count": 45,
   "id": "669b90da",
   "metadata": {},
   "outputs": [],
   "source": [
    "from sklearn.ensemble import RandomForestRegressor"
   ]
  },
  {
   "cell_type": "code",
   "execution_count": 46,
   "id": "262b7dc1",
   "metadata": {},
   "outputs": [],
   "source": [
    "X, y = prepare_data(new_features, delta)\n",
    "X_train, X_val, y_train, y_val = split_data(X, y, 2020)"
   ]
  },
  {
   "cell_type": "code",
   "execution_count": 47,
   "id": "bfc4711a",
   "metadata": {},
   "outputs": [
    {
     "name": "stdout",
     "output_type": "stream",
     "text": [
      "1.0.2\n"
     ]
    }
   ],
   "source": [
    "print(sklearn.__version__)"
   ]
  },
  {
   "cell_type": "code",
   "execution_count": 48,
   "id": "e0a3b69a",
   "metadata": {},
   "outputs": [
    {
     "name": "stdout",
     "output_type": "stream",
     "text": [
      "CPU times: user 2.24 s, sys: 272 ms, total: 2.51 s\n",
      "Wall time: 1min 49s\n"
     ]
    },
    {
     "data": {
      "text/plain": [
       "GridSearchCV(cv=TimeSeriesSplit(gap=0, max_train_size=None, n_splits=11, test_size=None),\n",
       "             estimator=Pipeline(steps=[('std', StandardScaler()),\n",
       "                                       ('rfc',\n",
       "                                        RandomForestRegressor(n_jobs=-1,\n",
       "                                                              random_state=42))]),\n",
       "             n_jobs=-1,\n",
       "             param_grid={'rfc__max_depth': [4, 6, 8, 10],\n",
       "                         'rfc__min_samples_leaf': [2, 4, 6],\n",
       "                         'rfc__min_samples_split': [2, 5, 10],\n",
       "                         'rfc__n_estimators': [200, 300]},\n",
       "             scoring=make_scorer(roi))"
      ]
     },
     "execution_count": 48,
     "metadata": {},
     "output_type": "execute_result"
    }
   ],
   "source": [
    "%%time\n",
    "from sklearn.ensemble import RandomForestRegressor\n",
    "from sklearn.metrics import classification_report\n",
    "\n",
    "rfc = Pipeline([\n",
    "    ('std', StandardScaler()),\n",
    "    ('rfc', RandomForestRegressor(n_jobs=-1, random_state=42))\n",
    "])\n",
    "\n",
    "parameters = {\n",
    "    'rfc__n_estimators': [200, 300],\n",
    "    'rfc__max_depth': [4, 6, 8, 10],\n",
    "    'rfc__min_samples_leaf': [2, 4, 6],\n",
    "    'rfc__min_samples_split': [2, 5, 10],\n",
    "}\n",
    "    \n",
    "\n",
    "rfc_gs = GridSearchCV(rfc, parameters, cv=tss, n_jobs=-1, scoring=roi_scorer)\n",
    "rfc_gs.fit(X.values, y)\n"
   ]
  },
  {
   "cell_type": "code",
   "execution_count": 49,
   "id": "0e609b31",
   "metadata": {
    "scrolled": true
   },
   "outputs": [
    {
     "data": {
      "text/html": [
       "<div>\n",
       "<style scoped>\n",
       "    .dataframe tbody tr th:only-of-type {\n",
       "        vertical-align: middle;\n",
       "    }\n",
       "\n",
       "    .dataframe tbody tr th {\n",
       "        vertical-align: top;\n",
       "    }\n",
       "\n",
       "    .dataframe thead th {\n",
       "        text-align: right;\n",
       "    }\n",
       "</style>\n",
       "<table border=\"1\" class=\"dataframe\">\n",
       "  <thead>\n",
       "    <tr style=\"text-align: right;\">\n",
       "      <th></th>\n",
       "      <th>mean_fit_time</th>\n",
       "      <th>std_fit_time</th>\n",
       "      <th>mean_score_time</th>\n",
       "      <th>std_score_time</th>\n",
       "      <th>param_rfc__max_depth</th>\n",
       "      <th>param_rfc__min_samples_leaf</th>\n",
       "      <th>param_rfc__min_samples_split</th>\n",
       "      <th>param_rfc__n_estimators</th>\n",
       "      <th>params</th>\n",
       "      <th>split0_test_score</th>\n",
       "      <th>...</th>\n",
       "      <th>split4_test_score</th>\n",
       "      <th>split5_test_score</th>\n",
       "      <th>split6_test_score</th>\n",
       "      <th>split7_test_score</th>\n",
       "      <th>split8_test_score</th>\n",
       "      <th>split9_test_score</th>\n",
       "      <th>split10_test_score</th>\n",
       "      <th>mean_test_score</th>\n",
       "      <th>std_test_score</th>\n",
       "      <th>rank_test_score</th>\n",
       "    </tr>\n",
       "  </thead>\n",
       "  <tbody>\n",
       "    <tr>\n",
       "      <th>15</th>\n",
       "      <td>0.870182</td>\n",
       "      <td>0.315369</td>\n",
       "      <td>0.036034</td>\n",
       "      <td>0.01366</td>\n",
       "      <td>4</td>\n",
       "      <td>6</td>\n",
       "      <td>5</td>\n",
       "      <td>300</td>\n",
       "      <td>{'rfc__max_depth': 4, 'rfc__min_samples_leaf':...</td>\n",
       "      <td>0.106674</td>\n",
       "      <td>...</td>\n",
       "      <td>0.198141</td>\n",
       "      <td>-0.045745</td>\n",
       "      <td>-0.00086</td>\n",
       "      <td>0.199558</td>\n",
       "      <td>-0.018226</td>\n",
       "      <td>0.108251</td>\n",
       "      <td>0.251598</td>\n",
       "      <td>0.063603</td>\n",
       "      <td>0.117345</td>\n",
       "      <td>1</td>\n",
       "    </tr>\n",
       "  </tbody>\n",
       "</table>\n",
       "<p>1 rows × 23 columns</p>\n",
       "</div>"
      ],
      "text/plain": [
       "    mean_fit_time  std_fit_time  mean_score_time  std_score_time  \\\n",
       "15       0.870182      0.315369         0.036034         0.01366   \n",
       "\n",
       "   param_rfc__max_depth param_rfc__min_samples_leaf  \\\n",
       "15                    4                           6   \n",
       "\n",
       "   param_rfc__min_samples_split param_rfc__n_estimators  \\\n",
       "15                            5                     300   \n",
       "\n",
       "                                               params  split0_test_score  ...  \\\n",
       "15  {'rfc__max_depth': 4, 'rfc__min_samples_leaf':...           0.106674  ...   \n",
       "\n",
       "    split4_test_score  split5_test_score  split6_test_score  \\\n",
       "15           0.198141          -0.045745           -0.00086   \n",
       "\n",
       "    split7_test_score  split8_test_score  split9_test_score  \\\n",
       "15           0.199558          -0.018226           0.108251   \n",
       "\n",
       "    split10_test_score  mean_test_score  std_test_score  rank_test_score  \n",
       "15            0.251598         0.063603        0.117345                1  \n",
       "\n",
       "[1 rows x 23 columns]"
      ]
     },
     "execution_count": 49,
     "metadata": {},
     "output_type": "execute_result"
    }
   ],
   "source": [
    "pd.DataFrame(rfc_gs.cv_results_).sort_values(\"mean_test_score\", ascending=False).head(1)"
   ]
  },
  {
   "cell_type": "code",
   "execution_count": 50,
   "id": "72389f52",
   "metadata": {},
   "outputs": [
    {
     "name": "stdout",
     "output_type": "stream",
     "text": [
      "Gain: 1182.39$\n",
      " ROI: 11.597%\n"
     ]
    }
   ],
   "source": [
    "X, y = prepare_data(new_features, delta)\n",
    "X_train, X_val, y_train, y_val = split_data(X, y, 2020)\n",
    "randomForestModel = Pipeline([\n",
    "    ('std', StandardScaler()),\n",
    "    ('rfc', RandomForestRegressor(n_jobs=-1, n_estimators=300, max_depth=4, min_samples_leaf=6, min_samples_split=5, random_state=42))\n",
    "])\n",
    "\n",
    "randomForestModel.fit(X_train, y_train)\n",
    "print_eval(X_val, y_val, randomForestModel)"
   ]
  },
  {
   "cell_type": "markdown",
   "id": "56c8ed49",
   "metadata": {},
   "source": [
    "- Con l'utilizzo della RandomForest otteniamo un profitto medio annuo del 6.3%:\n",
    "\n",
    "- **Ottenendo profitto migliore utilizzando le features selezionate `new_features`**\n",
    "\n",
    "- *Utilizzando invece tutte le features otteniamo un profitto del 4.1%*"
   ]
  },
  {
   "cell_type": "markdown",
   "id": "941e09e4",
   "metadata": {},
   "source": [
    "## Test 5: XGBoost"
   ]
  },
  {
   "cell_type": "code",
   "execution_count": 51,
   "id": "640e7a2b",
   "metadata": {},
   "outputs": [],
   "source": [
    "from xgboost import XGBRegressor"
   ]
  },
  {
   "cell_type": "code",
   "execution_count": 52,
   "id": "360f85dc",
   "metadata": {},
   "outputs": [
    {
     "data": {
      "text/plain": [
       "XGBRegressor(base_score=0.5, booster='gbtree', colsample_bylevel=1,\n",
       "             colsample_bynode=1, colsample_bytree=1, enable_categorical=False,\n",
       "             gamma=0, gpu_id=-1, importance_type=None,\n",
       "             interaction_constraints='', learning_rate=0.300000012,\n",
       "             max_delta_step=0, max_depth=6, min_child_weight=1, missing=nan,\n",
       "             monotone_constraints='()', n_estimators=300, n_jobs=8,\n",
       "             num_parallel_tree=1, predictor='auto', random_state=0, reg_alpha=0,\n",
       "             reg_lambda=1.0, scale_pos_weight=1, subsample=1,\n",
       "             tree_method='exact', validate_parameters=1, verbosity=None)"
      ]
     },
     "execution_count": 52,
     "metadata": {},
     "output_type": "execute_result"
    }
   ],
   "source": [
    "X, y = prepare_data(new_features, delta)\n",
    "X_train, X_val, y_train, y_val = split_data(X, y, 2020)\n",
    "\n",
    "xgbm = XGBRegressor(objective='reg:squarederror',reg_alpha=0, reg_lambda=1.0, n_estimators=300)\n",
    "xgbm.fit(X_train, y_train)"
   ]
  },
  {
   "cell_type": "code",
   "execution_count": 53,
   "id": "456cb901",
   "metadata": {
    "scrolled": false
   },
   "outputs": [
    {
     "name": "stdout",
     "output_type": "stream",
     "text": [
      "Gain: 66304.66$\n",
      " ROI: 1310.401%\n",
      "Gain: 4104.32$\n",
      " ROI: 40.255%\n"
     ]
    }
   ],
   "source": [
    "print_eval(X_train, y_train, xgbm)\n",
    "print_eval(X_val, y_val, xgbm)"
   ]
  },
  {
   "cell_type": "markdown",
   "id": "cc996880",
   "metadata": {},
   "source": [
    "Xgboost senza tuning degli iperparametri restituisce un ROI del 40%"
   ]
  },
  {
   "cell_type": "markdown",
   "id": "f7e9a7a6",
   "metadata": {},
   "source": [
    "## Test 6: LightGBM"
   ]
  },
  {
   "cell_type": "markdown",
   "id": "17f0f2e7",
   "metadata": {},
   "source": [
    "Proviamo ora il LightGBM, alcuni vantaggi sono:\n",
    "- training più veloce e modelli spesso più efficaci\n",
    "- minore utilizzo della memoria\n",
    "- migliore accuratezza\n",
    "- supporto alla programmazione parallela, distribuita e possibilità di utilizzo della GPU"
   ]
  },
  {
   "cell_type": "code",
   "execution_count": 54,
   "id": "d3121b0c",
   "metadata": {},
   "outputs": [
    {
     "name": "stdout",
     "output_type": "stream",
     "text": [
      "Collecting package metadata (current_repodata.json): done\n",
      "Solving environment: done\n",
      "\n",
      "\n",
      "==> WARNING: A newer version of conda exists. <==\n",
      "  current version: 4.12.0\n",
      "  latest version: 4.13.0\n",
      "\n",
      "Please update conda by running\n",
      "\n",
      "    $ conda update -n base conda\n",
      "\n",
      "\n",
      "\n",
      "## Package Plan ##\n",
      "\n",
      "  environment location: /Users/valerio/miniforge3/envs/di\n",
      "\n",
      "  added / updated specs:\n",
      "    - lightgbm\n",
      "\n",
      "\n",
      "The following packages will be downloaded:\n",
      "\n",
      "    package                    |            build\n",
      "    ---------------------------|-----------------\n",
      "    openssl-3.0.4              |       ha287fd2_0         2.4 MB  conda-forge\n",
      "    ------------------------------------------------------------\n",
      "                                           Total:         2.4 MB\n",
      "\n",
      "The following packages will be UPDATED:\n",
      "\n",
      "  openssl                                  3.0.3-ha287fd2_0 --> 3.0.4-ha287fd2_0\n",
      "\n",
      "\n",
      "\n",
      "Downloading and Extracting Packages\n",
      "openssl-3.0.4        | 2.4 MB    | ##################################### | 100% \n",
      "Preparing transaction: done\n",
      "Verifying transaction: done\n",
      "Executing transaction: done\n",
      "\n",
      "Note: you may need to restart the kernel to use updated packages.\n"
     ]
    }
   ],
   "source": [
    "conda install lightgbm"
   ]
  },
  {
   "cell_type": "code",
   "execution_count": 55,
   "id": "e39588d3",
   "metadata": {},
   "outputs": [],
   "source": [
    "from lightgbm import LGBMRegressor"
   ]
  },
  {
   "cell_type": "code",
   "execution_count": 56,
   "id": "935e3090",
   "metadata": {},
   "outputs": [
    {
     "name": "stdout",
     "output_type": "stream",
     "text": [
      "CPU times: user 8.06 s, sys: 1 s, total: 9.06 s\n",
      "Wall time: 9.91 s\n"
     ]
    },
    {
     "data": {
      "text/plain": [
       "LGBMRegressor()"
      ]
     },
     "execution_count": 56,
     "metadata": {},
     "output_type": "execute_result"
    }
   ],
   "source": [
    "%%time\n",
    "X, y = prepare_data(new_features, delta)\n",
    "X_train, X_val, y_train, y_val = split_data(X, y, 2020)\n",
    "\n",
    "lgbm = LGBMRegressor()\n",
    "lgbm.fit(X_train, y_train)"
   ]
  },
  {
   "cell_type": "code",
   "execution_count": 57,
   "id": "61dbae60",
   "metadata": {},
   "outputs": [
    {
     "name": "stdout",
     "output_type": "stream",
     "text": [
      "Gain: 4608.22$\n",
      " ROI: 45.198%\n"
     ]
    }
   ],
   "source": [
    "print_eval(X_val, y_val, lgbm)"
   ]
  },
  {
   "cell_type": "markdown",
   "id": "85453367",
   "metadata": {},
   "source": [
    "Pur senza il tuning dei parametri il modello LGBM ha un ROI ancora più elevato. "
   ]
  },
  {
   "cell_type": "markdown",
   "id": "5557be74",
   "metadata": {},
   "source": [
    "## Confronto con un modello casuale"
   ]
  },
  {
   "cell_type": "markdown",
   "id": "8f36da39",
   "metadata": {},
   "source": [
    "Per avere una valutazione più completa del modello, mettiamolo a confronto con quello che accadrebbe prendendo decisioni casuali."
   ]
  },
  {
   "cell_type": "markdown",
   "id": "da3311dd",
   "metadata": {},
   "source": [
    "Consideriamo un modello che predica dei valori $\\hat{\\Delta}_d$ casuali, ma con la stessa distribuzione dei valori $\\Delta_d$ reali.\n",
    "\n",
    "Disegnando un istogramma, vediamo che $\\Delta_d$ ha una distribuzione normale."
   ]
  },
  {
   "cell_type": "code",
   "execution_count": 58,
   "id": "238e90aa",
   "metadata": {},
   "outputs": [
    {
     "data": {
      "image/png": "[encoded data removed]",
      "text/plain": [
       "<Figure size 864x288 with 1 Axes>"
      ]
     },
     "metadata": {
      "needs_background": "light"
     },
     "output_type": "display_data"
    }
   ],
   "source": [
    "X, y = prepare_data(new_features, delta)\n",
    "X_train, X_val, y_train, y_val = split_data(X, y, 2020)\n",
    "\n",
    "y_train.plot.hist(bins=40, figsize=(12, 4));"
   ]
  },
  {
   "cell_type": "markdown",
   "id": "b7b4f8aa",
   "metadata": {},
   "source": [
    "- Consideriamo una distribuzione normale con media e deviazione standard pari a quelle di `y_train` e generiamo tanti campioni quanti i valori in `y_val`\n",
    "- Per valutare con maggiore affidabilità l'efficacia di un modello casuale, dobbiamo eseguire test multipli con seed differenti"
   ]
  },
  {
   "cell_type": "code",
   "execution_count": 59,
   "id": "711a182b",
   "metadata": {},
   "outputs": [
    {
     "name": "stdout",
     "output_type": "stream",
     "text": [
      "0.00994863721797587\n"
     ]
    }
   ],
   "source": [
    "rois = []\n",
    "for s in range(1000):\n",
    "    np.random.seed(s)\n",
    "    preds = np.random.normal(y_train.mean(), y_train.std(), len(y_val))\n",
    "    rois.append(roi(y_val, preds))\n",
    "print(np.mean(rois))"
   ]
  },
  {
   "cell_type": "markdown",
   "id": "60778372",
   "metadata": {},
   "source": [
    "Otteniamo un ROI medio prossimo allo 0"
   ]
  },
  {
   "cell_type": "markdown",
   "id": "447ec4f9",
   "metadata": {},
   "source": [
    "## Rete neurale"
   ]
  },
  {
   "cell_type": "code",
   "execution_count": 60,
   "id": "81d49bce",
   "metadata": {},
   "outputs": [],
   "source": [
    "from tensorflow import keras\n",
    "from tensorflow.keras.models import Sequential\n",
    "from tensorflow.keras.layers import *\n",
    "from tensorflow.keras.callbacks import ModelCheckpoint\n",
    "from tensorflow.keras.losses import MeanSquaredError\n",
    "from tensorflow.keras.metrics import RootMeanSquaredError\n",
    "from tensorflow.keras.optimizers import Adam"
   ]
  },
  {
   "cell_type": "markdown",
   "id": "2e6214e0",
   "metadata": {},
   "source": [
    "### Modifica Split\n",
    "Per utilizzare la rete neurale abbiamo bisogno di modificare leggermente la funzione `split_data`."
   ]
  },
  {
   "cell_type": "code",
   "execution_count": 61,
   "id": "b5c75ecd",
   "metadata": {},
   "outputs": [],
   "source": [
    "def split_data_for_neural_network(X, y, split):\n",
    "    lowerRange = X.index.year < split-1\n",
    "    midRange = (X.index.year >= split-1) & (X.index.year < split)\n",
    "    upperRange = (X.index.year >= split) & (X.index.year < split+1)\n",
    "    X_train = X.loc[lowerRange]\n",
    "    y_train = y.loc[lowerRange]\n",
    "    X_val = X.loc[midRange]\n",
    "    y_val = y.loc[midRange]\n",
    "    X_test = X.loc[upperRange]\n",
    "    y_test = y.loc[upperRange]\n",
    "    return X_train, X_val,X_test, y_train, y_val, y_test"
   ]
  },
  {
   "cell_type": "code",
   "execution_count": 132,
   "id": "43cc63f7",
   "metadata": {},
   "outputs": [],
   "source": [
    "X, y = prepare_data(features, delta)\n",
    "X_train, X_val, X_test, y_train, y_val, y_test = split_data_for_neural_network(X,y,2019)"
   ]
  },
  {
   "cell_type": "code",
   "execution_count": 133,
   "id": "97b7c7b3",
   "metadata": {},
   "outputs": [
    {
     "name": "stdout",
     "output_type": "stream",
     "text": [
      "Model: \"sequential_9\"\n",
      "_________________________________________________________________\n",
      " Layer (type)                Output Shape              Param #   \n",
      "=================================================================\n",
      " simple_rnn_18 (SimpleRNN)   (None, None, 20)          440       \n",
      "                                                                 \n",
      " simple_rnn_19 (SimpleRNN)   (None, 20)                820       \n",
      "                                                                 \n",
      " dense_9 (Dense)             (None, 1)                 21        \n",
      "                                                                 \n",
      "=================================================================\n",
      "Total params: 1,281\n",
      "Trainable params: 1,281\n",
      "Non-trainable params: 0\n",
      "_________________________________________________________________\n"
     ]
    }
   ],
   "source": [
    "neuralNetworkModel = Sequential([\n",
    "    keras.layers.SimpleRNN(20,return_sequences=True,input_shape=[None,1]),\n",
    "\n",
    "    keras.layers.SimpleRNN(20),\n",
    "\n",
    "    keras.layers.Dense(1)\n",
    "    \n",
    "])\n",
    "\n",
    "neuralNetworkModel.summary()"
   ]
  },
  {
   "cell_type": "code",
   "execution_count": 134,
   "id": "e3af9934",
   "metadata": {},
   "outputs": [],
   "source": [
    "neuralNetworkModel.compile(loss=MeanSquaredError(), optimizer=Adam(learning_rate=0.0001), metrics=[RootMeanSquaredError()])"
   ]
  },
  {
   "cell_type": "code",
   "execution_count": 135,
   "id": "681c5e78",
   "metadata": {
    "scrolled": true
   },
   "outputs": [
    {
     "name": "stdout",
     "output_type": "stream",
     "text": [
      "Epoch 1/10\n"
     ]
    },
    {
     "name": "stderr",
     "output_type": "stream",
     "text": [
      "2022-06-23 13:16:43.939682: I tensorflow/core/grappler/optimizers/custom_graph_optimizer_registry.cc:113] Plugin optimizer for device_type GPU is enabled.\n"
     ]
    },
    {
     "name": "stdout",
     "output_type": "stream",
     "text": [
      "54/54 [==============================] - ETA: 0s - loss: 1050.4033 - root_mean_squared_error: 32.4099"
     ]
    },
    {
     "name": "stderr",
     "output_type": "stream",
     "text": [
      "2022-06-23 13:16:57.845998: I tensorflow/core/grappler/optimizers/custom_graph_optimizer_registry.cc:113] Plugin optimizer for device_type GPU is enabled.\n"
     ]
    },
    {
     "name": "stdout",
     "output_type": "stream",
     "text": [
      "54/54 [==============================] - 15s 260ms/step - loss: 1050.4033 - root_mean_squared_error: 32.4099 - val_loss: 7348.9507 - val_root_mean_squared_error: 85.7260\n",
      "Epoch 2/10\n",
      "54/54 [==============================] - 14s 253ms/step - loss: 1050.1715 - root_mean_squared_error: 32.4063 - val_loss: 7348.7603 - val_root_mean_squared_error: 85.7249\n",
      "Epoch 3/10\n",
      "54/54 [==============================] - 14s 258ms/step - loss: 1049.8820 - root_mean_squared_error: 32.4019 - val_loss: 7348.5161 - val_root_mean_squared_error: 85.7235\n",
      "Epoch 4/10\n",
      "54/54 [==============================] - 14s 258ms/step - loss: 1049.6123 - root_mean_squared_error: 32.3977 - val_loss: 7348.5718 - val_root_mean_squared_error: 85.7238\n",
      "Epoch 5/10\n",
      "54/54 [==============================] - 14s 255ms/step - loss: 1049.3912 - root_mean_squared_error: 32.3943 - val_loss: 7348.4951 - val_root_mean_squared_error: 85.7234\n",
      "Epoch 6/10\n",
      "54/54 [==============================] - 14s 256ms/step - loss: 1049.1150 - root_mean_squared_error: 32.3900 - val_loss: 7348.6616 - val_root_mean_squared_error: 85.7243\n",
      "Epoch 7/10\n",
      "54/54 [==============================] - 14s 254ms/step - loss: 1048.9347 - root_mean_squared_error: 32.3873 - val_loss: 7348.8081 - val_root_mean_squared_error: 85.7252\n",
      "Epoch 8/10\n",
      "54/54 [==============================] - 14s 256ms/step - loss: 1048.7303 - root_mean_squared_error: 32.3841 - val_loss: 7348.8091 - val_root_mean_squared_error: 85.7252\n",
      "Epoch 9/10\n",
      "54/54 [==============================] - 14s 255ms/step - loss: 1048.5813 - root_mean_squared_error: 32.3818 - val_loss: 7349.1602 - val_root_mean_squared_error: 85.7272\n",
      "Epoch 10/10\n",
      "54/54 [==============================] - 14s 254ms/step - loss: 1048.3883 - root_mean_squared_error: 32.3788 - val_loss: 7349.1353 - val_root_mean_squared_error: 85.7271\n"
     ]
    },
    {
     "data": {
      "text/plain": [
       "<keras.callbacks.History at 0x2f2fee0e0>"
      ]
     },
     "execution_count": 135,
     "metadata": {},
     "output_type": "execute_result"
    }
   ],
   "source": [
    "neuralNetworkModel.fit(X_train, y_train, validation_data=(X_val, y_val), epochs=10)"
   ]
  },
  {
   "cell_type": "code",
   "execution_count": 136,
   "id": "ec13e308",
   "metadata": {
    "scrolled": true
   },
   "outputs": [
    {
     "name": "stdout",
     "output_type": "stream",
     "text": [
      "3/8 [==========>...................] - ETA: 0s"
     ]
    },
    {
     "name": "stderr",
     "output_type": "stream",
     "text": [
      "2022-06-23 13:19:02.436741: I tensorflow/core/grappler/optimizers/custom_graph_optimizer_registry.cc:113] Plugin optimizer for device_type GPU is enabled.\n"
     ]
    },
    {
     "name": "stdout",
     "output_type": "stream",
     "text": [
      "8/8 [==============================] - 0s 38ms/step\n"
     ]
    }
   ],
   "source": [
    "pred = neuralNetworkModel.predict(X_test)"
   ]
  },
  {
   "cell_type": "code",
   "execution_count": 137,
   "id": "9bdd030e",
   "metadata": {
    "scrolled": true
   },
   "outputs": [
    {
     "name": "stdout",
     "output_type": "stream",
     "text": [
      "ROI: 8.458594981609762\n"
     ]
    }
   ],
   "source": [
    "print(\"ROI:\",roi(y_test, pred.squeeze()) * 100)"
   ]
  },
  {
   "cell_type": "code",
   "execution_count": null,
   "id": "cf340c1f",
   "metadata": {},
   "outputs": [],
   "source": [
    "# Guadagni\n",
    "### Verifichiamo i guadagni per ogni anno e con ogni algoritmo studiato"
   ]
  },
  {
   "cell_type": "markdown",
   "id": "d283fe7a",
   "metadata": {},
   "source": [
    "- Per fare ciò andiamo a costruire una funzione che permetta, dato l'anno, di stampare un grafico del guadagno per ogni algoritmo."
   ]
  },
  {
   "cell_type": "code",
   "execution_count": 70,
   "id": "08cac1be",
   "metadata": {},
   "outputs": [],
   "source": [
    "from tabulate import tabulate\n",
    "\n",
    "def chartFromYear(anno): \n",
    "    # set width of bar\n",
    "    barWidth = 0.25\n",
    "    fig = plt.subplots(figsize =(15, 10))\n",
    "\n",
    "    #LinearRegression\n",
    "    X, y = prepare_data(new_features, delta)\n",
    "    X_train, X_val, y_train, y_val = split_data(X, y, anno)\n",
    "    linearRegressionModel.fit(X_train, y_train)\n",
    "    linReg = (roi(y_val, linearRegressionModel.predict(X_val)) * 100)\n",
    "    \n",
    "    #Ridge\n",
    "    ridgeModel.fit(X_train, y_train)\n",
    "    ridge = (roi(y_val, ridgeModel.predict(X_val)) * 100)\n",
    "    \n",
    "    #ElasticNet\n",
    "    X, y = prepare_data(features, delta)\n",
    "    X_train, X_val, y_train, y_val = split_data(X, y, anno)\n",
    "    elasticNetModel.fit(X_train, y_train)\n",
    "    elNet = (roi(y_val, elasticNetModel.predict(X_val)) * 100)\n",
    "    \n",
    "    #RandomForest\n",
    "    X, y = prepare_data(features, delta)\n",
    "    X_train, X_val, y_train, y_val = split_data(X, y, anno)\n",
    "    randomForestModel.fit(X_train, y_train)\n",
    "    randFor = (roi(y_val, randomForestModel.predict(X_val)) * 100)\n",
    "    \n",
    "    #XGBoost\n",
    "    X, y = prepare_data(new_features, delta)\n",
    "    X_train, X_val, y_train, y_val = split_data(X, y, anno)\n",
    "    xgbm.fit(X_train, y_train)\n",
    "    xgb = (roi(y_val, xgbm.predict(X_val)) * 100)\n",
    "    \n",
    "    #LightBoost\n",
    "    lgbm.fit(X_train, y_train)\n",
    "    light = (roi(y_val, lgbm.predict(X_val)) * 100)\n",
    "    \n",
    "    #Neural Network\n",
    "    X, y = prepare_data(features, delta)\n",
    "    X_train, X_val, X_test, y_train, y_val, y_test = split_data_for_neural_network(X,y,anno)\n",
    "    neuralNetworkModel.compile(loss=MeanSquaredError(), optimizer=Adam(learning_rate=0.0001), metrics=[RootMeanSquaredError()])\n",
    "    neuralNetworkModel.fit(X_train, y_train, validation_data=(X_val, y_val), epochs=10, verbose=0)\n",
    "    pred = neuralNetworkModel.predict(X_test)\n",
    "    nn = (roi(y_test, pred.squeeze()) * 100)\n",
    "\n",
    "    # Set position of bar on X axis\n",
    "    br1 = 1\n",
    "    br2 = br1 + barWidth\n",
    "    br3 = br2 + barWidth\n",
    "    br4 = br3 + barWidth\n",
    "    br5 = br4 + barWidth\n",
    "    br6 = br5 + barWidth\n",
    "    br7 = br6 + barWidth\n",
    "    \n",
    "    algo = ['LinearRegression\\n(new features)',\n",
    "            'Ridge\\n(new features)',\n",
    "            'ElasticNet\\n(features)',\n",
    "            'RandomForest', \n",
    "            'XGBoost', \n",
    "            'LightBoost', \n",
    "            'Neural Network']\n",
    "    plt.bar(br1,linReg, color ='purple', width = barWidth,\n",
    "            edgecolor ='grey', label ='LinearRegression')\n",
    "    plt.bar(br2, ridge, color ='black', width = barWidth,\n",
    "            edgecolor ='grey', label ='Ridge')\n",
    "    plt.bar(br3, elNet, color ='red', width = barWidth,\n",
    "            edgecolor ='grey', label ='ElasticNet')\n",
    "    plt.bar(br4, randFor, color ='orange', width = barWidth,\n",
    "            edgecolor ='grey', label ='RandomForest')\n",
    "    plt.bar(br5, xgb, color ='yellow', width = barWidth,\n",
    "            edgecolor ='grey', label ='XGBoost')\n",
    "    plt.bar(br6, light, color ='green', width = barWidth,\n",
    "            edgecolor ='grey', label ='LightBoost')\n",
    "    plt.bar(br7, nn, color ='blue', width = barWidth,\n",
    "            edgecolor ='grey', label ='Neural Network')\n",
    "    \n",
    "\n",
    "    plt.xticks([br1, br2, br3, br4, br5, br6, br7], algo)\n",
    "    plt.xlabel(anno, fontweight ='bold', fontsize = 15)\n",
    "    plt.ylabel('ROI', fontweight ='bold', fontsize = 15)\n",
    "\n",
    "    #plt.legend()\n",
    "    plt.show()\n",
    "    \n",
    "    data = [[\"LinearRegression\", linReg], \n",
    "            [\"Ridge\", ridge], \n",
    "            [\"ElasticNet\", elNet], \n",
    "            [\"RandomForest\", randFor],\n",
    "            [\"XGBoost\", xgb],\n",
    "            [\"LightBoost\", light],\n",
    "            [\"Neural Network\", nn]]\n",
    "    col_names = [\"Modello\", \"ROI\"]\n",
    "    print(tabulate(data, headers=col_names))\n",
    "    "
   ]
  },
  {
   "cell_type": "markdown",
   "id": "93343903",
   "metadata": {},
   "source": [
    "## Risultati 2013"
   ]
  },
  {
   "cell_type": "code",
   "execution_count": 71,
   "id": "e34d5741",
   "metadata": {},
   "outputs": [
    {
     "name": "stderr",
     "output_type": "stream",
     "text": [
      "2022-06-23 12:20:29.226327: I tensorflow/core/grappler/optimizers/custom_graph_optimizer_registry.cc:113] Plugin optimizer for device_type GPU is enabled.\n",
      "2022-06-23 12:20:31.465617: I tensorflow/core/grappler/optimizers/custom_graph_optimizer_registry.cc:113] Plugin optimizer for device_type GPU is enabled.\n"
     ]
    },
    {
     "name": "stdout",
     "output_type": "stream",
     "text": [
      "3/8 [==========>...................] - ETA: 0s"
     ]
    },
    {
     "name": "stderr",
     "output_type": "stream",
     "text": [
      "2022-06-23 12:20:51.291211: I tensorflow/core/grappler/optimizers/custom_graph_optimizer_registry.cc:113] Plugin optimizer for device_type GPU is enabled.\n"
     ]
    },
    {
     "name": "stdout",
     "output_type": "stream",
     "text": [
      "8/8 [==============================] - 0s 37ms/step\n"
     ]
    },
    {
     "data": {
      "image/png": "[encoded data removed]",
      "text/plain": [
       "<Figure size 1080x720 with 1 Axes>"
      ]
     },
     "metadata": {
      "needs_background": "light"
     },
     "output_type": "display_data"
    },
    {
     "name": "stdout",
     "output_type": "stream",
     "text": [
      "Modello                 ROI\n",
      "----------------  ---------\n",
      "LinearRegression  -17.1471\n",
      "Ridge             -17.0391\n",
      "ElasticNet        -17.0274\n",
      "RandomForest      -14.704\n",
      "XGBoost           -14.6916\n",
      "LightBoost        -12.0868\n",
      "Neural Network     -5.92613\n"
     ]
    }
   ],
   "source": [
    "chartFromYear(2013)"
   ]
  },
  {
   "cell_type": "markdown",
   "id": "12983690",
   "metadata": {},
   "source": [
    "Nell'anno 2013 tutti i nostri modelli sarebbero andati in perdita, la perdita minore è stata fatta dal modello `LightBoost`. La scarsa performance è dovuta, probabilmente, alla scarsità di data set per il training (solo 1 anno). "
   ]
  },
  {
   "cell_type": "markdown",
   "id": "5a66b5ed",
   "metadata": {},
   "source": [
    "## Risultati 2014"
   ]
  },
  {
   "cell_type": "code",
   "execution_count": 72,
   "id": "c75a0baf",
   "metadata": {},
   "outputs": [
    {
     "name": "stderr",
     "output_type": "stream",
     "text": [
      "2022-06-23 12:20:55.195521: I tensorflow/core/grappler/optimizers/custom_graph_optimizer_registry.cc:113] Plugin optimizer for device_type GPU is enabled.\n",
      "2022-06-23 12:20:59.328610: I tensorflow/core/grappler/optimizers/custom_graph_optimizer_registry.cc:113] Plugin optimizer for device_type GPU is enabled.\n"
     ]
    },
    {
     "name": "stdout",
     "output_type": "stream",
     "text": [
      "3/8 [==========>...................] - ETA: 0s"
     ]
    },
    {
     "name": "stderr",
     "output_type": "stream",
     "text": [
      "2022-06-23 12:21:37.490048: I tensorflow/core/grappler/optimizers/custom_graph_optimizer_registry.cc:113] Plugin optimizer for device_type GPU is enabled.\n"
     ]
    },
    {
     "name": "stdout",
     "output_type": "stream",
     "text": [
      "8/8 [==============================] - 0s 37ms/step\n"
     ]
    },
    {
     "data": {
      "image/png": "[encoded data removed]",
      "text/plain": [
       "<Figure size 1080x720 with 1 Axes>"
      ]
     },
     "metadata": {
      "needs_background": "light"
     },
     "output_type": "display_data"
    },
    {
     "name": "stdout",
     "output_type": "stream",
     "text": [
      "Modello                  ROI\n",
      "----------------  ----------\n",
      "LinearRegression   -0.305489\n",
      "Ridge              -3.20964\n",
      "ElasticNet         -0.020697\n",
      "RandomForest       13.1721\n",
      "XGBoost           -13.2136\n",
      "LightBoost          3.24489\n",
      "Neural Network     -8.69524\n"
     ]
    }
   ],
   "source": [
    "chartFromYear(2014)"
   ]
  },
  {
   "cell_type": "markdown",
   "id": "4f1dd59e",
   "metadata": {},
   "source": [
    "Nel 2014, il modello più promettente è `RandomForest` che ci ha procurato un guadagno del 9.51%, seguito dalla rete neurale che ha totalizzato un ROI del 8.4%."
   ]
  },
  {
   "cell_type": "markdown",
   "id": "21ac13b2",
   "metadata": {},
   "source": [
    "## Risultati 2015"
   ]
  },
  {
   "cell_type": "code",
   "execution_count": 73,
   "id": "b62bb736",
   "metadata": {},
   "outputs": [
    {
     "name": "stderr",
     "output_type": "stream",
     "text": [
      "2022-06-23 12:21:41.317789: I tensorflow/core/grappler/optimizers/custom_graph_optimizer_registry.cc:113] Plugin optimizer for device_type GPU is enabled.\n",
      "2022-06-23 12:21:46.463073: I tensorflow/core/grappler/optimizers/custom_graph_optimizer_registry.cc:113] Plugin optimizer for device_type GPU is enabled.\n"
     ]
    },
    {
     "name": "stdout",
     "output_type": "stream",
     "text": [
      "3/8 [==========>...................] - ETA: 0s"
     ]
    },
    {
     "name": "stderr",
     "output_type": "stream",
     "text": [
      "2022-06-23 12:22:34.168185: I tensorflow/core/grappler/optimizers/custom_graph_optimizer_registry.cc:113] Plugin optimizer for device_type GPU is enabled.\n"
     ]
    },
    {
     "name": "stdout",
     "output_type": "stream",
     "text": [
      "8/8 [==============================] - 1s 38ms/step\n"
     ]
    },
    {
     "data": {
      "image/png": "[encoded data removed]",
      "text/plain": [
       "<Figure size 1080x720 with 1 Axes>"
      ]
     },
     "metadata": {
      "needs_background": "light"
     },
     "output_type": "display_data"
    },
    {
     "name": "stdout",
     "output_type": "stream",
     "text": [
      "Modello                 ROI\n",
      "----------------  ---------\n",
      "LinearRegression   -6.40071\n",
      "Ridge              -3.84083\n",
      "ElasticNet         15.9965\n",
      "RandomForest       18.3566\n",
      "XGBoost             4.63187\n",
      "LightBoost         -8.44859\n",
      "Neural Network    -13.7095\n"
     ]
    }
   ],
   "source": [
    "chartFromYear(2015)"
   ]
  },
  {
   "cell_type": "markdown",
   "id": "b301bd2d",
   "metadata": {},
   "source": [
    "Anche nel 2015 il modello più remunerativo è stato il `RandomForest` con un guadagno in percentuale del 23.63%."
   ]
  },
  {
   "cell_type": "markdown",
   "id": "436ebfd6",
   "metadata": {},
   "source": [
    "## Risultati 2016"
   ]
  },
  {
   "cell_type": "code",
   "execution_count": 74,
   "id": "60339816",
   "metadata": {},
   "outputs": [
    {
     "name": "stderr",
     "output_type": "stream",
     "text": [
      "2022-06-23 12:22:39.492781: I tensorflow/core/grappler/optimizers/custom_graph_optimizer_registry.cc:113] Plugin optimizer for device_type GPU is enabled.\n",
      "2022-06-23 12:22:47.631392: I tensorflow/core/grappler/optimizers/custom_graph_optimizer_registry.cc:113] Plugin optimizer for device_type GPU is enabled.\n"
     ]
    },
    {
     "name": "stdout",
     "output_type": "stream",
     "text": [
      "3/8 [==========>...................] - ETA: 0s"
     ]
    },
    {
     "name": "stderr",
     "output_type": "stream",
     "text": [
      "2022-06-23 12:24:00.591199: I tensorflow/core/grappler/optimizers/custom_graph_optimizer_registry.cc:113] Plugin optimizer for device_type GPU is enabled.\n"
     ]
    },
    {
     "name": "stdout",
     "output_type": "stream",
     "text": [
      "8/8 [==============================] - 0s 37ms/step\n"
     ]
    },
    {
     "data": {
      "image/png": "[encoded data removed]",
      "text/plain": [
       "<Figure size 1080x720 with 1 Axes>"
      ]
     },
     "metadata": {
      "needs_background": "light"
     },
     "output_type": "display_data"
    },
    {
     "name": "stdout",
     "output_type": "stream",
     "text": [
      "Modello                 ROI\n",
      "----------------  ---------\n",
      "LinearRegression   9.23919\n",
      "Ridge             11.0607\n",
      "ElasticNet         2.32815\n",
      "RandomForest      16.2279\n",
      "XGBoost            1.81019\n",
      "LightBoost        -0.647591\n",
      "Neural Network    11.5697\n"
     ]
    }
   ],
   "source": [
    "chartFromYear(2016)"
   ]
  },
  {
   "cell_type": "markdown",
   "id": "031f4888",
   "metadata": {},
   "source": [
    "Nel 2016, come nei 2 anni precedenti, il modello con ROI più elevato è stato `RandomForest`, totalizzando il 27.71%."
   ]
  },
  {
   "cell_type": "markdown",
   "id": "0af28e25",
   "metadata": {},
   "source": [
    "## Risultati 2017"
   ]
  },
  {
   "cell_type": "code",
   "execution_count": 75,
   "id": "9b40c0ae",
   "metadata": {},
   "outputs": [
    {
     "name": "stderr",
     "output_type": "stream",
     "text": [
      "2022-06-23 12:24:04.777122: I tensorflow/core/grappler/optimizers/custom_graph_optimizer_registry.cc:113] Plugin optimizer for device_type GPU is enabled.\n",
      "2022-06-23 12:24:15.240341: I tensorflow/core/grappler/optimizers/custom_graph_optimizer_registry.cc:113] Plugin optimizer for device_type GPU is enabled.\n"
     ]
    },
    {
     "name": "stdout",
     "output_type": "stream",
     "text": [
      "3/8 [==========>...................] - ETA: 0s"
     ]
    },
    {
     "name": "stderr",
     "output_type": "stream",
     "text": [
      "2022-06-23 12:25:51.139981: I tensorflow/core/grappler/optimizers/custom_graph_optimizer_registry.cc:113] Plugin optimizer for device_type GPU is enabled.\n"
     ]
    },
    {
     "name": "stdout",
     "output_type": "stream",
     "text": [
      "8/8 [==============================] - 0s 40ms/step\n"
     ]
    },
    {
     "data": {
      "image/png": "[encoded data removed]",
      "text/plain": [
       "<Figure size 1080x720 with 1 Axes>"
      ]
     },
     "metadata": {
      "needs_background": "light"
     },
     "output_type": "display_data"
    },
    {
     "name": "stdout",
     "output_type": "stream",
     "text": [
      "Modello                ROI\n",
      "----------------  --------\n",
      "LinearRegression  19.7538\n",
      "Ridge             19.4092\n",
      "ElasticNet        23.6558\n",
      "RandomForest      -8.47669\n",
      "XGBoost           -3.79465\n",
      "LightBoost        -2.20799\n",
      "Neural Network     7.76213\n"
     ]
    }
   ],
   "source": [
    "chartFromYear(2017)"
   ]
  },
  {
   "cell_type": "markdown",
   "id": "d436bc24",
   "metadata": {},
   "source": [
    "Nel 2017, il modello più remunerativo è stato `ElasticNet`, con un ROI del 23.65%. In generale nel 2017 la regressione lineare è risultata molto performante."
   ]
  },
  {
   "cell_type": "markdown",
   "id": "3e7d0619",
   "metadata": {},
   "source": [
    "## Risultati 2018"
   ]
  },
  {
   "cell_type": "code",
   "execution_count": 76,
   "id": "bea56397",
   "metadata": {},
   "outputs": [
    {
     "name": "stderr",
     "output_type": "stream",
     "text": [
      "2022-06-23 12:25:55.302846: I tensorflow/core/grappler/optimizers/custom_graph_optimizer_registry.cc:113] Plugin optimizer for device_type GPU is enabled.\n",
      "2022-06-23 12:26:08.268573: I tensorflow/core/grappler/optimizers/custom_graph_optimizer_registry.cc:113] Plugin optimizer for device_type GPU is enabled.\n"
     ]
    },
    {
     "name": "stdout",
     "output_type": "stream",
     "text": [
      "3/8 [==========>...................] - ETA: 0s"
     ]
    },
    {
     "name": "stderr",
     "output_type": "stream",
     "text": [
      "2022-06-23 12:28:05.489930: I tensorflow/core/grappler/optimizers/custom_graph_optimizer_registry.cc:113] Plugin optimizer for device_type GPU is enabled.\n"
     ]
    },
    {
     "name": "stdout",
     "output_type": "stream",
     "text": [
      "8/8 [==============================] - 0s 39ms/step\n"
     ]
    },
    {
     "data": {
      "image/png": "[encoded data removed]",
      "text/plain": [
       "<Figure size 1080x720 with 1 Axes>"
      ]
     },
     "metadata": {
      "needs_background": "light"
     },
     "output_type": "display_data"
    },
    {
     "name": "stdout",
     "output_type": "stream",
     "text": [
      "Modello                 ROI\n",
      "----------------  ---------\n",
      "LinearRegression   -2.0644\n",
      "Ridge              -2.0644\n",
      "ElasticNet          3.46193\n",
      "RandomForest       15.5498\n",
      "XGBoost           -21.5121\n",
      "LightBoost         -8.32388\n",
      "Neural Network      7.70269\n"
     ]
    }
   ],
   "source": [
    "chartFromYear(2018)"
   ]
  },
  {
   "cell_type": "markdown",
   "id": "c4e9fce2",
   "metadata": {},
   "source": [
    "Nel 2018 il modello migliore torna ad essere il `RandomForest` con un ROI del 23.42%."
   ]
  },
  {
   "cell_type": "markdown",
   "id": "ff94aa59",
   "metadata": {},
   "source": [
    "## Risultati 2019"
   ]
  },
  {
   "cell_type": "code",
   "execution_count": 86,
   "id": "25ea86d5",
   "metadata": {
    "scrolled": false
   },
   "outputs": [
    {
     "name": "stderr",
     "output_type": "stream",
     "text": [
      "2022-06-23 12:41:28.691782: I tensorflow/core/grappler/optimizers/custom_graph_optimizer_registry.cc:113] Plugin optimizer for device_type GPU is enabled.\n",
      "2022-06-23 12:41:42.403701: I tensorflow/core/grappler/optimizers/custom_graph_optimizer_registry.cc:113] Plugin optimizer for device_type GPU is enabled.\n"
     ]
    },
    {
     "name": "stdout",
     "output_type": "stream",
     "text": [
      "3/8 [==========>...................] - ETA: 0s"
     ]
    },
    {
     "name": "stderr",
     "output_type": "stream",
     "text": [
      "2022-06-23 12:43:46.988724: I tensorflow/core/grappler/optimizers/custom_graph_optimizer_registry.cc:113] Plugin optimizer for device_type GPU is enabled.\n"
     ]
    },
    {
     "name": "stdout",
     "output_type": "stream",
     "text": [
      "8/8 [==============================] - 0s 38ms/step\n"
     ]
    },
    {
     "data": {
      "image/png": "[encoded data removed]",
      "text/plain": [
       "<Figure size 1080x720 with 1 Axes>"
      ]
     },
     "metadata": {
      "needs_background": "light"
     },
     "output_type": "display_data"
    },
    {
     "name": "stdout",
     "output_type": "stream",
     "text": [
      "Modello                 ROI\n",
      "----------------  ---------\n",
      "LinearRegression    2.61874\n",
      "Ridge               2.4418\n",
      "ElasticNet        -15.5971\n",
      "RandomForest      -10.2153\n",
      "XGBoost            10.8341\n",
      "LightBoost         -6.38745\n",
      "Neural Network      8.60219\n"
     ]
    }
   ],
   "source": [
    "chartFromYear(2019)"
   ]
  },
  {
   "cell_type": "markdown",
   "id": "f048a69a",
   "metadata": {},
   "source": [
    "Nel 2019, la nostra `rete neurale` riesce ad ottenere un ROI del 20.70%, seguito dalla `XGBoost` che totalizza il 10.83%."
   ]
  },
  {
   "cell_type": "markdown",
   "id": "11149597",
   "metadata": {},
   "source": [
    "## Risultati 2020"
   ]
  },
  {
   "cell_type": "code",
   "execution_count": 78,
   "id": "0f9b04d3",
   "metadata": {
    "scrolled": false
   },
   "outputs": [
    {
     "name": "stderr",
     "output_type": "stream",
     "text": [
      "2022-06-23 12:30:42.801303: I tensorflow/core/grappler/optimizers/custom_graph_optimizer_registry.cc:113] Plugin optimizer for device_type GPU is enabled.\n",
      "2022-06-23 12:30:59.386094: I tensorflow/core/grappler/optimizers/custom_graph_optimizer_registry.cc:113] Plugin optimizer for device_type GPU is enabled.\n"
     ]
    },
    {
     "name": "stdout",
     "output_type": "stream",
     "text": [
      "3/8 [==========>...................] - ETA: 0s"
     ]
    },
    {
     "name": "stderr",
     "output_type": "stream",
     "text": [
      "2022-06-23 12:33:28.507927: I tensorflow/core/grappler/optimizers/custom_graph_optimizer_registry.cc:113] Plugin optimizer for device_type GPU is enabled.\n"
     ]
    },
    {
     "name": "stdout",
     "output_type": "stream",
     "text": [
      "8/8 [==============================] - 0s 38ms/step\n"
     ]
    },
    {
     "data": {
      "image/png": "[encoded data removed]",
      "text/plain": [
       "<Figure size 1080x720 with 1 Axes>"
      ]
     },
     "metadata": {
      "needs_background": "light"
     },
     "output_type": "display_data"
    },
    {
     "name": "stdout",
     "output_type": "stream",
     "text": [
      "Modello                ROI\n",
      "----------------  --------\n",
      "LinearRegression  18.6779\n",
      "Ridge             34.1158\n",
      "ElasticNet        10.622\n",
      "RandomForest      15.8998\n",
      "XGBoost           40.2555\n",
      "LightBoost        45.1978\n",
      "Neural Network     6.04647\n"
     ]
    }
   ],
   "source": [
    "chartFromYear(2020)"
   ]
  },
  {
   "cell_type": "markdown",
   "id": "b667877c",
   "metadata": {},
   "source": [
    "Il 2020 è stato un anno particolarmente proficuo, tutti i modelli generano un guadagno molto alto, il migliore è il `LightBoost` con un guadagno del 45.19%."
   ]
  },
  {
   "cell_type": "markdown",
   "id": "9b216d7b",
   "metadata": {},
   "source": [
    "## Risultati 2021"
   ]
  },
  {
   "cell_type": "code",
   "execution_count": 79,
   "id": "61bd7036",
   "metadata": {},
   "outputs": [
    {
     "name": "stderr",
     "output_type": "stream",
     "text": [
      "2022-06-23 12:33:31.302830: I tensorflow/core/grappler/optimizers/custom_graph_optimizer_registry.cc:113] Plugin optimizer for device_type GPU is enabled.\n",
      "2022-06-23 12:33:49.158274: I tensorflow/core/grappler/optimizers/custom_graph_optimizer_registry.cc:113] Plugin optimizer for device_type GPU is enabled.\n"
     ]
    },
    {
     "name": "stdout",
     "output_type": "stream",
     "text": [
      "3/8 [==========>...................] - ETA: 0s"
     ]
    },
    {
     "name": "stderr",
     "output_type": "stream",
     "text": [
      "2022-06-23 12:36:30.765904: I tensorflow/core/grappler/optimizers/custom_graph_optimizer_registry.cc:113] Plugin optimizer for device_type GPU is enabled.\n"
     ]
    },
    {
     "name": "stdout",
     "output_type": "stream",
     "text": [
      "8/8 [==============================] - 0s 38ms/step\n"
     ]
    },
    {
     "data": {
      "image/png": "[encoded data removed]",
      "text/plain": [
       "<Figure size 1080x720 with 1 Axes>"
      ]
     },
     "metadata": {
      "needs_background": "light"
     },
     "output_type": "display_data"
    },
    {
     "name": "stdout",
     "output_type": "stream",
     "text": [
      "Modello                 ROI\n",
      "----------------  ---------\n",
      "LinearRegression   9.50319\n",
      "Ridge             10.0744\n",
      "ElasticNet         8.97125\n",
      "RandomForest       5.98083\n",
      "XGBoost            0.616308\n",
      "LightBoost        26.1103\n",
      "Neural Network     6.45196\n"
     ]
    }
   ],
   "source": [
    "chartFromYear(2021)"
   ]
  },
  {
   "cell_type": "markdown",
   "id": "9113464e",
   "metadata": {},
   "source": [
    "Nel 2021, il modello più proficuo è lo stesso dell'anno precedente, ovvero `LightBoost` con un ROI del 26.11%"
   ]
  },
  {
   "cell_type": "code",
   "execution_count": null,
   "id": "8d3f427e",
   "metadata": {},
   "outputs": [],
   "source": []
  }
 ],
 "metadata": {
  "kernelspec": {
   "display_name": "Python 3 (ipykernel)",
   "language": "python",
   "name": "python3"
  },
  "language_info": {
   "codemirror_mode": {
    "name": "ipython",
    "version": 3
   },
   "file_extension": ".py",
   "mimetype": "text/x-python",
   "name": "python",
   "nbconvert_exporter": "python",
   "pygments_lexer": "ipython3",
   "version": "3.10.4"
  }
 },
 "nbformat": 4,
 "nbformat_minor": 5
}

{
 "cells": [
  {
   "cell_type": "markdown",
   "id": "bfc69852",
   "metadata": {},
   "source": [
    "# Predizione Indice Di Borsa: NASDAQ\n",
    "## Autori: Luca Morlino e Valerio Di Zio\n"
   ]
  },
  {
   "cell_type": "markdown",
   "id": "a5f950ac",
   "metadata": {},
   "source": [
    "## Descrizione del problema\n",
    "### Cos'è NASDAQ?\n",
    "Il Nasdaq Composite è l'indice azionario statunitense che comprende titoli nazionali e internazionali in cui sono quotate più di 5.200 società. È stato creato nel 1971 con una base di 100.\n",
    "Le società che compongono l'indice seguono i criteri di capitalizzazione. Il Nasdaq è un indice molto volatile dove sono integrate le più importanti società tecnologiche del mondo.\n",
    "\n",
    "### Obiettivo\n",
    "L'obiettivo generale è quello di creare un algoritmo che preveda il valore di chiusura del titolo a inizio giornata."
   ]
  },
  {
   "cell_type": "code",
   "execution_count": 22,
   "id": "c10d12e8",
   "metadata": {},
   "outputs": [],
   "source": [
    "import numpy as np\n",
    "import pandas as pd\n",
    "import matplotlib.pyplot as plt\n",
    "import sklearn\n",
    "%matplotlib inline\n",
    "from utility import plot_model_on_data"
   ]
  },
  {
   "cell_type": "markdown",
   "id": "fc1093fa",
   "metadata": {},
   "source": [
    "## Estrazione dati\n",
    "I dati relativi a ^IXIC vengono scaricati dal servizio [Yahoo! Finance](https://it.finance.yahoo.com/).\n",
    "Per fare ciò viene utilizzata la libreria yfinance che permette l'estrazione di dati in forma di oggetti Python facilmente interrogabili.\n",
    "In particolare, la usiamo per ottenere i dati storici in forma di Dataframe Pandas."
   ]
  },
  {
   "cell_type": "code",
   "execution_count": 23,
   "id": "08483685",
   "metadata": {},
   "outputs": [],
   "source": [
    "import yfinance"
   ]
  },
  {
   "cell_type": "markdown",
   "id": "34ab1dea",
   "metadata": {},
   "source": [
    "- Creiamo un oggetto Ticker che rappresenta uno specifico titolo o indice\n",
    "- Nel nostro caso il simbolo del Nasdaq con il suo valore in dollari è ^IXIC"
   ]
  },
  {
   "cell_type": "code",
   "execution_count": 24,
   "id": "76466847",
   "metadata": {},
   "outputs": [],
   "source": [
    "nasdaq = yfinance.Ticker(\"^IXIC\")"
   ]
  },
  {
   "cell_type": "markdown",
   "id": "28e295ee",
   "metadata": {},
   "source": [
    "- Utilizziamo il metodo history per ottenere i dati storici, partendo dal 1 Gennaio 2011 fino al 31 Dicembre 2021."
   ]
  },
  {
   "cell_type": "code",
   "execution_count": 25,
   "id": "02bfb8b1",
   "metadata": {},
   "outputs": [],
   "source": [
    "data = nasdaq.history(start=\"2001-01-02\", end=\"2021-12-31\", actions=False)"
   ]
  },
  {
   "cell_type": "markdown",
   "id": "ab8b8ff8",
   "metadata": {},
   "source": [
    "Ad esempio, guardiamo i dati relativi agli ultimi 5 giorni dell'anno 2021. "
   ]
  },
  {
   "cell_type": "code",
   "execution_count": 26,
   "id": "93d76e94",
   "metadata": {
    "scrolled": true
   },
   "outputs": [
    {
     "data": {
      "text/html": [
       "<div>\n",
       "<style scoped>\n",
       "    .dataframe tbody tr th:only-of-type {\n",
       "        vertical-align: middle;\n",
       "    }\n",
       "\n",
       "    .dataframe tbody tr th {\n",
       "        vertical-align: top;\n",
       "    }\n",
       "\n",
       "    .dataframe thead th {\n",
       "        text-align: right;\n",
       "    }\n",
       "</style>\n",
       "<table border=\"1\" class=\"dataframe\">\n",
       "  <thead>\n",
       "    <tr style=\"text-align: right;\">\n",
       "      <th></th>\n",
       "      <th>Open</th>\n",
       "      <th>High</th>\n",
       "      <th>Low</th>\n",
       "      <th>Close</th>\n",
       "      <th>Volume</th>\n",
       "    </tr>\n",
       "    <tr>\n",
       "      <th>Date</th>\n",
       "      <th></th>\n",
       "      <th></th>\n",
       "      <th></th>\n",
       "      <th></th>\n",
       "      <th></th>\n",
       "    </tr>\n",
       "  </thead>\n",
       "  <tbody>\n",
       "    <tr>\n",
       "      <th>2021-12-23</th>\n",
       "      <td>15544.790039</td>\n",
       "      <td>15697.980469</td>\n",
       "      <td>15528.910156</td>\n",
       "      <td>15653.370117</td>\n",
       "      <td>3918200000</td>\n",
       "    </tr>\n",
       "    <tr>\n",
       "      <th>2021-12-27</th>\n",
       "      <td>15696.830078</td>\n",
       "      <td>15871.400391</td>\n",
       "      <td>15696.830078</td>\n",
       "      <td>15871.259766</td>\n",
       "      <td>3730120000</td>\n",
       "    </tr>\n",
       "    <tr>\n",
       "      <th>2021-12-28</th>\n",
       "      <td>15895.200195</td>\n",
       "      <td>15901.469727</td>\n",
       "      <td>15757.070312</td>\n",
       "      <td>15781.719727</td>\n",
       "      <td>3623600000</td>\n",
       "    </tr>\n",
       "    <tr>\n",
       "      <th>2021-12-29</th>\n",
       "      <td>15794.919922</td>\n",
       "      <td>15821.809570</td>\n",
       "      <td>15679.849609</td>\n",
       "      <td>15766.219727</td>\n",
       "      <td>3694500000</td>\n",
       "    </tr>\n",
       "    <tr>\n",
       "      <th>2021-12-30</th>\n",
       "      <td>15758.980469</td>\n",
       "      <td>15868.089844</td>\n",
       "      <td>15729.160156</td>\n",
       "      <td>15741.559570</td>\n",
       "      <td>3732730000</td>\n",
       "    </tr>\n",
       "  </tbody>\n",
       "</table>\n",
       "</div>"
      ],
      "text/plain": [
       "                    Open          High           Low         Close      Volume\n",
       "Date                                                                          \n",
       "2021-12-23  15544.790039  15697.980469  15528.910156  15653.370117  3918200000\n",
       "2021-12-27  15696.830078  15871.400391  15696.830078  15871.259766  3730120000\n",
       "2021-12-28  15895.200195  15901.469727  15757.070312  15781.719727  3623600000\n",
       "2021-12-29  15794.919922  15821.809570  15679.849609  15766.219727  3694500000\n",
       "2021-12-30  15758.980469  15868.089844  15729.160156  15741.559570  3732730000"
      ]
     },
     "execution_count": 26,
     "metadata": {},
     "output_type": "execute_result"
    }
   ],
   "source": [
    "data.tail(5)"
   ]
  },
  {
   "cell_type": "markdown",
   "id": "668fd7c7",
   "metadata": {},
   "source": [
    "Andiamo a contare il numero di istanze ricavate"
   ]
  },
  {
   "cell_type": "code",
   "execution_count": 27,
   "id": "bfdefc00",
   "metadata": {},
   "outputs": [
    {
     "data": {
      "text/plain": [
       "5283"
      ]
     },
     "execution_count": 27,
     "metadata": {},
     "output_type": "execute_result"
    }
   ],
   "source": [
    "data.shape[0]"
   ]
  },
  {
   "cell_type": "markdown",
   "id": "dae6778a",
   "metadata": {},
   "source": [
    "## Features\n",
    "Il nostro dataset, inizialmente, ha 5 features:\n",
    "- Open: è il valore in dollari di una singola azione all'orario di apertura\n",
    "- High: è il valore massimo in dollari raggiunto durante la giornata\n",
    "- Low: è il valore minimo in dollari raggiunto durante la giornata\n",
    "- Close: è il valore in dollari di una singola azione all'orario di chiusura\n",
    "- Volume: il volume di trading indica (nel nostro caso) il valore in dollari delle azioni scambiate durante la giornata\n",
    "\n",
    "Per comodità estraiamo una serie per ciascuna colonna, per potersi riferire ad esse con un unico nome."
   ]
  },
  {
   "cell_type": "code",
   "execution_count": 28,
   "id": "6aea60f2",
   "metadata": {},
   "outputs": [],
   "source": [
    "open = data[\"Open\"]\n",
    "high = data[\"High\"]\n",
    "low = data[\"Low\"]\n",
    "close = data[\"Close\"]\n",
    "volume = data[\"Volume\"]"
   ]
  },
  {
   "cell_type": "markdown",
   "id": "fabf5006",
   "metadata": {},
   "source": [
    "## Rappresentazione dei dati\n",
    "Possiamo tracciare il grafico dell'andamento del prezzo, basandoci sulla feature \"Open\"."
   ]
  },
  {
   "cell_type": "code",
   "execution_count": 29,
   "id": "d6dc8eae",
   "metadata": {
    "scrolled": true
   },
   "outputs": [
    {
     "data": {
      "image/png": "[encoded data removed]",
      "text/plain": [
       "<Figure size 1152x288 with 1 Axes>"
      ]
     },
     "metadata": {
      "needs_background": "light"
     },
     "output_type": "display_data"
    }
   ],
   "source": [
    "open.plot(figsize=(16,4))\n",
    "plt.title(\"Andamento prezzo del NASDAQ\")\n",
    "plt.xlabel(\"Data\")\n",
    "plt.ylabel(\"Prezzo ($)\");"
   ]
  },
  {
   "cell_type": "markdown",
   "id": "999fd05a",
   "metadata": {},
   "source": [
    "Utilizzando la libreria plotly è possibile visualizzare in un unico grafico 4 features (Open, High, Low, Close)"
   ]
  },
  {
   "cell_type": "code",
   "execution_count": 30,
   "id": "c7152044",
   "metadata": {},
   "outputs": [],
   "source": [
    "import plotly.graph_objects as go"
   ]
  },
  {
   "cell_type": "code",
   "execution_count": 31,
   "id": "2747b44e",
   "metadata": {
    "scrolled": false
   },
   "outputs": [],
   "source": [
    "candlestick = go.Candlestick(\n",
    "                            x=data.index,\n",
    "                            open=data['Open'],\n",
    "                            high=data['High'],\n",
    "                            low=data['Low'],\n",
    "                            close=data['Close']\n",
    "                            )\n"
   ]
  },
  {
   "cell_type": "markdown",
   "id": "9a81317f",
   "metadata": {},
   "source": [
    "Il grafico è rappresentato mediante l'utilizzo di Candele, queste ultime rappresentano l'andamento del prezzo di una giornata.\n",
    "\n",
    "<img src=\"candlestick.jpeg\" alt=\"Candlestick\" style=\"width:700px;\"/>\n"
   ]
  },
  {
   "cell_type": "code",
   "execution_count": 32,
   "id": "d2b642f3",
   "metadata": {},
   "outputs": [],
   "source": [
    "from ipywidgets.widgets import interact\n",
    "from datetime import timedelta, datetime"
   ]
  },
  {
   "cell_type": "markdown",
   "id": "482bab85",
   "metadata": {},
   "source": [
    "Mostriamo tramite grafico a candele gli ultimi 50 giorni."
   ]
  },
  {
   "cell_type": "code",
   "execution_count": 33,
   "id": "5bef79db",
   "metadata": {},
   "outputs": [],
   "source": [
    "\n",
    "termDate = datetime(2021, 12, 31)\n",
    "DD = timedelta(days=100)\n",
    "earlier = termDate - DD\n",
    "earlier_str = earlier.strftime(\"%Y-%m-%d\")"
   ]
  },
  {
   "cell_type": "code",
   "execution_count": 34,
   "id": "a901c2db",
   "metadata": {
    "scrolled": false
   },
   "outputs": [
    {
     "data": {
      "application/vnd.jupyter.widget-view+json": {
       "model_id": "c8ec8a3759934eff9080883bd3184c49",
       "version_major": 2,
       "version_minor": 0
      },
      "text/plain": [
       "interactive(children=(IntSlider(value=13000, description='ymin', max=13000, step=500), IntSlider(value=17000, …"
      ]
     },
     "metadata": {},
     "output_type": "display_data"
    }
   ],
   "source": [
    "@interact(ymin=(0,13000,500), ymax=(11000,30000,500))\n",
    "def plot_candlestick(ymin=13000, ymax=17000):    \n",
    "    fig = go.Figure(data=[candlestick])\n",
    "    fig.update_layout(\n",
    "        width=1000, height=700,\n",
    "        title=\"Andamento prezzo NASDAQ Candlestick\",\n",
    "        yaxis_title='Prezzo ($)'\n",
    "    )\n",
    "    fig.update_xaxes(type=\"date\", range=[earlier_str, termDate])\n",
    "    fig.update_yaxes(range=[ymin,ymax])\n",
    "    fig.show()"
   ]
  },
  {
   "cell_type": "markdown",
   "id": "7a912c5c",
   "metadata": {},
   "source": [
    "Mostriamo ora alcune statistiche generali raggruppate per anno come:\n",
    "- Media\n",
    "- Deviazione Standard\n",
    "- Min e Max\n",
    "- Quartili\n"
   ]
  },
  {
   "cell_type": "code",
   "execution_count": 35,
   "id": "e15e68f5",
   "metadata": {
    "scrolled": false
   },
   "outputs": [
    {
     "data": {
      "text/html": [
       "<div>\n",
       "<style scoped>\n",
       "    .dataframe tbody tr th:only-of-type {\n",
       "        vertical-align: middle;\n",
       "    }\n",
       "\n",
       "    .dataframe tbody tr th {\n",
       "        vertical-align: top;\n",
       "    }\n",
       "\n",
       "    .dataframe thead th {\n",
       "        text-align: right;\n",
       "    }\n",
       "</style>\n",
       "<table border=\"1\" class=\"dataframe\">\n",
       "  <thead>\n",
       "    <tr style=\"text-align: right;\">\n",
       "      <th></th>\n",
       "      <th>count</th>\n",
       "      <th>mean</th>\n",
       "      <th>std</th>\n",
       "      <th>min</th>\n",
       "      <th>25%</th>\n",
       "      <th>50%</th>\n",
       "      <th>75%</th>\n",
       "      <th>max</th>\n",
       "    </tr>\n",
       "    <tr>\n",
       "      <th>Date</th>\n",
       "      <th></th>\n",
       "      <th></th>\n",
       "      <th></th>\n",
       "      <th></th>\n",
       "      <th></th>\n",
       "      <th></th>\n",
       "      <th></th>\n",
       "      <th></th>\n",
       "    </tr>\n",
       "  </thead>\n",
       "  <tbody>\n",
       "    <tr>\n",
       "      <th>2001</th>\n",
       "      <td>248.0</td>\n",
       "      <td>2034.761993</td>\n",
       "      <td>301.438942</td>\n",
       "      <td>1420.550049</td>\n",
       "      <td>1862.830002</td>\n",
       "      <td>2008.147522</td>\n",
       "      <td>2161.352478</td>\n",
       "      <td>2860.340088</td>\n",
       "    </tr>\n",
       "    <tr>\n",
       "      <th>2002</th>\n",
       "      <td>252.0</td>\n",
       "      <td>1540.405536</td>\n",
       "      <td>251.045797</td>\n",
       "      <td>1123.984985</td>\n",
       "      <td>1333.267487</td>\n",
       "      <td>1458.937500</td>\n",
       "      <td>1768.275024</td>\n",
       "      <td>2066.484924</td>\n",
       "    </tr>\n",
       "    <tr>\n",
       "      <th>2003</th>\n",
       "      <td>252.0</td>\n",
       "      <td>1645.938948</td>\n",
       "      <td>232.861727</td>\n",
       "      <td>1266.404968</td>\n",
       "      <td>1409.356247</td>\n",
       "      <td>1662.695007</td>\n",
       "      <td>1882.518753</td>\n",
       "      <td>2005.924988</td>\n",
       "    </tr>\n",
       "    <tr>\n",
       "      <th>2004</th>\n",
       "      <td>252.0</td>\n",
       "      <td>1986.535022</td>\n",
       "      <td>96.932764</td>\n",
       "      <td>1759.724976</td>\n",
       "      <td>1913.084991</td>\n",
       "      <td>1985.510010</td>\n",
       "      <td>2061.235046</td>\n",
       "      <td>2180.094971</td>\n",
       "    </tr>\n",
       "    <tr>\n",
       "      <th>2005</th>\n",
       "      <td>252.0</td>\n",
       "      <td>2099.567141</td>\n",
       "      <td>85.785227</td>\n",
       "      <td>1905.799988</td>\n",
       "      <td>2051.948761</td>\n",
       "      <td>2087.612488</td>\n",
       "      <td>2162.228760</td>\n",
       "      <td>2268.765015</td>\n",
       "    </tr>\n",
       "    <tr>\n",
       "      <th>2006</th>\n",
       "      <td>251.0</td>\n",
       "      <td>2262.655837</td>\n",
       "      <td>110.898229</td>\n",
       "      <td>2024.924988</td>\n",
       "      <td>2172.347473</td>\n",
       "      <td>2275.010010</td>\n",
       "      <td>2338.710022</td>\n",
       "      <td>2462.630005</td>\n",
       "    </tr>\n",
       "    <tr>\n",
       "      <th>2007</th>\n",
       "      <td>251.0</td>\n",
       "      <td>2577.249085</td>\n",
       "      <td>112.240827</td>\n",
       "      <td>2351.655029</td>\n",
       "      <td>2489.714905</td>\n",
       "      <td>2572.135010</td>\n",
       "      <td>2656.650085</td>\n",
       "      <td>2838.589966</td>\n",
       "    </tr>\n",
       "    <tr>\n",
       "      <th>2008</th>\n",
       "      <td>253.0</td>\n",
       "      <td>2162.027726</td>\n",
       "      <td>344.013830</td>\n",
       "      <td>1339.914978</td>\n",
       "      <td>2055.120056</td>\n",
       "      <td>2299.469971</td>\n",
       "      <td>2397.755005</td>\n",
       "      <td>2629.655029</td>\n",
       "    </tr>\n",
       "    <tr>\n",
       "      <th>2009</th>\n",
       "      <td>252.0</td>\n",
       "      <td>1843.543549</td>\n",
       "      <td>269.854111</td>\n",
       "      <td>1290.835022</td>\n",
       "      <td>1606.089981</td>\n",
       "      <td>1839.689972</td>\n",
       "      <td>2098.141205</td>\n",
       "      <td>2290.660034</td>\n",
       "    </tr>\n",
       "    <tr>\n",
       "      <th>2010</th>\n",
       "      <td>252.0</td>\n",
       "      <td>2347.915654</td>\n",
       "      <td>147.007852</td>\n",
       "      <td>2089.539917</td>\n",
       "      <td>2228.457520</td>\n",
       "      <td>2311.415039</td>\n",
       "      <td>2469.481171</td>\n",
       "      <td>2670.944946</td>\n",
       "    </tr>\n",
       "    <tr>\n",
       "      <th>2011</th>\n",
       "      <td>252.0</td>\n",
       "      <td>2676.244785</td>\n",
       "      <td>122.032911</td>\n",
       "      <td>2352.779907</td>\n",
       "      <td>2604.299988</td>\n",
       "      <td>2693.872559</td>\n",
       "      <td>2776.783752</td>\n",
       "      <td>2873.795044</td>\n",
       "    </tr>\n",
       "    <tr>\n",
       "      <th>2012</th>\n",
       "      <td>250.0</td>\n",
       "      <td>2963.932197</td>\n",
       "      <td>113.122627</td>\n",
       "      <td>2640.204956</td>\n",
       "      <td>2894.392517</td>\n",
       "      <td>2975.859985</td>\n",
       "      <td>3050.596283</td>\n",
       "      <td>3187.510010</td>\n",
       "    </tr>\n",
       "    <tr>\n",
       "      <th>2013</th>\n",
       "      <td>252.0</td>\n",
       "      <td>3539.060040</td>\n",
       "      <td>306.827311</td>\n",
       "      <td>3089.994995</td>\n",
       "      <td>3243.216248</td>\n",
       "      <td>3492.297485</td>\n",
       "      <td>3777.697510</td>\n",
       "      <td>4169.250000</td>\n",
       "    </tr>\n",
       "    <tr>\n",
       "      <th>2014</th>\n",
       "      <td>252.0</td>\n",
       "      <td>4373.320877</td>\n",
       "      <td>211.983366</td>\n",
       "      <td>3997.234985</td>\n",
       "      <td>4202.081360</td>\n",
       "      <td>4355.214966</td>\n",
       "      <td>4535.299988</td>\n",
       "      <td>4806.310059</td>\n",
       "    </tr>\n",
       "    <tr>\n",
       "      <th>2015</th>\n",
       "      <td>252.0</td>\n",
       "      <td>4943.834490</td>\n",
       "      <td>157.062179</td>\n",
       "      <td>4493.520020</td>\n",
       "      <td>4838.318787</td>\n",
       "      <td>4984.995117</td>\n",
       "      <td>5069.158813</td>\n",
       "      <td>5216.715088</td>\n",
       "    </tr>\n",
       "    <tr>\n",
       "      <th>2016</th>\n",
       "      <td>252.0</td>\n",
       "      <td>4985.242454</td>\n",
       "      <td>297.691485</td>\n",
       "      <td>4251.489990</td>\n",
       "      <td>4759.471130</td>\n",
       "      <td>4951.322510</td>\n",
       "      <td>5239.396118</td>\n",
       "      <td>5490.989990</td>\n",
       "    </tr>\n",
       "    <tr>\n",
       "      <th>2017</th>\n",
       "      <td>251.0</td>\n",
       "      <td>6231.484259</td>\n",
       "      <td>394.575343</td>\n",
       "      <td>5425.280029</td>\n",
       "      <td>5885.290161</td>\n",
       "      <td>6239.820068</td>\n",
       "      <td>6491.050049</td>\n",
       "      <td>6989.715088</td>\n",
       "    </tr>\n",
       "    <tr>\n",
       "      <th>2018</th>\n",
       "      <td>251.0</td>\n",
       "      <td>7426.148126</td>\n",
       "      <td>367.453986</td>\n",
       "      <td>6272.675049</td>\n",
       "      <td>7146.000122</td>\n",
       "      <td>7394.964844</td>\n",
       "      <td>7732.107544</td>\n",
       "      <td>8101.434814</td>\n",
       "    </tr>\n",
       "    <tr>\n",
       "      <th>2019</th>\n",
       "      <td>252.0</td>\n",
       "      <td>7934.295049</td>\n",
       "      <td>471.745590</td>\n",
       "      <td>6528.669922</td>\n",
       "      <td>7678.299988</td>\n",
       "      <td>7964.969971</td>\n",
       "      <td>8194.679871</td>\n",
       "      <td>9019.660156</td>\n",
       "    </tr>\n",
       "    <tr>\n",
       "      <th>2020</th>\n",
       "      <td>253.0</td>\n",
       "      <td>10192.485978</td>\n",
       "      <td>1468.692604</td>\n",
       "      <td>6808.179932</td>\n",
       "      <td>9147.544922</td>\n",
       "      <td>10252.209961</td>\n",
       "      <td>11319.454590</td>\n",
       "      <td>12897.645020</td>\n",
       "    </tr>\n",
       "    <tr>\n",
       "      <th>2021</th>\n",
       "      <td>251.0</td>\n",
       "      <td>14357.744158</td>\n",
       "      <td>876.600491</td>\n",
       "      <td>12669.129883</td>\n",
       "      <td>13647.839844</td>\n",
       "      <td>14413.490234</td>\n",
       "      <td>15081.087402</td>\n",
       "      <td>16069.175293</td>\n",
       "    </tr>\n",
       "  </tbody>\n",
       "</table>\n",
       "</div>"
      ],
      "text/plain": [
       "      count          mean          std           min           25%  \\\n",
       "Date                                                                 \n",
       "2001  248.0   2034.761993   301.438942   1420.550049   1862.830002   \n",
       "2002  252.0   1540.405536   251.045797   1123.984985   1333.267487   \n",
       "2003  252.0   1645.938948   232.861727   1266.404968   1409.356247   \n",
       "2004  252.0   1986.535022    96.932764   1759.724976   1913.084991   \n",
       "2005  252.0   2099.567141    85.785227   1905.799988   2051.948761   \n",
       "2006  251.0   2262.655837   110.898229   2024.924988   2172.347473   \n",
       "2007  251.0   2577.249085   112.240827   2351.655029   2489.714905   \n",
       "2008  253.0   2162.027726   344.013830   1339.914978   2055.120056   \n",
       "2009  252.0   1843.543549   269.854111   1290.835022   1606.089981   \n",
       "2010  252.0   2347.915654   147.007852   2089.539917   2228.457520   \n",
       "2011  252.0   2676.244785   122.032911   2352.779907   2604.299988   \n",
       "2012  250.0   2963.932197   113.122627   2640.204956   2894.392517   \n",
       "2013  252.0   3539.060040   306.827311   3089.994995   3243.216248   \n",
       "2014  252.0   4373.320877   211.983366   3997.234985   4202.081360   \n",
       "2015  252.0   4943.834490   157.062179   4493.520020   4838.318787   \n",
       "2016  252.0   4985.242454   297.691485   4251.489990   4759.471130   \n",
       "2017  251.0   6231.484259   394.575343   5425.280029   5885.290161   \n",
       "2018  251.0   7426.148126   367.453986   6272.675049   7146.000122   \n",
       "2019  252.0   7934.295049   471.745590   6528.669922   7678.299988   \n",
       "2020  253.0  10192.485978  1468.692604   6808.179932   9147.544922   \n",
       "2021  251.0  14357.744158   876.600491  12669.129883  13647.839844   \n",
       "\n",
       "               50%           75%           max  \n",
       "Date                                            \n",
       "2001   2008.147522   2161.352478   2860.340088  \n",
       "2002   1458.937500   1768.275024   2066.484924  \n",
       "2003   1662.695007   1882.518753   2005.924988  \n",
       "2004   1985.510010   2061.235046   2180.094971  \n",
       "2005   2087.612488   2162.228760   2268.765015  \n",
       "2006   2275.010010   2338.710022   2462.630005  \n",
       "2007   2572.135010   2656.650085   2838.589966  \n",
       "2008   2299.469971   2397.755005   2629.655029  \n",
       "2009   1839.689972   2098.141205   2290.660034  \n",
       "2010   2311.415039   2469.481171   2670.944946  \n",
       "2011   2693.872559   2776.783752   2873.795044  \n",
       "2012   2975.859985   3050.596283   3187.510010  \n",
       "2013   3492.297485   3777.697510   4169.250000  \n",
       "2014   4355.214966   4535.299988   4806.310059  \n",
       "2015   4984.995117   5069.158813   5216.715088  \n",
       "2016   4951.322510   5239.396118   5490.989990  \n",
       "2017   6239.820068   6491.050049   6989.715088  \n",
       "2018   7394.964844   7732.107544   8101.434814  \n",
       "2019   7964.969971   8194.679871   9019.660156  \n",
       "2020  10252.209961  11319.454590  12897.645020  \n",
       "2021  14413.490234  15081.087402  16069.175293  "
      ]
     },
     "execution_count": 35,
     "metadata": {},
     "output_type": "execute_result"
    }
   ],
   "source": [
    "hlm = (high + low) / 2\n",
    "hlm.groupby(hlm.index.year).describe()"
   ]
  },
  {
   "cell_type": "markdown",
   "id": "ce6525f1",
   "metadata": {},
   "source": [
    "Guardando i risultati notiamo come i valori della colonna `count` variano a seconda dell'anno, questo accade perché la borsa non è aperta 24/7 ma è chiusa in alcuni giorni, ad esempio i festivi.\n",
    "\n",
    "Notiamo anche come la media (`mean`) del prezzo aumenta ogni anno, il che rende il NASDAQ un indice solido.\n",
    "\n",
    "Notiamo anche come nel 2020, l'anno della pandemia, ci sia stata una deviazione standard (`std`) molto alta rispetto agli altri anni."
   ]
  },
  {
   "cell_type": "markdown",
   "id": "3de02e34",
   "metadata": {},
   "source": [
    "## Prevedere il valore di chiusura a inizio giornata"
   ]
  },
  {
   "cell_type": "markdown",
   "id": "9ea695c8",
   "metadata": {},
   "source": [
    "La variabile da predire è la features \"Close\" relativa alla data odierna."
   ]
  },
  {
   "cell_type": "code",
   "execution_count": 36,
   "id": "fcf184b2",
   "metadata": {},
   "outputs": [],
   "source": [
    "y = close"
   ]
  },
  {
   "cell_type": "markdown",
   "id": "dc02803a",
   "metadata": {},
   "source": [
    "`high`, `low`, `volume` non possono essere utilizzate in quanto il loro valore non è noto a inizio giornata.\n",
    "Attualmente l'unica feature utilizzabile è il valore `open`."
   ]
  },
  {
   "cell_type": "code",
   "execution_count": 37,
   "id": "33989cdb",
   "metadata": {
    "scrolled": true
   },
   "outputs": [],
   "source": [
    "features = {\"Open\" : open}\n",
    "X = pd.DataFrame(features)"
   ]
  },
  {
   "cell_type": "markdown",
   "id": "e2021426",
   "metadata": {},
   "source": [
    "Suddividiamo i dati in un training set e in un validation set con la funzione `split_data`. L'anno inserito verrà utilizzato come test e tutti i precedenti (fino al 2011) verranno utilizzati come training."
   ]
  },
  {
   "cell_type": "code",
   "execution_count": 38,
   "id": "77c6e0ec",
   "metadata": {},
   "outputs": [],
   "source": [
    "def split_data(X, y, split):\n",
    "    lowerRange = X.index.year < split\n",
    "    upperRange = (X.index.year > split-1) & (X.index.year < split+1)\n",
    "    X_train = X.loc[lowerRange]\n",
    "    y_train = y.loc[lowerRange]\n",
    "    X_val = X.loc[upperRange]\n",
    "    y_val = y.loc[upperRange]\n",
    "    return X_train, X_val, y_train, y_val"
   ]
  },
  {
   "cell_type": "markdown",
   "id": "4799005a",
   "metadata": {},
   "source": [
    "## Test 1: Regressione Lineare"
   ]
  },
  {
   "cell_type": "markdown",
   "id": "cbf95443",
   "metadata": {},
   "source": [
    "Usando training e validation set creati in precedenza addestriamo un modello di regressione lineare e calcoliamo R<sup>2</sup>."
   ]
  },
  {
   "cell_type": "code",
   "execution_count": 39,
   "id": "72f6ccd9",
   "metadata": {},
   "outputs": [
    {
     "data": {
      "text/plain": [
       "0.9937613777724708"
      ]
     },
     "execution_count": 39,
     "metadata": {},
     "output_type": "execute_result"
    }
   ],
   "source": [
    "from sklearn.linear_model import LinearRegression\n",
    "model = LinearRegression()\n",
    "X_train, X_val, y_train, y_val = split_data(X, y, 2017)\n",
    "model.fit(X_train,y_train)\n",
    "model.score(X_val, y_val)"
   ]
  },
  {
   "cell_type": "code",
   "execution_count": 40,
   "id": "c70679f7",
   "metadata": {
    "scrolled": true
   },
   "outputs": [
    {
     "name": "stderr",
     "output_type": "stream",
     "text": [
      "/opt/homebrew/Caskroom/miniforge/tensorflow/lib/python3.9/site-packages/sklearn/base.py:450: UserWarning:\n",
      "\n",
      "X does not have valid feature names, but LinearRegression was fitted with feature names\n",
      "\n"
     ]
    },
    {
     "data": {
      "image/png": "[encoded data removed]",
      "text/plain": [
       "<Figure size 720x504 with 1 Axes>"
      ]
     },
     "metadata": {
      "needs_background": "light"
     },
     "output_type": "display_data"
    }
   ],
   "source": [
    "plot_model_on_data(X_val,y_val,model)"
   ]
  },
  {
   "cell_type": "markdown",
   "id": "37c8086d",
   "metadata": {},
   "source": [
    "Il punteggio R<sup>2</sup> del modello risulta molto alto. Questo è dovuto al fatto che i valore `Open` e `Close` sono molto correlati."
   ]
  },
  {
   "cell_type": "markdown",
   "id": "aa0ce371",
   "metadata": {},
   "source": [
    "Per avere un riscontro dell'effetiva efficienza del modello calcoliamo il guadagno effettivo di un possibile investitore."
   ]
  },
  {
   "cell_type": "markdown",
   "id": "6154b92b",
   "metadata": {},
   "source": [
    "Per far ciò implementiamo un protocollo di trading che dati i valori di chiusura reali e predetti restituisce il guadagno effettivo.\n",
    "\n",
    "**La cifra investita in questo caso è pari al valore di apertura che varia giornalmente**."
   ]
  },
  {
   "cell_type": "markdown",
   "id": "ae98b752",
   "metadata": {},
   "source": [
    "Definiamo la variabile differenza $\\Delta_d=C_d-O_d$ tra il valore di chiusura giornaliero $C_d$ e di apertura $O_d$"
   ]
  },
  {
   "cell_type": "code",
   "execution_count": 41,
   "id": "91768bbf",
   "metadata": {},
   "outputs": [],
   "source": [
    "delta = close - open"
   ]
  },
  {
   "cell_type": "markdown",
   "id": "f3a28c69",
   "metadata": {},
   "source": [
    "- Poniamo questo come il valore che **deve essere predetto** dal modello\n",
    "- L'investitore agirà in base alla predizione $\\hat{\\Delta}_d$ in modo analogo a prima\n",
    "  - se $\\hat{\\Delta}_d > 0$, acquista un titolo a inizio giornata e lo rivende alla fine\n",
    "  - se $\\hat{\\Delta}_d < 0$, vende un titolo a inizio giornata e lo ricompra alla fine"
   ]
  },
  {
   "cell_type": "markdown",
   "id": "5b1d4d5a",
   "metadata": {},
   "source": [
    "### Importiamo alcune funzioni utili "
   ]
  },
  {
   "cell_type": "markdown",
   "id": "736ad8c4",
   "metadata": {},
   "source": [
    "Possiamo definire una metrica \"guadagno\" per validare il modello, che restituisca il guadagno totale di un investitore che opera nel periodo a cui si riferisce il validation set"
   ]
  },
  {
   "cell_type": "code",
   "execution_count": 42,
   "id": "62524cae",
   "metadata": {},
   "outputs": [],
   "source": [
    "from utility import gain"
   ]
  },
  {
   "cell_type": "markdown",
   "id": "2f0cfb0d",
   "metadata": {},
   "source": [
    "Il ROI (Return on investiment) esprime il guadagno di una o più operazioni in borsa in rapporto all'investimento iniziale."
   ]
  },
  {
   "cell_type": "code",
   "execution_count": 43,
   "id": "f0324190",
   "metadata": {},
   "outputs": [],
   "source": [
    "from utility import roi"
   ]
  },
  {
   "cell_type": "markdown",
   "id": "1608c56d",
   "metadata": {},
   "source": [
    "Definiamo anche una funzione che stampi le metriche di valutazione del modello."
   ]
  },
  {
   "cell_type": "code",
   "execution_count": 44,
   "id": "44be9ec2",
   "metadata": {},
   "outputs": [],
   "source": [
    "from utility import print_eval"
   ]
  },
  {
   "cell_type": "markdown",
   "id": "3ac014e3",
   "metadata": {},
   "source": [
    "La funzione `prepare_data` restituisce un Dataframe con le colonne indicate e una serie con i valori della variabile da predire corrispondenti alle righe selezionate del Dataframe."
   ]
  },
  {
   "cell_type": "code",
   "execution_count": 45,
   "id": "e5827b12",
   "metadata": {},
   "outputs": [],
   "source": [
    "from utility import prepare_data"
   ]
  },
  {
   "cell_type": "markdown",
   "id": "03c0dbc2",
   "metadata": {},
   "source": [
    "Addestriamo ora invece un modello di regressione lineare prevedendo il delta e calcoliamo il `gain` e il `ROI`."
   ]
  },
  {
   "cell_type": "code",
   "execution_count": 46,
   "id": "ba126892",
   "metadata": {},
   "outputs": [
    {
     "name": "stdout",
     "output_type": "stream",
     "text": [
      "Gain: 528.37$\n",
      " ROI: 8.477%\n"
     ]
    }
   ],
   "source": [
    "X, y = prepare_data(features, delta)\n",
    "X_train, X_val, y_train, y_val = split_data(X, y, 2017)\n",
    "model = LinearRegression()\n",
    "model.fit(X_train, y_train)\n",
    "print_eval(X_val, y_val, model, open)"
   ]
  },
  {
   "cell_type": "markdown",
   "id": "6230ff3f",
   "metadata": {},
   "source": [
    "Il risultato non è per nulla soddisfacente."
   ]
  },
  {
   "cell_type": "markdown",
   "id": "d010830e",
   "metadata": {},
   "source": [
    "## Aggiungiamo Features\n",
    "Definiamo alcune funzioni che ci permetteranno di calcolare alcuni indicatori molto comuni nel mondo funanziario.\n",
    "\n",
    "- MACD:\n",
    "- SMA:\n",
    "- EMA:\n",
    "- RSI:\n",
    "- MFI:\n",
    "- ATR:\n",
    "- FI:\n",
    "\n",
    "In più aggiungiamo 4 features che possono risultare utili: i prezzi all'apertura traslati di 1,2,3,4 giorni."
   ]
  },
  {
   "cell_type": "code",
   "execution_count": 47,
   "id": "707883fc",
   "metadata": {},
   "outputs": [],
   "source": [
    "features = {\n",
    "    \"Open\": open,\n",
    "    \"OpenShift1\": open.shift(1),\n",
    "    \"OpenShift2\": open.shift(2),\n",
    "    \"OpenShift3\": open.shift(3),\n",
    "    \"OpenShift4\": open.shift(4),\n",
    "}"
   ]
  },
  {
   "cell_type": "code",
   "execution_count": 48,
   "id": "abeb3999",
   "metadata": {},
   "outputs": [],
   "source": [
    "def computeMACD (df, n_fast, n_slow, n_smooth):\n",
    "    data = df['Open']\n",
    "    \n",
    "    fastEMA = data.ewm(span=n_fast, min_periods=n_slow).mean()\n",
    "    slowEMA = data.ewm(span=n_slow, min_periods=n_slow).mean()\n",
    "    MACD = pd.Series(fastEMA-slowEMA, name = 'MACD')\n",
    "    df = df.join(MACD)\n",
    "    \n",
    "    return df\n",
    "\n",
    "def calculateSMA(data, ndays): \n",
    "    SMA = pd.Series(data['Open'].rolling(ndays).mean(), name = 'SMA') \n",
    "    return SMA\n",
    "\n",
    "def addSMA(first, second):\n",
    "    sma1 = calculateSMA(data, first)\n",
    "    sma2 = calculateSMA(data, second)\n",
    "    \n",
    "    sma = (np.array(sma2) - np.array(sma1)) / np.array(sma2)\n",
    "    sma = pd.Series(data=sma, index=data.index)\n",
    "    data[f\"SMA{first}-{second}\"] = sma\n",
    "    features[f\"SMA{first}-{second}\"] = data[f\"SMA{first}-{second}\"]\n",
    "    \n",
    "def calculate_ema(prices, days, smoothing=2):\n",
    "    ema = [sum(prices[:days]) / days]\n",
    "    for price in prices[days:]:\n",
    "        ema.append((price * (smoothing / (1 + days))) + ema[-1] * (1 - (smoothing / (1 + days))))\n",
    "    return ema\n",
    "\n",
    "def addEMA(first, second):\n",
    "    ema1 = calculate_ema(data['Open'], first)\n",
    "    ema2 = calculate_ema(data['Open'], second)\n",
    "\n",
    "    ema = (np.array(ema2) - np.array(ema1[(second-first):])) / np.array(ema2)\n",
    "    ema = pd.Series(data=ema, index=data[(second-1):].index)\n",
    "    data[f\"EMA{first}-{second}\"] = ema\n",
    "    features[f\"EMA{first}-{second}\"] = data[f\"EMA{first}-{second}\"]\n",
    "    \n",
    "def rsi(close, periods = 14): # il parametro close intende il valore di chiusura del giorno precedente ovvero quello di apertura del giorno corrente\n",
    "    close_delta = close.diff()\n",
    "    up = close_delta.clip(lower=0)\n",
    "    down = -1 * close_delta.clip(upper=0)\n",
    "    ma_up = up.ewm(com = periods - 1, adjust=True, min_periods = periods).mean()\n",
    "    ma_down = down.ewm(com = periods - 1, adjust=True, min_periods = periods).mean()\n",
    "    rsi = ma_up / ma_down\n",
    "    rsi = 100 - (100/(1 + rsi))\n",
    "    return rsi\n",
    "\n",
    "def gainForMFI(x):\n",
    "    return ((x > 0) * x).sum()\n",
    "\n",
    "def lossForMFI(x):\n",
    "    return ((x < 0) * x).sum()\n",
    "\n",
    "def mfi(high, low, close, volume, n=14): # il parametro close intende il valore di chiusura del giorno precedente ovvero quello di apertura del giorno corrente\n",
    "    typical_price = (high + low + close)/3\n",
    "    money_flow = typical_price * volume\n",
    "    mf_sign = np.where(typical_price > typical_price.shift(1), 1, -1)\n",
    "    signed_mf = money_flow * mf_sign\n",
    "    mf_avg_gain = signed_mf.rolling(n).apply(gainForMFI, raw=True)\n",
    "    mf_avg_loss = signed_mf.rolling(n).apply(lossForMFI, raw=True)\n",
    "    return (100 - (100 / (1 + (mf_avg_gain / abs(mf_avg_loss))))).shift(1).to_numpy() # spostiamo la colonna di 1 in avanti così da avere per ogni riga il valore dell'MFI del giorno precedente\n",
    "\n",
    "def atr(high, low, close, n=14):\n",
    "    high_low = data['High'] - data['Low']\n",
    "    high_cp = np.abs(data['High'] - data['Close'].shift())\n",
    "    low_cp = np.abs(data['Low'] - data['Close'].shift())\n",
    "    df = pd.concat([high_low, high_cp, low_cp], axis=1)\n",
    "    true_range = np.max(df, axis=1)\n",
    "    average_true_range = true_range.rolling(14).mean()\n",
    "    return average_true_range.shift(1) # spostiamo la colonna di 1 in avanti così da avere per ogni riga il valore dell'ATR del giorno precedente\n",
    "\n",
    "def forceIndex(data, ndays): \n",
    "    FI = pd.Series(data['Open'].diff(ndays) * data['Volume'], name = 'ForceIndex') \n",
    "    return FI\n"
   ]
  },
  {
   "cell_type": "code",
   "execution_count": 49,
   "id": "162b5e4f",
   "metadata": {},
   "outputs": [],
   "source": [
    "addEMA(5,20)\n",
    "addEMA(8,15)\n",
    "addEMA(20,50)\n",
    "\n",
    "addSMA(5,20)\n",
    "addSMA(8,15) #aggiungendo questo indice il guadagno diminuisce negli anni \"positivi\" e aumenta negli anni \"negativi\"\n",
    "addSMA(20,50) #aggiungendo questo indice il guadagno diminuisce negli anni \"positivi\" e aumenta negli anni \"negativi\"\n",
    "\n",
    "data[\"RSI\"] = rsi(data[\"Open\"])\n",
    "data = computeMACD(data, 12, 26, 9)\n",
    "data[\"MFI\"] = mfi(data[\"High\"], data[\"Low\"], data[\"Close\"], data[\"Volume\"], 14)\n",
    "data[\"ATR\"] = atr(data[\"High\"], data[\"Low\"], data[\"Close\"], 14)\n",
    "data[\"FI-13\"] = forceIndex(data, 13)\n",
    "data[\"FI-50\"] = forceIndex(data, 50)\n",
    "\n",
    "features[\"MACD\"] = data[\"MACD\"]\n",
    "features[\"RSI\"] = data[\"RSI\"] #abbassa i profitti (inutile per ora)\n",
    "features[\"MFI\"] = data[\"MFI\"] #anche questa sembrerebbe inutile per ora\n",
    "features[\"ATR\"] = data[\"ATR\"] #STRANO...\n",
    "features[\"FI-13\"] = data[\"FI-13\"] #assolutamente NO! da risultati orribili (con regressione lineare)\n",
    "features[\"FI-50\"] = data[\"FI-50\"] #assolutamente NO! da risultati orribili (con regressione lineare)"
   ]
  },
  {
   "cell_type": "code",
   "execution_count": 50,
   "id": "3a4ec128",
   "metadata": {},
   "outputs": [],
   "source": [
    "# import warnings filter\n",
    "from warnings import simplefilter\n",
    "# ignore all future warnings\n",
    "simplefilter(action='ignore', category=FutureWarning)"
   ]
  },
  {
   "cell_type": "markdown",
   "id": "876ca344",
   "metadata": {},
   "source": [
    "## Test delle features\n",
    "Verifichiamo quali features usare per ottenere il risultato migliore.\n",
    "Per fare ciò creiamo una funzione che testando TUTTE le combinazioni di features ci restituisce la combinazione migliore."
   ]
  },
  {
   "cell_type": "code",
   "execution_count": 51,
   "id": "d3da0758",
   "metadata": {
    "scrolled": true
   },
   "outputs": [],
   "source": [
    "import itertools\n",
    "\n",
    "def getBestFeatures(features, model):\n",
    "    keys = np.array(list(features.keys()))\n",
    "    mylist = [\"1\" + \"\".join(seq) for seq in itertools.product(\"01\", repeat=len(keys)-1)]\n",
    "    #keys = np.array(['Open', 'OpenShift1', 'OpenShift2', 'OpenShift3','OpenShift4','EMA5-20','EMA8-15','EMA20-50','SMA5-20','SMA8-15','SMA20-50','MACD','RSI','MFI','ATR','FI-13','FI-50'])  \n",
    "    dict2 = {x:features[x] for x in keys}\n",
    "\n",
    "    def str2bool(v):\n",
    "        v_bool = [True]\n",
    "        for i in v[1:]:\n",
    "            v_bool.append(i=='1')\n",
    "        return np.array(v_bool)\n",
    "\n",
    "    best_ROI = 0;\n",
    "    best_features = {}\n",
    "\n",
    "    for i in range(0,len(mylist)):\n",
    "        dict2 = {x:features[x] for x in keys[str2bool(mylist[i])]}\n",
    "        X, y = prepare_data(dict2, delta)\n",
    "        X_train, X_val, y_train, y_val = split_data(X, y, 2017)\n",
    "        model.fit(X_train, y_train)\n",
    "\n",
    "        preds = model.predict(X_val)\n",
    "        if roi(y_val, preds, open) > best_ROI:\n",
    "            best_ROI = roi(y_val, preds, open)\n",
    "            best_features = dict2\n",
    "\n",
    "    return best_features, best_ROI\n"
   ]
  },
  {
   "cell_type": "markdown",
   "id": "8e913656",
   "metadata": {},
   "source": [
    "Verifichiamo come si comporta il nostro modello utilizzando tutte le features disponibili."
   ]
  },
  {
   "cell_type": "code",
   "execution_count": 52,
   "id": "5cc2e1bb",
   "metadata": {
    "scrolled": true
   },
   "outputs": [
    {
     "name": "stdout",
     "output_type": "stream",
     "text": [
      "Gain: 609.85$\n",
      " ROI: 9.784%\n"
     ]
    }
   ],
   "source": [
    "X, y = prepare_data(features, delta)\n",
    "X_train, X_val, y_train, y_val = split_data(X, y, 2017)\n",
    "model = LinearRegression()\n",
    "model.fit(X_train, y_train)\n",
    "print_eval(X_val, y_val, model, open)"
   ]
  },
  {
   "cell_type": "code",
   "execution_count": 53,
   "id": "58aea3fe",
   "metadata": {
    "scrolled": true
   },
   "outputs": [
    {
     "name": "stdout",
     "output_type": "stream",
     "text": [
      "{'Open': Date\n",
      "2001-01-02     2474.159912\n",
      "2001-01-03     2254.560059\n",
      "2001-01-04     2593.959961\n",
      "2001-01-05     2573.110107\n",
      "2001-01-08     2388.719971\n",
      "                  ...     \n",
      "2021-12-23    15544.790039\n",
      "2021-12-27    15696.830078\n",
      "2021-12-28    15895.200195\n",
      "2021-12-29    15794.919922\n",
      "2021-12-30    15758.980469\n",
      "Name: Open, Length: 5283, dtype: float64, 'OpenShift2': Date\n",
      "2001-01-02             NaN\n",
      "2001-01-03             NaN\n",
      "2001-01-04     2474.159912\n",
      "2001-01-05     2254.560059\n",
      "2001-01-08     2593.959961\n",
      "                  ...     \n",
      "2021-12-23    15140.429688\n",
      "2021-12-27    15319.160156\n",
      "2021-12-28    15544.790039\n",
      "2021-12-29    15696.830078\n",
      "2021-12-30    15895.200195\n",
      "Name: Open, Length: 5283, dtype: float64, 'OpenShift4': Date\n",
      "2001-01-02             NaN\n",
      "2001-01-03             NaN\n",
      "2001-01-04             NaN\n",
      "2001-01-05             NaN\n",
      "2001-01-08     2474.159912\n",
      "                  ...     \n",
      "2021-12-23    15036.769531\n",
      "2021-12-27    14933.000000\n",
      "2021-12-28    15140.429688\n",
      "2021-12-29    15319.160156\n",
      "2021-12-30    15544.790039\n",
      "Name: Open, Length: 5283, dtype: float64, 'EMA20-50': Date\n",
      "2001-01-02         NaN\n",
      "2001-01-03         NaN\n",
      "2001-01-04         NaN\n",
      "2001-01-05         NaN\n",
      "2001-01-08         NaN\n",
      "                ...   \n",
      "2021-12-23   -0.001380\n",
      "2021-12-27   -0.002321\n",
      "2021-12-28   -0.003847\n",
      "2021-12-29   -0.004794\n",
      "2021-12-30   -0.005468\n",
      "Name: EMA20-50, Length: 5283, dtype: float64, 'SMA8-15': Date\n",
      "2001-01-02         NaN\n",
      "2001-01-03         NaN\n",
      "2001-01-04         NaN\n",
      "2001-01-05         NaN\n",
      "2001-01-08         NaN\n",
      "                ...   \n",
      "2021-12-23    0.008344\n",
      "2021-12-27    0.005593\n",
      "2021-12-28    0.003554\n",
      "2021-12-29    0.003433\n",
      "2021-12-30   -0.002106\n",
      "Name: SMA8-15, Length: 5283, dtype: float64, 'SMA20-50': Date\n",
      "2001-01-02         NaN\n",
      "2001-01-03         NaN\n",
      "2001-01-04         NaN\n",
      "2001-01-05         NaN\n",
      "2001-01-08         NaN\n",
      "                ...   \n",
      "2021-12-23    0.004323\n",
      "2021-12-27    0.005474\n",
      "2021-12-28    0.006193\n",
      "2021-12-29    0.007161\n",
      "2021-12-30    0.008014\n",
      "Name: SMA20-50, Length: 5283, dtype: float64, 'MACD': Date\n",
      "2001-01-02          NaN\n",
      "2001-01-03          NaN\n",
      "2001-01-04          NaN\n",
      "2001-01-05          NaN\n",
      "2001-01-08          NaN\n",
      "                ...    \n",
      "2021-12-23   -80.873574\n",
      "2021-12-27   -48.212098\n",
      "2021-12-28    -6.248800\n",
      "2021-12-29    18.700074\n",
      "2021-12-30    35.166841\n",
      "Name: MACD, Length: 5283, dtype: float64, 'ATR': Date\n",
      "2001-01-02           NaN\n",
      "2001-01-03           NaN\n",
      "2001-01-04           NaN\n",
      "2001-01-05           NaN\n",
      "2001-01-08           NaN\n",
      "                 ...    \n",
      "2021-12-23    346.507743\n",
      "2021-12-27    320.564174\n",
      "2021-12-28    311.110631\n",
      "2021-12-29    286.072056\n",
      "2021-12-30    283.800642\n",
      "Name: ATR, Length: 5283, dtype: float64, 'FI-13': Date\n",
      "2001-01-02             NaN\n",
      "2001-01-03             NaN\n",
      "2001-01-04             NaN\n",
      "2001-01-05             NaN\n",
      "2001-01-08             NaN\n",
      "                  ...     \n",
      "2021-12-23    1.673699e+12\n",
      "2021-12-27    6.935036e+11\n",
      "2021-12-28    7.412067e+11\n",
      "2021-12-29    2.747965e+11\n",
      "2021-12-30    4.829803e+11\n",
      "Name: FI-13, Length: 5283, dtype: float64}\n",
      "0.23242161829094224\n",
      "Tempo di esecuzione per la ricerca delle features migliori: 188.64399790763855 secondi\n"
     ]
    }
   ],
   "source": [
    "import time\n",
    "start_time = time.time()\n",
    "new_features, new_ROI = getBestFeatures(features, LinearRegression())\n",
    "print(new_features)\n",
    "print(new_ROI)\n",
    "print(\"Tempo di esecuzione per la ricerca delle features migliori: %s secondi\" % (time.time() - start_time))"
   ]
  },
  {
   "cell_type": "code",
   "execution_count": 54,
   "id": "8844c85d",
   "metadata": {},
   "outputs": [
    {
     "name": "stdout",
     "output_type": "stream",
     "text": [
      "Gain: 1448.73$\n",
      " ROI: 23.242%\n"
     ]
    }
   ],
   "source": [
    "X, y = prepare_data(new_features, delta)\n",
    "X_train, X_val, y_train, y_val = split_data(X, y, 2017)\n",
    "model = LinearRegression()\n",
    "model.fit(X_train, y_train)\n",
    "print_eval(X_val, y_val, model, open)"
   ]
  },
  {
   "cell_type": "markdown",
   "id": "8075557c",
   "metadata": {},
   "source": [
    "Osserviamo che con la selezione delle features migliori abbiamo ottenuto un ROI più alto"
   ]
  },
  {
   "cell_type": "markdown",
   "id": "30d21593",
   "metadata": {},
   "source": [
    "### Modelli POSSIBILI\n",
    "\n",
    "- Regressione Lineare (OK)\n",
    "- Ridge (OK)\n",
    "- ElasticNet (OK)\n",
    "- Logistic Regression (SCARTATA PER ORA)\n",
    "- XGBoost\n",
    "- Perceptron\n",
    "- SVM\n",
    "- Random Forest\n",
    "- CatBoost\n",
    "- LightGBM\n",
    "- Mini rete neurale (OPZIONALE)"
   ]
  },
  {
   "cell_type": "markdown",
   "id": "ba98b6d6",
   "metadata": {},
   "source": [
    "## Test 2: Regressione Ridge"
   ]
  },
  {
   "cell_type": "markdown",
   "id": "8ccaf094",
   "metadata": {},
   "source": [
    "Proviamo ora il modello di regressione Ridge con regolarizzazione per evitare che i coefficienti crescano troppo."
   ]
  },
  {
   "cell_type": "markdown",
   "id": "13213659",
   "metadata": {},
   "source": [
    "Creiamo un nostro scorer che valuti i modelli in base al ROI"
   ]
  },
  {
   "cell_type": "code",
   "execution_count": 55,
   "id": "36cf0cb1",
   "metadata": {},
   "outputs": [],
   "source": [
    "from sklearn.metrics import make_scorer\n",
    "roi_scorer = make_scorer(roi, open=open, greater_is_better=True)"
   ]
  },
  {
   "cell_type": "markdown",
   "id": "113bfd86",
   "metadata": {},
   "source": [
    "### Validazione k-fold per serie temporali\n",
    "\n",
    "- Come alternativa allo split `KFold`, scikit-learn offre il `TimeSeriesSplit(k)` per la nostra situazione in cui vogliamo però mantenere l'ordine temporale in training e validation set"
   ]
  },
  {
   "cell_type": "code",
   "execution_count": 56,
   "id": "713d26cd",
   "metadata": {},
   "outputs": [],
   "source": [
    "from sklearn.model_selection import TimeSeriesSplit\n",
    "tss = TimeSeriesSplit(20) #11 anni dal 2011 al 2022"
   ]
  },
  {
   "cell_type": "code",
   "execution_count": 57,
   "id": "546ee2ac",
   "metadata": {},
   "outputs": [
    {
     "ename": "NameError",
     "evalue": "name 'Pipeline' is not defined",
     "output_type": "error",
     "traceback": [
      "\u001b[0;31m---------------------------------------------------------------------------\u001b[0m",
      "\u001b[0;31mNameError\u001b[0m                                 Traceback (most recent call last)",
      "Input \u001b[0;32mIn [57]\u001b[0m, in \u001b[0;36m<cell line: 3>\u001b[0;34m()\u001b[0m\n\u001b[1;32m      1\u001b[0m \u001b[38;5;28;01mfrom\u001b[39;00m \u001b[38;5;21;01msklearn\u001b[39;00m\u001b[38;5;21;01m.\u001b[39;00m\u001b[38;5;21;01mlinear_model\u001b[39;00m \u001b[38;5;28;01mimport\u001b[39;00m Ridge\n\u001b[1;32m      2\u001b[0m X, y \u001b[38;5;241m=\u001b[39m prepare_data(new_features, delta)\n\u001b[0;32m----> 3\u001b[0m model \u001b[38;5;241m=\u001b[39m \u001b[43mPipeline\u001b[49m([\n\u001b[1;32m      4\u001b[0m     (\u001b[38;5;124m\"\u001b[39m\u001b[38;5;124mscale\u001b[39m\u001b[38;5;124m\"\u001b[39m,  StandardScaler()),\n\u001b[1;32m      5\u001b[0m     (\u001b[38;5;124m\"\u001b[39m\u001b[38;5;124mlinreg\u001b[39m\u001b[38;5;124m\"\u001b[39m, Ridge())])\n\u001b[1;32m      7\u001b[0m grid \u001b[38;5;241m=\u001b[39m {\u001b[38;5;124m\"\u001b[39m\u001b[38;5;124mlinreg__alpha\u001b[39m\u001b[38;5;124m\"\u001b[39m: [\u001b[38;5;241m0.1\u001b[39m, \u001b[38;5;241m1\u001b[39m, \u001b[38;5;241m10\u001b[39m, \u001b[38;5;241m50\u001b[39m]}\n\u001b[1;32m      8\u001b[0m gs \u001b[38;5;241m=\u001b[39m GridSearchCV(model, param_grid\u001b[38;5;241m=\u001b[39mgrid, scoring\u001b[38;5;241m=\u001b[39mroi_scorer, cv\u001b[38;5;241m=\u001b[39mtss)\n",
      "\u001b[0;31mNameError\u001b[0m: name 'Pipeline' is not defined"
     ]
    }
   ],
   "source": [
    "from sklearn.linear_model import Ridge\n",
    "X, y = prepare_data(new_features, delta)\n",
    "model = Pipeline([\n",
    "    (\"scale\",  StandardScaler()),\n",
    "    (\"linreg\", Ridge())])\n",
    "\n",
    "grid = {\"linreg__alpha\": [0.1, 1, 10, 50]}\n",
    "gs = GridSearchCV(model, param_grid=grid, scoring=roi_scorer, cv=tss)\n",
    "gs.fit(X, y)\n",
    "pd.DataFrame(gs.cv_results_).sort_values(\"mean_test_score\", ascending=False).head(3)"
   ]
  },
  {
   "cell_type": "markdown",
   "id": "e2385ae0",
   "metadata": {},
   "source": [
    "- Per la regressione Ridge il parametro migliore è $\\alpha$=0.1 con un profitto dopo 11 anni del 6.1%:\n",
    "- **Ottenendo profitto migliore utilizzando le features selezionate**\n",
    "- *Utilizzando invece tutte le features otteniamo un profitto del 4.8%*"
   ]
  },
  {
   "cell_type": "markdown",
   "id": "767c143c",
   "metadata": {},
   "source": [
    "## Test 3: ElasticNet"
   ]
  },
  {
   "cell_type": "code",
   "execution_count": null,
   "id": "df27761e",
   "metadata": {
    "scrolled": true
   },
   "outputs": [],
   "source": [
    "from sklearn.linear_model import ElasticNet\n",
    "X, y = prepare_data(features, delta)\n",
    "model = Pipeline([\n",
    "    (\"scale\",  StandardScaler()),\n",
    "    (\"linreg\", ElasticNet())])\n",
    "\n",
    "grid = {\"linreg__alpha\":  [1, 2, 3, 5], \"linreg__l1_ratio\": [0.1, 0.2, 0.3, 0.4, 0.5]}\n",
    "gs = GridSearchCV(model, param_grid=grid, scoring=roi_scorer, cv=tss)\n",
    "gs.fit(X, y)\n",
    "pd.DataFrame(gs.cv_results_).sort_values(\"mean_test_score\", ascending=False).head(3)"
   ]
  },
  {
   "cell_type": "markdown",
   "id": "9acd6b3f",
   "metadata": {},
   "source": [
    "- Per la regressione ElasticNet i parametri migliori sono $\\alpha$=3 e L1_RATIO=0.2 con un profitto dopo 11 anni del 7.3%:\n",
    "\n",
    "- **Ottenendo profitto migliore utilizzando tutte le features**\n",
    "\n",
    "- *Utilizzando invece le features selezionate otteniamo un profitto del 6.4%*"
   ]
  },
  {
   "cell_type": "markdown",
   "id": "225ed378",
   "metadata": {},
   "source": [
    "I risultati ottenuti sono simili, in quanto la regressione ElasticNet permette di penalizzare le variabili irrilevanti, che è lo stesso scopo della nostra funzione: `getBestFeatures()`"
   ]
  },
  {
   "cell_type": "markdown",
   "id": "32286e96",
   "metadata": {},
   "source": [
    "## Test 4: Regressione con alberi decisionali"
   ]
  },
  {
   "cell_type": "code",
   "execution_count": null,
   "id": "669b90da",
   "metadata": {},
   "outputs": [],
   "source": [
    "from sklearn.ensemble import RandomForestRegressor"
   ]
  },
  {
   "cell_type": "code",
   "execution_count": null,
   "id": "262b7dc1",
   "metadata": {},
   "outputs": [],
   "source": [
    "X, y = prepare_data(features, delta)\n",
    "X_train, X_val, y_train, y_val = split_data(X, y, 2017)"
   ]
  },
  {
   "cell_type": "code",
   "execution_count": null,
   "id": "15470e9a",
   "metadata": {},
   "outputs": [],
   "source": [
    "%%time\n",
    "from sklearn.ensemble import RandomForestRegressor\n",
    "from sklearn.metrics import classification_report\n",
    "\n",
    "rfc = Pipeline([\n",
    "    ('std', StandardScaler()),\n",
    "    ('rfc', RandomForestRegressor(n_jobs=-1))\n",
    "])\n",
    "\n",
    "parameters = {\n",
    "    'rfc__n_estimators': [100, 200, 300],\n",
    "    'rfc__max_depth': [2, 4, 6, 8, 10],\n",
    "    'rfc__min_samples_leaf': [1, 2, 4],\n",
    "    'rfc__min_samples_split': [2, 5, 10],\n",
    "}\n",
    "    \n",
    "\n",
    "rfc_gs = GridSearchCV(rfc, parameters, cv=tss, n_jobs=-1, scoring=roi_scorer)\n",
    "rfc_gs.fit(X_train, y_train)\n",
    "\n",
    "print('Random Forest GridSearch finish')"
   ]
  },
  {
   "cell_type": "code",
   "execution_count": null,
   "id": "b764ea45",
   "metadata": {
    "scrolled": false
   },
   "outputs": [],
   "source": [
    "print_eval(X_val,y_val,rfc_gs,open)"
   ]
  },
  {
   "cell_type": "code",
   "execution_count": null,
   "id": "0e609b31",
   "metadata": {
    "scrolled": true
   },
   "outputs": [],
   "source": [
    "pd.DataFrame(rfc_gs.cv_results_).sort_values(\"mean_test_score\", ascending=False)"
   ]
  },
  {
   "cell_type": "code",
   "execution_count": null,
   "id": "72389f52",
   "metadata": {},
   "outputs": [],
   "source": []
  },
  {
   "cell_type": "code",
   "execution_count": null,
   "id": "96276d6c",
   "metadata": {},
   "outputs": [],
   "source": []
  },
  {
   "cell_type": "code",
   "execution_count": null,
   "id": "61dbae60",
   "metadata": {},
   "outputs": [],
   "source": [
    "from xgboost import XGBRegressor"
   ]
  },
  {
   "cell_type": "code",
   "execution_count": null,
   "id": "d3e4323a",
   "metadata": {},
   "outputs": [],
   "source": [
    "X, y = prepare_data(new_features, delta)\n",
    "X_train, X_val, y_train, y_val = split_data(X, y, 2017)"
   ]
  },
  {
   "cell_type": "code",
   "execution_count": null,
   "id": "5d69b19b",
   "metadata": {},
   "outputs": [],
   "source": [
    "%%time\n",
    "# xgbm = XGBRegressor(objective='reg:squarederror', reg_alpha=0.0, reg_lambda=1.0, n_estimators=200, verbose_eval=True)\n",
    "# con 3 variabili di lag xgboost vince con al seguente invocazione ottenendo ROI 113.73%\n",
    "xgbm = XGBRegressor(objective='reg:squarederror', learning_rate = 0.01577, reg_lambda=0.008, reg_alpha=0.0001, n_estimators=1025, verbose_eval=False)\n",
    "\n",
    "# segue xgboost con variabili di lag\n",
    "# xgbm = XGBRegressor(objective='reg:squarederror', learning_rate = 0.001577, reg_lambda=0.0008, reg_alpha=0.0055011, n_estimators=625, verbose_eval=False)\n",
    "\n",
    "xgbm.fit(X_train, y_train)"
   ]
  },
  {
   "cell_type": "code",
   "execution_count": null,
   "id": "233230d3",
   "metadata": {},
   "outputs": [],
   "source": [
    "print_eval(X_val, y_val, xgbm, open)"
   ]
  },
  {
   "cell_type": "code",
   "execution_count": null,
   "id": "43aea969",
   "metadata": {},
   "outputs": [],
   "source": []
  },
  {
   "cell_type": "code",
   "execution_count": null,
   "id": "9aea1d22",
   "metadata": {},
   "outputs": [],
   "source": []
  },
  {
   "cell_type": "markdown",
   "id": "823810bc",
   "metadata": {},
   "source": [
    "## Test parametri"
   ]
  },
  {
   "cell_type": "code",
   "execution_count": null,
   "id": "49ee16ea",
   "metadata": {},
   "outputs": [],
   "source": [
    "model_a = LinearRegression()\n",
    "model_a.fit(X_train, y_train)\n",
    "print_eval(X_val, y_val, model_a, open)"
   ]
  },
  {
   "cell_type": "code",
   "execution_count": null,
   "id": "ad6c8d8c",
   "metadata": {},
   "outputs": [],
   "source": [
    "from sklearn.linear_model import Ridge\n",
    "\n",
    "model_b = Ridge(alpha=10)\n",
    "model_b.fit(X_train, y_train)\n",
    "print_eval(X_val, y_val, model_b, open)"
   ]
  },
  {
   "cell_type": "code",
   "execution_count": null,
   "id": "30c61e86",
   "metadata": {
    "scrolled": true
   },
   "outputs": [],
   "source": [
    "from sklearn.preprocessing import PolynomialFeatures, StandardScaler\n",
    "from sklearn.pipeline import Pipeline\n",
    "\n",
    "model_c = Pipeline([\n",
    "    (\"scale\", StandardScaler()),\n",
    "    (\"lr\", LinearRegression())\n",
    "])\n",
    "model_c.fit(X_train, y_train)\n",
    "print_eval(X_val, y_val, model_c, open)"
   ]
  },
  {
   "cell_type": "markdown",
   "id": "31c00b13",
   "metadata": {},
   "source": [
    "Vediamo quanto influiscono i parametri relativi alle colonne"
   ]
  },
  {
   "cell_type": "code",
   "execution_count": null,
   "id": "a3913944",
   "metadata": {
    "scrolled": true
   },
   "outputs": [],
   "source": [
    "pd.DataFrame({\n",
    "    \"linear\": model_a.coef_,\n",
    "    \"ridge\": model_b.coef_,\n",
    "    \"scaled\": model_c.named_steps[\"lr\"].coef_\n",
    "}, index=X.columns)"
   ]
  },
  {
   "cell_type": "markdown",
   "id": "6c24091a",
   "metadata": {},
   "source": [
    "Con la standardizzazione delle feature otteniamo valori su scale simili, che possiamo confrontare alla pari:\n",
    "- ad es. negli altri modelli il coefficiente di EMA8-15\n",
    "  è alto in valore assoluto perché i valori di tale variabile sono bassi \n",
    " - nel modello con standardizzazione assumono invece più peso il numero di stanze (`RM`) e la distanza dagli uffici di collocamento (`DIS`)"
   ]
  },
  {
   "cell_type": "code",
   "execution_count": null,
   "id": "82045307",
   "metadata": {},
   "outputs": [],
   "source": []
  }
 ],
 "metadata": {
  "kernelspec": {
   "display_name": "Python 3 (ipykernel)",
   "language": "python",
   "name": "python3"
  },
  "language_info": {
   "codemirror_mode": {
    "name": "ipython",
    "version": 3
   },
   "file_extension": ".py",
   "mimetype": "text/x-python",
   "name": "python",
   "nbconvert_exporter": "python",
   "pygments_lexer": "ipython3",
   "version": "3.9.12"
  }
 },
 "nbformat": 4,
 "nbformat_minor": 5
}

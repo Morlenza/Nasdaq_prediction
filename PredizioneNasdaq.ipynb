{
 "cells": [
  {
   "cell_type": "markdown",
   "id": "bfc69852",
   "metadata": {},
   "source": [
    "# Predizione Indice Di Borsa: NASDAQ\n",
    "## Autori: Luca Morlino e Valerio Di Zio\n"
   ]
  },
  {
   "cell_type": "markdown",
   "id": "a5f950ac",
   "metadata": {},
   "source": [
    "## Descrizione del problema\n",
    "### Cos'è NASDAQ?\n",
    "Il Nasdaq Composite è l'indice azionario statunitense che comprende titoli nazionali e internazionali in cui sono quotate più di 5.200 società. È stato creato nel 1971 con una base di 100.\n",
    "Le società che compongono l'indice seguono i criteri di capitalizzazione. Il Nasdaq è un indice molto volatile dove sono integrate le più importanti società tecnologiche del mondo.\n",
    "\n",
    "### Obiettivo\n",
    "L'obiettivo generale è quello di creare un algoritmo che preveda il valore di chiusura del titolo a inizio giornata."
   ]
  },
  {
   "cell_type": "code",
   "execution_count": 79,
   "id": "c10d12e8",
   "metadata": {},
   "outputs": [],
   "source": [
    "import pandas as pd\n",
    "import matplotlib.pyplot as plt\n",
    "import sklearn\n",
    "%matplotlib inline\n",
    "from utility import gain, plot_model_on_data, roi, prepare_data, print_eval"
   ]
  },
  {
   "cell_type": "markdown",
   "id": "fc1093fa",
   "metadata": {},
   "source": [
    "## Estrazione dati\n",
    "I dati relativi a ^IXIC vengono scaricati dal servizio [Yahoo! Finance](https://it.finance.yahoo.com/).\n",
    "Per fare ciò viene utilizzata la libreria yfinance che permette l'estrazione di dati in forma di oggetti Python facilmente interrogabili.\n",
    "In particolare, la usiamo per ottenere i dati storici in forma di Dataframe Pandas."
   ]
  },
  {
   "cell_type": "code",
   "execution_count": 80,
   "id": "08483685",
   "metadata": {},
   "outputs": [],
   "source": [
    "import yfinance"
   ]
  },
  {
   "cell_type": "markdown",
   "id": "34ab1dea",
   "metadata": {},
   "source": [
    "- Creiamo un oggetto Ticker che rappresenta uno specifico titolo o indice\n",
    "- Nel nostro caso il simbolo del Nasdaq con il suo valore in dollari è ^IXIC"
   ]
  },
  {
   "cell_type": "code",
   "execution_count": 81,
   "id": "76466847",
   "metadata": {},
   "outputs": [],
   "source": [
    "nasdaq = yfinance.Ticker(\"^IXIC\")"
   ]
  },
  {
   "cell_type": "markdown",
   "id": "28e295ee",
   "metadata": {},
   "source": [
    "- Utilizziamo il metodo history per ottenere i dati storici, partendo dal 1 Gennaio 2011 fino al 31 Dicembre 2021."
   ]
  },
  {
   "cell_type": "code",
   "execution_count": 82,
   "id": "02bfb8b1",
   "metadata": {},
   "outputs": [],
   "source": [
    "data = nasdaq.history(start=\"2011-01-02\", end=\"2021-12-31\", actions=False)"
   ]
  },
  {
   "cell_type": "markdown",
   "id": "ab8b8ff8",
   "metadata": {},
   "source": [
    "Ad esempio, guardiamo i dati relativi agli ultimi 5 giorni dell'anno 2021. "
   ]
  },
  {
   "cell_type": "code",
   "execution_count": 83,
   "id": "93d76e94",
   "metadata": {
    "scrolled": true
   },
   "outputs": [
    {
     "data": {
      "text/html": [
       "<div>\n",
       "<style scoped>\n",
       "    .dataframe tbody tr th:only-of-type {\n",
       "        vertical-align: middle;\n",
       "    }\n",
       "\n",
       "    .dataframe tbody tr th {\n",
       "        vertical-align: top;\n",
       "    }\n",
       "\n",
       "    .dataframe thead th {\n",
       "        text-align: right;\n",
       "    }\n",
       "</style>\n",
       "<table border=\"1\" class=\"dataframe\">\n",
       "  <thead>\n",
       "    <tr style=\"text-align: right;\">\n",
       "      <th></th>\n",
       "      <th>Open</th>\n",
       "      <th>High</th>\n",
       "      <th>Low</th>\n",
       "      <th>Close</th>\n",
       "      <th>Volume</th>\n",
       "    </tr>\n",
       "    <tr>\n",
       "      <th>Date</th>\n",
       "      <th></th>\n",
       "      <th></th>\n",
       "      <th></th>\n",
       "      <th></th>\n",
       "      <th></th>\n",
       "    </tr>\n",
       "  </thead>\n",
       "  <tbody>\n",
       "    <tr>\n",
       "      <th>2021-12-23</th>\n",
       "      <td>15544.790039</td>\n",
       "      <td>15697.980469</td>\n",
       "      <td>15528.910156</td>\n",
       "      <td>15653.370117</td>\n",
       "      <td>3918200000</td>\n",
       "    </tr>\n",
       "    <tr>\n",
       "      <th>2021-12-27</th>\n",
       "      <td>15696.830078</td>\n",
       "      <td>15871.400391</td>\n",
       "      <td>15696.830078</td>\n",
       "      <td>15871.259766</td>\n",
       "      <td>3730120000</td>\n",
       "    </tr>\n",
       "    <tr>\n",
       "      <th>2021-12-28</th>\n",
       "      <td>15895.200195</td>\n",
       "      <td>15901.469727</td>\n",
       "      <td>15757.070312</td>\n",
       "      <td>15781.719727</td>\n",
       "      <td>3623600000</td>\n",
       "    </tr>\n",
       "    <tr>\n",
       "      <th>2021-12-29</th>\n",
       "      <td>15794.919922</td>\n",
       "      <td>15821.809570</td>\n",
       "      <td>15679.849609</td>\n",
       "      <td>15766.219727</td>\n",
       "      <td>3694500000</td>\n",
       "    </tr>\n",
       "    <tr>\n",
       "      <th>2021-12-30</th>\n",
       "      <td>15758.980469</td>\n",
       "      <td>15868.089844</td>\n",
       "      <td>15729.160156</td>\n",
       "      <td>15741.559570</td>\n",
       "      <td>3732730000</td>\n",
       "    </tr>\n",
       "  </tbody>\n",
       "</table>\n",
       "</div>"
      ],
      "text/plain": [
       "                    Open          High           Low         Close      Volume\n",
       "Date                                                                          \n",
       "2021-12-23  15544.790039  15697.980469  15528.910156  15653.370117  3918200000\n",
       "2021-12-27  15696.830078  15871.400391  15696.830078  15871.259766  3730120000\n",
       "2021-12-28  15895.200195  15901.469727  15757.070312  15781.719727  3623600000\n",
       "2021-12-29  15794.919922  15821.809570  15679.849609  15766.219727  3694500000\n",
       "2021-12-30  15758.980469  15868.089844  15729.160156  15741.559570  3732730000"
      ]
     },
     "execution_count": 83,
     "metadata": {},
     "output_type": "execute_result"
    }
   ],
   "source": [
    "data.tail(5)"
   ]
  },
  {
   "cell_type": "markdown",
   "id": "668fd7c7",
   "metadata": {},
   "source": [
    "Andiamo a contare il numero di istanze ricavate"
   ]
  },
  {
   "cell_type": "code",
   "execution_count": 84,
   "id": "bfdefc00",
   "metadata": {},
   "outputs": [
    {
     "data": {
      "text/plain": [
       "2768"
      ]
     },
     "execution_count": 84,
     "metadata": {},
     "output_type": "execute_result"
    }
   ],
   "source": [
    "data.shape[0]"
   ]
  },
  {
   "cell_type": "markdown",
   "id": "dae6778a",
   "metadata": {},
   "source": [
    "## Features\n",
    "Il nostro dataset, inizialmente, ha 5 features:\n",
    "- Open: è il valore in dollari di una singola azione all'orario di apertura\n",
    "- High: è il valore massimo in dollari raggiunto durante la giornata\n",
    "- Low: è il valore minimo in dollari raggiunto durante la giornata\n",
    "- Close: è il valore in dollari di una singola azione all'orario di chiusura\n",
    "- Volume: il volume di trading indica (nel nostro caso) il valore in dollari delle azioni scambiate durante la giornata\n",
    "\n",
    "Per comodità estraiamo una serie per ciascuna colonna, per potersi riferire ad esse con un unico nome."
   ]
  },
  {
   "cell_type": "code",
   "execution_count": 85,
   "id": "6aea60f2",
   "metadata": {},
   "outputs": [],
   "source": [
    "open = data[\"Open\"]\n",
    "high = data[\"High\"]\n",
    "low = data[\"Low\"]\n",
    "close = data[\"Close\"]\n",
    "volume = data[\"Volume\"]"
   ]
  },
  {
   "cell_type": "markdown",
   "id": "fabf5006",
   "metadata": {},
   "source": [
    "## Rappresentazione dei dati\n",
    "Possiamo tracciare il grafico dell'andamento del prezzo, basandoci sulla feature \"Open\"."
   ]
  },
  {
   "cell_type": "code",
   "execution_count": 86,
   "id": "d6dc8eae",
   "metadata": {
    "scrolled": true
   },
   "outputs": [
    {
     "data": {
      "image/png": "[encoded data removed]",
      "text/plain": [
       "<Figure size 1152x288 with 1 Axes>"
      ]
     },
     "metadata": {
      "needs_background": "light"
     },
     "output_type": "display_data"
    }
   ],
   "source": [
    "open.plot(figsize=(16,4))\n",
    "plt.title(\"Andamento prezzo del NASDAQ\")\n",
    "plt.xlabel(\"Data\")\n",
    "plt.ylabel(\"Prezzo ($)\");"
   ]
  },
  {
   "cell_type": "markdown",
   "id": "999fd05a",
   "metadata": {},
   "source": [
    "Utilizzando la libreria plotly è possibile visualizzare in un unico grafico 4 features (Open, High, Low, Close)"
   ]
  },
  {
   "cell_type": "code",
   "execution_count": 87,
   "id": "c7152044",
   "metadata": {},
   "outputs": [],
   "source": [
    "import plotly.graph_objects as go"
   ]
  },
  {
   "cell_type": "code",
   "execution_count": 88,
   "id": "2747b44e",
   "metadata": {
    "scrolled": false
   },
   "outputs": [],
   "source": [
    "candlestick = go.Candlestick(\n",
    "                            x=data.index,\n",
    "                            open=data['Open'],\n",
    "                            high=data['High'],\n",
    "                            low=data['Low'],\n",
    "                            close=data['Close']\n",
    "                            )\n"
   ]
  },
  {
   "cell_type": "markdown",
   "id": "9a81317f",
   "metadata": {},
   "source": [
    "Il grafico è rappresentato mediante l'utilizzo di Candele, queste ultime rappresentano l'andamento del prezzo di una giornata.\n",
    "\n",
    "<img src=\"candlestick.jpeg\" alt=\"Candlestick\" style=\"width:700px;\"/>\n"
   ]
  },
  {
   "cell_type": "code",
   "execution_count": 89,
   "id": "d2b642f3",
   "metadata": {},
   "outputs": [],
   "source": [
    "from ipywidgets.widgets import interact\n",
    "from datetime import timedelta, datetime"
   ]
  },
  {
   "cell_type": "markdown",
   "id": "482bab85",
   "metadata": {},
   "source": [
    "Mostriamo tramite grafico a candele gli ultimi 50 giorni."
   ]
  },
  {
   "cell_type": "code",
   "execution_count": 90,
   "id": "5bef79db",
   "metadata": {},
   "outputs": [],
   "source": [
    "\n",
    "termDate = datetime(2021, 12, 31)\n",
    "DD = timedelta(days=100)\n",
    "earlier = termDate - DD\n",
    "earlier_str = earlier.strftime(\"%Y-%m-%d\")"
   ]
  },
  {
   "cell_type": "code",
   "execution_count": 91,
   "id": "a901c2db",
   "metadata": {
    "scrolled": false
   },
   "outputs": [
    {
     "data": {
      "application/vnd.jupyter.widget-view+json": {
       "model_id": "bb8a537a56f243a59a917dadb140336f",
       "version_major": 2,
       "version_minor": 0
      },
      "text/plain": [
       "interactive(children=(IntSlider(value=13000, description='ymin', max=13000, step=500), IntSlider(value=17000, …"
      ]
     },
     "metadata": {},
     "output_type": "display_data"
    }
   ],
   "source": [
    "@interact(ymin=(0,13000,500), ymax=(11000,30000,500))\n",
    "def plot_candlestick(ymin=13000, ymax=17000):    \n",
    "    fig = go.Figure(data=[candlestick])\n",
    "    fig.update_layout(\n",
    "        width=1000, height=700,\n",
    "        title=\"Andamento prezzo NASDAQ Candlestick\",\n",
    "        yaxis_title='Prezzo ($)'\n",
    "    )\n",
    "    fig.update_xaxes(type=\"date\", range=[earlier_str, termDate])\n",
    "    fig.update_yaxes(range=[ymin,ymax])\n",
    "    fig.show()"
   ]
  },
  {
   "cell_type": "markdown",
   "id": "7a912c5c",
   "metadata": {},
   "source": [
    "Mostriamo ora alcune statistiche generali raggruppate per anno come:\n",
    "- Media\n",
    "- Deviazione Standard\n",
    "- Min e Max\n",
    "- Quartili\n"
   ]
  },
  {
   "cell_type": "code",
   "execution_count": 92,
   "id": "e15e68f5",
   "metadata": {
    "scrolled": false
   },
   "outputs": [
    {
     "data": {
      "text/html": [
       "<div>\n",
       "<style scoped>\n",
       "    .dataframe tbody tr th:only-of-type {\n",
       "        vertical-align: middle;\n",
       "    }\n",
       "\n",
       "    .dataframe tbody tr th {\n",
       "        vertical-align: top;\n",
       "    }\n",
       "\n",
       "    .dataframe thead th {\n",
       "        text-align: right;\n",
       "    }\n",
       "</style>\n",
       "<table border=\"1\" class=\"dataframe\">\n",
       "  <thead>\n",
       "    <tr style=\"text-align: right;\">\n",
       "      <th></th>\n",
       "      <th>count</th>\n",
       "      <th>mean</th>\n",
       "      <th>std</th>\n",
       "      <th>min</th>\n",
       "      <th>25%</th>\n",
       "      <th>50%</th>\n",
       "      <th>75%</th>\n",
       "      <th>max</th>\n",
       "    </tr>\n",
       "    <tr>\n",
       "      <th>Date</th>\n",
       "      <th></th>\n",
       "      <th></th>\n",
       "      <th></th>\n",
       "      <th></th>\n",
       "      <th></th>\n",
       "      <th></th>\n",
       "      <th></th>\n",
       "      <th></th>\n",
       "    </tr>\n",
       "  </thead>\n",
       "  <tbody>\n",
       "    <tr>\n",
       "      <th>2011</th>\n",
       "      <td>252.0</td>\n",
       "      <td>2676.244785</td>\n",
       "      <td>122.032911</td>\n",
       "      <td>2352.779907</td>\n",
       "      <td>2604.299988</td>\n",
       "      <td>2693.872559</td>\n",
       "      <td>2776.783752</td>\n",
       "      <td>2873.795044</td>\n",
       "    </tr>\n",
       "    <tr>\n",
       "      <th>2012</th>\n",
       "      <td>250.0</td>\n",
       "      <td>2963.932197</td>\n",
       "      <td>113.122627</td>\n",
       "      <td>2640.204956</td>\n",
       "      <td>2894.392517</td>\n",
       "      <td>2975.859985</td>\n",
       "      <td>3050.596283</td>\n",
       "      <td>3187.510010</td>\n",
       "    </tr>\n",
       "    <tr>\n",
       "      <th>2013</th>\n",
       "      <td>252.0</td>\n",
       "      <td>3539.060040</td>\n",
       "      <td>306.827311</td>\n",
       "      <td>3089.994995</td>\n",
       "      <td>3243.216248</td>\n",
       "      <td>3492.297485</td>\n",
       "      <td>3777.697510</td>\n",
       "      <td>4169.250000</td>\n",
       "    </tr>\n",
       "    <tr>\n",
       "      <th>2014</th>\n",
       "      <td>252.0</td>\n",
       "      <td>4373.320877</td>\n",
       "      <td>211.983366</td>\n",
       "      <td>3997.234985</td>\n",
       "      <td>4202.081360</td>\n",
       "      <td>4355.214966</td>\n",
       "      <td>4535.299988</td>\n",
       "      <td>4806.310059</td>\n",
       "    </tr>\n",
       "    <tr>\n",
       "      <th>2015</th>\n",
       "      <td>252.0</td>\n",
       "      <td>4943.834490</td>\n",
       "      <td>157.062179</td>\n",
       "      <td>4493.520020</td>\n",
       "      <td>4838.318787</td>\n",
       "      <td>4984.995117</td>\n",
       "      <td>5069.158813</td>\n",
       "      <td>5216.715088</td>\n",
       "    </tr>\n",
       "    <tr>\n",
       "      <th>2016</th>\n",
       "      <td>252.0</td>\n",
       "      <td>4985.242454</td>\n",
       "      <td>297.691485</td>\n",
       "      <td>4251.489990</td>\n",
       "      <td>4759.471130</td>\n",
       "      <td>4951.322510</td>\n",
       "      <td>5239.396118</td>\n",
       "      <td>5490.989990</td>\n",
       "    </tr>\n",
       "    <tr>\n",
       "      <th>2017</th>\n",
       "      <td>251.0</td>\n",
       "      <td>6231.484259</td>\n",
       "      <td>394.575343</td>\n",
       "      <td>5425.280029</td>\n",
       "      <td>5885.290161</td>\n",
       "      <td>6239.820068</td>\n",
       "      <td>6491.050049</td>\n",
       "      <td>6989.715088</td>\n",
       "    </tr>\n",
       "    <tr>\n",
       "      <th>2018</th>\n",
       "      <td>251.0</td>\n",
       "      <td>7426.148126</td>\n",
       "      <td>367.453986</td>\n",
       "      <td>6272.675049</td>\n",
       "      <td>7146.000122</td>\n",
       "      <td>7394.964844</td>\n",
       "      <td>7732.107544</td>\n",
       "      <td>8101.434814</td>\n",
       "    </tr>\n",
       "    <tr>\n",
       "      <th>2019</th>\n",
       "      <td>252.0</td>\n",
       "      <td>7934.295049</td>\n",
       "      <td>471.745590</td>\n",
       "      <td>6528.669922</td>\n",
       "      <td>7678.299988</td>\n",
       "      <td>7964.969971</td>\n",
       "      <td>8194.679871</td>\n",
       "      <td>9019.660156</td>\n",
       "    </tr>\n",
       "    <tr>\n",
       "      <th>2020</th>\n",
       "      <td>253.0</td>\n",
       "      <td>10192.485978</td>\n",
       "      <td>1468.692604</td>\n",
       "      <td>6808.179932</td>\n",
       "      <td>9147.544922</td>\n",
       "      <td>10252.209961</td>\n",
       "      <td>11319.454590</td>\n",
       "      <td>12897.645020</td>\n",
       "    </tr>\n",
       "    <tr>\n",
       "      <th>2021</th>\n",
       "      <td>251.0</td>\n",
       "      <td>14357.744158</td>\n",
       "      <td>876.600491</td>\n",
       "      <td>12669.129883</td>\n",
       "      <td>13647.839844</td>\n",
       "      <td>14413.490234</td>\n",
       "      <td>15081.087402</td>\n",
       "      <td>16069.175293</td>\n",
       "    </tr>\n",
       "  </tbody>\n",
       "</table>\n",
       "</div>"
      ],
      "text/plain": [
       "      count          mean          std           min           25%  \\\n",
       "Date                                                                 \n",
       "2011  252.0   2676.244785   122.032911   2352.779907   2604.299988   \n",
       "2012  250.0   2963.932197   113.122627   2640.204956   2894.392517   \n",
       "2013  252.0   3539.060040   306.827311   3089.994995   3243.216248   \n",
       "2014  252.0   4373.320877   211.983366   3997.234985   4202.081360   \n",
       "2015  252.0   4943.834490   157.062179   4493.520020   4838.318787   \n",
       "2016  252.0   4985.242454   297.691485   4251.489990   4759.471130   \n",
       "2017  251.0   6231.484259   394.575343   5425.280029   5885.290161   \n",
       "2018  251.0   7426.148126   367.453986   6272.675049   7146.000122   \n",
       "2019  252.0   7934.295049   471.745590   6528.669922   7678.299988   \n",
       "2020  253.0  10192.485978  1468.692604   6808.179932   9147.544922   \n",
       "2021  251.0  14357.744158   876.600491  12669.129883  13647.839844   \n",
       "\n",
       "               50%           75%           max  \n",
       "Date                                            \n",
       "2011   2693.872559   2776.783752   2873.795044  \n",
       "2012   2975.859985   3050.596283   3187.510010  \n",
       "2013   3492.297485   3777.697510   4169.250000  \n",
       "2014   4355.214966   4535.299988   4806.310059  \n",
       "2015   4984.995117   5069.158813   5216.715088  \n",
       "2016   4951.322510   5239.396118   5490.989990  \n",
       "2017   6239.820068   6491.050049   6989.715088  \n",
       "2018   7394.964844   7732.107544   8101.434814  \n",
       "2019   7964.969971   8194.679871   9019.660156  \n",
       "2020  10252.209961  11319.454590  12897.645020  \n",
       "2021  14413.490234  15081.087402  16069.175293  "
      ]
     },
     "execution_count": 92,
     "metadata": {},
     "output_type": "execute_result"
    }
   ],
   "source": [
    "hlm = (high + low) / 2\n",
    "hlm.groupby(hlm.index.year).describe()"
   ]
  },
  {
   "cell_type": "markdown",
   "id": "ce6525f1",
   "metadata": {},
   "source": [
    "Guardando i risultati notiamo come i valori della colonna `count` variano a seconda dell'anno, questo accade perché la borsa non è aperta 24/7 ma è chiusa in alcuni giorni, ad esempio i festivi.\n",
    "\n",
    "Notiamo anche come la media (`mean`) del prezzo aumenta ogni anno, il che rende il NASDAQ un indice solido.\n",
    "\n",
    "Notiamo anche come nel 2020, l'anno della pandemia, ci sia stata una deviazione standard (`std`) molto alta rispetto agli altri anni."
   ]
  },
  {
   "cell_type": "markdown",
   "id": "3de02e34",
   "metadata": {},
   "source": [
    "## Prevedere il valore di chiusura a inizio giornata"
   ]
  },
  {
   "cell_type": "markdown",
   "id": "9ea695c8",
   "metadata": {},
   "source": [
    "La variabile da predire è la features \"Close\" relativa alla data odierna."
   ]
  },
  {
   "cell_type": "code",
   "execution_count": 93,
   "id": "fcf184b2",
   "metadata": {},
   "outputs": [],
   "source": [
    "y = close"
   ]
  },
  {
   "cell_type": "markdown",
   "id": "dc02803a",
   "metadata": {},
   "source": [
    "`high`, `low`, `volume` non possono essere utilizzate in quanto il loro valore non è noto a inizio giornata.\n",
    "Attualmente l'unica feature utilizzabile è il valore `open`."
   ]
  },
  {
   "cell_type": "code",
   "execution_count": 94,
   "id": "33989cdb",
   "metadata": {
    "scrolled": true
   },
   "outputs": [],
   "source": [
    "features = {\"Open\" : open}\n",
    "X = pd.DataFrame(features)"
   ]
  },
  {
   "cell_type": "markdown",
   "id": "e2021426",
   "metadata": {},
   "source": [
    "Suddividiamo i dati in un training set e in un validation set con la funzione `train_test_split`."
   ]
  },
  {
   "cell_type": "code",
   "execution_count": 95,
   "id": "77c6e0ec",
   "metadata": {},
   "outputs": [],
   "source": [
    "def split_data(X, y, split):\n",
    "    lowerRange = X.index.year < split\n",
    "    upperRange = (X.index.year > split-1) & (X.index.year < split+1)\n",
    "    X_train = X.loc[lowerRange]\n",
    "    y_train = y.loc[lowerRange]\n",
    "    X_val = X.loc[upperRange]\n",
    "    y_val = y.loc[upperRange]\n",
    "    return X_train, X_val, y_train, y_val\n",
    "\n",
    "X_train, X_val, y_train, y_val = split_data(X, y, 2012)"
   ]
  },
  {
   "cell_type": "code",
   "execution_count": 96,
   "id": "72f6ccd9",
   "metadata": {},
   "outputs": [
    {
     "data": {
      "text/plain": [
       "0.9522392839582485"
      ]
     },
     "execution_count": 96,
     "metadata": {},
     "output_type": "execute_result"
    }
   ],
   "source": [
    "from sklearn.linear_model import LinearRegression\n",
    "model = LinearRegression()\n",
    "model.fit(X_train,y_train)\n",
    "model.score(X_val, y_val)"
   ]
  },
  {
   "cell_type": "code",
   "execution_count": 97,
   "id": "91768bbf",
   "metadata": {},
   "outputs": [],
   "source": [
    "delta = close - open"
   ]
  },
  {
   "cell_type": "code",
   "execution_count": 98,
   "id": "e150017d",
   "metadata": {},
   "outputs": [],
   "source": [
    "features = {\n",
    "    \"Open\": open,\n",
    "    \"OpenShift1\": open.shift(1),\n",
    "    \"OpenShift2\": open.shift(2),\n",
    "    \"OpenShift3\": open.shift(3),\n",
    "    \"OpenShift4\": open.shift(4),\n",
    "}"
   ]
  },
  {
   "cell_type": "code",
   "execution_count": 99,
   "id": "fc43b7f2",
   "metadata": {},
   "outputs": [
    {
     "name": "stdout",
     "output_type": "stream",
     "text": [
      "Gain: 58.50€\n",
      " ROI: 0.407%\n"
     ]
    }
   ],
   "source": [
    "X, y = prepare_data(features, delta)\n",
    "X_train, X_val, y_train, y_val = split_data(X, y, 2021)\n",
    "model = LinearRegression()\n",
    "model.fit(X_train, y_train)\n",
    "print_eval(X_val, y_val, model, open)"
   ]
  },
  {
   "cell_type": "markdown",
   "id": "d010830e",
   "metadata": {},
   "source": [
    "## Aggiungiamo Features"
   ]
  },
  {
   "cell_type": "code",
   "execution_count": 100,
   "id": "abeb3999",
   "metadata": {},
   "outputs": [],
   "source": [
    "def computeMACD (df, n_fast, n_slow, n_smooth):\n",
    "    data = df['Open']\n",
    "    \n",
    "    fastEMA = data.ewm(span=n_fast, min_periods=n_slow).mean()\n",
    "    slowEMA = data.ewm(span=n_slow, min_periods=n_slow).mean()\n",
    "    MACD = pd.Series(fastEMA-slowEMA, name = 'MACD')\n",
    "    df = df.join(MACD)\n",
    "    \n",
    "    return df\n",
    "\n",
    "def calculateSMA(data, ndays): \n",
    "    SMA = pd.Series(data['Open'].rolling(ndays).mean(), name = 'SMA') \n",
    "    return SMA\n",
    "\n",
    "def addSMA(first, second):\n",
    "    sma1 = calculateSMA(data, first)\n",
    "    sma2 = calculateSMA(data, second)\n",
    "    \n",
    "    sma = (np.array(sma2) - np.array(sma1)) / np.array(sma2)\n",
    "    sma = pd.Series(data=sma, index=data.index)\n",
    "    data[f\"SMA{first}-{second}\"] = sma\n",
    "    features[f\"SMA{first}-{second}\"] = data[f\"SMA{first}-{second}\"]\n",
    "    \n",
    "    \n",
    "def calculate_ema(prices, days, smoothing=2):\n",
    "    ema = [sum(prices[:days]) / days]\n",
    "    for price in prices[days:]:\n",
    "        ema.append((price * (smoothing / (1 + days))) + ema[-1] * (1 - (smoothing / (1 + days))))\n",
    "    return ema\n",
    "\n",
    "def addEMA(first, second):\n",
    "    ema1 = calculate_ema(data['Open'], first)\n",
    "    ema2 = calculate_ema(data['Open'], second)\n",
    "\n",
    "    ema = (np.array(ema2) - np.array(ema1[(second-first):])) / np.array(ema2)\n",
    "    ema = pd.Series(data=ema, index=data[(second-1):].index)\n",
    "    data[f\"EMA{first}-{second}\"] = ema\n",
    "    features[f\"EMA{first}-{second}\"] = data[f\"EMA{first}-{second}\"]\n",
    "    \n",
    "def rsi(close, periods = 14): # il parametro close intende il valore di chiusura del giorno precedente ovvero quello di apertura del giorno corrente\n",
    "    close_delta = close.diff()\n",
    "    # Make two series: one for lower closes and one for higher closes\n",
    "    up = close_delta.clip(lower=0)\n",
    "    down = -1 * close_delta.clip(upper=0)\n",
    "    ma_up = up.ewm(com = periods - 1, adjust=True, min_periods = periods).mean()\n",
    "    ma_down = down.ewm(com = periods - 1, adjust=True, min_periods = periods).mean()\n",
    "    rsi = ma_up / ma_down\n",
    "    rsi = 100 - (100/(1 + rsi))\n",
    "    return rsi\n",
    "\n",
    "def gainForMFI(x):\n",
    "    return ((x > 0) * x).sum()\n",
    "\n",
    "def lossForMFI(x):\n",
    "    return ((x < 0) * x).sum()\n",
    "\n",
    "def mfi(high, low, close, volume, n=14): # il parametro close intende il valore di chiusura del giorno precedente ovvero quello di apertura del giorno corrente\n",
    "    typical_price = (high + low + close)/3\n",
    "    money_flow = typical_price * volume\n",
    "    mf_sign = np.where(typical_price > typical_price.shift(1), 1, -1)\n",
    "    signed_mf = money_flow * mf_sign\n",
    "    mf_avg_gain = signed_mf.rolling(n).apply(gainForMFI, raw=True)\n",
    "    mf_avg_loss = signed_mf.rolling(n).apply(lossForMFI, raw=True)\n",
    "    return (100 - (100 / (1 + (mf_avg_gain / abs(mf_avg_loss))))).to_numpy()\n",
    "\n",
    "def atr(high, low, close, n=14):\n",
    "    tr = np.amax(np.vstack(((high - low).to_numpy(), (abs(high - close)).to_numpy(), (abs(low - close)).to_numpy())).T, axis=1)\n",
    "    return pd.Series(tr).rolling(n).mean().to_numpy()\n",
    "\n",
    "def forceIndex(data, ndays): \n",
    "    FI = pd.Series(data['Open'].diff(ndays) * data['Volume'], name = 'ForceIndex') \n",
    "    return FI\n"
   ]
  },
  {
   "cell_type": "code",
   "execution_count": 101,
   "id": "162b5e4f",
   "metadata": {},
   "outputs": [],
   "source": [
    "addEMA(5,20)\n",
    "addEMA(8,15)\n",
    "addEMA(20,50)\n",
    "\n",
    "addSMA(5,20)\n",
    "addSMA(8,15) #aggiungendo questo indice il guadagno diminuisce negli anni \"positivi\" e aumenta negli anni \"negativi\"\n",
    "addSMA(20,50) #aggiungendo questo indice il guadagno diminuisce negli anni \"positivi\" e aumenta negli anni \"negativi\"\n",
    "\n",
    "data[\"RSI\"] = rsi(data[\"Open\"])\n",
    "data = computeMACD(data, 12, 26, 9)\n",
    "data[\"MFI\"] = mfi(data[\"High\"], data[\"Low\"], data[\"Open\"], data[\"Volume\"], 14)\n",
    "data[\"ATR\"] = atr(data[\"High\"], data[\"Low\"], data[\"Open\"], 14)\n",
    "data[\"FI-13\"] = forceIndex(data, 13)\n",
    "data[\"FI-50\"] = forceIndex(data, 13)\n",
    "\n",
    "features[\"MACD\"] = data[\"MACD\"]\n",
    "features[\"RSI\"] = data[\"RSI\"] #abbassa i profitti (inutile per ora)\n",
    "features[\"MFI\"] = data[\"MFI\"] #anche questa sembrerebbe inutile per ora\n",
    "features[\"ATR\"] = data[\"ATR\"] #STRANO...\n",
    "features[\"FI-13\"] = data[\"FI-13\"] #assolutamente NO! da risultati orribili (con regressione lineare)\n",
    "features[\"FI-50\"] = data[\"FI-50\"] #assolutamente NO! da risultati orribili (con regressione lineare)"
   ]
  },
  {
   "cell_type": "code",
   "execution_count": 104,
   "id": "0dba9950",
   "metadata": {
    "scrolled": true
   },
   "outputs": [
    {
     "data": {
      "text/plain": [
       "Date\n",
       "2011-01-03          NaN\n",
       "2011-01-04          NaN\n",
       "2011-01-05          NaN\n",
       "2011-01-06          NaN\n",
       "2011-01-07          NaN\n",
       "                ...    \n",
       "2021-12-23    48.004470\n",
       "2021-12-27    54.585269\n",
       "2021-12-28    53.595689\n",
       "2021-12-29    47.057598\n",
       "2021-12-30    53.624258\n",
       "Name: MFI, Length: 2768, dtype: float64"
      ]
     },
     "execution_count": 104,
     "metadata": {},
     "output_type": "execute_result"
    }
   ],
   "source": [
    "data[\"MFI\"]"
   ]
  },
  {
   "cell_type": "code",
   "execution_count": null,
   "id": "3a4ec128",
   "metadata": {},
   "outputs": [],
   "source": [
    "# import warnings filter\n",
    "from warnings import simplefilter\n",
    "# ignore all future warnings\n",
    "simplefilter(action='ignore', category=FutureWarning)"
   ]
  },
  {
   "cell_type": "code",
   "execution_count": null,
   "id": "d3da0758",
   "metadata": {
    "scrolled": true
   },
   "outputs": [],
   "source": [
    "import itertools\n",
    "\n",
    "def getBestFeatures(features, model):\n",
    "    keys = np.array(list(features.keys()))\n",
    "    mylist = [\"1\" + \"\".join(seq) for seq in itertools.product(\"01\", repeat=len(keys)-1)]\n",
    "    #keys = np.array(['Open', 'OpenShift1', 'OpenShift2', 'OpenShift3','OpenShift4','EMA5-20','EMA8-15','EMA20-50','SMA5-20','SMA8-15','SMA20-50','MACD','RSI','MFI','ATR','FI-13','FI-50'])  \n",
    "    dict2 = {x:features[x] for x in keys}\n",
    "\n",
    "    def str2bool(v):\n",
    "        v_bool = [True]\n",
    "        for i in v[1:]:\n",
    "            v_bool.append(i=='1')\n",
    "        return np.array(v_bool)\n",
    "\n",
    "    best_ROI = 0;\n",
    "    best_features = {}\n",
    "\n",
    "    for i in range(0,len(mylist)):\n",
    "        dict2 = {x:features[x] for x in keys[str2bool(mylist[i])]}\n",
    "        X, y = prepare_data(dict2, delta)\n",
    "        X_train, X_val, y_train, y_val = split_data(X, y, 2021)\n",
    "        model.fit(X_train, y_train)\n",
    "\n",
    "        preds = model.predict(X_val)\n",
    "        if roi(y_val, preds, open) > best_ROI:\n",
    "            best_ROI = roi(y_val, preds, open)\n",
    "            best_features = dict2\n",
    "\n",
    "    return best_features, best_ROI\n"
   ]
  },
  {
   "cell_type": "code",
   "execution_count": null,
   "id": "58aea3fe",
   "metadata": {},
   "outputs": [],
   "source": [
    "import time\n",
    "start_time = time.time()\n",
    "new_features, new_ROI = getBestFeatures(features, LinearRegression())\n",
    "print(new_features)\n",
    "print(new_ROI)\n",
    "print(\"--- %s seconds ---\" % (time.time() - start_time))"
   ]
  },
  {
   "cell_type": "code",
   "execution_count": null,
   "id": "ca00a499",
   "metadata": {
    "scrolled": false
   },
   "outputs": [],
   "source": [
    "X, y = prepare_data(features, delta)\n",
    "X_train, X_val, y_train, y_val = split_data(X, y, 2021)\n",
    "model = LinearRegression()\n",
    "model.fit(X_train, y_train)\n",
    "print_eval(X_val, y_val, model, open)"
   ]
  },
  {
   "cell_type": "markdown",
   "id": "f0248c81",
   "metadata": {},
   "source": [
    "Interessante da vedere https://medium.com/codex/this-python-library-will-help-you-get-stock-technical-indicators-in-one-line-of-code-c11ed2c8e45f"
   ]
  },
  {
   "cell_type": "code",
   "execution_count": null,
   "id": "49ee16ea",
   "metadata": {},
   "outputs": [],
   "source": [
    "model_a = LinearRegression()\n",
    "model_a.fit(X_train, y_train)\n",
    "print_eval(X_val, y_val, model_a, open)"
   ]
  },
  {
   "cell_type": "code",
   "execution_count": null,
   "id": "ad6c8d8c",
   "metadata": {},
   "outputs": [],
   "source": [
    "from sklearn.linear_model import Ridge\n",
    "\n",
    "model_b = Ridge(alpha=10)\n",
    "model_b.fit(X_train, y_train)\n",
    "print_eval(X_val, y_val, model_b, open)"
   ]
  },
  {
   "cell_type": "code",
   "execution_count": null,
   "id": "30c61e86",
   "metadata": {
    "scrolled": true
   },
   "outputs": [],
   "source": [
    "from sklearn.preprocessing import PolynomialFeatures, StandardScaler\n",
    "from sklearn.pipeline import Pipeline\n",
    "\n",
    "model_c = Pipeline([\n",
    "    (\"scale\", StandardScaler()),\n",
    "    (\"lr\", LinearRegression())\n",
    "])\n",
    "model_c.fit(X_train, y_train)\n",
    "print_eval(X_val, y_val, model_c, open)"
   ]
  },
  {
   "cell_type": "markdown",
   "id": "31c00b13",
   "metadata": {},
   "source": [
    "Vediamo quanto influiscono i parametri relativi alle colonne"
   ]
  },
  {
   "cell_type": "code",
   "execution_count": null,
   "id": "a3913944",
   "metadata": {
    "scrolled": true
   },
   "outputs": [],
   "source": [
    "pd.DataFrame({\n",
    "    \"linear\": model_a.coef_,\n",
    "    \"ridge\": model_b.coef_,\n",
    "    \"scaled\": model_c.named_steps[\"lr\"].coef_\n",
    "}, index=X.columns)"
   ]
  },
  {
   "cell_type": "markdown",
   "id": "6c24091a",
   "metadata": {},
   "source": [
    "Con la standardizzazione delle feature otteniamo valori su scale simili, che possiamo confrontare alla pari:\n",
    "- ad es. negli altri modelli il coefficiente di EMA8-15\n",
    "  è alto in valore assoluto perché i valori di tale variabile sono bassi \n",
    " - nel modello con standardizzazione assumono invece più peso il numero di stanze (`RM`) e la distanza dagli uffici di collocamento (`DIS`)"
   ]
  },
  {
   "cell_type": "code",
   "execution_count": null,
   "id": "c5395f1b",
   "metadata": {},
   "outputs": [],
   "source": [
    "X_train"
   ]
  },
  {
   "cell_type": "code",
   "execution_count": null,
   "id": "82045307",
   "metadata": {},
   "outputs": [],
   "source": []
  }
 ],
 "metadata": {
  "kernelspec": {
   "display_name": "Python 3 (ipykernel)",
   "language": "python",
   "name": "python3"
  },
  "language_info": {
   "codemirror_mode": {
    "name": "ipython",
    "version": 3
   },
   "file_extension": ".py",
   "mimetype": "text/x-python",
   "name": "python",
   "nbconvert_exporter": "python",
   "pygments_lexer": "ipython3",
   "version": "3.10.4"
  }
 },
 "nbformat": 4,
 "nbformat_minor": 5
}

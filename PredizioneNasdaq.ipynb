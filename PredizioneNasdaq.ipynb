{
 "cells": [
  {
   "cell_type": "markdown",
   "id": "bfc69852",
   "metadata": {},
   "source": [
    "# Predizione Indice Di Borsa: NASDAQ\n",
    "## Autori: Luca Morlino e Valerio Di Zio\n"
   ]
  },
  {
   "cell_type": "markdown",
   "id": "a5f950ac",
   "metadata": {},
   "source": [
    "## Descrizione del problema\n",
    "### Cos'è NASDAQ?\n",
    "Il Nasdaq Composite è l'indice azionario statunitense che comprende titoli nazionali e internazionali in cui sono quotate più di 5.200 società. È stato creato nel 1971 con una base di 100.\n",
    "Le società che compongono l'indice seguono i criteri di capitalizzazione. Il Nasdaq è un indice molto volatile dove sono integrate le più importanti società tecnologiche del mondo.\n",
    "\n",
    "### Obiettivo\n",
    "L'obiettivo generale è quello di creare un algoritmo che preveda il valore di chiusura del titolo a inizio giornata."
   ]
  },
  {
   "cell_type": "code",
   "execution_count": 78,
   "id": "c10d12e8",
   "metadata": {
    "scrolled": false
   },
   "outputs": [],
   "source": [
    "import numpy as np\n",
    "import pandas as pd\n",
    "import matplotlib.pyplot as plt\n",
    "import sklearn\n",
    "%matplotlib inline"
   ]
  },
  {
   "cell_type": "markdown",
   "id": "fc1093fa",
   "metadata": {},
   "source": [
    "## Estrazione dati\n",
    "I dati relativi a ^IXIC vengono scaricati dal servizio [Yahoo! Finance](https://it.finance.yahoo.com/).\n",
    "Per fare ciò viene utilizzata la libreria yfinance che permette l'estrazione di dati in forma di oggetti Python facilmente interrogabili.\n",
    "In particolare, la usiamo per ottenere i dati storici in forma di Dataframe Pandas."
   ]
  },
  {
   "cell_type": "code",
   "execution_count": 79,
   "id": "08483685",
   "metadata": {},
   "outputs": [],
   "source": [
    "import yfinance"
   ]
  },
  {
   "cell_type": "markdown",
   "id": "34ab1dea",
   "metadata": {},
   "source": [
    "- Creiamo un oggetto Ticker che rappresenta uno specifico titolo o indice\n",
    "- Nel nostro caso il simbolo del Nasdaq con il suo valore in dollari è ^IXIC"
   ]
  },
  {
   "cell_type": "code",
   "execution_count": 80,
   "id": "76466847",
   "metadata": {},
   "outputs": [],
   "source": [
    "nasdaq = yfinance.Ticker(\"^IXIC\")"
   ]
  },
  {
   "cell_type": "markdown",
   "id": "28e295ee",
   "metadata": {},
   "source": [
    "- Utilizziamo il metodo history per ottenere i dati storici, partendo dal 2 Gennaio 2011 fino al 31 Dicembre 2021."
   ]
  },
  {
   "cell_type": "code",
   "execution_count": 81,
   "id": "02bfb8b1",
   "metadata": {},
   "outputs": [],
   "source": [
    "data = nasdaq.history(start=\"2011-01-02\", end=\"2021-12-31\", actions=False)"
   ]
  },
  {
   "cell_type": "markdown",
   "id": "ab8b8ff8",
   "metadata": {},
   "source": [
    "Ad esempio, guardiamo i dati relativi agli ultimi 5 giorni dell'anno 2021. "
   ]
  },
  {
   "cell_type": "code",
   "execution_count": 82,
   "id": "93d76e94",
   "metadata": {
    "scrolled": true
   },
   "outputs": [
    {
     "data": {
      "text/html": [
       "<div>\n",
       "<style scoped>\n",
       "    .dataframe tbody tr th:only-of-type {\n",
       "        vertical-align: middle;\n",
       "    }\n",
       "\n",
       "    .dataframe tbody tr th {\n",
       "        vertical-align: top;\n",
       "    }\n",
       "\n",
       "    .dataframe thead th {\n",
       "        text-align: right;\n",
       "    }\n",
       "</style>\n",
       "<table border=\"1\" class=\"dataframe\">\n",
       "  <thead>\n",
       "    <tr style=\"text-align: right;\">\n",
       "      <th></th>\n",
       "      <th>Open</th>\n",
       "      <th>High</th>\n",
       "      <th>Low</th>\n",
       "      <th>Close</th>\n",
       "      <th>Volume</th>\n",
       "    </tr>\n",
       "    <tr>\n",
       "      <th>Date</th>\n",
       "      <th></th>\n",
       "      <th></th>\n",
       "      <th></th>\n",
       "      <th></th>\n",
       "      <th></th>\n",
       "    </tr>\n",
       "  </thead>\n",
       "  <tbody>\n",
       "    <tr>\n",
       "      <th>2021-12-23</th>\n",
       "      <td>15544.790039</td>\n",
       "      <td>15697.980469</td>\n",
       "      <td>15528.910156</td>\n",
       "      <td>15653.370117</td>\n",
       "      <td>3918200000</td>\n",
       "    </tr>\n",
       "    <tr>\n",
       "      <th>2021-12-27</th>\n",
       "      <td>15696.830078</td>\n",
       "      <td>15871.400391</td>\n",
       "      <td>15696.830078</td>\n",
       "      <td>15871.259766</td>\n",
       "      <td>3730120000</td>\n",
       "    </tr>\n",
       "    <tr>\n",
       "      <th>2021-12-28</th>\n",
       "      <td>15895.200195</td>\n",
       "      <td>15901.469727</td>\n",
       "      <td>15757.070312</td>\n",
       "      <td>15781.719727</td>\n",
       "      <td>3623600000</td>\n",
       "    </tr>\n",
       "    <tr>\n",
       "      <th>2021-12-29</th>\n",
       "      <td>15794.919922</td>\n",
       "      <td>15821.809570</td>\n",
       "      <td>15679.849609</td>\n",
       "      <td>15766.219727</td>\n",
       "      <td>3694500000</td>\n",
       "    </tr>\n",
       "    <tr>\n",
       "      <th>2021-12-30</th>\n",
       "      <td>15758.980469</td>\n",
       "      <td>15868.089844</td>\n",
       "      <td>15729.160156</td>\n",
       "      <td>15741.559570</td>\n",
       "      <td>3732730000</td>\n",
       "    </tr>\n",
       "  </tbody>\n",
       "</table>\n",
       "</div>"
      ],
      "text/plain": [
       "                    Open          High           Low         Close      Volume\n",
       "Date                                                                          \n",
       "2021-12-23  15544.790039  15697.980469  15528.910156  15653.370117  3918200000\n",
       "2021-12-27  15696.830078  15871.400391  15696.830078  15871.259766  3730120000\n",
       "2021-12-28  15895.200195  15901.469727  15757.070312  15781.719727  3623600000\n",
       "2021-12-29  15794.919922  15821.809570  15679.849609  15766.219727  3694500000\n",
       "2021-12-30  15758.980469  15868.089844  15729.160156  15741.559570  3732730000"
      ]
     },
     "execution_count": 82,
     "metadata": {},
     "output_type": "execute_result"
    }
   ],
   "source": [
    "data.tail(5)"
   ]
  },
  {
   "cell_type": "markdown",
   "id": "668fd7c7",
   "metadata": {},
   "source": [
    "Andiamo a contare il numero di istanze ricavate"
   ]
  },
  {
   "cell_type": "code",
   "execution_count": 83,
   "id": "bfdefc00",
   "metadata": {},
   "outputs": [
    {
     "data": {
      "text/plain": [
       "2768"
      ]
     },
     "execution_count": 83,
     "metadata": {},
     "output_type": "execute_result"
    }
   ],
   "source": [
    "data.shape[0]"
   ]
  },
  {
   "cell_type": "markdown",
   "id": "dae6778a",
   "metadata": {},
   "source": [
    "## Features\n",
    "Il nostro dataset, inizialmente, ha 5 features:\n",
    "- Open: è il valore in dollari di una singola azione all'orario di apertura\n",
    "- High: è il valore massimo in dollari raggiunto durante la giornata\n",
    "- Low: è il valore minimo in dollari raggiunto durante la giornata\n",
    "- Close: è il valore in dollari di una singola azione all'orario di chiusura\n",
    "- Volume: il volume di trading indica il numero di titoli scambiati in giornata\n",
    "\n",
    "Per comodità estraiamo una serie per ciascuna colonna, per potersi riferire ad esse con un unico nome."
   ]
  },
  {
   "cell_type": "code",
   "execution_count": 84,
   "id": "6aea60f2",
   "metadata": {},
   "outputs": [],
   "source": [
    "open = data[\"Open\"]\n",
    "high = data[\"High\"]\n",
    "low = data[\"Low\"]\n",
    "close = data[\"Close\"]\n",
    "volume = data[\"Volume\"]"
   ]
  },
  {
   "cell_type": "markdown",
   "id": "fabf5006",
   "metadata": {},
   "source": [
    "## Rappresentazione dei dati\n",
    "Possiamo tracciare il grafico dell'andamento del prezzo, basandoci sulla feature \"Open\"."
   ]
  },
  {
   "cell_type": "code",
   "execution_count": 85,
   "id": "d6dc8eae",
   "metadata": {
    "scrolled": true
   },
   "outputs": [
    {
     "data": {
      "image/png": "[encoded data removed]",
      "text/plain": [
       "<Figure size 1152x288 with 1 Axes>"
      ]
     },
     "metadata": {
      "needs_background": "light"
     },
     "output_type": "display_data"
    }
   ],
   "source": [
    "open.plot(figsize=(16,4))\n",
    "plt.title(\"Andamento prezzo del NASDAQ\")\n",
    "plt.xlabel(\"Anno\")\n",
    "plt.ylabel(\"Prezzo ($)\");"
   ]
  },
  {
   "cell_type": "markdown",
   "id": "999fd05a",
   "metadata": {},
   "source": [
    "Utilizzando la libreria plotly è possibile visualizzare in un unico grafico 4 features (Open, High, Low, Close)"
   ]
  },
  {
   "cell_type": "code",
   "execution_count": 86,
   "id": "c7152044",
   "metadata": {},
   "outputs": [],
   "source": [
    "import plotly.graph_objects as go"
   ]
  },
  {
   "cell_type": "code",
   "execution_count": 87,
   "id": "2747b44e",
   "metadata": {
    "scrolled": false
   },
   "outputs": [],
   "source": [
    "candlestick = go.Candlestick(\n",
    "                            x=data.index,\n",
    "                            open=open,\n",
    "                            high=high,\n",
    "                            low=low,\n",
    "                            close=close\n",
    "                            )\n"
   ]
  },
  {
   "cell_type": "markdown",
   "id": "9a81317f",
   "metadata": {},
   "source": [
    "Il grafico è rappresentato mediante l'utilizzo di Candele, queste ultime rappresentano l'andamento del prezzo di una giornata.\n",
    "\n",
    "<img src=\"candlestick.jpeg\" alt=\"Candlestick\" style=\"width:700px;\"/>\n"
   ]
  },
  {
   "cell_type": "code",
   "execution_count": 88,
   "id": "d2b642f3",
   "metadata": {},
   "outputs": [],
   "source": [
    "from ipywidgets.widgets import interact\n",
    "from datetime import timedelta, datetime"
   ]
  },
  {
   "cell_type": "markdown",
   "id": "482bab85",
   "metadata": {},
   "source": [
    "Mostriamo tramite grafico a candele gli ultimi 100 giorni."
   ]
  },
  {
   "cell_type": "code",
   "execution_count": 89,
   "id": "5bef79db",
   "metadata": {},
   "outputs": [],
   "source": [
    "termDate = datetime(2021, 12, 31)\n",
    "DD = timedelta(days=100)\n",
    "earlier = termDate - DD\n",
    "earlier_str = earlier.strftime(\"%Y-%m-%d\")"
   ]
  },
  {
   "cell_type": "code",
   "execution_count": 90,
   "id": "a901c2db",
   "metadata": {
    "scrolled": false
   },
   "outputs": [
    {
     "data": {
      "application/vnd.jupyter.widget-view+json": {
       "model_id": "911b35c0f7034bc1b806393e579b0d06",
       "version_major": 2,
       "version_minor": 0
      },
      "text/plain": [
       "interactive(children=(IntSlider(value=13000, description='ymin', max=13000, step=500), IntSlider(value=17000, …"
      ]
     },
     "metadata": {},
     "output_type": "display_data"
    }
   ],
   "source": [
    "@interact(ymin=(0,13000,500), ymax=(11000,30000,500))\n",
    "def plot_candlestick(ymin=13000, ymax=17000):    \n",
    "    fig = go.Figure(data=[candlestick])\n",
    "    fig.update_layout(\n",
    "        width=1000, height=700,\n",
    "        title=\"Andamento prezzo NASDAQ Candlestick\",\n",
    "        yaxis_title='Prezzo ($)'\n",
    "    )\n",
    "    fig.update_xaxes(type=\"date\", range=[earlier_str, termDate])\n",
    "    fig.update_yaxes(range=[ymin,ymax])\n",
    "    fig.show()"
   ]
  },
  {
   "cell_type": "markdown",
   "id": "7a912c5c",
   "metadata": {},
   "source": [
    "Mostriamo ora alcune statistiche generali raggruppate per anno, come:\n",
    "- Media\n",
    "- Deviazione Standard\n",
    "- Min e Max\n",
    "- Quartili\n"
   ]
  },
  {
   "cell_type": "code",
   "execution_count": 91,
   "id": "e15e68f5",
   "metadata": {
    "scrolled": false
   },
   "outputs": [
    {
     "data": {
      "text/html": [
       "<div>\n",
       "<style scoped>\n",
       "    .dataframe tbody tr th:only-of-type {\n",
       "        vertical-align: middle;\n",
       "    }\n",
       "\n",
       "    .dataframe tbody tr th {\n",
       "        vertical-align: top;\n",
       "    }\n",
       "\n",
       "    .dataframe thead th {\n",
       "        text-align: right;\n",
       "    }\n",
       "</style>\n",
       "<table border=\"1\" class=\"dataframe\">\n",
       "  <thead>\n",
       "    <tr style=\"text-align: right;\">\n",
       "      <th></th>\n",
       "      <th>count</th>\n",
       "      <th>mean</th>\n",
       "      <th>std</th>\n",
       "      <th>min</th>\n",
       "      <th>25%</th>\n",
       "      <th>50%</th>\n",
       "      <th>75%</th>\n",
       "      <th>max</th>\n",
       "    </tr>\n",
       "    <tr>\n",
       "      <th>Date</th>\n",
       "      <th></th>\n",
       "      <th></th>\n",
       "      <th></th>\n",
       "      <th></th>\n",
       "      <th></th>\n",
       "      <th></th>\n",
       "      <th></th>\n",
       "      <th></th>\n",
       "    </tr>\n",
       "  </thead>\n",
       "  <tbody>\n",
       "    <tr>\n",
       "      <th>2011</th>\n",
       "      <td>252.0</td>\n",
       "      <td>2676.244785</td>\n",
       "      <td>122.032911</td>\n",
       "      <td>2352.779907</td>\n",
       "      <td>2604.299988</td>\n",
       "      <td>2693.872559</td>\n",
       "      <td>2776.783752</td>\n",
       "      <td>2873.795044</td>\n",
       "    </tr>\n",
       "    <tr>\n",
       "      <th>2012</th>\n",
       "      <td>250.0</td>\n",
       "      <td>2963.932197</td>\n",
       "      <td>113.122627</td>\n",
       "      <td>2640.204956</td>\n",
       "      <td>2894.392517</td>\n",
       "      <td>2975.859985</td>\n",
       "      <td>3050.596283</td>\n",
       "      <td>3187.510010</td>\n",
       "    </tr>\n",
       "    <tr>\n",
       "      <th>2013</th>\n",
       "      <td>252.0</td>\n",
       "      <td>3539.060040</td>\n",
       "      <td>306.827311</td>\n",
       "      <td>3089.994995</td>\n",
       "      <td>3243.216248</td>\n",
       "      <td>3492.297485</td>\n",
       "      <td>3777.697510</td>\n",
       "      <td>4169.250000</td>\n",
       "    </tr>\n",
       "    <tr>\n",
       "      <th>2014</th>\n",
       "      <td>252.0</td>\n",
       "      <td>4373.320877</td>\n",
       "      <td>211.983366</td>\n",
       "      <td>3997.234985</td>\n",
       "      <td>4202.081360</td>\n",
       "      <td>4355.214966</td>\n",
       "      <td>4535.299988</td>\n",
       "      <td>4806.310059</td>\n",
       "    </tr>\n",
       "    <tr>\n",
       "      <th>2015</th>\n",
       "      <td>252.0</td>\n",
       "      <td>4943.834490</td>\n",
       "      <td>157.062179</td>\n",
       "      <td>4493.520020</td>\n",
       "      <td>4838.318787</td>\n",
       "      <td>4984.995117</td>\n",
       "      <td>5069.158813</td>\n",
       "      <td>5216.715088</td>\n",
       "    </tr>\n",
       "    <tr>\n",
       "      <th>2016</th>\n",
       "      <td>252.0</td>\n",
       "      <td>4985.242454</td>\n",
       "      <td>297.691485</td>\n",
       "      <td>4251.489990</td>\n",
       "      <td>4759.471130</td>\n",
       "      <td>4951.322510</td>\n",
       "      <td>5239.396118</td>\n",
       "      <td>5490.989990</td>\n",
       "    </tr>\n",
       "    <tr>\n",
       "      <th>2017</th>\n",
       "      <td>251.0</td>\n",
       "      <td>6231.484259</td>\n",
       "      <td>394.575343</td>\n",
       "      <td>5425.280029</td>\n",
       "      <td>5885.290161</td>\n",
       "      <td>6239.820068</td>\n",
       "      <td>6491.050049</td>\n",
       "      <td>6989.715088</td>\n",
       "    </tr>\n",
       "    <tr>\n",
       "      <th>2018</th>\n",
       "      <td>251.0</td>\n",
       "      <td>7426.148126</td>\n",
       "      <td>367.453986</td>\n",
       "      <td>6272.675049</td>\n",
       "      <td>7146.000122</td>\n",
       "      <td>7394.964844</td>\n",
       "      <td>7732.107544</td>\n",
       "      <td>8101.434814</td>\n",
       "    </tr>\n",
       "    <tr>\n",
       "      <th>2019</th>\n",
       "      <td>252.0</td>\n",
       "      <td>7934.295049</td>\n",
       "      <td>471.745590</td>\n",
       "      <td>6528.669922</td>\n",
       "      <td>7678.299988</td>\n",
       "      <td>7964.969971</td>\n",
       "      <td>8194.679871</td>\n",
       "      <td>9019.660156</td>\n",
       "    </tr>\n",
       "    <tr>\n",
       "      <th>2020</th>\n",
       "      <td>253.0</td>\n",
       "      <td>10192.485978</td>\n",
       "      <td>1468.692604</td>\n",
       "      <td>6808.179932</td>\n",
       "      <td>9147.544922</td>\n",
       "      <td>10252.209961</td>\n",
       "      <td>11319.454590</td>\n",
       "      <td>12897.645020</td>\n",
       "    </tr>\n",
       "    <tr>\n",
       "      <th>2021</th>\n",
       "      <td>251.0</td>\n",
       "      <td>14357.744158</td>\n",
       "      <td>876.600491</td>\n",
       "      <td>12669.129883</td>\n",
       "      <td>13647.839844</td>\n",
       "      <td>14413.490234</td>\n",
       "      <td>15081.087402</td>\n",
       "      <td>16069.175293</td>\n",
       "    </tr>\n",
       "  </tbody>\n",
       "</table>\n",
       "</div>"
      ],
      "text/plain": [
       "      count          mean          std           min           25%  \\\n",
       "Date                                                                 \n",
       "2011  252.0   2676.244785   122.032911   2352.779907   2604.299988   \n",
       "2012  250.0   2963.932197   113.122627   2640.204956   2894.392517   \n",
       "2013  252.0   3539.060040   306.827311   3089.994995   3243.216248   \n",
       "2014  252.0   4373.320877   211.983366   3997.234985   4202.081360   \n",
       "2015  252.0   4943.834490   157.062179   4493.520020   4838.318787   \n",
       "2016  252.0   4985.242454   297.691485   4251.489990   4759.471130   \n",
       "2017  251.0   6231.484259   394.575343   5425.280029   5885.290161   \n",
       "2018  251.0   7426.148126   367.453986   6272.675049   7146.000122   \n",
       "2019  252.0   7934.295049   471.745590   6528.669922   7678.299988   \n",
       "2020  253.0  10192.485978  1468.692604   6808.179932   9147.544922   \n",
       "2021  251.0  14357.744158   876.600491  12669.129883  13647.839844   \n",
       "\n",
       "               50%           75%           max  \n",
       "Date                                            \n",
       "2011   2693.872559   2776.783752   2873.795044  \n",
       "2012   2975.859985   3050.596283   3187.510010  \n",
       "2013   3492.297485   3777.697510   4169.250000  \n",
       "2014   4355.214966   4535.299988   4806.310059  \n",
       "2015   4984.995117   5069.158813   5216.715088  \n",
       "2016   4951.322510   5239.396118   5490.989990  \n",
       "2017   6239.820068   6491.050049   6989.715088  \n",
       "2018   7394.964844   7732.107544   8101.434814  \n",
       "2019   7964.969971   8194.679871   9019.660156  \n",
       "2020  10252.209961  11319.454590  12897.645020  \n",
       "2021  14413.490234  15081.087402  16069.175293  "
      ]
     },
     "execution_count": 91,
     "metadata": {},
     "output_type": "execute_result"
    }
   ],
   "source": [
    "hlm = (high + low) / 2\n",
    "hlm.groupby(hlm.index.year).describe()"
   ]
  },
  {
   "cell_type": "markdown",
   "id": "ce6525f1",
   "metadata": {},
   "source": [
    "Guardando i risultati notiamo come i valori della colonna `count` variano a seconda dell'anno, questo accade perché la borsa non è aperta 24/7 ma è chiusa in alcuni giorni, ad esempio i festivi.\n",
    "\n",
    "Notiamo anche come la media (`mean`) del prezzo aumenta ogni anno, il che rende il NASDAQ un indice solido.\n",
    "\n",
    "Notiamo anche come nel 2020, l'anno della pandemia, ci sia stata una deviazione standard (`std`) molto alta rispetto agli altri anni."
   ]
  },
  {
   "cell_type": "markdown",
   "id": "3de02e34",
   "metadata": {},
   "source": [
    "## Prevedere il valore di chiusura a inizio giornata"
   ]
  },
  {
   "cell_type": "markdown",
   "id": "9ea695c8",
   "metadata": {},
   "source": [
    "La variabile da predire è la features \"Close\" relativa alla data odierna."
   ]
  },
  {
   "cell_type": "code",
   "execution_count": 92,
   "id": "fcf184b2",
   "metadata": {},
   "outputs": [],
   "source": [
    "y = close"
   ]
  },
  {
   "cell_type": "markdown",
   "id": "dc02803a",
   "metadata": {},
   "source": [
    "`high`, `low`, `volume` non possono essere utilizzate in quanto il loro valore non è noto a inizio giornata.\n",
    "Attualmente l'unica feature utilizzabile è il valore `open`."
   ]
  },
  {
   "cell_type": "code",
   "execution_count": 93,
   "id": "33989cdb",
   "metadata": {
    "scrolled": true
   },
   "outputs": [],
   "source": [
    "features = {\"Open\" : open}\n",
    "X = pd.DataFrame(features)"
   ]
  },
  {
   "cell_type": "markdown",
   "id": "e2021426",
   "metadata": {},
   "source": [
    "Suddividiamo i dati in un training set e in un validation set con la funzione `split_data`. L'anno inserito verrà utilizzato come test e tutti i precedenti (fino al 2011) verranno utilizzati come training."
   ]
  },
  {
   "cell_type": "code",
   "execution_count": 94,
   "id": "77c6e0ec",
   "metadata": {},
   "outputs": [],
   "source": [
    "def split_data(X, y, split):\n",
    "    lowerRange = X.index.year < split\n",
    "    upperRange = (X.index.year > split-1) & (X.index.year < split+1)\n",
    "    X_train = X.loc[lowerRange]\n",
    "    y_train = y.loc[lowerRange]\n",
    "    X_val = X.loc[upperRange]\n",
    "    y_val = y.loc[upperRange]\n",
    "    return X_train, X_val, y_train, y_val"
   ]
  },
  {
   "cell_type": "markdown",
   "id": "4799005a",
   "metadata": {},
   "source": [
    "## Test 1: Regressione Lineare"
   ]
  },
  {
   "cell_type": "markdown",
   "id": "cbf95443",
   "metadata": {},
   "source": [
    "Creiamo il training e validation set con la funzione `split_data` e addestriamo un modello di regressione lineare  calcolandone R<sup>2</sup>."
   ]
  },
  {
   "cell_type": "code",
   "execution_count": 95,
   "id": "72f6ccd9",
   "metadata": {
    "scrolled": true
   },
   "outputs": [
    {
     "data": {
      "text/plain": [
       "0.9921675537422088"
      ]
     },
     "execution_count": 95,
     "metadata": {},
     "output_type": "execute_result"
    }
   ],
   "source": [
    "from sklearn.linear_model import LinearRegression\n",
    "model = LinearRegression()\n",
    "X_train, X_val, y_train, y_val = split_data(X, y, 2020)\n",
    "model.fit(X_train,y_train)\n",
    "model.score(X_val, y_val)"
   ]
  },
  {
   "cell_type": "code",
   "execution_count": 96,
   "id": "2e58cf92",
   "metadata": {},
   "outputs": [],
   "source": [
    "def plot_model_on_data(X, y, model=None):\n",
    "    plt.figure(figsize=(10, 7))\n",
    "    plt.scatter(X[\"Open\"], y)\n",
    "    if model is not None:\n",
    "        xlim, ylim = plt.xlim(), plt.ylim()\n",
    "        line_x = np.linspace(xlim[0], xlim[1], 100)\n",
    "        line_y = model.predict(line_x[:, None])\n",
    "        plt.plot(line_x, line_y, c=\"red\", lw=3)\n",
    "        plt.xlim(xlim); plt.ylim(ylim)\n",
    "    plt.grid()\n",
    "    plt.xlabel(\"Open\"); plt.ylabel(\"Delta\")"
   ]
  },
  {
   "cell_type": "code",
   "execution_count": 97,
   "id": "c70679f7",
   "metadata": {
    "scrolled": true
   },
   "outputs": [
    {
     "name": "stderr",
     "output_type": "stream",
     "text": [
      "/Users/valerio/miniforge3/envs/di/lib/python3.10/site-packages/sklearn/base.py:450: UserWarning:\n",
      "\n",
      "X does not have valid feature names, but LinearRegression was fitted with feature names\n",
      "\n"
     ]
    },
    {
     "data": {
      "image/png": "[encoded data removed]",
      "text/plain": [
       "<Figure size 720x504 with 1 Axes>"
      ]
     },
     "metadata": {
      "needs_background": "light"
     },
     "output_type": "display_data"
    }
   ],
   "source": [
    "plot_model_on_data(X_val,y_val,model)"
   ]
  },
  {
   "cell_type": "markdown",
   "id": "37c8086d",
   "metadata": {},
   "source": [
    "Il punteggio R<sup>2</sup> del modello risulta molto alto. Questo è dovuto al fatto che i valore `Open` e `Close` sono molto correlati."
   ]
  },
  {
   "cell_type": "markdown",
   "id": "aa0ce371",
   "metadata": {},
   "source": [
    "Per avere un riscontro dell'effetiva efficienza del modello calcoleremo il guadagno effettivo di un possibile investitore."
   ]
  },
  {
   "cell_type": "markdown",
   "id": "6154b92b",
   "metadata": {},
   "source": [
    "Per far ciò implementeremo un protocollo di trading che dati i valori di chiusura reali e predetti restituisce il guadagno effettivo.\n",
    "\n",
    "**La cifra investita in questo caso è pari al valore di apertura che varia giornalmente**."
   ]
  },
  {
   "cell_type": "markdown",
   "id": "ae98b752",
   "metadata": {},
   "source": [
    "Definiamo la variabile differenza $\\Delta_d=C_d-O_d$ tra il valore di chiusura giornaliero $C_d$ e di apertura $O_d$"
   ]
  },
  {
   "cell_type": "code",
   "execution_count": 98,
   "id": "91768bbf",
   "metadata": {},
   "outputs": [],
   "source": [
    "delta = close - open"
   ]
  },
  {
   "cell_type": "markdown",
   "id": "f3a28c69",
   "metadata": {},
   "source": [
    "- Poniamo questo come il valore che **deve essere predetto** dal modello\n",
    "- L'investitore agirà in base alla predizione $\\hat{\\Delta}_d$\n",
    "  - se $\\hat{\\Delta}_d > 0$, acquista un titolo a inizio giornata e lo rivende alla fine (LONG)\n",
    "  - se $\\hat{\\Delta}_d < 0$, vende un titolo a inizio giornata e lo ricompra alla fine (SHORT)"
   ]
  },
  {
   "cell_type": "markdown",
   "id": "5b1d4d5a",
   "metadata": {},
   "source": [
    "### Importiamo alcune funzioni utili "
   ]
  },
  {
   "cell_type": "markdown",
   "id": "736ad8c4",
   "metadata": {},
   "source": [
    "Possiamo definire una metrica \"guadagno\" per validare il modello, che restituisca il guadagno totale di un investitore che opera nel periodo a cui si riferisce il validation set"
   ]
  },
  {
   "cell_type": "code",
   "execution_count": 99,
   "id": "62524cae",
   "metadata": {},
   "outputs": [],
   "source": [
    "def gain(D, D_pred):\n",
    "    growth = D_pred > 0\n",
    "    decline = D_pred < 0\n",
    "    return D[growth].sum() - D[decline].sum()"
   ]
  },
  {
   "cell_type": "markdown",
   "id": "2f0cfb0d",
   "metadata": {},
   "source": [
    "Il ROI (Return on investiment) esprime il guadagno di una o più operazioni in borsa in rapporto all'investimento iniziale."
   ]
  },
  {
   "cell_type": "code",
   "execution_count": 100,
   "id": "f0324190",
   "metadata": {},
   "outputs": [],
   "source": [
    "def roi(D, D_pred):\n",
    "    mean_open = open.reindex_like(D).mean()\n",
    "    return gain(D, D_pred)/ mean_open"
   ]
  },
  {
   "cell_type": "markdown",
   "id": "1608c56d",
   "metadata": {},
   "source": [
    "Definiamo anche una funzione che stampi le metriche di valutazione del modello."
   ]
  },
  {
   "cell_type": "code",
   "execution_count": 101,
   "id": "44be9ec2",
   "metadata": {},
   "outputs": [],
   "source": [
    "def print_eval(X, y, model):\n",
    "    preds = model.predict(X)\n",
    "    print(\"Gain: {:.2f}$\".format(gain(y, preds)))\n",
    "    print(\" ROI: {:.3%}\".format(roi(y, preds)))"
   ]
  },
  {
   "cell_type": "markdown",
   "id": "3ac014e3",
   "metadata": {},
   "source": [
    "La funzione `prepare_data` restituisce un Dataframe con le features indicate e una serie con i valori della variabile da predire."
   ]
  },
  {
   "cell_type": "code",
   "execution_count": 102,
   "id": "e5827b12",
   "metadata": {},
   "outputs": [],
   "source": [
    "def prepare_data(features, delta):\n",
    "    X = pd.DataFrame(features)\n",
    "    X.dropna(inplace=True)\n",
    "    y = delta.reindex_like(X)\n",
    "    return X, y"
   ]
  },
  {
   "cell_type": "markdown",
   "id": "03c0dbc2",
   "metadata": {},
   "source": [
    "Addestriamo ora invece un modello di regressione lineare prevedendo il delta e calcoliamo il `gain` e il `ROI` operando su tutto il 2020."
   ]
  },
  {
   "cell_type": "code",
   "execution_count": 103,
   "id": "ba126892",
   "metadata": {},
   "outputs": [
    {
     "name": "stdout",
     "output_type": "stream",
     "text": [
      "Gain: -1673.49$\n",
      " ROI: -16.414%\n"
     ]
    }
   ],
   "source": [
    "X, y = prepare_data(features, delta)\n",
    "X_train, X_val, y_train, y_val = split_data(X, y, 2020)\n",
    "model = LinearRegression()\n",
    "model.fit(X_train, y_train)\n",
    "print_eval(X_val, y_val, model)"
   ]
  },
  {
   "cell_type": "markdown",
   "id": "6230ff3f",
   "metadata": {},
   "source": [
    "Il risultato non è per nulla soddisfacente."
   ]
  },
  {
   "cell_type": "markdown",
   "id": "d010830e",
   "metadata": {},
   "source": [
    "## Aggiungiamo Features\n",
    "Definiamo alcune funzioni che ci permetteranno di calcolare alcuni indicatori molto comuni nel mondo funanziario.\n",
    "\n",
    "- **MACD**: *Moving Average Convergence/Divergence* è un oscillatore di momentum che segue il trend del prezzo utilizzando due medie mobili esponenziali.\n",
    "- **SMA**: *Simple Moving Average* è un indice calcolato in base alle medie aritmetiche dei valori di prezzo precedenti.\n",
    "- **EMA**: *Exponential Moving Average* è un indice utile per a identificare i trend al rialzo o al ribasso di titoli e valute.\n",
    "- **RSI**: *Relative Strength Index* è un indicatore che segnala la forza intrinseca di un titolo.\n",
    "- **MFI**: *Money Flow Index* è un indicatore di momentum che misura il flusso di denaro dentro e fuori un titolo in un periodo di tempo specifico.\n",
    "- **ATR**: *Average True Range* è un indicatore che misura la volatilità.\n",
    "- **FI**: *Force Index* è un indicatore che utilizza il prezzo e i volume per determinare la forza che sta dietro ad un movimento del mercato\n",
    "\n",
    "In più aggiungiamo 4 features che possono risultare utili: i prezzi all'apertura traslati di 1,2,3,4 giorni."
   ]
  },
  {
   "cell_type": "code",
   "execution_count": 104,
   "id": "707883fc",
   "metadata": {},
   "outputs": [],
   "source": [
    "features = {\n",
    "    \"Open\": open,\n",
    "    \"OpenShift1\": open.shift(1),\n",
    "    \"OpenShift2\": open.shift(2),\n",
    "    \"OpenShift3\": open.shift(3),\n",
    "    \"OpenShift4\": open.shift(4),\n",
    "}"
   ]
  },
  {
   "cell_type": "code",
   "execution_count": 105,
   "id": "abeb3999",
   "metadata": {},
   "outputs": [],
   "source": [
    "# Calcolo del MACD\n",
    "def computeMACD (n_fast, n_slow, n_smooth):\n",
    "    data = open\n",
    "    fastEMA = data.ewm(span=n_fast, min_periods=n_slow).mean()\n",
    "    slowEMA = data.ewm(span=n_slow, min_periods=n_slow).mean()\n",
    "    MACD = pd.Series(fastEMA-slowEMA, name = 'MACD')\n",
    "    return MACD\n",
    "\n",
    "# Funzione utilizzata per il calcolo del singolo SMA\n",
    "def calculateSMA(ndays): \n",
    "    SMA = pd.Series(open.rolling(ndays).mean(), name = 'SMA') \n",
    "    return SMA\n",
    "\n",
    "# Calcolo della variazione percentuale tra 2 SMA\n",
    "def SMA(first, second):\n",
    "    sma1 = calculateSMA(first)\n",
    "    sma2 = calculateSMA(second)\n",
    "    sma = (np.array(sma2) - np.array(sma1)) / np.array(sma2)\n",
    "    sma = pd.Series(data=sma, index=data.index)\n",
    "    return sma\n",
    "\n",
    "# Funzione utilizzata per il calcolo del singolo EMA\n",
    "def calculateEMA(prices, days, smoothing=2):\n",
    "    ema = [sum(prices[:days]) / days]\n",
    "    for price in prices[days:]:\n",
    "        ema.append((price * (smoothing / (1 + days))) + ema[-1] * (1 - (smoothing / (1 + days))))\n",
    "    return ema\n",
    "\n",
    "# Calcolo della variazione percentuale tra 2 EMA\n",
    "def EMA(first, second):\n",
    "    ema1 = calculateEMA(open, first)\n",
    "    ema2 = calculateEMA(open, second)\n",
    "    ema = (np.array(ema2) - np.array(ema1[(second-first):])) / np.array(ema2)\n",
    "    ema = pd.Series(data=ema, index=data[(second-1):].index)\n",
    "    return ema\n",
    "\n",
    "# Calcolo del RSI\n",
    "# Il parametro close intende il valore di chiusura del giorno precedente ovvero quello di apertura del giorno corrente\n",
    "def rsi(close, periods = 14):\n",
    "    close_delta = close.diff()\n",
    "    up = close_delta.clip(lower=0)\n",
    "    down = -1 * close_delta.clip(upper=0)\n",
    "    ma_up = up.ewm(com = periods - 1, adjust=True, min_periods = periods).mean()\n",
    "    ma_down = down.ewm(com = periods - 1, adjust=True, min_periods = periods).mean()\n",
    "    rsi = ma_up / ma_down\n",
    "    rsi = 100 - (100/(1 + rsi))\n",
    "    return rsi\n",
    "\n",
    "# Calcolo del MFI\n",
    "def mfi(high, low, close, volume, n=14): \n",
    "    typical_price = (high + low + close)/3\n",
    "    money_flow = typical_price * volume\n",
    "    mf_sign = np.where(typical_price > typical_price.shift(1), 1, -1)\n",
    "    signed_mf = money_flow * mf_sign\n",
    "    mf_avg_gain = signed_mf.rolling(n).apply(lambda x: ((x > 0) * x).sum(), raw=True)\n",
    "    mf_avg_loss = signed_mf.rolling(n).apply(lambda x: ((x < 0) * x).sum(), raw=True)\n",
    "    # Spostiamo la colonna di 1 in avanti così da avere per ogni riga il valore dell'MFI del giorno precedente.\n",
    "    return (100 - (100 / (1 + (mf_avg_gain / abs(mf_avg_loss))))).shift(1).to_numpy()\n",
    "\n",
    "# Calcolo ATR\n",
    "def atr(high, low, close, n=14):\n",
    "    high_low = high - low\n",
    "    high_cp = np.abs(high - close.shift())\n",
    "    low_cp = np.abs(low - close.shift())\n",
    "    df = pd.concat([high_low, high_cp, low_cp], axis=1)\n",
    "    true_range = np.max(df, axis=1)\n",
    "    average_true_range = true_range.rolling(14).mean()\n",
    "    # Spostiamo la colonna di 1 in avanti così da avere per ogni riga il valore dell'ATR del giorno precedente\n",
    "    return average_true_range.shift(1) \n",
    "\n",
    "# Calcolo FI\n",
    "def forceIndex(data, ndays): \n",
    "    FI = pd.Series(open.diff(ndays) * volume, name = 'ForceIndex') \n",
    "    return FI\n"
   ]
  },
  {
   "cell_type": "code",
   "execution_count": 106,
   "id": "162b5e4f",
   "metadata": {},
   "outputs": [],
   "source": [
    "# Aggiungiamo gli indici al dataset\n",
    "data[\"EMA5-20\"] = EMA(5,20)\n",
    "data[\"EMA8-15\"] = EMA(8,15)\n",
    "data[\"EMA20-50\"] = EMA(20,50)\n",
    "data[\"SMA5-20\"] = SMA(5,20)\n",
    "data[\"SMA8-15\"] = SMA(8,15)\n",
    "data[\"SMA20-50\"] = SMA(20,50)\n",
    "data[\"RSI\"] = rsi(open)\n",
    "data[\"MACD\"] = computeMACD(12, 26, 9)\n",
    "data[\"MFI\"] = mfi(high, low, close, volume, 14)\n",
    "data[\"ATR\"] = atr(high, low, close, 14)\n",
    "data[\"FI-13\"] = forceIndex(data, 13)\n",
    "data[\"FI-50\"] = forceIndex(data, 50)\n",
    "\n",
    "# Creiamo le features a partire dai dati appena calcolati\n",
    "features[\"EMA5-20\"] = data[\"EMA5-20\"] \n",
    "features[\"EMA8-15\"] = data[\"EMA8-15\"]\n",
    "features[\"EMA20-50\"] = data[\"EMA20-50\"] \n",
    "features[\"SMA5-20\"] = data[\"SMA5-20\"] \n",
    "features[\"SMA8-15\"] = data[\"SMA8-15\"]\n",
    "features[\"SMA20-50\"] = data[\"SMA20-50\"] \n",
    "features[\"MACD\"] = data[\"MACD\"]\n",
    "features[\"RSI\"] = data[\"RSI\"] \n",
    "features[\"MFI\"] = data[\"MFI\"] \n",
    "features[\"ATR\"] = data[\"ATR\"] \n",
    "features[\"FI-13\"] = data[\"FI-13\"] \n",
    "features[\"FI-50\"] = data[\"FI-50\"]"
   ]
  },
  {
   "cell_type": "code",
   "execution_count": 107,
   "id": "3a4ec128",
   "metadata": {},
   "outputs": [],
   "source": [
    "# import warnings filter\n",
    "from warnings import simplefilter\n",
    "# ignore all future warnings\n",
    "simplefilter(action='ignore', category=FutureWarning)"
   ]
  },
  {
   "cell_type": "markdown",
   "id": "876ca344",
   "metadata": {},
   "source": [
    "## Test delle features\n",
    "Verifichiamo quali features usare per ottenere il risultato migliore.\n",
    "Per fare ciò creiamo una funzione che testando TUTTE le combinazioni di features ci restituisce la combinazione migliore."
   ]
  },
  {
   "cell_type": "code",
   "execution_count": 108,
   "id": "d3da0758",
   "metadata": {
    "scrolled": true
   },
   "outputs": [],
   "source": [
    "import itertools\n",
    "\n",
    "def getBestFeatures(features, model):\n",
    "    keys = np.array(list(features.keys()))\n",
    "    # Creiamo una lista di tutte le possibili sequenze binarie lunghe len(keys)-1 (il numero di features-1)\n",
    "    mylist = [\"1\" + \"\".join(seq) for seq in itertools.product(\"01\", repeat=len(keys)-1)]\n",
    "    dict2 = {x:features[x] for x in keys}\n",
    "\n",
    "    # Permette di convertire una string binaria in un array di booleani\n",
    "    def str2bool(v):\n",
    "        v_bool = [True] # Il primo valore sarà sempre True visto che vogliamo sempre la feature Open\n",
    "        for i in v[1:]:\n",
    "            v_bool.append(i=='1')\n",
    "        return np.array(v_bool)\n",
    "\n",
    "    best_ROI = 0\n",
    "    best_features = {}\n",
    "\n",
    "    for i in range(0,len(mylist)):\n",
    "        dict2 = {x:features[x] for x in keys[str2bool(mylist[i])]}\n",
    "        X, y = prepare_data(dict2, delta)\n",
    "        # Come anno è stato selezionato il 2017 perché è un valore intermedio tra il 2011 e il 2021\n",
    "        X_train, X_val, y_train, y_val = split_data(X, y, 2017)\n",
    "        \n",
    "        # Per questioni di tempo utilizziamo solo 1 modello: LinearRegression()\n",
    "        model.fit(X_train, y_train)\n",
    "        preds = model.predict(X_val)\n",
    "        if roi(y_val, preds) > best_ROI:\n",
    "            best_ROI = roi(y_val, preds)\n",
    "            best_features = dict2\n",
    "            \n",
    "    # L'algoritmo restuituirà le features migliori e il miglior ROI ottenuto\n",
    "    return best_features, best_ROI"
   ]
  },
  {
   "cell_type": "markdown",
   "id": "8e913656",
   "metadata": {},
   "source": [
    "Verifichiamo come si comporta il nostro modello utilizzando tutte le features disponibili."
   ]
  },
  {
   "cell_type": "code",
   "execution_count": 109,
   "id": "5cc2e1bb",
   "metadata": {
    "scrolled": true
   },
   "outputs": [
    {
     "name": "stdout",
     "output_type": "stream",
     "text": [
      "Gain: -999.12$\n",
      " ROI: -9.799%\n"
     ]
    }
   ],
   "source": [
    "X, y = prepare_data(features, delta)\n",
    "X_train, X_val, y_train, y_val = split_data(X, y, 2020)\n",
    "model = LinearRegression()\n",
    "model.fit(X_train, y_train)\n",
    "print_eval(X_val, y_val, model)"
   ]
  },
  {
   "cell_type": "code",
   "execution_count": 110,
   "id": "58aea3fe",
   "metadata": {
    "scrolled": false
   },
   "outputs": [
    {
     "name": "stdout",
     "output_type": "stream",
     "text": [
      "Tempo di esecuzione per la ricerca delle features migliori: 134.65680122375488 secondi\n"
     ]
    }
   ],
   "source": [
    "import time\n",
    "start_time = time.time()\n",
    "new_features, new_ROI = getBestFeatures(features, LinearRegression())\n",
    "print(\"Tempo di esecuzione per la ricerca delle features migliori: %s secondi\" % (time.time() - start_time))"
   ]
  },
  {
   "cell_type": "code",
   "execution_count": 111,
   "id": "1356efcf",
   "metadata": {
    "scrolled": true
   },
   "outputs": [
    {
     "name": "stdout",
     "output_type": "stream",
     "text": [
      "dict_keys(['Open', 'OpenShift1', 'OpenShift2', 'OpenShift4', 'EMA5-20', 'EMA20-50', 'SMA5-20', 'RSI', 'MFI'])\n"
     ]
    }
   ],
   "source": [
    "print(new_features.keys())"
   ]
  },
  {
   "cell_type": "markdown",
   "id": "b64fe497",
   "metadata": {},
   "source": [
    "Le feature selezionate sono 'Open', 'OpenShift1', 'OpenShift2', 'OpenShift4', 'EMA5-20', 'EMA20-50', 'SMA5-20', 'RSI', 'MFI'"
   ]
  },
  {
   "cell_type": "code",
   "execution_count": 112,
   "id": "8844c85d",
   "metadata": {},
   "outputs": [
    {
     "name": "stdout",
     "output_type": "stream",
     "text": [
      "Gain: 1904.34$\n",
      " ROI: 18.678%\n"
     ]
    }
   ],
   "source": [
    "X, y = prepare_data(new_features, delta)\n",
    "X_train, X_val, y_train, y_val = split_data(X, y, 2020)\n",
    "linearRegressionModel = LinearRegression()\n",
    "linearRegressionModel.fit(X_train, y_train)\n",
    "print_eval(X_val, y_val, linearRegressionModel)"
   ]
  },
  {
   "cell_type": "markdown",
   "id": "8075557c",
   "metadata": {},
   "source": [
    "Osserviamo che con la selezione delle features migliori abbiamo ottenuto un ROI più alto."
   ]
  },
  {
   "cell_type": "code",
   "execution_count": 113,
   "id": "c610e00f",
   "metadata": {},
   "outputs": [
    {
     "name": "stdout",
     "output_type": "stream",
     "text": [
      "Gain: 1904.34$\n",
      " ROI: 18.678%\n"
     ]
    }
   ],
   "source": [
    "from sklearn.pipeline import Pipeline\n",
    "from sklearn.preprocessing import StandardScaler\n",
    "\n",
    "linearRegressionModelStd = Pipeline([\n",
    "    (\"scale\", StandardScaler()),\n",
    "    (\"lr\", LinearRegression())\n",
    "])\n",
    "linearRegressionModelStd.fit(X_train, y_train)\n",
    "print_eval(X_val, y_val, linearRegressionModelStd)"
   ]
  },
  {
   "cell_type": "code",
   "execution_count": 114,
   "id": "a2ccbec3",
   "metadata": {
    "scrolled": true
   },
   "outputs": [
    {
     "data": {
      "text/html": [
       "<div>\n",
       "<style scoped>\n",
       "    .dataframe tbody tr th:only-of-type {\n",
       "        vertical-align: middle;\n",
       "    }\n",
       "\n",
       "    .dataframe tbody tr th {\n",
       "        vertical-align: top;\n",
       "    }\n",
       "\n",
       "    .dataframe thead th {\n",
       "        text-align: right;\n",
       "    }\n",
       "</style>\n",
       "<table border=\"1\" class=\"dataframe\">\n",
       "  <thead>\n",
       "    <tr style=\"text-align: right;\">\n",
       "      <th></th>\n",
       "      <th>linear</th>\n",
       "      <th>scaled</th>\n",
       "    </tr>\n",
       "  </thead>\n",
       "  <tbody>\n",
       "    <tr>\n",
       "      <th>Open</th>\n",
       "      <td>-0.111537</td>\n",
       "      <td>-198.430776</td>\n",
       "    </tr>\n",
       "    <tr>\n",
       "      <th>OpenShift1</th>\n",
       "      <td>0.071120</td>\n",
       "      <td>126.442558</td>\n",
       "    </tr>\n",
       "    <tr>\n",
       "      <th>OpenShift2</th>\n",
       "      <td>0.026867</td>\n",
       "      <td>47.732506</td>\n",
       "    </tr>\n",
       "    <tr>\n",
       "      <th>OpenShift4</th>\n",
       "      <td>0.013415</td>\n",
       "      <td>23.798815</td>\n",
       "    </tr>\n",
       "    <tr>\n",
       "      <th>EMA5-20</th>\n",
       "      <td>-905.543245</td>\n",
       "      <td>-12.074707</td>\n",
       "    </tr>\n",
       "    <tr>\n",
       "      <th>EMA20-50</th>\n",
       "      <td>393.771190</td>\n",
       "      <td>5.361893</td>\n",
       "    </tr>\n",
       "    <tr>\n",
       "      <th>SMA5-20</th>\n",
       "      <td>690.747624</td>\n",
       "      <td>12.288579</td>\n",
       "    </tr>\n",
       "    <tr>\n",
       "      <th>RSI</th>\n",
       "      <td>0.439817</td>\n",
       "      <td>4.847801</td>\n",
       "    </tr>\n",
       "    <tr>\n",
       "      <th>MFI</th>\n",
       "      <td>-0.091282</td>\n",
       "      <td>-1.367235</td>\n",
       "    </tr>\n",
       "  </tbody>\n",
       "</table>\n",
       "</div>"
      ],
      "text/plain": [
       "                linear      scaled\n",
       "Open         -0.111537 -198.430776\n",
       "OpenShift1    0.071120  126.442558\n",
       "OpenShift2    0.026867   47.732506\n",
       "OpenShift4    0.013415   23.798815\n",
       "EMA5-20    -905.543245  -12.074707\n",
       "EMA20-50    393.771190    5.361893\n",
       "SMA5-20     690.747624   12.288579\n",
       "RSI           0.439817    4.847801\n",
       "MFI          -0.091282   -1.367235"
      ]
     },
     "execution_count": 114,
     "metadata": {},
     "output_type": "execute_result"
    }
   ],
   "source": [
    "pd.DataFrame({\n",
    "    \"linear\": linearRegressionModel.coef_,\n",
    "    \"scaled\": linearRegressionModelStd.named_steps[\"lr\"].coef_\n",
    "}, index=X.columns)"
   ]
  },
  {
   "cell_type": "markdown",
   "id": "8b08e31e",
   "metadata": {},
   "source": [
    "- In tutti e due i modelli, dai segni dei coefficienti possiamo vedere quali fenomeni influiscono positivamente e negativamente sul prezzo\n",
    "- Con la standardizzazione delle feature otteniamo valori su scale simili, che possiamo confrontare alla pari\n",
    "  - ad es. nel modello non standardizzato il coefficiente di `EMA5-20` è alto in valore assoluto perché i valori di tale variabile sono bassi\n",
    "  - nel modello con standardizzazione assumono invece più peso ad esempio il prezzo di apertura (`Open`) e il prezzo di apertura del giorno precedente (`OpenShift1`)"
   ]
  },
  {
   "cell_type": "markdown",
   "id": "23b3b1b4",
   "metadata": {},
   "source": [
    "## Test 2: Regressione Polinomiale"
   ]
  },
  {
   "cell_type": "markdown",
   "id": "a9e8fcf4",
   "metadata": {},
   "source": [
    "Addestriamo ora un modello di regressione polinomiale"
   ]
  },
  {
   "cell_type": "code",
   "execution_count": 115,
   "id": "83c34aa0",
   "metadata": {
    "scrolled": true
   },
   "outputs": [
    {
     "name": "stdout",
     "output_type": "stream",
     "text": [
      "Gain: 2916.40$\n",
      " ROI: 28.604%\n"
     ]
    }
   ],
   "source": [
    "from sklearn.preprocessing import PolynomialFeatures\n",
    "\n",
    "X, y = prepare_data(features, delta)\n",
    "X_train, X_val, y_train, y_val = split_data(X, y, 2020)\n",
    "polynomialRegressionModel = Pipeline([\n",
    "    (\"poly\", PolynomialFeatures(degree=4, include_bias=False)),\n",
    "    (\"scale\", StandardScaler()),\n",
    "    (\"regr\", LinearRegression())\n",
    "])\n",
    "polynomialRegressionModel.fit(X_train, y_train)\n",
    "print_eval(X_val,y_val,polynomialRegressionModel)"
   ]
  },
  {
   "cell_type": "markdown",
   "id": "a65883b0",
   "metadata": {},
   "source": [
    "Otteniamo un ROI migliore rispetto a quello della regressione lineare."
   ]
  },
  {
   "cell_type": "markdown",
   "id": "ba98b6d6",
   "metadata": {},
   "source": [
    "## Test 3: Regressione Ridge"
   ]
  },
  {
   "cell_type": "markdown",
   "id": "8ccaf094",
   "metadata": {},
   "source": [
    "Proviamo ora il modello di regressione Ridge con regolarizzazione per evitare che i coefficienti crescano troppo."
   ]
  },
  {
   "cell_type": "markdown",
   "id": "13213659",
   "metadata": {},
   "source": [
    "Creiamo un nostro scorer che valuti i modelli in base al ROI"
   ]
  },
  {
   "cell_type": "code",
   "execution_count": 116,
   "id": "36cf0cb1",
   "metadata": {},
   "outputs": [],
   "source": [
    "from sklearn.metrics import make_scorer\n",
    "roi_scorer = make_scorer(roi, greater_is_better=True)"
   ]
  },
  {
   "cell_type": "markdown",
   "id": "113bfd86",
   "metadata": {},
   "source": [
    "### Validazione k-fold per serie temporali\n",
    "\n",
    "- Come alternativa allo split `KFold`, scikit-learn offre il `TimeSeriesSplit(k)` per la nostra situazione in cui vogliamo però mantenere l'ordine temporale in training e validation set"
   ]
  },
  {
   "cell_type": "code",
   "execution_count": 117,
   "id": "713d26cd",
   "metadata": {
    "scrolled": true
   },
   "outputs": [],
   "source": [
    "from sklearn.model_selection import  TimeSeriesSplit\n",
    "tss = TimeSeriesSplit(10) #11 anni dal 2011 al 2022"
   ]
  },
  {
   "cell_type": "code",
   "execution_count": 118,
   "id": "546ee2ac",
   "metadata": {
    "scrolled": true
   },
   "outputs": [
    {
     "data": {
      "text/html": [
       "<div>\n",
       "<style scoped>\n",
       "    .dataframe tbody tr th:only-of-type {\n",
       "        vertical-align: middle;\n",
       "    }\n",
       "\n",
       "    .dataframe tbody tr th {\n",
       "        vertical-align: top;\n",
       "    }\n",
       "\n",
       "    .dataframe thead th {\n",
       "        text-align: right;\n",
       "    }\n",
       "</style>\n",
       "<table border=\"1\" class=\"dataframe\">\n",
       "  <thead>\n",
       "    <tr style=\"text-align: right;\">\n",
       "      <th></th>\n",
       "      <th>mean_fit_time</th>\n",
       "      <th>std_fit_time</th>\n",
       "      <th>mean_score_time</th>\n",
       "      <th>std_score_time</th>\n",
       "      <th>param_linreg__alpha</th>\n",
       "      <th>params</th>\n",
       "      <th>split0_test_score</th>\n",
       "      <th>split1_test_score</th>\n",
       "      <th>split2_test_score</th>\n",
       "      <th>split3_test_score</th>\n",
       "      <th>split4_test_score</th>\n",
       "      <th>split5_test_score</th>\n",
       "      <th>split6_test_score</th>\n",
       "      <th>split7_test_score</th>\n",
       "      <th>split8_test_score</th>\n",
       "      <th>split9_test_score</th>\n",
       "      <th>mean_test_score</th>\n",
       "      <th>std_test_score</th>\n",
       "      <th>rank_test_score</th>\n",
       "    </tr>\n",
       "  </thead>\n",
       "  <tbody>\n",
       "    <tr>\n",
       "      <th>1</th>\n",
       "      <td>0.001029</td>\n",
       "      <td>0.000065</td>\n",
       "      <td>0.000554</td>\n",
       "      <td>0.000003</td>\n",
       "      <td>1</td>\n",
       "      <td>{'linreg__alpha': 1}</td>\n",
       "      <td>-0.010993</td>\n",
       "      <td>-0.143886</td>\n",
       "      <td>0.033517</td>\n",
       "      <td>-0.195803</td>\n",
       "      <td>0.064979</td>\n",
       "      <td>0.102625</td>\n",
       "      <td>-0.054925</td>\n",
       "      <td>-0.143310</td>\n",
       "      <td>0.452219</td>\n",
       "      <td>0.086543</td>\n",
       "      <td>0.019097</td>\n",
       "      <td>0.175197</td>\n",
       "      <td>1</td>\n",
       "    </tr>\n",
       "    <tr>\n",
       "      <th>0</th>\n",
       "      <td>0.001088</td>\n",
       "      <td>0.000074</td>\n",
       "      <td>0.000572</td>\n",
       "      <td>0.000023</td>\n",
       "      <td>0.1</td>\n",
       "      <td>{'linreg__alpha': 0.1}</td>\n",
       "      <td>-0.040556</td>\n",
       "      <td>-0.154594</td>\n",
       "      <td>0.108636</td>\n",
       "      <td>-0.279117</td>\n",
       "      <td>-0.041298</td>\n",
       "      <td>0.111210</td>\n",
       "      <td>0.032288</td>\n",
       "      <td>-0.019408</td>\n",
       "      <td>0.329331</td>\n",
       "      <td>0.073564</td>\n",
       "      <td>0.012006</td>\n",
       "      <td>0.155940</td>\n",
       "      <td>2</td>\n",
       "    </tr>\n",
       "    <tr>\n",
       "      <th>2</th>\n",
       "      <td>0.001026</td>\n",
       "      <td>0.000066</td>\n",
       "      <td>0.000551</td>\n",
       "      <td>0.000003</td>\n",
       "      <td>10</td>\n",
       "      <td>{'linreg__alpha': 10}</td>\n",
       "      <td>0.031710</td>\n",
       "      <td>-0.127297</td>\n",
       "      <td>-0.061424</td>\n",
       "      <td>-0.192841</td>\n",
       "      <td>0.099798</td>\n",
       "      <td>0.030217</td>\n",
       "      <td>-0.113954</td>\n",
       "      <td>-0.032078</td>\n",
       "      <td>-0.046154</td>\n",
       "      <td>0.112240</td>\n",
       "      <td>-0.029978</td>\n",
       "      <td>0.094233</td>\n",
       "      <td>3</td>\n",
       "    </tr>\n",
       "  </tbody>\n",
       "</table>\n",
       "</div>"
      ],
      "text/plain": [
       "   mean_fit_time  std_fit_time  mean_score_time  std_score_time  \\\n",
       "1       0.001029      0.000065         0.000554        0.000003   \n",
       "0       0.001088      0.000074         0.000572        0.000023   \n",
       "2       0.001026      0.000066         0.000551        0.000003   \n",
       "\n",
       "  param_linreg__alpha                  params  split0_test_score  \\\n",
       "1                   1    {'linreg__alpha': 1}          -0.010993   \n",
       "0                 0.1  {'linreg__alpha': 0.1}          -0.040556   \n",
       "2                  10   {'linreg__alpha': 10}           0.031710   \n",
       "\n",
       "   split1_test_score  split2_test_score  split3_test_score  split4_test_score  \\\n",
       "1          -0.143886           0.033517          -0.195803           0.064979   \n",
       "0          -0.154594           0.108636          -0.279117          -0.041298   \n",
       "2          -0.127297          -0.061424          -0.192841           0.099798   \n",
       "\n",
       "   split5_test_score  split6_test_score  split7_test_score  split8_test_score  \\\n",
       "1           0.102625          -0.054925          -0.143310           0.452219   \n",
       "0           0.111210           0.032288          -0.019408           0.329331   \n",
       "2           0.030217          -0.113954          -0.032078          -0.046154   \n",
       "\n",
       "   split9_test_score  mean_test_score  std_test_score  rank_test_score  \n",
       "1           0.086543         0.019097        0.175197                1  \n",
       "0           0.073564         0.012006        0.155940                2  \n",
       "2           0.112240        -0.029978        0.094233                3  "
      ]
     },
     "execution_count": 118,
     "metadata": {},
     "output_type": "execute_result"
    }
   ],
   "source": [
    "from sklearn.linear_model import Ridge\n",
    "from sklearn.model_selection import GridSearchCV\n",
    "\n",
    "X, y = prepare_data(new_features, delta)\n",
    "model = Pipeline([\n",
    "    (\"scale\",  StandardScaler()),\n",
    "    (\"linreg\", Ridge())\n",
    "])\n",
    "\n",
    "grid = {\"linreg__alpha\": [0.1, 1, 10, 50]}\n",
    "gs = GridSearchCV(model, param_grid=grid, scoring=roi_scorer, cv=tss)\n",
    "gs.fit(X, y)\n",
    "pd.DataFrame(gs.cv_results_).sort_values(\"mean_test_score\", ascending=False).head(3)"
   ]
  },
  {
   "cell_type": "markdown",
   "id": "e2385ae0",
   "metadata": {},
   "source": [
    "- Per la regressione Ridge il parametro migliore è $\\alpha$=0.1 con un profitto medio annuo del 6.1%:\n",
    "- **Ottenendo profitto migliore utilizzando le features selezionate `new_features`**\n",
    "- *Utilizzando invece tutte le features otteniamo un profitto del 4.8%*"
   ]
  },
  {
   "cell_type": "code",
   "execution_count": 119,
   "id": "0d3ae4d5",
   "metadata": {},
   "outputs": [
    {
     "name": "stdout",
     "output_type": "stream",
     "text": [
      "Gain: 3478.34$\n",
      " ROI: 34.116%\n"
     ]
    }
   ],
   "source": [
    "X_train, X_val, y_train, y_val = split_data(X, y, 2020)\n",
    "\n",
    "ridgeModel = Pipeline([\n",
    "    (\"scale\",  StandardScaler()),\n",
    "    (\"linreg\", Ridge(alpha=0.1))\n",
    "])\n",
    "ridgeModel.fit(X_train, y_train)\n",
    "print_eval(X_val, y_val, ridgeModel)"
   ]
  },
  {
   "cell_type": "markdown",
   "id": "767c143c",
   "metadata": {},
   "source": [
    "## Test 4: ElasticNet"
   ]
  },
  {
   "cell_type": "code",
   "execution_count": 120,
   "id": "df27761e",
   "metadata": {
    "scrolled": false
   },
   "outputs": [
    {
     "data": {
      "text/html": [
       "<div>\n",
       "<style scoped>\n",
       "    .dataframe tbody tr th:only-of-type {\n",
       "        vertical-align: middle;\n",
       "    }\n",
       "\n",
       "    .dataframe tbody tr th {\n",
       "        vertical-align: top;\n",
       "    }\n",
       "\n",
       "    .dataframe thead th {\n",
       "        text-align: right;\n",
       "    }\n",
       "</style>\n",
       "<table border=\"1\" class=\"dataframe\">\n",
       "  <thead>\n",
       "    <tr style=\"text-align: right;\">\n",
       "      <th></th>\n",
       "      <th>mean_fit_time</th>\n",
       "      <th>std_fit_time</th>\n",
       "      <th>mean_score_time</th>\n",
       "      <th>std_score_time</th>\n",
       "      <th>param_linreg__alpha</th>\n",
       "      <th>param_linreg__l1_ratio</th>\n",
       "      <th>params</th>\n",
       "      <th>split0_test_score</th>\n",
       "      <th>split1_test_score</th>\n",
       "      <th>split2_test_score</th>\n",
       "      <th>split3_test_score</th>\n",
       "      <th>split4_test_score</th>\n",
       "      <th>split5_test_score</th>\n",
       "      <th>split6_test_score</th>\n",
       "      <th>split7_test_score</th>\n",
       "      <th>split8_test_score</th>\n",
       "      <th>split9_test_score</th>\n",
       "      <th>mean_test_score</th>\n",
       "      <th>std_test_score</th>\n",
       "      <th>rank_test_score</th>\n",
       "    </tr>\n",
       "  </thead>\n",
       "  <tbody>\n",
       "    <tr>\n",
       "      <th>14</th>\n",
       "      <td>0.001337</td>\n",
       "      <td>0.000159</td>\n",
       "      <td>0.000629</td>\n",
       "      <td>0.000024</td>\n",
       "      <td>3</td>\n",
       "      <td>0.5</td>\n",
       "      <td>{'linreg__alpha': 3, 'linreg__l1_ratio': 0.5}</td>\n",
       "      <td>0.042204</td>\n",
       "      <td>0.152753</td>\n",
       "      <td>-0.009243</td>\n",
       "      <td>-0.059625</td>\n",
       "      <td>0.160511</td>\n",
       "      <td>0.184403</td>\n",
       "      <td>-0.129237</td>\n",
       "      <td>0.137467</td>\n",
       "      <td>0.13314</td>\n",
       "      <td>0.104293</td>\n",
       "      <td>0.071667</td>\n",
       "      <td>0.100680</td>\n",
       "      <td>1</td>\n",
       "    </tr>\n",
       "    <tr>\n",
       "      <th>18</th>\n",
       "      <td>0.001266</td>\n",
       "      <td>0.000139</td>\n",
       "      <td>0.000607</td>\n",
       "      <td>0.000004</td>\n",
       "      <td>5</td>\n",
       "      <td>0.4</td>\n",
       "      <td>{'linreg__alpha': 5, 'linreg__l1_ratio': 0.4}</td>\n",
       "      <td>0.077393</td>\n",
       "      <td>0.152753</td>\n",
       "      <td>-0.009243</td>\n",
       "      <td>-0.084009</td>\n",
       "      <td>0.198402</td>\n",
       "      <td>0.103961</td>\n",
       "      <td>-0.131762</td>\n",
       "      <td>0.137467</td>\n",
       "      <td>0.13314</td>\n",
       "      <td>0.074056</td>\n",
       "      <td>0.065216</td>\n",
       "      <td>0.101772</td>\n",
       "      <td>2</td>\n",
       "    </tr>\n",
       "    <tr>\n",
       "      <th>17</th>\n",
       "      <td>0.001286</td>\n",
       "      <td>0.000139</td>\n",
       "      <td>0.000612</td>\n",
       "      <td>0.000004</td>\n",
       "      <td>5</td>\n",
       "      <td>0.3</td>\n",
       "      <td>{'linreg__alpha': 5, 'linreg__l1_ratio': 0.3}</td>\n",
       "      <td>0.016570</td>\n",
       "      <td>0.152753</td>\n",
       "      <td>-0.009243</td>\n",
       "      <td>-0.096508</td>\n",
       "      <td>0.278027</td>\n",
       "      <td>0.103961</td>\n",
       "      <td>-0.131762</td>\n",
       "      <td>0.137467</td>\n",
       "      <td>0.13314</td>\n",
       "      <td>0.060771</td>\n",
       "      <td>0.064518</td>\n",
       "      <td>0.117118</td>\n",
       "      <td>3</td>\n",
       "    </tr>\n",
       "  </tbody>\n",
       "</table>\n",
       "</div>"
      ],
      "text/plain": [
       "    mean_fit_time  std_fit_time  mean_score_time  std_score_time  \\\n",
       "14       0.001337      0.000159         0.000629        0.000024   \n",
       "18       0.001266      0.000139         0.000607        0.000004   \n",
       "17       0.001286      0.000139         0.000612        0.000004   \n",
       "\n",
       "   param_linreg__alpha param_linreg__l1_ratio  \\\n",
       "14                   3                    0.5   \n",
       "18                   5                    0.4   \n",
       "17                   5                    0.3   \n",
       "\n",
       "                                           params  split0_test_score  \\\n",
       "14  {'linreg__alpha': 3, 'linreg__l1_ratio': 0.5}           0.042204   \n",
       "18  {'linreg__alpha': 5, 'linreg__l1_ratio': 0.4}           0.077393   \n",
       "17  {'linreg__alpha': 5, 'linreg__l1_ratio': 0.3}           0.016570   \n",
       "\n",
       "    split1_test_score  split2_test_score  split3_test_score  \\\n",
       "14           0.152753          -0.009243          -0.059625   \n",
       "18           0.152753          -0.009243          -0.084009   \n",
       "17           0.152753          -0.009243          -0.096508   \n",
       "\n",
       "    split4_test_score  split5_test_score  split6_test_score  \\\n",
       "14           0.160511           0.184403          -0.129237   \n",
       "18           0.198402           0.103961          -0.131762   \n",
       "17           0.278027           0.103961          -0.131762   \n",
       "\n",
       "    split7_test_score  split8_test_score  split9_test_score  mean_test_score  \\\n",
       "14           0.137467            0.13314           0.104293         0.071667   \n",
       "18           0.137467            0.13314           0.074056         0.065216   \n",
       "17           0.137467            0.13314           0.060771         0.064518   \n",
       "\n",
       "    std_test_score  rank_test_score  \n",
       "14        0.100680                1  \n",
       "18        0.101772                2  \n",
       "17        0.117118                3  "
      ]
     },
     "execution_count": 120,
     "metadata": {},
     "output_type": "execute_result"
    }
   ],
   "source": [
    "from sklearn.linear_model import ElasticNet\n",
    "X, y = prepare_data(features, delta)\n",
    "model = Pipeline([\n",
    "    (\"scale\",  StandardScaler()),\n",
    "    (\"linreg\", ElasticNet())\n",
    "])\n",
    "\n",
    "grid = {\"linreg__alpha\":  [1, 2, 3, 5], \"linreg__l1_ratio\": [0.1, 0.2, 0.3, 0.4, 0.5]}\n",
    "gs = GridSearchCV(model, param_grid=grid, scoring=roi_scorer, cv=tss)\n",
    "gs.fit(X, y)\n",
    "pd.DataFrame(gs.cv_results_).sort_values(\"mean_test_score\", ascending=False).head(3)"
   ]
  },
  {
   "cell_type": "markdown",
   "id": "9acd6b3f",
   "metadata": {},
   "source": [
    "- Per la regressione ElasticNet i parametri migliori sono $\\alpha$=3 e L1_RATIO=0.2 con un profitto medio annuo del 7.3%:\n",
    "\n",
    "- **Ottenendo profitto migliore utilizzando tutte le features**\n",
    "\n",
    "- *Utilizzando invece le features selezionate otteniamo un profitto del 6.4%*"
   ]
  },
  {
   "cell_type": "code",
   "execution_count": 121,
   "id": "8949fcee",
   "metadata": {},
   "outputs": [
    {
     "name": "stdout",
     "output_type": "stream",
     "text": [
      "Gain: 1082.98$\n",
      " ROI: 10.622%\n"
     ]
    }
   ],
   "source": [
    "X, y = prepare_data(features, delta)\n",
    "X_train, X_val, y_train, y_val = split_data(X, y, 2020)\n",
    "elasticNetModel = Pipeline([\n",
    "    (\"scale\",  StandardScaler()),\n",
    "    (\"linreg\", ElasticNet(alpha=3, l1_ratio=0.2))\n",
    "])\n",
    "elasticNetModel.fit(X_train, y_train)\n",
    "print_eval(X_val, y_val, elasticNetModel)"
   ]
  },
  {
   "cell_type": "markdown",
   "id": "225ed378",
   "metadata": {},
   "source": [
    "I risultati ottenuti sono simili, in quanto la regressione ElasticNet permette di penalizzare le variabili irrilevanti, che è lo stesso scopo della nostra funzione: `getBestFeatures()`"
   ]
  },
  {
   "cell_type": "markdown",
   "id": "32286e96",
   "metadata": {},
   "source": [
    "## Test 5: Regressione con alberi decisionali"
   ]
  },
  {
   "cell_type": "code",
   "execution_count": 122,
   "id": "669b90da",
   "metadata": {},
   "outputs": [],
   "source": [
    "from sklearn.ensemble import RandomForestRegressor"
   ]
  },
  {
   "cell_type": "code",
   "execution_count": 123,
   "id": "262b7dc1",
   "metadata": {},
   "outputs": [],
   "source": [
    "X, y = prepare_data(new_features, delta)\n",
    "X_train, X_val, y_train, y_val = split_data(X, y, 2020)"
   ]
  },
  {
   "cell_type": "code",
   "execution_count": 124,
   "id": "e0a3b69a",
   "metadata": {},
   "outputs": [
    {
     "name": "stdout",
     "output_type": "stream",
     "text": [
      "CPU times: user 2.46 s, sys: 427 ms, total: 2.89 s\n",
      "Wall time: 1min 31s\n"
     ]
    },
    {
     "data": {
      "text/plain": [
       "GridSearchCV(cv=TimeSeriesSplit(gap=0, max_train_size=None, n_splits=10, test_size=None),\n",
       "             estimator=Pipeline(steps=[('std', StandardScaler()),\n",
       "                                       ('rfc',\n",
       "                                        RandomForestRegressor(n_jobs=-1,\n",
       "                                                              random_state=42))]),\n",
       "             n_jobs=-1,\n",
       "             param_grid={'rfc__max_depth': [4, 6, 8, 10],\n",
       "                         'rfc__min_samples_leaf': [2, 4, 6],\n",
       "                         'rfc__min_samples_split': [2, 5, 10],\n",
       "                         'rfc__n_estimators': [200, 300]},\n",
       "             scoring=make_scorer(roi))"
      ]
     },
     "execution_count": 124,
     "metadata": {},
     "output_type": "execute_result"
    }
   ],
   "source": [
    "%%time\n",
    "from sklearn.ensemble import RandomForestRegressor\n",
    "from sklearn.metrics import classification_report\n",
    "\n",
    "rfc = Pipeline([\n",
    "    ('std', StandardScaler()),\n",
    "    ('rfc', RandomForestRegressor(n_jobs=-1, random_state=42))\n",
    "])\n",
    "\n",
    "parameters = {\n",
    "    'rfc__n_estimators': [200, 300],\n",
    "    'rfc__max_depth': [4, 6, 8, 10],\n",
    "    'rfc__min_samples_leaf': [2, 4, 6],\n",
    "    'rfc__min_samples_split': [2, 5, 10],\n",
    "}\n",
    "    \n",
    "\n",
    "rfc_gs = GridSearchCV(rfc, parameters, cv=tss, n_jobs=-1, scoring=roi_scorer)\n",
    "rfc_gs.fit(X.values, y)\n"
   ]
  },
  {
   "cell_type": "code",
   "execution_count": 125,
   "id": "0e609b31",
   "metadata": {
    "scrolled": false
   },
   "outputs": [
    {
     "data": {
      "text/html": [
       "<div>\n",
       "<style scoped>\n",
       "    .dataframe tbody tr th:only-of-type {\n",
       "        vertical-align: middle;\n",
       "    }\n",
       "\n",
       "    .dataframe tbody tr th {\n",
       "        vertical-align: top;\n",
       "    }\n",
       "\n",
       "    .dataframe thead th {\n",
       "        text-align: right;\n",
       "    }\n",
       "</style>\n",
       "<table border=\"1\" class=\"dataframe\">\n",
       "  <thead>\n",
       "    <tr style=\"text-align: right;\">\n",
       "      <th></th>\n",
       "      <th>mean_fit_time</th>\n",
       "      <th>std_fit_time</th>\n",
       "      <th>mean_score_time</th>\n",
       "      <th>std_score_time</th>\n",
       "      <th>param_rfc__max_depth</th>\n",
       "      <th>param_rfc__min_samples_leaf</th>\n",
       "      <th>param_rfc__min_samples_split</th>\n",
       "      <th>param_rfc__n_estimators</th>\n",
       "      <th>params</th>\n",
       "      <th>split0_test_score</th>\n",
       "      <th>...</th>\n",
       "      <th>split3_test_score</th>\n",
       "      <th>split4_test_score</th>\n",
       "      <th>split5_test_score</th>\n",
       "      <th>split6_test_score</th>\n",
       "      <th>split7_test_score</th>\n",
       "      <th>split8_test_score</th>\n",
       "      <th>split9_test_score</th>\n",
       "      <th>mean_test_score</th>\n",
       "      <th>std_test_score</th>\n",
       "      <th>rank_test_score</th>\n",
       "    </tr>\n",
       "  </thead>\n",
       "  <tbody>\n",
       "    <tr>\n",
       "      <th>7</th>\n",
       "      <td>0.767688</td>\n",
       "      <td>0.197208</td>\n",
       "      <td>0.046905</td>\n",
       "      <td>0.023168</td>\n",
       "      <td>4</td>\n",
       "      <td>4</td>\n",
       "      <td>2</td>\n",
       "      <td>300</td>\n",
       "      <td>{'rfc__max_depth': 4, 'rfc__min_samples_leaf':...</td>\n",
       "      <td>0.046942</td>\n",
       "      <td>...</td>\n",
       "      <td>0.149307</td>\n",
       "      <td>0.111668</td>\n",
       "      <td>-0.038061</td>\n",
       "      <td>-0.1971</td>\n",
       "      <td>-0.091447</td>\n",
       "      <td>0.115552</td>\n",
       "      <td>0.154395</td>\n",
       "      <td>0.001878</td>\n",
       "      <td>0.123856</td>\n",
       "      <td>1</td>\n",
       "    </tr>\n",
       "  </tbody>\n",
       "</table>\n",
       "<p>1 rows × 22 columns</p>\n",
       "</div>"
      ],
      "text/plain": [
       "   mean_fit_time  std_fit_time  mean_score_time  std_score_time  \\\n",
       "7       0.767688      0.197208         0.046905        0.023168   \n",
       "\n",
       "  param_rfc__max_depth param_rfc__min_samples_leaf  \\\n",
       "7                    4                           4   \n",
       "\n",
       "  param_rfc__min_samples_split param_rfc__n_estimators  \\\n",
       "7                            2                     300   \n",
       "\n",
       "                                              params  split0_test_score  ...  \\\n",
       "7  {'rfc__max_depth': 4, 'rfc__min_samples_leaf':...           0.046942  ...   \n",
       "\n",
       "   split3_test_score  split4_test_score  split5_test_score  split6_test_score  \\\n",
       "7           0.149307           0.111668          -0.038061            -0.1971   \n",
       "\n",
       "   split7_test_score  split8_test_score  split9_test_score  mean_test_score  \\\n",
       "7          -0.091447           0.115552           0.154395         0.001878   \n",
       "\n",
       "   std_test_score  rank_test_score  \n",
       "7        0.123856                1  \n",
       "\n",
       "[1 rows x 22 columns]"
      ]
     },
     "execution_count": 125,
     "metadata": {},
     "output_type": "execute_result"
    }
   ],
   "source": [
    "pd.DataFrame(rfc_gs.cv_results_).sort_values(\"mean_test_score\", ascending=False).head(1)"
   ]
  },
  {
   "cell_type": "code",
   "execution_count": 126,
   "id": "72389f52",
   "metadata": {
    "scrolled": true
   },
   "outputs": [
    {
     "name": "stdout",
     "output_type": "stream",
     "text": [
      "Gain: 1182.39$\n",
      " ROI: 11.597%\n"
     ]
    }
   ],
   "source": [
    "X, y = prepare_data(new_features, delta)\n",
    "X_train, X_val, y_train, y_val = split_data(X, y, 2020)\n",
    "randomForestModel = Pipeline([\n",
    "    ('std', StandardScaler()),\n",
    "    ('rfc', RandomForestRegressor(n_jobs=-1, n_estimators=300, max_depth=4, min_samples_leaf=6, min_samples_split=5, random_state=42))\n",
    "])\n",
    "\n",
    "randomForestModel.fit(X_train, y_train)\n",
    "print_eval(X_val, y_val, randomForestModel)"
   ]
  },
  {
   "cell_type": "markdown",
   "id": "56c8ed49",
   "metadata": {},
   "source": [
    "- Con l'utilizzo della RandomForest otteniamo un profitto medio annuo del 6.3%:\n",
    "\n",
    "- **Ottenendo profitto migliore utilizzando le features selezionate `new_features`**\n",
    "\n",
    "- *Utilizzando invece tutte le features otteniamo un profitto del 4.1%*"
   ]
  },
  {
   "cell_type": "markdown",
   "id": "941e09e4",
   "metadata": {},
   "source": [
    "## Test 6: XGBoost"
   ]
  },
  {
   "cell_type": "code",
   "execution_count": 127,
   "id": "640e7a2b",
   "metadata": {},
   "outputs": [],
   "source": [
    "from xgboost import XGBRegressor"
   ]
  },
  {
   "cell_type": "code",
   "execution_count": 128,
   "id": "360f85dc",
   "metadata": {
    "scrolled": true
   },
   "outputs": [
    {
     "data": {
      "text/plain": [
       "XGBRegressor(base_score=0.5, booster='gbtree', colsample_bylevel=1,\n",
       "             colsample_bynode=1, colsample_bytree=1, enable_categorical=False,\n",
       "             gamma=0, gpu_id=-1, importance_type=None,\n",
       "             interaction_constraints='', learning_rate=0.300000012,\n",
       "             max_delta_step=0, max_depth=6, min_child_weight=1, missing=nan,\n",
       "             monotone_constraints='()', n_estimators=300, n_jobs=8,\n",
       "             num_parallel_tree=1, predictor='auto', random_state=0, reg_alpha=0,\n",
       "             reg_lambda=1.0, scale_pos_weight=1, subsample=1,\n",
       "             tree_method='exact', validate_parameters=1, verbosity=None)"
      ]
     },
     "execution_count": 128,
     "metadata": {},
     "output_type": "execute_result"
    }
   ],
   "source": [
    "X, y = prepare_data(new_features, delta)\n",
    "X_train, X_val, y_train, y_val = split_data(X, y, 2020)\n",
    "\n",
    "xgbm = XGBRegressor(objective='reg:squarederror',reg_alpha=0, reg_lambda=1.0, n_estimators=300)\n",
    "xgbm.fit(X_train, y_train)"
   ]
  },
  {
   "cell_type": "code",
   "execution_count": 129,
   "id": "456cb901",
   "metadata": {
    "scrolled": true
   },
   "outputs": [
    {
     "name": "stdout",
     "output_type": "stream",
     "text": [
      "Gain: 66304.66$\n",
      " ROI: 1310.401%\n",
      "Gain: 4104.32$\n",
      " ROI: 40.255%\n"
     ]
    }
   ],
   "source": [
    "print_eval(X_train, y_train, xgbm)\n",
    "print_eval(X_val, y_val, xgbm)"
   ]
  },
  {
   "cell_type": "markdown",
   "id": "cc996880",
   "metadata": {},
   "source": [
    "Xgboost senza tuning degli iperparametri restituisce un ROI del 40%"
   ]
  },
  {
   "cell_type": "markdown",
   "id": "f7e9a7a6",
   "metadata": {},
   "source": [
    "## Test 7: LightGBM"
   ]
  },
  {
   "cell_type": "markdown",
   "id": "17f0f2e7",
   "metadata": {},
   "source": [
    "Proviamo ora il LightGBM, alcuni vantaggi sono:\n",
    "- training più veloce e modelli spesso più efficaci\n",
    "- minore utilizzo della memoria\n",
    "- migliore accuratezza\n",
    "- supporto alla programmazione parallela, distribuita e possibilità di utilizzo della GPU"
   ]
  },
  {
   "cell_type": "code",
   "execution_count": 130,
   "id": "e39588d3",
   "metadata": {},
   "outputs": [],
   "source": [
    "from lightgbm import LGBMRegressor"
   ]
  },
  {
   "cell_type": "code",
   "execution_count": 131,
   "id": "935e3090",
   "metadata": {},
   "outputs": [
    {
     "name": "stdout",
     "output_type": "stream",
     "text": [
      "CPU times: user 1.23 s, sys: 714 ms, total: 1.94 s\n",
      "Wall time: 582 ms\n"
     ]
    },
    {
     "data": {
      "text/plain": [
       "LGBMRegressor()"
      ]
     },
     "execution_count": 131,
     "metadata": {},
     "output_type": "execute_result"
    }
   ],
   "source": [
    "%%time\n",
    "X, y = prepare_data(new_features, delta)\n",
    "X_train, X_val, y_train, y_val = split_data(X, y, 2020)\n",
    "\n",
    "lgbm = LGBMRegressor()\n",
    "lgbm.fit(X_train, y_train)"
   ]
  },
  {
   "cell_type": "code",
   "execution_count": 132,
   "id": "61dbae60",
   "metadata": {},
   "outputs": [
    {
     "name": "stdout",
     "output_type": "stream",
     "text": [
      "Gain: 4608.22$\n",
      " ROI: 45.198%\n"
     ]
    }
   ],
   "source": [
    "print_eval(X_val, y_val, lgbm)"
   ]
  },
  {
   "cell_type": "markdown",
   "id": "85453367",
   "metadata": {},
   "source": [
    "Pur senza il tuning dei parametri il modello LGBM ha un ROI ancora più elevato. "
   ]
  },
  {
   "cell_type": "markdown",
   "id": "5557be74",
   "metadata": {},
   "source": [
    "## Confronto con un modello casuale"
   ]
  },
  {
   "cell_type": "markdown",
   "id": "8f36da39",
   "metadata": {},
   "source": [
    "Per avere una valutazione più completa del modello, mettiamolo a confronto con quello che accadrebbe prendendo decisioni casuali."
   ]
  },
  {
   "cell_type": "markdown",
   "id": "da3311dd",
   "metadata": {},
   "source": [
    "Consideriamo un modello che predica dei valori $\\hat{\\Delta}_d$ casuali, ma con la stessa distribuzione dei valori $\\Delta_d$ reali.\n",
    "\n",
    "Disegnando un istogramma, vediamo che $\\Delta_d$ ha una distribuzione normale."
   ]
  },
  {
   "cell_type": "code",
   "execution_count": 133,
   "id": "238e90aa",
   "metadata": {},
   "outputs": [
    {
     "data": {
      "image/png": "[encoded data removed]",
      "text/plain": [
       "<Figure size 864x288 with 1 Axes>"
      ]
     },
     "metadata": {
      "needs_background": "light"
     },
     "output_type": "display_data"
    }
   ],
   "source": [
    "X, y = prepare_data(new_features, delta)\n",
    "X_train, X_val, y_train, y_val = split_data(X, y, 2020)\n",
    "\n",
    "y_train.plot.hist(bins=40, figsize=(12, 4));"
   ]
  },
  {
   "cell_type": "markdown",
   "id": "b7b4f8aa",
   "metadata": {},
   "source": [
    "- Consideriamo una distribuzione normale con media e deviazione standard pari a quelle di `y_train` e generiamo tanti campioni quanti i valori in `y_val`\n",
    "- Per valutare con maggiore affidabilità l'efficacia di un modello casuale, dobbiamo eseguire test multipli con seed differenti"
   ]
  },
  {
   "cell_type": "code",
   "execution_count": 134,
   "id": "711a182b",
   "metadata": {},
   "outputs": [
    {
     "name": "stdout",
     "output_type": "stream",
     "text": [
      "0.00994863721797587\n"
     ]
    }
   ],
   "source": [
    "rois = []\n",
    "for s in range(1000):\n",
    "    np.random.seed(s)\n",
    "    preds = np.random.normal(y_train.mean(), y_train.std(), len(y_val))\n",
    "    rois.append(roi(y_val, preds))\n",
    "print(np.mean(rois))"
   ]
  },
  {
   "cell_type": "markdown",
   "id": "60778372",
   "metadata": {},
   "source": [
    "Otteniamo un ROI medio prossimo allo 0"
   ]
  },
  {
   "cell_type": "markdown",
   "id": "825cb199",
   "metadata": {},
   "source": [
    "# Guadagni\n",
    "### Verifichiamo i guadagni per ogni anno e con ogni algoritmo studiato"
   ]
  },
  {
   "cell_type": "markdown",
   "id": "d283fe7a",
   "metadata": {},
   "source": [
    "- Per fare ciò andiamo a costruire una funzione che permetta, dato l'anno, di stampare un grafico del guadagno per ogni algoritmo."
   ]
  },
  {
   "cell_type": "code",
   "execution_count": 135,
   "id": "0a701cd9",
   "metadata": {},
   "outputs": [],
   "source": [
    "shiftedOpenFeatures = {\n",
    "    \"Open\": open,\n",
    "    \"OpenShift1\": open.shift(1),\n",
    "    \"OpenShift2\": open.shift(2),\n",
    "    \"OpenShift3\": open.shift(3),\n",
    "    \"OpenShift4\": open.shift(4),\n",
    "}"
   ]
  },
  {
   "cell_type": "code",
   "execution_count": 136,
   "id": "08cac1be",
   "metadata": {},
   "outputs": [],
   "source": [
    "from tabulate import tabulate\n",
    "\n",
    "def chartFromYear(anno): \n",
    "    \n",
    "    feats = [features,new_features,shiftedOpenFeatures]\n",
    "\n",
    "    #LinearRegression\n",
    "    linearRegressionResultsArray = []\n",
    " \n",
    "    for f in feats:\n",
    "        X, y = prepare_data(f, delta)\n",
    "        X_train, X_val, y_train, y_val = split_data(X, y, anno)\n",
    "        linearRegressionModel.fit(X_train, y_train)\n",
    "        linReg = roi(y_val, linearRegressionModel.predict(X_val)) * 100\n",
    "        linearRegressionResultsArray.append(linReg)\n",
    "    \n",
    "    #PolynomialRegression\n",
    "    polyRegressionResultsArray = []\n",
    "    \n",
    "    for f in feats:\n",
    "        X, y = prepare_data(f, delta)\n",
    "        X_train, X_val, y_train, y_val = split_data(X, y, anno)\n",
    "        polynomialRegressionModel.fit(X_train, y_train)\n",
    "        polReg = roi(y_val, polynomialRegressionModel.predict(X_val)) * 100\n",
    "        polyRegressionResultsArray.append(polReg)\n",
    "    \n",
    "    #Ridge\n",
    "    ridgeResultsArray = []\n",
    "    \n",
    "    for f in feats:\n",
    "        X, y = prepare_data(f, delta)\n",
    "        X_train, X_val, y_train, y_val = split_data(X, y, anno)\n",
    "        ridgeModel.fit(X_train, y_train)\n",
    "        ridge = roi(y_val, ridgeModel.predict(X_val)) * 100\n",
    "        ridgeResultsArray.append(ridge)\n",
    "    \n",
    "    #ElasticNet\n",
    "    elasticNetResultsArray = []\n",
    "    for f in feats:\n",
    "        X, y = prepare_data(f, delta)\n",
    "        X_train, X_val, y_train, y_val = split_data(X, y, anno)\n",
    "        elasticNetModel.fit(X_train, y_train)\n",
    "        elNet = roi(y_val, elasticNetModel.predict(X_val)) * 100\n",
    "        elasticNetResultsArray.append(elNet)\n",
    "    \n",
    "    #RandomForest\n",
    "    randomForestResultsArray = []\n",
    "    for f in feats:\n",
    "        X, y = prepare_data(f, delta)\n",
    "        X_train, X_val, y_train, y_val = split_data(X, y, anno)\n",
    "        randomForestModel.fit(X_train, y_train)\n",
    "        randFor = (roi(y_val, randomForestModel.predict(X_val)) * 100)\n",
    "        randomForestResultsArray.append(randFor)\n",
    "    \n",
    "    #XGBoost\n",
    "    xgBoostResultsArray = []\n",
    "    for f in feats:\n",
    "        X, y = prepare_data(f, delta)\n",
    "        X_train, X_val, y_train, y_val = split_data(X, y, anno)\n",
    "        xgbm.fit(X_train, y_train)\n",
    "        xgb = (roi(y_val, xgbm.predict(X_val)) * 100)\n",
    "        xgBoostResultsArray.append(xgb)\n",
    "    \n",
    "    #LightBoost\n",
    "    lightBoostResultsArray = []\n",
    "    for f in feats:\n",
    "        X, y = prepare_data(f, delta)\n",
    "        X_train, X_val, y_train, y_val = split_data(X, y, anno)\n",
    "        lgbm.fit(X_train, y_train)\n",
    "        light = (roi(y_val, lgbm.predict(X_val)) * 100)\n",
    "        lightBoostResultsArray.append(light)\n",
    "\n",
    "    algo = ['LinearRegression',\n",
    "            'PolynomialRegression',\n",
    "            'Ridge',\n",
    "            'ElasticNet',\n",
    "            'RandomForest', \n",
    "            'XGBoost', \n",
    "            'LightBoost']\n",
    "\n",
    "    # create data\n",
    "    df = pd.DataFrame([[algo[0], linearRegressionResultsArray[0], linearRegressionResultsArray[1], linearRegressionResultsArray[2]],\n",
    "                       [algo[1], polyRegressionResultsArray[0], polyRegressionResultsArray[1], polyRegressionResultsArray[2]],\n",
    "                       [algo[2], ridgeResultsArray[0], ridgeResultsArray[1], ridgeResultsArray[2]],\n",
    "                       [algo[3], elasticNetResultsArray[0], elasticNetResultsArray[1], elasticNetResultsArray[2]],\n",
    "                       [algo[4], randomForestResultsArray[0], randomForestResultsArray[1], randomForestResultsArray[2]],\n",
    "                       [algo[5], xgBoostResultsArray[0], xgBoostResultsArray[1], xgBoostResultsArray[2]],\n",
    "                       [algo[6], lightBoostResultsArray[0], lightBoostResultsArray[1], lightBoostResultsArray[2]]\n",
    "                       ],\n",
    "                      columns=['MODELLI', 'Features', 'New_Features', 'Shift_Open_Features'])\n",
    "\n",
    "    # plot grouped bar chart\n",
    "    df.plot(x='MODELLI',\n",
    "            figsize=(15,7),\n",
    "            kind='bar',\n",
    "            stacked=False,\n",
    "            title='ROI per ogni modello studiato',\n",
    "            rot=0);\n",
    "    \n",
    "    data = [[algo[0], linearRegressionResultsArray[0], linearRegressionResultsArray[1], linearRegressionResultsArray[2]],\n",
    "                       [algo[1], polyRegressionResultsArray[0], polyRegressionResultsArray[1], polyRegressionResultsArray[2]],\n",
    "                       [algo[2], ridgeResultsArray[0], ridgeResultsArray[1], ridgeResultsArray[2]],\n",
    "                       [algo[3], elasticNetResultsArray[0], elasticNetResultsArray[1], elasticNetResultsArray[2]],\n",
    "                       [algo[4], randomForestResultsArray[0], randomForestResultsArray[1], randomForestResultsArray[2]],\n",
    "                       [algo[5], xgBoostResultsArray[0], xgBoostResultsArray[1], xgBoostResultsArray[2]],\n",
    "                       [algo[6], lightBoostResultsArray[0], lightBoostResultsArray[1], lightBoostResultsArray[2]]\n",
    "                       ]\n",
    "    col_names = ['MODELLI', 'Features', 'New_Features', 'Shift_Open_Features']\n",
    "    print(tabulate(data, headers=col_names))\n",
    "    "
   ]
  },
  {
   "cell_type": "markdown",
   "id": "93343903",
   "metadata": {},
   "source": [
    "# Risultati\n",
    "Gli anni precedenti al 2014 sono stati scartati in quanto non avevano abbastanza dati per il training."
   ]
  },
  {
   "cell_type": "markdown",
   "id": "5a66b5ed",
   "metadata": {},
   "source": [
    "## Risultati 2014"
   ]
  },
  {
   "cell_type": "code",
   "execution_count": 137,
   "id": "c75a0baf",
   "metadata": {
    "scrolled": false
   },
   "outputs": [
    {
     "name": "stdout",
     "output_type": "stream",
     "text": [
      "MODELLI                 Features    New_Features    Shift_Open_Features\n",
      "--------------------  ----------  --------------  ---------------------\n",
      "LinearRegression       -6.66101        -0.305489               8.20266\n",
      "PolynomialRegression    6.88052         6.03847               16.4771\n",
      "Ridge                  -6.176          -3.20964                7.37891\n",
      "ElasticNet             -0.020697       -0.020697              -0.020697\n",
      "RandomForest           13.1721        -15.96                  10.9442\n",
      "XGBoost                -0.283626      -13.2136                -2.9345\n",
      "LightBoost              6.51759         3.24489                0.861112\n"
     ]
    },
    {
     "data": {
      "image/png": "[encoded data removed]",
      "text/plain": [
       "<Figure size 1080x504 with 1 Axes>"
      ]
     },
     "metadata": {
      "needs_background": "light"
     },
     "output_type": "display_data"
    }
   ],
   "source": [
    "chartFromYear(2014)"
   ]
  },
  {
   "cell_type": "markdown",
   "id": "4f1dd59e",
   "metadata": {},
   "source": [
    "Nel 2014, il modello più promettente è `Polynomial Regression` con un picco del 16.47% con le features `Shift Open`"
   ]
  },
  {
   "cell_type": "markdown",
   "id": "21ac13b2",
   "metadata": {},
   "source": [
    "## Risultati 2015"
   ]
  },
  {
   "cell_type": "code",
   "execution_count": 138,
   "id": "b62bb736",
   "metadata": {
    "scrolled": false
   },
   "outputs": [
    {
     "name": "stdout",
     "output_type": "stream",
     "text": [
      "MODELLI                 Features    New_Features    Shift_Open_Features\n",
      "--------------------  ----------  --------------  ---------------------\n",
      "LinearRegression        23.5529        -6.40071               -5.09048\n",
      "PolynomialRegression   -16.5205        20.7956               -23.7364\n",
      "Ridge                   19.5452        -3.84083               -6.72427\n",
      "ElasticNet              15.9965         0.133328               0.133328\n",
      "RandomForest            18.3566        20.2419                 9.96183\n",
      "XGBoost                 13.7103         4.63187                0.221772\n",
      "LightBoost              -4.79797       -8.44859                0.610815\n"
     ]
    },
    {
     "data": {
      "image/png": "[encoded data removed]",
      "text/plain": [
       "<Figure size 1080x504 with 1 Axes>"
      ]
     },
     "metadata": {
      "needs_background": "light"
     },
     "output_type": "display_data"
    }
   ],
   "source": [
    "chartFromYear(2015)"
   ]
  },
  {
   "cell_type": "markdown",
   "id": "b301bd2d",
   "metadata": {},
   "source": [
    "Nel 2015 il modello più remunerativo è stato la `Linear Regression` con un guadagno in percentuale del 23.55%. Ma in generale `Random Forest` è il modello più stabile. "
   ]
  },
  {
   "cell_type": "markdown",
   "id": "436ebfd6",
   "metadata": {},
   "source": [
    "## Risultati 2016"
   ]
  },
  {
   "cell_type": "code",
   "execution_count": 139,
   "id": "60339816",
   "metadata": {},
   "outputs": [
    {
     "name": "stdout",
     "output_type": "stream",
     "text": [
      "MODELLI                 Features    New_Features    Shift_Open_Features\n",
      "--------------------  ----------  --------------  ---------------------\n",
      "LinearRegression        12.6873         9.23919                18.1868\n",
      "PolynomialRegression    14.1405        -5.88862               -15.3184\n",
      "Ridge                   11.8084        11.0607                 20.0962\n",
      "ElasticNet               2.32815        8.40852                 9.29904\n",
      "RandomForest            16.2279         7.53665                 7.34698\n",
      "XGBoost                  9.07703        1.81019                -1.69812\n",
      "LightBoost              12.0125        -0.647591                0.15384\n"
     ]
    },
    {
     "data": {
      "image/png": "[encoded data removed]",
      "text/plain": [
       "<Figure size 1080x504 with 1 Axes>"
      ]
     },
     "metadata": {
      "needs_background": "light"
     },
     "output_type": "display_data"
    }
   ],
   "source": [
    "chartFromYear(2016)"
   ]
  },
  {
   "cell_type": "markdown",
   "id": "031f4888",
   "metadata": {},
   "source": [
    "Nel 2016 vediamo in generale dei risultati soddisfacenti. Il miglior punteggio è dato dalla `Ridge`."
   ]
  },
  {
   "cell_type": "markdown",
   "id": "0af28e25",
   "metadata": {},
   "source": [
    "## Risultati 2017"
   ]
  },
  {
   "cell_type": "code",
   "execution_count": 140,
   "id": "9b40c0ae",
   "metadata": {
    "scrolled": false
   },
   "outputs": [
    {
     "name": "stdout",
     "output_type": "stream",
     "text": [
      "MODELLI                 Features    New_Features    Shift_Open_Features\n",
      "--------------------  ----------  --------------  ---------------------\n",
      "LinearRegression        12.0887         19.7538                 6.47357\n",
      "PolynomialRegression    -0.05149         6.42474              -11.9224\n",
      "Ridge                   12.4586         19.4092                 7.03508\n",
      "ElasticNet              23.6558          8.47669                8.47669\n",
      "RandomForest            -8.47669        -8.47669               -8.47669\n",
      "XGBoost                 -6.31311        -3.79465               -8.36567\n",
      "LightBoost               1.44055        -2.20799               -8.47669\n"
     ]
    },
    {
     "data": {
      "image/png": "[encoded data removed]",
      "text/plain": [
       "<Figure size 1080x504 with 1 Axes>"
      ]
     },
     "metadata": {
      "needs_background": "light"
     },
     "output_type": "display_data"
    }
   ],
   "source": [
    "chartFromYear(2017)"
   ]
  },
  {
   "cell_type": "markdown",
   "id": "d436bc24",
   "metadata": {},
   "source": [
    "Nel 2017, il modello più remunerativo è stato `ElasticNet`, con un ROI del 23.65%. In generale nel 2017 la regressione lineare è risultata molto performante."
   ]
  },
  {
   "cell_type": "markdown",
   "id": "3e7d0619",
   "metadata": {},
   "source": [
    "## Risultati 2018"
   ]
  },
  {
   "cell_type": "code",
   "execution_count": 141,
   "id": "bea56397",
   "metadata": {
    "scrolled": false
   },
   "outputs": [
    {
     "name": "stdout",
     "output_type": "stream",
     "text": [
      "MODELLI                 Features    New_Features    Shift_Open_Features\n",
      "--------------------  ----------  --------------  ---------------------\n",
      "LinearRegression        30.2267         -2.0644                 8.40666\n",
      "PolynomialRegression   -33.3656         -4.01236              -28.0529\n",
      "Ridge                   23.7346         -2.0644                10.9343\n",
      "ElasticNet               3.46193       -15.6634               -15.6634\n",
      "RandomForest            15.5498         23.9109                10.2856\n",
      "XGBoost                  2.15658       -21.5121               -15.9363\n",
      "LightBoost               9.7546         -8.32388               15.155\n"
     ]
    },
    {
     "data": {
      "image/png": "[encoded data removed]",
      "text/plain": [
       "<Figure size 1080x504 with 1 Axes>"
      ]
     },
     "metadata": {
      "needs_background": "light"
     },
     "output_type": "display_data"
    }
   ],
   "source": [
    "chartFromYear(2018)"
   ]
  },
  {
   "cell_type": "markdown",
   "id": "c4e9fce2",
   "metadata": {},
   "source": [
    "Nel 2018 il modello mediamente migliore torna ad essere il `RandomForest`. "
   ]
  },
  {
   "cell_type": "markdown",
   "id": "ff94aa59",
   "metadata": {},
   "source": [
    "## Risultati 2019"
   ]
  },
  {
   "cell_type": "code",
   "execution_count": 142,
   "id": "25ea86d5",
   "metadata": {
    "scrolled": false
   },
   "outputs": [
    {
     "name": "stdout",
     "output_type": "stream",
     "text": [
      "MODELLI                 Features    New_Features    Shift_Open_Features\n",
      "--------------------  ----------  --------------  ---------------------\n",
      "LinearRegression         1.83767        2.61874               -1.91486\n",
      "PolynomialRegression    -7.53626       -8.06923                2.46002\n",
      "Ridge                    1.31541        2.4418                -2.31914\n",
      "ElasticNet             -15.5971        -9.60691              -16.5489\n",
      "RandomForest           -10.2153        -0.225824               2.59157\n",
      "XGBoost                  1.58691       10.8341                -9.98903\n",
      "LightBoost              -8.09958       -6.38745               -0.185813\n"
     ]
    },
    {
     "data": {
      "image/png": "[encoded data removed]",
      "text/plain": [
       "<Figure size 1080x504 with 1 Axes>"
      ]
     },
     "metadata": {
      "needs_background": "light"
     },
     "output_type": "display_data"
    }
   ],
   "source": [
    "chartFromYear(2019)"
   ]
  },
  {
   "cell_type": "markdown",
   "id": "f048a69a",
   "metadata": {},
   "source": [
    "Nel 2019 abbiamo un anno poco remunerativo: spicca solamente la `XGBoost` che totalizza il 10.83%."
   ]
  },
  {
   "cell_type": "markdown",
   "id": "11149597",
   "metadata": {},
   "source": [
    "## Risultati 2020"
   ]
  },
  {
   "cell_type": "code",
   "execution_count": 143,
   "id": "0f9b04d3",
   "metadata": {
    "scrolled": false
   },
   "outputs": [
    {
     "name": "stdout",
     "output_type": "stream",
     "text": [
      "MODELLI                 Features    New_Features    Shift_Open_Features\n",
      "--------------------  ----------  --------------  ---------------------\n",
      "LinearRegression        -9.79944        18.6779                48.349\n",
      "PolynomialRegression    28.6042          3.94705                7.80858\n",
      "Ridge                  -11.7874         34.1158                48.349\n",
      "ElasticNet              10.622          35.8173                14.4366\n",
      "RandomForest            15.8998         11.597                 16.3598\n",
      "XGBoost                 15.1356         40.2555                 6.18164\n",
      "LightBoost               9.71081        45.1978                26.3585\n"
     ]
    },
    {
     "data": {
      "image/png": "[encoded data removed]",
      "text/plain": [
       "<Figure size 1080x504 with 1 Axes>"
      ]
     },
     "metadata": {
      "needs_background": "light"
     },
     "output_type": "display_data"
    }
   ],
   "source": [
    "chartFromYear(2020)"
   ]
  },
  {
   "cell_type": "markdown",
   "id": "b667877c",
   "metadata": {},
   "source": [
    "Il 2020 è stato un anno particolarmente proficuo, tutti i modelli generano un guadagno molto alto, il migliore è la `Linear Regression` con un guadagno del 48.35%."
   ]
  },
  {
   "cell_type": "markdown",
   "id": "9b216d7b",
   "metadata": {},
   "source": [
    "## Risultati 2021"
   ]
  },
  {
   "cell_type": "code",
   "execution_count": 144,
   "id": "61bd7036",
   "metadata": {},
   "outputs": [
    {
     "name": "stdout",
     "output_type": "stream",
     "text": [
      "MODELLI                 Features    New_Features    Shift_Open_Features\n",
      "--------------------  ----------  --------------  ---------------------\n",
      "LinearRegression        -7.45338        9.50319                0.407208\n",
      "PolynomialRegression    -4.74516       16.7656                -5.42596\n",
      "Ridge                   -2.35116       10.0744                 0.723223\n",
      "ElasticNet               8.97125       12.6279                 1.21674\n",
      "RandomForest             5.98083       14.8164                -1.21674\n",
      "XGBoost                 -2.92501        0.616308              -2.1516\n",
      "LightBoost              15.7761        26.1103                 1.21674\n"
     ]
    },
    {
     "data": {
      "image/png": "[encoded data removed]",
      "text/plain": [
       "<Figure size 1080x504 with 1 Axes>"
      ]
     },
     "metadata": {
      "needs_background": "light"
     },
     "output_type": "display_data"
    }
   ],
   "source": [
    "chartFromYear(2021)"
   ]
  },
  {
   "cell_type": "markdown",
   "id": "9113464e",
   "metadata": {},
   "source": [
    "Nel 2021, il modello più proficuo è `LightBoost` con un ROI del 26.11%. La selezione delle `New_Features` è stata molto buona."
   ]
  },
  {
   "cell_type": "markdown",
   "id": "c466076a",
   "metadata": {},
   "source": [
    "## Conclusioni"
   ]
  },
  {
   "cell_type": "markdown",
   "id": "81af4c55",
   "metadata": {},
   "source": [
    "Con l'analisi dei titoli Nasdaq abbiamo osservato che la previsione su un dominio finanziario non è semplice. In generale, come è facilmente intuibile, l'andamento azionario è dipendente da molti fattori che non abbiamo incluso nel nostro studio (notizie, crisi finanziarie, guerre e tutto ciò che influisce sulla psicologia umana). \n",
    "Abbiamo ottenuto però alcuni risultati interessanti: nei primi anni la regressione lineare restituisce dei discreti punteggi, nella seconda parte, invece, gli algoritmi di alberi di regressione la fanno da padrone"
   ]
  },
  {
   "cell_type": "code",
   "execution_count": 145,
   "id": "1d09b5e0",
   "metadata": {},
   "outputs": [
    {
     "name": "stdout",
     "output_type": "stream",
     "text": [
      "MODELLO                INVESTIMENTO INIZIALE AL 01/01/2011    FEATURES             SALDO AL 31/12/2021\n",
      "---------------------  -------------------------------------  -------------------  ---------------------\n",
      "Linear Regression      1000 €                                 Features             1619 €\n",
      "Linear Regression      1000 €                                 New Features         1594 €\n",
      "Linear Regression      1000 €                                 Shift Open Features  2046 €\n",
      "---------------------  ----------------------------------     -------------------  ---------------------\n",
      "Polynomial Regression  1000 €                                 Features             768 €\n",
      "Polynomial Regression  1000 €                                 New Features         1374 €\n",
      "Polynomial Regression  1000 €                                 Shift Open Features  498 €\n",
      "---------------------  ----------------------------------     -------------------  ---------------------\n",
      "Ridge                  1000 €                                 Features             1522 €\n",
      "Ridge                  1000 €                                 New Features         1645 €\n",
      "Ridge                  1000 €                                 Shift Open Features  2084 €\n",
      "---------------------  ----------------------------------     -------------------  ---------------------\n",
      "ElasticNet             1000 €                                 Features             1543 €\n",
      "ElasticNet             1000 €                                 New Features         1373 €\n",
      "ElasticNet             1000 €                                 Shift Open Features  967 €\n",
      "---------------------  ----------------------------------     -------------------  ---------------------\n",
      "Random Forest          1000 €                                 Features             1815 €\n",
      "Random Forest          1000 €                                 New Features         1575 €\n",
      "Random Forest          1000 €                                 Shift Open Features  1559 €\n",
      "---------------------  ----------------------------------     -------------------  ---------------------\n",
      "XGBoost                1000 €                                 Features             1344 €\n",
      "XGBoost                1000 €                                 New Features         1091 €\n",
      "XGBoost                1000 €                                 Shift Open Features  686 €\n",
      "---------------------  ----------------------------------     -------------------  ---------------------\n",
      "LightBoost             1000 €                                 Features             1475 €\n",
      "LightBoost             1000 €                                 New Features         1442 €\n",
      "LightBoost             1000 €                                 Shift Open Features  1357 €\n",
      "---------------------  ----------------------------------     -------------------  ---------------------\n"
     ]
    }
   ],
   "source": [
    "data = [['Linear Regression', \"1000 €\", 'Features', \"1619 €\"],\n",
    "        ['Linear Regression', \"1000 €\", 'New Features', \"1594 €\"],\n",
    "        ['Linear Regression', \"1000 €\", 'Shift Open Features', \"2046 €\"],\n",
    "        [\"---------------------\", \"----------------------------------\", \"-------------------\", \"---------------------\"],\n",
    "        ['Polynomial Regression', \"1000 €\", 'Features', \"768 €\"],\n",
    "        ['Polynomial Regression', \"1000 €\", 'New Features', \"1374 €\"],\n",
    "        ['Polynomial Regression', \"1000 €\", 'Shift Open Features', \"498 €\"],\n",
    "        [\"---------------------\", \"----------------------------------\", \"-------------------\", \"---------------------\"],        \n",
    "        ['Ridge', \"1000 €\", 'Features', \"1522 €\"],\n",
    "        ['Ridge', \"1000 €\", 'New Features', \"1645 €\"],\n",
    "        ['Ridge', \"1000 €\", 'Shift Open Features', \"2084 €\"],\n",
    "        [\"---------------------\", \"----------------------------------\", \"-------------------\", \"---------------------\"],        \n",
    "        ['ElasticNet', \"1000 €\", 'Features', \"1543 €\"],\n",
    "        ['ElasticNet', \"1000 €\", 'New Features', \"1373 €\"],\n",
    "        ['ElasticNet', \"1000 €\", 'Shift Open Features', \"967 €\"],\n",
    "        [\"---------------------\", \"----------------------------------\", \"-------------------\", \"---------------------\"],        \n",
    "        ['Random Forest', \"1000 €\", 'Features', \"1815 €\"],\n",
    "        ['Random Forest', \"1000 €\", 'New Features', \"1575 €\"],\n",
    "        ['Random Forest', \"1000 €\", 'Shift Open Features', \"1559 €\"],\n",
    "        [\"---------------------\", \"----------------------------------\", \"-------------------\", \"---------------------\"],     \n",
    "        ['XGBoost', \"1000 €\", 'Features', \"1344 €\"],\n",
    "        ['XGBoost', \"1000 €\", 'New Features', \"1091 €\"],\n",
    "        ['XGBoost', \"1000 €\", 'Shift Open Features', \"686 €\"],\n",
    "        [\"---------------------\", \"----------------------------------\", \"-------------------\", \"---------------------\"],\n",
    "        ['LightBoost', \"1000 €\", 'Features', \"1475 €\"],\n",
    "        ['LightBoost', \"1000 €\", 'New Features', \"1442 €\"],\n",
    "        ['LightBoost', \"1000 €\", 'Shift Open Features', \"1357 €\"],\n",
    "        [\"---------------------\", \"----------------------------------\", \"-------------------\", \"---------------------\"],\n",
    "        ]\n",
    "col_names = ['MODELLO', 'INVESTIMENTO INIZIALE AL 01/01/2011', 'FEATURES', 'SALDO AL 31/12/2021']\n",
    "print(tabulate(data, headers=col_names))"
   ]
  },
  {
   "cell_type": "code",
   "execution_count": null,
   "id": "177bdcbb",
   "metadata": {},
   "outputs": [],
   "source": []
  }
 ],
 "metadata": {
  "kernelspec": {
   "display_name": "Python 3 (ipykernel)",
   "language": "python",
   "name": "python3"
  },
  "language_info": {
   "codemirror_mode": {
    "name": "ipython",
    "version": 3
   },
   "file_extension": ".py",
   "mimetype": "text/x-python",
   "name": "python",
   "nbconvert_exporter": "python",
   "pygments_lexer": "ipython3",
   "version": "3.10.4"
  }
 },
 "nbformat": 4,
 "nbformat_minor": 5
}

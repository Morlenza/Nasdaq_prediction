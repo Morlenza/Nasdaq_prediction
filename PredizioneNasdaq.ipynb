{
 "cells": [
  {
   "cell_type": "code",
   "execution_count": 346,
   "id": "c10d12e8",
   "metadata": {},
   "outputs": [],
   "source": [
    "import numpy as np\n",
    "import pandas as pd\n",
    "import matplotlib.pyplot as plt\n",
    "import sklearn\n",
    "%matplotlib inline\n",
    "import yfinance\n",
    "from utility import gain, plot_model_on_data, roi, prepare_data, print_eval"
   ]
  },
  {
   "cell_type": "code",
   "execution_count": 347,
   "id": "76466847",
   "metadata": {},
   "outputs": [],
   "source": [
    "nasdaq = yfinance.Ticker(\"^IXIC\")"
   ]
  },
  {
   "cell_type": "code",
   "execution_count": 348,
   "id": "02bfb8b1",
   "metadata": {},
   "outputs": [],
   "source": [
    "data = nasdaq.history(start=\"2011-01-01\", end=\"2021-12-31\", actions=False)"
   ]
  },
  {
   "cell_type": "code",
   "execution_count": 349,
   "id": "77c6e0ec",
   "metadata": {},
   "outputs": [],
   "source": [
    "open = data[\"Open\"]\n",
    "close = data[\"Close\"]\n",
    "\n",
    "features= {\n",
    "    \"Open\": open\n",
    "}\n",
    "\n",
    "X = pd.DataFrame(features)\n",
    "y = close\n",
    "\n",
    "def split_data(X, y, split):\n",
    "    lowerRange = X.index.year < split\n",
    "    upperRange = (X.index.year > split-1) & (X.index.year < split+1)\n",
    "    X_train = X.loc[lowerRange]\n",
    "    y_train = y.loc[lowerRange]\n",
    "    X_val = X.loc[upperRange]\n",
    "    y_val = y.loc[upperRange]\n",
    "    return X_train, X_val, y_train, y_val\n",
    "\n",
    "X_train, X_val, y_train, y_val = split_data(X, y, 2012)"
   ]
  },
  {
   "cell_type": "code",
   "execution_count": 350,
   "id": "72f6ccd9",
   "metadata": {},
   "outputs": [
    {
     "data": {
      "text/plain": [
       "0.9522082278765175"
      ]
     },
     "execution_count": 350,
     "metadata": {},
     "output_type": "execute_result"
    }
   ],
   "source": [
    "from sklearn.linear_model import LinearRegression\n",
    "model = LinearRegression()\n",
    "model.fit(X_train,y_train)\n",
    "model.score(X_val, y_val)"
   ]
  },
  {
   "cell_type": "code",
   "execution_count": 351,
   "id": "91768bbf",
   "metadata": {},
   "outputs": [],
   "source": [
    "delta = close - open"
   ]
  },
  {
   "cell_type": "code",
   "execution_count": 352,
   "id": "e150017d",
   "metadata": {},
   "outputs": [],
   "source": [
    "\n",
    "features = {\n",
    "    \"Open\": open,\n",
    "    \"OpenShift1\": open.shift(1),\n",
    "    \"OpenShift2\": open.shift(2),\n",
    "    \"OpenShift3\": open.shift(3),\n",
    "    \"OpenShift4\": open.shift(4),\n",
    "}"
   ]
  },
  {
   "cell_type": "code",
   "execution_count": 353,
   "id": "fc43b7f2",
   "metadata": {},
   "outputs": [
    {
     "name": "stdout",
     "output_type": "stream",
     "text": [
      "Gain: 58.50€\n",
      " ROI: 0.407%\n"
     ]
    }
   ],
   "source": [
    "X, y = prepare_data(features, delta)\n",
    "X_train, X_val, y_train, y_val = split_data(X, y, 2021)\n",
    "model = LinearRegression()\n",
    "model.fit(X_train, y_train)\n",
    "print_eval(X_val, y_val, model, open)"
   ]
  },
  {
   "cell_type": "markdown",
   "id": "d010830e",
   "metadata": {},
   "source": [
    "## Aggiungiamo Features"
   ]
  },
  {
   "cell_type": "code",
   "execution_count": 354,
   "id": "abeb3999",
   "metadata": {},
   "outputs": [],
   "source": [
    "def computeMACD (df, n_fast, n_slow, n_smooth):\n",
    "    data = df['Open']\n",
    "    \n",
    "    fastEMA = data.ewm(span=n_fast, min_periods=n_slow).mean()\n",
    "    slowEMA = data.ewm(span=n_slow, min_periods=n_slow).mean()\n",
    "    MACD = pd.Series(fastEMA-slowEMA, name = 'MACD')\n",
    "    df = df.join(MACD)\n",
    "    \n",
    "    return df\n",
    "\n",
    "def calculateSMA(data, ndays): \n",
    "    SMA = pd.Series(data['Open'].rolling(ndays).mean(), name = 'SMA') \n",
    "    return SMA\n",
    "\n",
    "def addSMA(first, second):\n",
    "    sma1 = calculateSMA(data, first)\n",
    "    sma2 = calculateSMA(data, second)\n",
    "    \n",
    "    sma = (np.array(sma2) - np.array(sma1)) / np.array(sma2)\n",
    "    sma = pd.Series(data=sma, index=data.index)\n",
    "    data[f\"SMA{first}-{second}\"] = sma\n",
    "    features[f\"SMA{first}-{second}\"] = data[f\"SMA{first}-{second}\"]\n",
    "    \n",
    "    \n",
    "def calculate_ema(prices, days, smoothing=2):\n",
    "    ema = [sum(prices[:days]) / days]\n",
    "    for price in prices[days:]:\n",
    "        ema.append((price * (smoothing / (1 + days))) + ema[-1] * (1 - (smoothing / (1 + days))))\n",
    "    return ema\n",
    "\n",
    "def addEMA(first, second):\n",
    "    ema1 = calculate_ema(data['Open'], first)\n",
    "    ema2 = calculate_ema(data['Open'], second)\n",
    "\n",
    "    ema = (np.array(ema2) - np.array(ema1[(second-first):])) / np.array(ema2)\n",
    "    ema = pd.Series(data=ema, index=data[(second-1):].index)\n",
    "    data[f\"EMA{first}-{second}\"] = ema\n",
    "    features[f\"EMA{first}-{second}\"] = data[f\"EMA{first}-{second}\"]\n",
    "    \n",
    "def rsi(close, periods = 14): # il parametro close intende il valore di chiusura del giorno precedente ovvero quello di apertura del giorno corrente\n",
    "    close_delta = close.diff()\n",
    "    # Make two series: one for lower closes and one for higher closes\n",
    "    up = close_delta.clip(lower=0)\n",
    "    down = -1 * close_delta.clip(upper=0)\n",
    "    ma_up = up.ewm(com = periods - 1, adjust=True, min_periods = periods).mean()\n",
    "    ma_down = down.ewm(com = periods - 1, adjust=True, min_periods = periods).mean()\n",
    "    rsi = ma_up / ma_down\n",
    "    rsi = 100 - (100/(1 + rsi))\n",
    "    return rsi\n",
    "\n",
    "def gainForMFI(x):\n",
    "    return ((x > 0) * x).sum()\n",
    "\n",
    "def lossForMFI(x):\n",
    "    return ((x < 0) * x).sum()\n",
    "\n",
    "def mfi(high, low, close, volume, n=14): # il parametro close intende il valore di chiusura del giorno precedente ovvero quello di apertura del giorno corrente\n",
    "    typical_price = (high + low + close)/3\n",
    "    money_flow = typical_price * volume\n",
    "    mf_sign = np.where(typical_price > typical_price.shift(1), 1, -1)\n",
    "    signed_mf = money_flow * mf_sign\n",
    "    mf_avg_gain = signed_mf.rolling(n).apply(gainForMFI, raw=True)\n",
    "    mf_avg_loss = signed_mf.rolling(n).apply(lossForMFI, raw=True)\n",
    "    return (100 - (100 / (1 + (mf_avg_gain / abs(mf_avg_loss))))).to_numpy()\n",
    "\n",
    "def atr(high, low, close, n=14):\n",
    "    tr = np.amax(np.vstack(((high - low).to_numpy(), (abs(high - close)).to_numpy(), (abs(low - close)).to_numpy())).T, axis=1)\n",
    "    return pd.Series(tr).rolling(n).mean().to_numpy()\n",
    "\n",
    "def forceIndex(data, ndays): \n",
    "    FI = pd.Series(data['Open'].diff(ndays) * data['Volume'], name = 'ForceIndex') \n",
    "    return FI\n"
   ]
  },
  {
   "cell_type": "code",
   "execution_count": 355,
   "id": "162b5e4f",
   "metadata": {},
   "outputs": [],
   "source": [
    "addEMA(5,20)\n",
    "addEMA(8,15)\n",
    "addEMA(20,50)\n",
    "\n",
    "addSMA(5,20)\n",
    "addSMA(8,15) #aggiungendo questo indice il guadagno diminuisce negli anni \"positivi\" e aumenta negli anni \"negativi\"\n",
    "addSMA(20,50) #aggiungendo questo indice il guadagno diminuisce negli anni \"positivi\" e aumenta negli anni \"negativi\"\n",
    "\n",
    "data[\"RSI\"] = rsi(data[\"Open\"])\n",
    "data = computeMACD(data, 12, 26, 9)\n",
    "data[\"MFI\"] = mfi(data[\"High\"], data[\"Low\"], data[\"Open\"], data[\"Volume\"], 14)\n",
    "data[\"ATR\"] = atr(data[\"High\"], data[\"Low\"], data[\"Open\"], 14)\n",
    "data[\"FI-13\"] = forceIndex(data, 13)\n",
    "data[\"FI-50\"] = forceIndex(data, 13)\n",
    "\n",
    "features[\"MACD\"] = data[\"MACD\"]\n",
    "features[\"RSI\"] = data[\"RSI\"] #abbassa i profitti (inutile per ora)\n",
    "features[\"MFI\"] = data[\"MFI\"] #anche questa sembrerebbe inutile per ora\n",
    "features[\"ATR\"] = data[\"ATR\"] #STRANO...\n",
    "features[\"FI-13\"] = data[\"FI-13\"] #assolutamente NO! da risultati orribili (con regressione lineare)\n",
    "features[\"FI-50\"] = data[\"FI-50\"] #assolutamente NO! da risultati orribili (con regressione lineare)"
   ]
  },
  {
   "cell_type": "code",
   "execution_count": 362,
   "id": "ca00a499",
   "metadata": {
    "scrolled": true
   },
   "outputs": [
    {
     "name": "stdout",
     "output_type": "stream",
     "text": [
      "Gain: 1032.82€\n",
      " ROI: 20.715%\n"
     ]
    }
   ],
   "source": [
    "X, y = prepare_data(features, delta)\n",
    "X_train, X_val, y_train, y_val = split_data(X, y, 2016)\n",
    "model = LinearRegression()\n",
    "model.fit(X_train, y_train)\n",
    "print_eval(X_val, y_val, model, open)"
   ]
  },
  {
   "cell_type": "markdown",
   "id": "f0248c81",
   "metadata": {},
   "source": [
    "Interessante da vedere https://medium.com/codex/this-python-library-will-help-you-get-stock-technical-indicators-in-one-line-of-code-c11ed2c8e45f"
   ]
  },
  {
   "cell_type": "code",
   "execution_count": null,
   "id": "c0065a77",
   "metadata": {},
   "outputs": [],
   "source": []
  }
 ],
 "metadata": {
  "kernelspec": {
   "display_name": "Python 3 (ipykernel)",
   "language": "python",
   "name": "python3"
  },
  "language_info": {
   "codemirror_mode": {
    "name": "ipython",
    "version": 3
   },
   "file_extension": ".py",
   "mimetype": "text/x-python",
   "name": "python",
   "nbconvert_exporter": "python",
   "pygments_lexer": "ipython3",
   "version": "3.10.4"
  }
 },
 "nbformat": 4,
 "nbformat_minor": 5
}
